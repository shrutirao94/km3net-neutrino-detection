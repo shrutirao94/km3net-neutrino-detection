{
 "cells": [
  {
   "cell_type": "markdown",
   "metadata": {},
   "source": [
    "# Sub Question\n",
    "\n",
    "The current mesh is not capable of capturing the required details.\n",
    "\n",
    "\n",
    "\n",
    "# 3D Mesh Generation Overall Approach\n",
    "#### [Relevant Notebook](./ensemble/sampled/mesh_generation.ipynb)\n",
    "\n",
    "1. Compute normals for each timeslice group: \n",
    "Normals are oriented  with respect to the input point cloud if normals exist. Next, converts float64 numpy array of shape (n, 3) to Open3D format. Normals are required to generate meshes.\n",
    "\n",
    "2. Generate Poission Mesh: (See Screened Poission Reconstruction for more information below)\n",
    "Implements the Screened Poisson Reconstruction proposed in Kazhdan and Hoppe, \"Screened Poisson Surface Reconstruction\", 2013. See https://github.com/mkazhdan/PoissonRecon\n",
    "\n",
    "3. Save as `.off` files\n",
    "The network specifically handles `.off` files\n",
    "    \n",
    "#### Screened Poisson Reconstruction\n",
    "It uses an approach known as an implicit meshing method, which is trying to “envelop” the data in a smooth cloth. We try to fit a watertight surface from the original point set by creating an entirely new point set representing an isosurface linked to the normals. There are several parameters available that affect the result of the meshing:\n",
    "\n",
    "1. Depth:\n",
    "Tree-depth is used for the reconstruction. The higher, the more detailed the mesh. With noisy data you keep vertices in the generated mesh that are outliers but the algorithm doesn’t detect them as such. So a low value (maybe between 5 and 7) provides a smoothing effect, but you will lose detail. The higher the depth-value the higher is the resulting amount of vertices of the generated mesh.\n",
    "\n",
    "2. Width: \n",
    "This specifies the target width of the finest level of the tree structure, which is called an octree. D\n",
    "\n",
    "3. Scale:\n",
    "It describes the ratio between the diameter of the cube used for reconstruction and the diameter of the samples’ bounding cube. Very abstract, the default parameter usually works well.\n",
    "\n",
    "4. Fit:\n",
    "The linear_fit parameter if set to true, let the reconstructor use linear interpolation to estimate the positions of iso-vertices."
   ]
  },
  {
   "cell_type": "markdown",
   "metadata": {},
   "source": [
    "# Problem At Hand\n",
    "(Identified on 22-August-2020)\n",
    "\n",
    "When sampling 6550 points only per timeslice for both train and test ie. using a small subset of data per timeslice, there is distinct difference between the two types of classes, allowing for the classifier to classify with great accuraccy.\n",
    "\n",
    "![](assets/experiments/problem/noise_6550.png)\n",
    "![](assets/experiments/problem/mixed_6550.png)\n",
    "\n",
    "However, without this sampling, the meshes look very similar to each other. \n",
    "![](assets/experiments/problem/noise_unsampled.png)\n",
    "![](assets/experiments/problem/mixed_unsampled.png)"
   ]
  },
  {
   "cell_type": "markdown",
   "metadata": {},
   "source": [
    "\n"
   ]
  },
  {
   "cell_type": "markdown",
   "metadata": {},
   "source": [
    "# BPA"
   ]
  },
  {
   "cell_type": "markdown",
   "metadata": {},
   "source": [
    "# BPA + Lapalacian Smoothning"
   ]
  },
  {
   "cell_type": "markdown",
   "metadata": {},
   "source": [
    "# Radius Based Outlier Detection with Clustering Verification\n",
    "\n",
    "First check how many clusters are found in the data:\n",
    "1. If cluster > 0:\n",
    "    1. Compute average radius\n",
    "    2. Remove outliers based on radius\n",
    "    \n",
    "2. If cluster == 0:\n",
    "    1. No removal of points\n",
    "    \n",
    "**Note:**\n",
    "1. For timeslice with only 3 points, it takes `eps` = 200 to identify. (default = 100)\n",
    "\n",
    "#### Clustering\n",
    "DBScan based cluster detection\n",
    "\n",
    "#### Radius based outlier detection\n",
    "Simple average distance between each point is calculated using k-means, and then multiplied by 3.\n",
    "\n",
    "## Group with Noise + Hits\n",
    "The DBScan clustering algorithm shows two clusters (indicated by arrows)\n",
    "![](../../assets/experiments/mesh/mixed_cluster.png)\n",
    "\n",
    "Using radius based outlier detection, the red points are all identified as outliers while gray points are all inliers\n",
    "![](../../assets/experiments/mesh/mixed_outlier.png)\n",
    "\n",
    "The point cloud now gets processed to remove all outlier points\n",
    "![](../../assets/experiments/mesh/mixed_processed.png)\n",
    "\n",
    "Finally, with the poission mesh recomputed\n",
    "![](../../assets/experiments/mesh/mixed_mesh.png)\n",
    "\n",
    "\n",
    "## Group with Noise\n",
    "The DBScan clustering algorithm shows no clusters \n",
    "![](../../assets/experiments/mesh/noise_cluster.png)\n",
    "\n",
    "The poission mesh recomputed\n",
    "![](../../assets/experiments/mesh/noise_mesh.png)\n",
    "\n",
    "\n",
    "Therefore no action is taken and pcl is converted to mesh.\n",
    "\n",
    "## Anomaly: `Group 0`with Noise\n",
    "The clustering algorithm believes there to be a cluster within this group\n",
    "\n",
    "The DBScan clustering algorithm shows two clusters (indicated by arrows)\n",
    "![](../../assets/experiments/mesh/noise_anomaly_cluster.png)\n",
    "\n",
    "Using radius based outlier detection, the red points are all identified as outliers while gray points are all inliers\n",
    "![](../../assets/experiments/mesh/noise_anomaly_outlier.png)\n",
    "\n",
    "The point cloud now gets processed to remove all outlier points and the poission mesh recomputed\n",
    "![](../../assets/experiments/mesh/noise_anomaly_mesh.png)"
   ]
  },
  {
   "cell_type": "code",
   "execution_count": null,
   "metadata": {},
   "outputs": [],
   "source": []
  }
 ],
 "metadata": {
  "kernelspec": {
   "display_name": "km3net",
   "language": "python",
   "name": "km3net"
  },
  "language_info": {
   "codemirror_mode": {
    "name": "ipython",
    "version": 3
   },
   "file_extension": ".py",
   "mimetype": "text/x-python",
   "name": "python",
   "nbconvert_exporter": "python",
   "pygments_lexer": "ipython3",
   "version": "3.7.3"
  },
  "toc-autonumbering": false,
  "toc-showcode": true,
  "toc-showmarkdowntxt": false,
  "toc-showtags": false
 },
 "nbformat": 4,
 "nbformat_minor": 4
}
