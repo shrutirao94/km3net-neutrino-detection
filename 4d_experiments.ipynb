{
 "cells": [
  {
   "cell_type": "markdown",
   "metadata": {},
   "source": [
    "# 4D Point Based Experiments (`x, y, z, t`)"
   ]
  },
  {
   "cell_type": "markdown",
   "metadata": {},
   "source": [
    "#### Exp 1.0:\n",
    "\n",
    "4D Points Only\n",
    "\n",
    "**Date:** 17-September-2020\n",
    "\n",
    "***7168** points per tensor\n",
    "\n",
    "**Condition:** \n",
    "Epoch: 50\n",
    "    \n",
    "    \n",
    " **Train Results:**\n",
    "\n",
    "\n",
    "**Classification report**\n",
    "\n",
    "                 precision   recall   f1-score   support\n",
    "\n",
    "       mixed        0.53      0.82      0.65        40\n",
    "       noise        0.61      0.28      0.38        40\n",
    "\n",
    "    accuracy                            0.55        80\n",
    "    macro avg       0.57      0.55      0.51        80\n",
    "    weighted avg    0.57      0.55      0.51        80\n",
    "                  \n",
    "\n",
    "\n",
    "\n",
    "# ![](assets/experiments/4d/1.0_cgc.png)\n",
    "# ![](assets/experiments/4d/1.0_roc.png)\n",
    "# ![](assets/experiments/4d/1.0_cm.png)"
   ]
  },
  {
   "cell_type": "markdown",
   "metadata": {},
   "source": [
    "#### Exp 1.1: Loss Experiments\n",
    "\n",
    "4D Points Only\n",
    "\n",
    "**Date:** 17-September-2020\n",
    "\n",
    "7168 points, 50 epochs\n",
    "\n",
    "**Loss = 0.0001**\n",
    "Took 80 epochs to reach min\n",
    "\n",
    "**Train Results:**\n",
    "\n",
    "\n",
    "**Loss = 0.01**\n",
    "Took 4 epochs to reach minima\n",
    "\n",
    "\n",
    "**Conclusion**\n",
    "\n",
    "Use loss = 0.001\n",
    "\n",
    "    \n",
    "    \n",
    "\n"
   ]
  }
 ],
 "metadata": {
  "kernelspec": {
   "display_name": "km3net",
   "language": "python",
   "name": "km3net"
  },
  "language_info": {
   "codemirror_mode": {
    "name": "ipython",
    "version": 3
   },
   "file_extension": ".py",
   "mimetype": "text/x-python",
   "name": "python",
   "nbconvert_exporter": "python",
   "pygments_lexer": "ipython3",
   "version": "3.7.3"
  },
  "toc-autonumbering": false,
  "toc-showcode": true,
  "toc-showmarkdowntxt": false,
  "toc-showtags": false
 },
 "nbformat": 4,
 "nbformat_minor": 4
}
