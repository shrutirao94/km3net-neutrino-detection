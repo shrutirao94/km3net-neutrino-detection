{
 "cells": [
  {
   "cell_type": "code",
   "execution_count": 29,
   "metadata": {},
   "outputs": [],
   "source": [
    "import pandas as pd\n",
    "import numpy as np\n",
    "import os\n",
    "import random\n",
    "from random import shuffle"
   ]
  },
  {
   "cell_type": "code",
   "execution_count": 37,
   "metadata": {},
   "outputs": [],
   "source": [
    "def randomize_files(files):\n",
    "    return shuffle(files)\n",
    "\n",
    "\n",
    "def prepare_split(files):\n",
    "    eighty = int(0.8 * len(files))\n",
    "    twenty = int(len(files) - eighty)\n",
    "    files = np.array(files)\n",
    "    \n",
    "    return eighty, twenty, files\n",
    "\n",
    "\n",
    "def generate_ids(eighty, twenty):\n",
    "    idx = np.hstack((np.ones(eighty),\n",
    "                     np.zeros(twenty)))\n",
    "    return idx\n",
    "\n",
    "\n",
    "def train_test_split(files, idx):\n",
    "    train = files[idx == 1]\n",
    "    test = files[idx == 0]\n",
    "    print(\"TRAIN SET: {0}\".format(train))\n",
    "    print(\"TEST SET: {0}\".format(test))"
   ]
  },
  {
   "cell_type": "code",
   "execution_count": 39,
   "metadata": {},
   "outputs": [
    {
     "name": "stdout",
     "output_type": "stream",
     "text": [
      "TRAIN SET: ['group_979_mesh.off' 'group_4347_mesh.off' 'group_6495_mesh.off'\n",
      " 'group_2338_mesh.off' 'group_1232_mesh.off' 'group_1209_mesh.off'\n",
      " 'group_5234_mesh.off' 'group_5312_mesh.off' 'group_3727_mesh.off'\n",
      " 'group_5010_mesh.off' 'group_615_mesh.off' 'group_4327_mesh.off'\n",
      " 'group_6530_mesh.off' 'group_554_mesh.off' 'group_5799_mesh.off'\n",
      " 'group_1496_mesh.off' 'group_716_mesh.off' 'group_6038_mesh.off'\n",
      " 'group_1732_mesh.off' 'group_2211_mesh.off' 'group_5747_mesh.off'\n",
      " 'group_3398_mesh.off' 'group_2021_mesh.off' 'group_1599_mesh.off'\n",
      " 'group_3483_mesh.off' 'group_4565_mesh.off' 'group_4735_mesh.off'\n",
      " 'group_1273_mesh.off' 'group_4958_mesh.off' 'group_6314_mesh.off'\n",
      " 'group_5886_mesh.off' 'group_2323_mesh.off' 'group_477_mesh.off'\n",
      " 'group_6109_mesh.off' 'group_5823_mesh.off' 'group_2711_mesh.off'\n",
      " 'group_6588_mesh.off' 'group_1214_mesh.off' 'group_1637_mesh.off'\n",
      " 'group_4515_mesh.off']\n",
      "TEST SET: ['group_5116_mesh.off' 'group_3490_mesh.off' 'group_3170_mesh.off'\n",
      " 'group_4080_mesh.off' 'group_5866_mesh.off' 'group_5857_mesh.off'\n",
      " 'group_2759_mesh.off' 'group_375_mesh.off' 'group_4301_mesh.off'\n",
      " 'group_1869_mesh.off']\n"
     ]
    }
   ],
   "source": [
    "PATH = \"../data/meshes/mixed/\"\n",
    "files = os.listdir(PATH)\n",
    "\n",
    "# print(files)\n",
    "    \n",
    "if \".ipynb_checkpoints\" in files:\n",
    "#     print(\"It exits\")\n",
    "    files.remove(\".ipynb_checkpoints\")\n",
    "    \n",
    "# First: Randomize data \n",
    "randomize_files(files)\n",
    "\n",
    "# Calculate Split\n",
    "eighty, twenty, files = prepare_split(files)\n",
    "\n",
    "# Generate 1s and 0s as IDs\n",
    "idx = generate_ids(eighty, twenty)\n",
    "\n",
    "# Split data \n",
    "train_test_split(files, idx)"
   ]
  }
 ],
 "metadata": {
  "kernelspec": {
   "display_name": "km3net",
   "language": "python",
   "name": "km3net"
  },
  "language_info": {
   "codemirror_mode": {
    "name": "ipython",
    "version": 3
   },
   "file_extension": ".py",
   "mimetype": "text/x-python",
   "name": "python",
   "nbconvert_exporter": "python",
   "pygments_lexer": "ipython3",
   "version": "3.7.3"
  }
 },
 "nbformat": 4,
 "nbformat_minor": 2
}
