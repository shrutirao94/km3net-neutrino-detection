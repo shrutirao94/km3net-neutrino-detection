{
 "cells": [
  {
   "cell_type": "code",
   "execution_count": 1,
   "metadata": {},
   "outputs": [],
   "source": [
    "import numpy as np\n",
    "import pandas as pd\n",
    "import open3d as o3d\n",
    "import os\n",
    "import glob"
   ]
  },
  {
   "cell_type": "markdown",
   "metadata": {},
   "source": [
    "# Noise Only"
   ]
  },
  {
   "cell_type": "markdown",
   "metadata": {},
   "source": [
    "Convert dataframe to numpy arrary containing list of lists where each list contains a row of x, y, z points"
   ]
  },
  {
   "cell_type": "code",
   "execution_count": 11,
   "metadata": {},
   "outputs": [
    {
     "data": {
      "text/plain": [
       "50"
      ]
     },
     "execution_count": 11,
     "metadata": {},
     "output_type": "execute_result"
    }
   ],
   "source": [
    "mylist = [f for f in glob.glob(input_path+data_noise+\"*.xyz\")]\n",
    "# os.listdir(input_path+data_noise)\n",
    "len(mylist)"
   ]
  },
  {
   "cell_type": "code",
   "execution_count": 5,
   "metadata": {},
   "outputs": [
    {
     "data": {
      "text/plain": [
       "array([[-17.661,  32.245,  65.231],\n",
       "       [ 11.595,  85.465,  65.459],\n",
       "       [-36.464,  67.166, 160.189],\n",
       "       ...,\n",
       "       [-83.642, -22.14 , 151.011],\n",
       "       [ 31.14 ,  86.439, 112.559],\n",
       "       [-55.884, 101.779,  65.289]])"
      ]
     },
     "execution_count": 5,
     "metadata": {},
     "output_type": "execute_result"
    }
   ],
   "source": [
    "noise_cloud = noise_cloud.values\n",
    "noise_cloud"
   ]
  },
  {
   "cell_type": "markdown",
   "metadata": {},
   "source": [
    "First instantiate the Open3d point cloud object, then add points"
   ]
  },
  {
   "cell_type": "code",
   "execution_count": 119,
   "metadata": {},
   "outputs": [
    {
     "ename": "NameError",
     "evalue": "name 'noise_cloud' is not defined",
     "output_type": "error",
     "traceback": [
      "\u001b[0;31m---------------------------------------------------------------------------\u001b[0m",
      "\u001b[0;31mNameError\u001b[0m                                 Traceback (most recent call last)",
      "\u001b[0;32m<ipython-input-119-21c1711637dc>\u001b[0m in \u001b[0;36m<module>\u001b[0;34m\u001b[0m\n\u001b[1;32m      1\u001b[0m \u001b[0mpcd\u001b[0m \u001b[0;34m=\u001b[0m \u001b[0mo3d\u001b[0m\u001b[0;34m.\u001b[0m\u001b[0mgeometry\u001b[0m\u001b[0;34m.\u001b[0m\u001b[0mPointCloud\u001b[0m\u001b[0;34m(\u001b[0m\u001b[0;34m)\u001b[0m\u001b[0;34m\u001b[0m\u001b[0;34m\u001b[0m\u001b[0m\n\u001b[0;32m----> 2\u001b[0;31m \u001b[0mpcd\u001b[0m\u001b[0;34m.\u001b[0m\u001b[0mpoints\u001b[0m \u001b[0;34m=\u001b[0m \u001b[0mo3d\u001b[0m\u001b[0;34m.\u001b[0m\u001b[0mutility\u001b[0m\u001b[0;34m.\u001b[0m\u001b[0mVector3dVector\u001b[0m\u001b[0;34m(\u001b[0m\u001b[0mnoise_cloud\u001b[0m\u001b[0;34m)\u001b[0m\u001b[0;34m\u001b[0m\u001b[0;34m\u001b[0m\u001b[0m\n\u001b[0m",
      "\u001b[0;31mNameError\u001b[0m: name 'noise_cloud' is not defined"
     ]
    }
   ],
   "source": [
    "pcd = o3d.geometry.PointCloud()\n",
    "pcd.points = o3d.utility.Vector3dVector(noise_cloud)"
   ]
  },
  {
   "cell_type": "markdown",
   "metadata": {},
   "source": [
    "Need to estimate normals for a future BPA algorithm"
   ]
  },
  {
   "cell_type": "code",
   "execution_count": 55,
   "metadata": {},
   "outputs": [
    {
     "data": {
      "text/plain": [
       "True"
      ]
     },
     "execution_count": 55,
     "metadata": {},
     "output_type": "execute_result"
    }
   ],
   "source": [
    "pcd.estimate_normals(search_param=o3d.geometry.KDTreeSearchParamHybrid(radius=0.1, max_nn=300))"
   ]
  },
  {
   "cell_type": "code",
   "execution_count": 56,
   "metadata": {},
   "outputs": [],
   "source": [
    "pcd.normals = o3d.utility.Vector3dVector(np.asarray(pcd.normals))"
   ]
  },
  {
   "cell_type": "code",
   "execution_count": 57,
   "metadata": {},
   "outputs": [
    {
     "data": {
      "text/plain": [
       "std::vector<Eigen::Vector3d> with 12454 elements.\n",
       "Use numpy.asarray() to access data."
      ]
     },
     "execution_count": 57,
     "metadata": {},
     "output_type": "execute_result"
    }
   ],
   "source": [
    "pcd.points"
   ]
  },
  {
   "cell_type": "code",
   "execution_count": 58,
   "metadata": {},
   "outputs": [],
   "source": [
    "o3d.visualization.draw_geometries([pcd])"
   ]
  },
  {
   "cell_type": "markdown",
   "metadata": {},
   "source": [
    "## Mesh"
   ]
  },
  {
   "cell_type": "markdown",
   "metadata": {},
   "source": [
    "### Strategy 1: Ball-Pivoting Algorithm\n",
    "The idea behind the Ball-Pivoting Algorithm (BPA) is to simulate the use of a virtual ball to generate a mesh from a point cloud. We first assume that the given point cloud consists of points sampled from the surface of an object. Points must strictly represent a surface (noise-free), that the reconstructed mesh explicit.Using this assumption, imagine rolling a tiny ball across the point cloud “surface”. This tiny ball is dependent on the scale of the mesh, and should be slightly larger than the average space between points. When you drop a ball onto the surface of points, the ball will get caught and settle upon three points that will form the seed triangle. From that location, the ball rolls along the triangle edge formed from two points. The ball then settles in a new location: a new triangle is formed from two of the previous vertices and one new triangle is added to the mesh. As we continue rolling and pivoting the ball, new triangles are formed and added to the mesh. The ball continues rolling and rolling until the mesh is fully formed.\n",
    "\n",
    "The idea behind the Ball-Pivoting Algorithm is simple, but of course, there are many caveats to the procedure as originally expressed here:\n",
    "1. How is the ball radius chosen? The radius, is obtained empirically based on the size and scale of the input point cloud. In theory, the diameter of the ball should be slightly larger than the average distance between points.\n",
    "2. What if the points are too far apart at some locations and the ball falls through? When the ball pivots along an edge, it may miss the appropriate point on the surface and instead hit another point on the object or even exactly its three old points. In this case, we check that the normal of the new triangle Facet is consistently oriented with the point's Vertex normals. If it is not, then we reject that triangle and create a hole.\n",
    "3. What if the surface has a crease or valley, such that the distance between the surface and itself is less than the size of the ball? In this case, the ball would just roll over the crease and ignore the points within the crease. But, this is not ideal behavior as the reconstructed mesh is not accurate to the object.\n",
    "4. What if the surface is spaced into regions of points such that the ball cannot successfully roll between the regions? The virtual ball is dropped onto the surface multiple times at varying locations. This ensures that the ball captures the entire mesh, even when the points are inconsistently spaced out.\n"
   ]
  },
  {
   "cell_type": "markdown",
   "metadata": {},
   "source": [
    "First compute the necessary radius parameter based on the average distances computed from all the distances between points:"
   ]
  },
  {
   "cell_type": "code",
   "execution_count": 59,
   "metadata": {},
   "outputs": [],
   "source": [
    "distances = pcd.compute_nearest_neighbor_distance()\n",
    "avg_dist = np.mean(distances)\n",
    "radius = 3 * avg_dist"
   ]
  },
  {
   "cell_type": "markdown",
   "metadata": {},
   "source": [
    "We can then create a mesh and store it in the bpa_mesh variable:"
   ]
  },
  {
   "cell_type": "code",
   "execution_count": 60,
   "metadata": {},
   "outputs": [],
   "source": [
    "radii = o3d.utility.DoubleVector([radius, radius * 2])\n",
    "bpa_mesh = o3d.geometry.TriangleMesh.create_from_point_cloud_ball_pivoting(pcd, radii)"
   ]
  },
  {
   "cell_type": "markdown",
   "metadata": {},
   "source": [
    "TODO: DETERMINE IF NEEDED:\n",
    "Before exporting the mesh, we can downsample the result to an acceptable number of triangles, for example, 100k triangles:"
   ]
  },
  {
   "cell_type": "code",
   "execution_count": 61,
   "metadata": {},
   "outputs": [],
   "source": [
    "# dec_mesh = bpa_mesh.simplify_quadric_decimation(100000)"
   ]
  },
  {
   "cell_type": "markdown",
   "metadata": {},
   "source": [
    "### Strategy 2: Poisson Reconstruction\n",
    "The Poisson Reconstruction is a bit more technical/mathematical. Its approach is known as an implicit meshing method, which I would describe as trying to “envelop” the data in a smooth cloth. Without going into too many details, we try to fit a watertight surface from the original point set by creating an entirely new point set representing an isosurface linked to the normals. There are several parameters available that affect the result of the meshing:\n",
    "1. Which depth? a tree-depth is used for the reconstruction. The higher the more detailed the mesh (Default: 8). With noisy data you keep vertices in the generated mesh that are outliers but the algorithm doesn’t detect them as such. So a low value (maybe between 5 and 7) provides a smoothing effect, but you will lose detail. The higher the depth-value the higher is the resulting amount of vertices of the generated mesh.\n",
    "2. Which width? This specifies the target width of the finest level of the tree structure, which is called an octree 🤯. Don’t worry, I will cover this and best data structures for 3D in another article as it extends the scope of this one. Anyway, this parameter is ignored if the depth is specified.\n",
    "3. Which scale? It describes the ratio between the diameter of the cube used for reconstruction and the diameter of the samples’ bounding cube. Very abstract, the default parameter usually works well.\n",
    "4. Which fit? the linear_fit parameter if set to true, let the reconstructor use linear interpolation to estimate the positions of iso-vertices."
   ]
  },
  {
   "cell_type": "markdown",
   "metadata": {},
   "source": [
    "NOTE: The function output a list composed of an o3d.geometry object followed by a Numpy array. We want to select only the o3d.geometry justifying the [0] at the end."
   ]
  },
  {
   "cell_type": "code",
   "execution_count": 62,
   "metadata": {},
   "outputs": [],
   "source": [
    "poisson_mesh = o3d.geometry.TriangleMesh.create_from_point_cloud_poisson(pcd, \n",
    "                                                                         depth=8, \n",
    "                                                                         width=0, \n",
    "                                                                         scale=1.1, \n",
    "                                                                         linear_fit=False)[0]"
   ]
  },
  {
   "cell_type": "markdown",
   "metadata": {},
   "source": [
    "TODO: Test if needed:To get a clean result, it is often necessary to add a cropping step to clean unwanted artifacts. For this, we compute the initial bounding-box containing the raw point cloud, and we use it to filter all surfaces from the mesh outside the bounding-box:"
   ]
  },
  {
   "cell_type": "code",
   "execution_count": 63,
   "metadata": {},
   "outputs": [],
   "source": [
    "bbox = pcd.get_axis_aligned_bounding_box()\n",
    "p_mesh_crop = poisson_mesh.crop(bbox)"
   ]
  },
  {
   "cell_type": "markdown",
   "metadata": {},
   "source": [
    "# Noise & Hits"
   ]
  },
  {
   "cell_type": "code",
   "execution_count": 88,
   "metadata": {},
   "outputs": [],
   "source": [
    "noise_hits_cloud = pd.read_csv(input_path + data_noise_hits)"
   ]
  },
  {
   "cell_type": "code",
   "execution_count": 89,
   "metadata": {},
   "outputs": [],
   "source": [
    "noise_hits_cloud = noise_hits_cloud.values"
   ]
  },
  {
   "cell_type": "code",
   "execution_count": 90,
   "metadata": {},
   "outputs": [],
   "source": [
    "np.savetxt(\"../data/test_hits.xyz\", noise_cloud)"
   ]
  },
  {
   "cell_type": "code",
   "execution_count": 66,
   "metadata": {},
   "outputs": [],
   "source": [
    "pcd_mix= o3d.geometry.PointCloud()\n",
    "pcd_mix.points = o3d.utility.Vector3dVector(noise_hits_cloud)"
   ]
  },
  {
   "cell_type": "markdown",
   "metadata": {},
   "source": [
    "Need to estimate normals for a future BPA algorithm"
   ]
  },
  {
   "cell_type": "code",
   "execution_count": 67,
   "metadata": {},
   "outputs": [
    {
     "data": {
      "text/plain": [
       "True"
      ]
     },
     "execution_count": 67,
     "metadata": {},
     "output_type": "execute_result"
    }
   ],
   "source": [
    "pcd_mix.estimate_normals(search_param=o3d.geometry.KDTreeSearchParamHybrid(radius=0.1, max_nn=300))"
   ]
  },
  {
   "cell_type": "code",
   "execution_count": 68,
   "metadata": {},
   "outputs": [],
   "source": [
    "pcd_mix.normals = o3d.utility.Vector3dVector(np.asarray(pcd_mix.normals))"
   ]
  },
  {
   "cell_type": "code",
   "execution_count": 69,
   "metadata": {},
   "outputs": [
    {
     "data": {
      "text/plain": [
       "std::vector<Eigen::Vector3d> with 8542 elements.\n",
       "Use numpy.asarray() to access data."
      ]
     },
     "execution_count": 69,
     "metadata": {},
     "output_type": "execute_result"
    }
   ],
   "source": [
    "pcd_mix.points"
   ]
  },
  {
   "cell_type": "code",
   "execution_count": 70,
   "metadata": {},
   "outputs": [],
   "source": [
    "o3d.visualization.draw_geometries([pcd_mix])"
   ]
  },
  {
   "cell_type": "markdown",
   "metadata": {},
   "source": [
    "## Mesh"
   ]
  },
  {
   "cell_type": "markdown",
   "metadata": {},
   "source": [
    "### Strategy 1: Ball-Pivoting Algorithm\n",
    "The idea behind the Ball-Pivoting Algorithm (BPA) is to simulate the use of a virtual ball to generate a mesh from a point cloud. We first assume that the given point cloud consists of points sampled from the surface of an object. Points must strictly represent a surface (noise-free), that the reconstructed mesh explicit.Using this assumption, imagine rolling a tiny ball across the point cloud “surface”. This tiny ball is dependent on the scale of the mesh, and should be slightly larger than the average space between points. When you drop a ball onto the surface of points, the ball will get caught and settle upon three points that will form the seed triangle. From that location, the ball rolls along the triangle edge formed from two points. The ball then settles in a new location: a new triangle is formed from two of the previous vertices and one new triangle is added to the mesh. As we continue rolling and pivoting the ball, new triangles are formed and added to the mesh. The ball continues rolling and rolling until the mesh is fully formed.\n",
    "\n",
    "The idea behind the Ball-Pivoting Algorithm is simple, but of course, there are many caveats to the procedure as originally expressed here:\n",
    "1. How is the ball radius chosen? The radius, is obtained empirically based on the size and scale of the input point cloud. In theory, the diameter of the ball should be slightly larger than the average distance between points.\n",
    "2. What if the points are too far apart at some locations and the ball falls through? When the ball pivots along an edge, it may miss the appropriate point on the surface and instead hit another point on the object or even exactly its three old points. In this case, we check that the normal of the new triangle Facet is consistently oriented with the point's Vertex normals. If it is not, then we reject that triangle and create a hole.\n",
    "3. What if the surface has a crease or valley, such that the distance between the surface and itself is less than the size of the ball? In this case, the ball would just roll over the crease and ignore the points within the crease. But, this is not ideal behavior as the reconstructed mesh is not accurate to the object.\n",
    "4. What if the surface is spaced into regions of points such that the ball cannot successfully roll between the regions? The virtual ball is dropped onto the surface multiple times at varying locations. This ensures that the ball captures the entire mesh, even when the points are inconsistently spaced out.\n"
   ]
  },
  {
   "cell_type": "markdown",
   "metadata": {},
   "source": [
    "First compute the necessary radius parameter based on the average distances computed from all the distances between points:"
   ]
  },
  {
   "cell_type": "code",
   "execution_count": 71,
   "metadata": {},
   "outputs": [],
   "source": [
    "distances_mix = pcd_mix.compute_nearest_neighbor_distance()\n",
    "avg_dist_mix = np.mean(distances_mix)\n",
    "radius_mix = 3 * avg_dist_mix"
   ]
  },
  {
   "cell_type": "markdown",
   "metadata": {},
   "source": [
    "We can then create a mesh and store it in the bpa_mesh variable:"
   ]
  },
  {
   "cell_type": "code",
   "execution_count": 72,
   "metadata": {},
   "outputs": [],
   "source": [
    "radii = o3d.utility.DoubleVector([radius_mix, radius_mix * 2])\n",
    "bpa_mesh_mix = o3d.geometry.TriangleMesh.create_from_point_cloud_ball_pivoting(pcd_mix, radii)"
   ]
  },
  {
   "cell_type": "markdown",
   "metadata": {},
   "source": [
    "TODO: DETERMINE IF NEEDED:\n",
    "Before exporting the mesh, we can downsample the result to an acceptable number of triangles, for example, 100k triangles:"
   ]
  },
  {
   "cell_type": "code",
   "execution_count": 73,
   "metadata": {},
   "outputs": [],
   "source": [
    "# dec_mesh = bpa_mesh.simplify_quadric_decimation(100000)"
   ]
  },
  {
   "cell_type": "markdown",
   "metadata": {},
   "source": [
    "### Strategy 2: Poisson Reconstruction\n",
    "The Poisson Reconstruction is a bit more technical/mathematical. Its approach is known as an implicit meshing method, which I would describe as trying to “envelop” the data in a smooth cloth. Without going into too many details, we try to fit a watertight surface from the original point set by creating an entirely new point set representing an isosurface linked to the normals. There are several parameters available that affect the result of the meshing:\n",
    "1. Which depth? a tree-depth is used for the reconstruction. The higher the more detailed the mesh (Default: 8). With noisy data you keep vertices in the generated mesh that are outliers but the algorithm doesn’t detect them as such. So a low value (maybe between 5 and 7) provides a smoothing effect, but you will lose detail. The higher the depth-value the higher is the resulting amount of vertices of the generated mesh.\n",
    "2. Which width? This specifies the target width of the finest level of the tree structure, which is called an octree 🤯. Don’t worry, I will cover this and best data structures for 3D in another article as it extends the scope of this one. Anyway, this parameter is ignored if the depth is specified.\n",
    "3. Which scale? It describes the ratio between the diameter of the cube used for reconstruction and the diameter of the samples’ bounding cube. Very abstract, the default parameter usually works well.\n",
    "4. Which fit? the linear_fit parameter if set to true, let the reconstructor use linear interpolation to estimate the positions of iso-vertices."
   ]
  },
  {
   "cell_type": "markdown",
   "metadata": {},
   "source": [
    "NOTE: The function output a list composed of an o3d.geometry object followed by a Numpy array. We want to select only the o3d.geometry justifying the [0] at the end."
   ]
  },
  {
   "cell_type": "code",
   "execution_count": 115,
   "metadata": {},
   "outputs": [
    {
     "ename": "NameError",
     "evalue": "name 'pcd_mix' is not defined",
     "output_type": "error",
     "traceback": [
      "\u001b[0;31m---------------------------------------------------------------------------\u001b[0m",
      "\u001b[0;31mNameError\u001b[0m                                 Traceback (most recent call last)",
      "\u001b[0;32m<ipython-input-115-80a5b83bf17d>\u001b[0m in \u001b[0;36m<module>\u001b[0;34m\u001b[0m\n\u001b[0;32m----> 1\u001b[0;31m poisson_mesh_mix = o3d.geometry.TriangleMesh.create_from_point_cloud_poisson(pcd_mix, \n\u001b[0m\u001b[1;32m      2\u001b[0m                                                                          \u001b[0mdepth\u001b[0m\u001b[0;34m=\u001b[0m\u001b[0;36m12\u001b[0m\u001b[0;34m,\u001b[0m\u001b[0;34m\u001b[0m\u001b[0;34m\u001b[0m\u001b[0m\n\u001b[1;32m      3\u001b[0m                                                                          \u001b[0mwidth\u001b[0m\u001b[0;34m=\u001b[0m\u001b[0;36m0\u001b[0m\u001b[0;34m,\u001b[0m\u001b[0;34m\u001b[0m\u001b[0;34m\u001b[0m\u001b[0m\n\u001b[1;32m      4\u001b[0m                                                                          \u001b[0mscale\u001b[0m\u001b[0;34m=\u001b[0m\u001b[0;36m1.1\u001b[0m\u001b[0;34m,\u001b[0m\u001b[0;34m\u001b[0m\u001b[0;34m\u001b[0m\u001b[0m\n\u001b[1;32m      5\u001b[0m                                                                          linear_fit=False)[0]\n",
      "\u001b[0;31mNameError\u001b[0m: name 'pcd_mix' is not defined"
     ]
    }
   ],
   "source": [
    "poisson_mesh_mix = o3d.geometry.TriangleMesh.create_from_point_cloud_poisson(pcd_mix, \n",
    "                                                                         depth=12, \n",
    "                                                                         width=0, \n",
    "                                                                         scale=1.1, \n",
    "                                                                         linear_fit=False)[0]"
   ]
  },
  {
   "cell_type": "markdown",
   "metadata": {},
   "source": [
    "TODO: Test if needed:To get a clean result, it is often necessary to add a cropping step to clean unwanted artifacts. For this, we compute the initial bounding-box containing the raw point cloud, and we use it to filter all surfaces from the mesh outside the bounding-box:"
   ]
  },
  {
   "cell_type": "code",
   "execution_count": 75,
   "metadata": {},
   "outputs": [],
   "source": [
    "bbox_mix = pcd_mix.get_axis_aligned_bounding_box()\n",
    "p_mesh_mix_crop = poisson_mesh_mix.crop(bbox_mix)"
   ]
  },
  {
   "cell_type": "markdown",
   "metadata": {},
   "source": [
    "# Export\n",
    "\n",
    "Problems occurred with the format of the saved `off` files. It was noticed that they were saved as \n",
    "\n",
    "NOFF\n",
    "\n",
    "|   a   |   b   |     c |d |e | f|g |\n",
    "|-------|-------|-------|--|--|--|--|\n",
    "| 8542  |  3283 |  0    |  |  |  |  |\n",
    "|-65.053| 86.247|  83.61| 1| 0| 0| 1|\n",
    "|-57.457| -5.34 | 83.611| 0| 0| 1| 1|  \n",
    "\n",
    "This indicated that normals were being stored. This was easily turned off using the instructions from open3d. Moreover, `poission` additionally required not saving triangle colours."
   ]
  },
  {
   "cell_type": "code",
   "execution_count": 78,
   "metadata": {},
   "outputs": [],
   "source": [
    "def save_files(ext):\n",
    "    if ext == \"obj\":\n",
    "        o3d.io.write_triangle_mesh(output_path+\"bpa_mesh_mix.obj\", bpa_mesh_mix)\n",
    "        o3d.io.write_triangle_mesh(output_path+\"poisson_mesh_mix.obj\", p_mesh_mix_crop)\n",
    "    elif ext == \"ply\":\n",
    "        o3d.io.write_triangle_mesh(output_path+\"bpa_mesh.ply\", bpa_mesh_mix)\n",
    "        o3d.io.write_triangle_mesh(output_path+\"poisson_mesh.ply\", p_mesh_mix_crop)\n",
    "    elif ext == \"off\":\n",
    "        o3d.io.write_triangle_mesh(output_path+\"bpa_mesh_mix.off\",\n",
    "                                   bpa_mesh_mix,\n",
    "                                   write_vertex_normals=False)\n",
    "        o3d.io.write_triangle_mesh(output_path+\"poisson_mesh_mix.off\",\n",
    "                                   p_mesh_mix_crop,\n",
    "                                   write_vertex_normals=False,\n",
    "                                   write_vertex_colors=False)\n",
    "    else:\n",
    "        raise ValueError(\"Please enter either obj, off or ply in strings. Obj would be useful for storing details but misses out on normals.\")"
   ]
  },
  {
   "cell_type": "code",
   "execution_count": 79,
   "metadata": {},
   "outputs": [
    {
     "name": "stdout",
     "output_type": "stream",
     "text": [
      "\u001b[1;33m[Open3D WARNING] Write OFF cannot include triangle normals.\u001b[0;m\n"
     ]
    }
   ],
   "source": [
    "save_files(\"off\")"
   ]
  },
  {
   "cell_type": "markdown",
   "metadata": {},
   "source": [
    "# Mesh Generator"
   ]
  },
  {
   "cell_type": "code",
   "execution_count": 2,
   "metadata": {},
   "outputs": [
    {
     "name": "stdout",
     "output_type": "stream",
     "text": [
      "Read xyz files..\n",
      "../data/noise/group_5038.xyz\n",
      "Initialise the pointcloud geometry..\n"
     ]
    },
    {
     "data": {
      "text/plain": [
       "std::vector<Eigen::Vector3d> with 6972 elements.\n",
       "Use numpy.asarray() to access data."
      ]
     },
     "execution_count": 2,
     "metadata": {},
     "output_type": "execute_result"
    }
   ],
   "source": [
    "input_path = \"../data/\"\n",
    "output_path = \"../data/\"\n",
    "data_noise = \"noise/\"\n",
    "data_mixed = \"mixed/\"\n",
    "\n",
    "print(\"Read xyz files..\")\n",
    "for file in glob.glob(input_path+data_noise+\"*.xyz\"):\n",
    "    print(file)\n",
    "    point_cloud = np.loadtxt(file)\n",
    "    break\n",
    "\n",
    "print(\"Initialise the pointcloud geometry..\")\n",
    "pcd = o3d.geometry.PointCloud()\n",
    "pcd.points = o3d.utility.Vector3dVector(point_cloud)\n"
   ]
  },
  {
   "cell_type": "code",
   "execution_count": 33,
   "metadata": {},
   "outputs": [],
   "source": [
    "def normalise(pcd):\n",
    "    \"\"\"\n",
    "    Computes the normals of a point cloud. Normals are oriented \n",
    "    with respect to the input point cloud if normals exist.\n",
    "    Next, converts float64 numpy array of shape (n, 3) to Open3D format.\n",
    "    Computed points are returned\n",
    "    \"\"\"\n",
    "    radius = 0.1\n",
    "    max_nn = 300\n",
    "\n",
    "    try:\n",
    "        pcd.estimate_normals(search_param = o3d.geometry.KDTreeSearchParamHybrid(radius,\n",
    "                                                                                 max_nn),\n",
    "                             fast_normal_computation=False)\n",
    "        pcd.normals = o3d.utility.Vector3dVector(np.asarray(pcd.normals))\n",
    "        print(pcd.points)\n",
    "        return pcd\n",
    "    except RuntimeError:\n",
    "        print(\"Normals were not computed!\")\n",
    "        \n",
    "        \n",
    "def poission_mesh(pcd):\n",
    "    \"\"\"\n",
    "    Computes and returns a triangle mesh from a oriented PointCloud pcd. \n",
    "    It implements the Screened Poisson Reconstruction proposed in \n",
    "    Kazhdan and Hoppe, \"Screened Poisson Surface Reconstruction\", 2013. \n",
    "    See https://github.com/mkazhdan/PoissonRecon\n",
    "    Returns a cropped geometry based on an axis-aligned bounding box of \n",
    "    the geometry.\n",
    "    \"\"\"\n",
    "    depth = 8\n",
    "    width = 0\n",
    "    scale = 1.1\n",
    "    \n",
    "    poisson_mesh = o3d.geometry.TriangleMesh.create_from_point_cloud_poisson(pcd,\n",
    "                                                                             depth,\n",
    "                                                                             width,\n",
    "                                                                             scale,\n",
    "                                                                             linear_fit=False)[0]\n",
    "    bbox = pcd.get_axis_aligned_bounding_box()\n",
    "    cropped_poission_mesh = poisson_mesh.crop(bbox)\n",
    "    \n",
    "    return cropped_poission_mesh\n",
    "\n",
    "\n",
    "def visualise(pcd):\n",
    "    \"\"\"\n",
    "    Visualises pointcloud forms in a separate GUI:\n",
    "        1. To visualise just pointclouds, pass `pcd`\n",
    "        2. To visualise lod, choose between `poisson_lod_mix[100000000]` or\n",
    "            `poisson_lod_mix[100000]`\n",
    "    \"\"\"\n",
    "    print(\"Note: Visualisation opens in GUI\")\n",
    "    o3d.visualization.draw_geometries([pcd])\n",
    "    \n",
    "    \n",
    "def lod_mesh_export(mesh, lods, extension, path):\n",
    "    \"\"\"\n",
    "    Creates levels of detail and writes triangle meshes \n",
    "    to file\n",
    "    \"\"\"\n",
    "    mesh_lods={}\n",
    "    \n",
    "    for i in lods:\n",
    "        mesh_lod = mesh.simplify_quadric_decimation(i)\n",
    "        o3d.io.write_triangle_mesh(path+\"lod_\"+str(i)+extension, mesh_lod)\n",
    "        mesh_lods[i]=mesh_lod\n",
    "    print(\"Generation of \"+str(i)+\" LoD successful\")\n",
    "    \n",
    "    return mesh_lods  "
   ]
  },
  {
   "cell_type": "code",
   "execution_count": 34,
   "metadata": {},
   "outputs": [
    {
     "name": "stdout",
     "output_type": "stream",
     "text": [
      "std::vector<Eigen::Vector3d> with 6972 elements.\n",
      "Use numpy.asarray() to access data.\n",
      "Generation of 100000 LoD successful\n"
     ]
    }
   ],
   "source": [
    "normalised_pcd = normalise(pcd)\n",
    "cropped_poisson_mesh = poission_mesh(normalised_pcd)\n",
    "# visualise(pcd)\n",
    "poisson_lod_mix = lod_mesh_export(cropped_poisson_mesh,\n",
    "                                   [100000000, 100000],\n",
    "                                   \".off\",\n",
    "                                   output_path)"
   ]
  },
  {
   "cell_type": "code",
   "execution_count": null,
   "metadata": {},
   "outputs": [],
   "source": [
    "def save_data():\n",
    "    pass "
   ]
  },
  {
   "cell_type": "markdown",
   "metadata": {},
   "source": [
    "TODO: Test if needed:To get a clean result, it is often necessary to add a cropping step to clean unwanted artifacts. For this, we compute the initial bounding-box containing the raw point cloud, and we use it to filter all surfaces from the mesh outside the bounding-box:"
   ]
  }
 ],
 "metadata": {
  "kernelspec": {
   "display_name": "km3net",
   "language": "python",
   "name": "km3net"
  },
  "language_info": {
   "codemirror_mode": {
    "name": "ipython",
    "version": 3
   },
   "file_extension": ".py",
   "mimetype": "text/x-python",
   "name": "python",
   "nbconvert_exporter": "python",
   "pygments_lexer": "ipython3",
   "version": "3.7.3"
  }
 },
 "nbformat": 4,
 "nbformat_minor": 2
}
