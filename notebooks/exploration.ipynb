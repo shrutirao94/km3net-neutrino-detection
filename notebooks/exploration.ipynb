{
 "cells": [
  {
   "cell_type": "code",
   "execution_count": 2,
   "metadata": {},
   "outputs": [],
   "source": [
    "import pandas as pd\n",
    "import numpy as np\n",
    "import matplotlib\n",
    "import matplotlib.pyplot as plt\n",
    "from mpl_toolkits import mplot3d\n",
    "from mpl_toolkits.mplot3d import Axes3D\n",
    "\n",
    "import seaborn as sns\n",
    "%matplotlib inline\n",
    "sns.set_style()"
   ]
  },
  {
   "cell_type": "code",
   "execution_count": 3,
   "metadata": {},
   "outputs": [],
   "source": [
    "data = pd.read_csv('../data/data.csv',index_col=None)"
   ]
  },
  {
   "cell_type": "code",
   "execution_count": 4,
   "metadata": {},
   "outputs": [
    {
     "data": {
      "text/html": [
       "<div>\n",
       "<style scoped>\n",
       "    .dataframe tbody tr th:only-of-type {\n",
       "        vertical-align: middle;\n",
       "    }\n",
       "\n",
       "    .dataframe tbody tr th {\n",
       "        vertical-align: top;\n",
       "    }\n",
       "\n",
       "    .dataframe thead th {\n",
       "        text-align: right;\n",
       "    }\n",
       "</style>\n",
       "<table border=\"1\" class=\"dataframe\">\n",
       "  <thead>\n",
       "    <tr style=\"text-align: right;\">\n",
       "      <th></th>\n",
       "      <th>dom_id</th>\n",
       "      <th>pmt_id</th>\n",
       "      <th>pos_x</th>\n",
       "      <th>pos_y</th>\n",
       "      <th>pos_z</th>\n",
       "      <th>dir_x</th>\n",
       "      <th>dir_y</th>\n",
       "      <th>dir_z</th>\n",
       "      <th>tot</th>\n",
       "      <th>time</th>\n",
       "      <th>label</th>\n",
       "    </tr>\n",
       "  </thead>\n",
       "  <tbody>\n",
       "    <tr>\n",
       "      <th>0</th>\n",
       "      <td>321.0</td>\n",
       "      <td>5.0</td>\n",
       "      <td>-17.661</td>\n",
       "      <td>32.245</td>\n",
       "      <td>65.231</td>\n",
       "      <td>-0.460</td>\n",
       "      <td>-0.266</td>\n",
       "      <td>-0.847</td>\n",
       "      <td>26.0</td>\n",
       "      <td>0.0</td>\n",
       "      <td>0</td>\n",
       "    </tr>\n",
       "    <tr>\n",
       "      <th>1</th>\n",
       "      <td>1653.0</td>\n",
       "      <td>23.0</td>\n",
       "      <td>11.595</td>\n",
       "      <td>85.465</td>\n",
       "      <td>65.459</td>\n",
       "      <td>-0.955</td>\n",
       "      <td>-0.000</td>\n",
       "      <td>0.296</td>\n",
       "      <td>27.0</td>\n",
       "      <td>0.0</td>\n",
       "      <td>0</td>\n",
       "    </tr>\n",
       "    <tr>\n",
       "      <th>2</th>\n",
       "      <td>275.0</td>\n",
       "      <td>9.0</td>\n",
       "      <td>-36.464</td>\n",
       "      <td>67.166</td>\n",
       "      <td>160.189</td>\n",
       "      <td>0.415</td>\n",
       "      <td>0.720</td>\n",
       "      <td>-0.556</td>\n",
       "      <td>26.0</td>\n",
       "      <td>0.0</td>\n",
       "      <td>0</td>\n",
       "    </tr>\n",
       "    <tr>\n",
       "      <th>3</th>\n",
       "      <td>1660.0</td>\n",
       "      <td>23.0</td>\n",
       "      <td>61.660</td>\n",
       "      <td>101.635</td>\n",
       "      <td>169.059</td>\n",
       "      <td>-0.955</td>\n",
       "      <td>-0.000</td>\n",
       "      <td>0.296</td>\n",
       "      <td>26.0</td>\n",
       "      <td>0.0</td>\n",
       "      <td>0</td>\n",
       "    </tr>\n",
       "    <tr>\n",
       "      <th>4</th>\n",
       "      <td>966.0</td>\n",
       "      <td>16.0</td>\n",
       "      <td>-54.510</td>\n",
       "      <td>-78.323</td>\n",
       "      <td>94.341</td>\n",
       "      <td>-0.827</td>\n",
       "      <td>0.478</td>\n",
       "      <td>-0.296</td>\n",
       "      <td>24.0</td>\n",
       "      <td>0.0</td>\n",
       "      <td>0</td>\n",
       "    </tr>\n",
       "  </tbody>\n",
       "</table>\n",
       "</div>"
      ],
      "text/plain": [
       "   dom_id  pmt_id   pos_x    pos_y    pos_z  dir_x  dir_y  dir_z   tot  time  \\\n",
       "0   321.0     5.0 -17.661   32.245   65.231 -0.460 -0.266 -0.847  26.0   0.0   \n",
       "1  1653.0    23.0  11.595   85.465   65.459 -0.955 -0.000  0.296  27.0   0.0   \n",
       "2   275.0     9.0 -36.464   67.166  160.189  0.415  0.720 -0.556  26.0   0.0   \n",
       "3  1660.0    23.0  61.660  101.635  169.059 -0.955 -0.000  0.296  26.0   0.0   \n",
       "4   966.0    16.0 -54.510  -78.323   94.341 -0.827  0.478 -0.296  24.0   0.0   \n",
       "\n",
       "   label  \n",
       "0      0  \n",
       "1      0  \n",
       "2      0  \n",
       "3      0  \n",
       "4      0  "
      ]
     },
     "execution_count": 4,
     "metadata": {},
     "output_type": "execute_result"
    }
   ],
   "source": [
    "data.head()"
   ]
  },
  {
   "cell_type": "markdown",
   "metadata": {},
   "source": [
    "# Timeslice Grouping\n",
    "\n",
    "In order to allow for better visualisations and explorations, the timeslices identified by 15000ns are identified. Attributes are binned into timeslice intervals and assigned a group number starting from 0."
   ]
  },
  {
   "cell_type": "code",
   "execution_count": 5,
   "metadata": {},
   "outputs": [],
   "source": [
    "time_range = pd.Series(list(range(0, 1000000000, 15000)))"
   ]
  },
  {
   "cell_type": "code",
   "execution_count": 6,
   "metadata": {},
   "outputs": [
    {
     "data": {
      "text/plain": [
       "66667"
      ]
     },
     "execution_count": 6,
     "metadata": {},
     "output_type": "execute_result"
    }
   ],
   "source": [
    "len(time_range)"
   ]
  },
  {
   "cell_type": "code",
   "execution_count": 7,
   "metadata": {},
   "outputs": [],
   "source": [
    "data[\"group\"] = pd.cut(data.time, list(time_range), include_lowest=True, labels=False)"
   ]
  },
  {
   "cell_type": "markdown",
   "metadata": {},
   "source": [
    "# General Stats"
   ]
  },
  {
   "cell_type": "code",
   "execution_count": 8,
   "metadata": {},
   "outputs": [
    {
     "data": {
      "text/html": [
       "<div>\n",
       "<style scoped>\n",
       "    .dataframe tbody tr th:only-of-type {\n",
       "        vertical-align: middle;\n",
       "    }\n",
       "\n",
       "    .dataframe tbody tr th {\n",
       "        vertical-align: top;\n",
       "    }\n",
       "\n",
       "    .dataframe thead th {\n",
       "        text-align: right;\n",
       "    }\n",
       "</style>\n",
       "<table border=\"1\" class=\"dataframe\">\n",
       "  <thead>\n",
       "    <tr style=\"text-align: right;\">\n",
       "      <th></th>\n",
       "      <th>dom_id</th>\n",
       "      <th>pmt_id</th>\n",
       "      <th>pos_x</th>\n",
       "      <th>pos_y</th>\n",
       "      <th>pos_z</th>\n",
       "      <th>dir_x</th>\n",
       "      <th>dir_y</th>\n",
       "      <th>dir_z</th>\n",
       "      <th>tot</th>\n",
       "      <th>time</th>\n",
       "      <th>label</th>\n",
       "      <th>group</th>\n",
       "    </tr>\n",
       "  </thead>\n",
       "  <tbody>\n",
       "    <tr>\n",
       "      <th>count</th>\n",
       "      <td>4.582022e+07</td>\n",
       "      <td>4.582022e+07</td>\n",
       "      <td>4.582022e+07</td>\n",
       "      <td>4.582022e+07</td>\n",
       "      <td>4.582022e+07</td>\n",
       "      <td>4.582022e+07</td>\n",
       "      <td>4.582022e+07</td>\n",
       "      <td>4.582022e+07</td>\n",
       "      <td>4.582022e+07</td>\n",
       "      <td>4.582022e+07</td>\n",
       "      <td>4.582022e+07</td>\n",
       "      <td>4.582022e+07</td>\n",
       "    </tr>\n",
       "    <tr>\n",
       "      <th>mean</th>\n",
       "      <td>1.035732e+03</td>\n",
       "      <td>1.601316e+01</td>\n",
       "      <td>1.168440e-02</td>\n",
       "      <td>-1.597919e-02</td>\n",
       "      <td>1.171977e+02</td>\n",
       "      <td>2.011426e-04</td>\n",
       "      <td>-5.647887e-05</td>\n",
       "      <td>-1.950327e-01</td>\n",
       "      <td>2.643196e+01</td>\n",
       "      <td>5.005158e+07</td>\n",
       "      <td>1.069192e-02</td>\n",
       "      <td>3.336272e+03</td>\n",
       "    </tr>\n",
       "    <tr>\n",
       "      <th>std</th>\n",
       "      <td>5.975225e+02</td>\n",
       "      <td>8.942257e+00</td>\n",
       "      <td>5.125232e+01</td>\n",
       "      <td>6.222670e+01</td>\n",
       "      <td>4.865413e+01</td>\n",
       "      <td>5.809819e-01</td>\n",
       "      <td>5.810460e-01</td>\n",
       "      <td>5.354773e-01</td>\n",
       "      <td>2.626465e+00</td>\n",
       "      <td>2.891125e+07</td>\n",
       "      <td>1.028475e-01</td>\n",
       "      <td>1.927417e+03</td>\n",
       "    </tr>\n",
       "    <tr>\n",
       "      <th>min</th>\n",
       "      <td>1.000000e+00</td>\n",
       "      <td>1.000000e+00</td>\n",
       "      <td>-9.462700e+01</td>\n",
       "      <td>-1.156000e+02</td>\n",
       "      <td>3.770000e+01</td>\n",
       "      <td>-9.550000e-01</td>\n",
       "      <td>-9.550000e-01</td>\n",
       "      <td>-1.000000e+00</td>\n",
       "      <td>1.000000e+00</td>\n",
       "      <td>0.000000e+00</td>\n",
       "      <td>0.000000e+00</td>\n",
       "      <td>0.000000e+00</td>\n",
       "    </tr>\n",
       "    <tr>\n",
       "      <th>25%</th>\n",
       "      <td>5.180000e+02</td>\n",
       "      <td>8.000000e+00</td>\n",
       "      <td>-4.501800e+01</td>\n",
       "      <td>-5.792500e+01</td>\n",
       "      <td>7.404100e+01</td>\n",
       "      <td>-4.780000e-01</td>\n",
       "      <td>-4.780000e-01</td>\n",
       "      <td>-5.560000e-01</td>\n",
       "      <td>2.500000e+01</td>\n",
       "      <td>2.500466e+07</td>\n",
       "      <td>0.000000e+00</td>\n",
       "      <td>1.666000e+03</td>\n",
       "    </tr>\n",
       "    <tr>\n",
       "      <th>50%</th>\n",
       "      <td>1.036000e+03</td>\n",
       "      <td>1.600000e+01</td>\n",
       "      <td>1.309000e+00</td>\n",
       "      <td>-4.184000e+00</td>\n",
       "      <td>1.217000e+02</td>\n",
       "      <td>0.000000e+00</td>\n",
       "      <td>-0.000000e+00</td>\n",
       "      <td>-2.960000e-01</td>\n",
       "      <td>2.600000e+01</td>\n",
       "      <td>5.004292e+07</td>\n",
       "      <td>0.000000e+00</td>\n",
       "      <td>3.336000e+03</td>\n",
       "    </tr>\n",
       "    <tr>\n",
       "      <th>75%</th>\n",
       "      <td>1.553000e+03</td>\n",
       "      <td>2.400000e+01</td>\n",
       "      <td>4.045200e+01</td>\n",
       "      <td>4.854100e+01</td>\n",
       "      <td>1.602410e+02</td>\n",
       "      <td>4.780000e-01</td>\n",
       "      <td>4.780000e-01</td>\n",
       "      <td>2.960000e-01</td>\n",
       "      <td>2.800000e+01</td>\n",
       "      <td>7.509229e+07</td>\n",
       "      <td>0.000000e+00</td>\n",
       "      <td>5.006000e+03</td>\n",
       "    </tr>\n",
       "    <tr>\n",
       "      <th>max</th>\n",
       "      <td>2.070000e+03</td>\n",
       "      <td>3.100000e+01</td>\n",
       "      <td>9.624300e+01</td>\n",
       "      <td>1.050240e+02</td>\n",
       "      <td>1.966110e+02</td>\n",
       "      <td>9.550000e-01</td>\n",
       "      <td>9.550000e-01</td>\n",
       "      <td>5.580000e-01</td>\n",
       "      <td>2.090000e+02</td>\n",
       "      <td>1.015914e+08</td>\n",
       "      <td>1.000000e+00</td>\n",
       "      <td>6.772000e+03</td>\n",
       "    </tr>\n",
       "  </tbody>\n",
       "</table>\n",
       "</div>"
      ],
      "text/plain": [
       "             dom_id        pmt_id         pos_x         pos_y         pos_z  \\\n",
       "count  4.582022e+07  4.582022e+07  4.582022e+07  4.582022e+07  4.582022e+07   \n",
       "mean   1.035732e+03  1.601316e+01  1.168440e-02 -1.597919e-02  1.171977e+02   \n",
       "std    5.975225e+02  8.942257e+00  5.125232e+01  6.222670e+01  4.865413e+01   \n",
       "min    1.000000e+00  1.000000e+00 -9.462700e+01 -1.156000e+02  3.770000e+01   \n",
       "25%    5.180000e+02  8.000000e+00 -4.501800e+01 -5.792500e+01  7.404100e+01   \n",
       "50%    1.036000e+03  1.600000e+01  1.309000e+00 -4.184000e+00  1.217000e+02   \n",
       "75%    1.553000e+03  2.400000e+01  4.045200e+01  4.854100e+01  1.602410e+02   \n",
       "max    2.070000e+03  3.100000e+01  9.624300e+01  1.050240e+02  1.966110e+02   \n",
       "\n",
       "              dir_x         dir_y         dir_z           tot          time  \\\n",
       "count  4.582022e+07  4.582022e+07  4.582022e+07  4.582022e+07  4.582022e+07   \n",
       "mean   2.011426e-04 -5.647887e-05 -1.950327e-01  2.643196e+01  5.005158e+07   \n",
       "std    5.809819e-01  5.810460e-01  5.354773e-01  2.626465e+00  2.891125e+07   \n",
       "min   -9.550000e-01 -9.550000e-01 -1.000000e+00  1.000000e+00  0.000000e+00   \n",
       "25%   -4.780000e-01 -4.780000e-01 -5.560000e-01  2.500000e+01  2.500466e+07   \n",
       "50%    0.000000e+00 -0.000000e+00 -2.960000e-01  2.600000e+01  5.004292e+07   \n",
       "75%    4.780000e-01  4.780000e-01  2.960000e-01  2.800000e+01  7.509229e+07   \n",
       "max    9.550000e-01  9.550000e-01  5.580000e-01  2.090000e+02  1.015914e+08   \n",
       "\n",
       "              label         group  \n",
       "count  4.582022e+07  4.582022e+07  \n",
       "mean   1.069192e-02  3.336272e+03  \n",
       "std    1.028475e-01  1.927417e+03  \n",
       "min    0.000000e+00  0.000000e+00  \n",
       "25%    0.000000e+00  1.666000e+03  \n",
       "50%    0.000000e+00  3.336000e+03  \n",
       "75%    0.000000e+00  5.006000e+03  \n",
       "max    1.000000e+00  6.772000e+03  "
      ]
     },
     "execution_count": 8,
     "metadata": {},
     "output_type": "execute_result"
    }
   ],
   "source": [
    "data.describe()"
   ]
  },
  {
   "cell_type": "markdown",
   "metadata": {},
   "source": [
    "# Null Values\n",
    "\n",
    "There are no null/na values"
   ]
  },
  {
   "cell_type": "code",
   "execution_count": 9,
   "metadata": {},
   "outputs": [
    {
     "data": {
      "text/plain": [
       "False"
      ]
     },
     "execution_count": 9,
     "metadata": {},
     "output_type": "execute_result"
    }
   ],
   "source": [
    "data.isna().any().any()"
   ]
  },
  {
   "cell_type": "markdown",
   "metadata": {},
   "source": [
    "# Attribute Exploration"
   ]
  },
  {
   "cell_type": "code",
   "execution_count": 20,
   "metadata": {},
   "outputs": [
    {
     "name": "stdout",
     "output_type": "stream",
     "text": [
      "\n",
      " Unique DOM IDs: 2070 \n",
      " Unique PMT IDs: 31 \n",
      " Unique Labels: 2 \n",
      " Unique timeslice groups: 6759\n"
     ]
    }
   ],
   "source": [
    "print(\"\\n Unique DOM IDs: {0} \\n Unique PMT IDs: {1} \\n Unique Labels: {2} \\n Unique timeslice groups: {3}\".format(len(data.dom_id.unique()),\n",
    "                                            len(data.pmt_id.unique()),\n",
    "                                            len(data.label.unique()),\n",
    "                                            len(data.group.unique())))              "
   ]
  },
  {
   "cell_type": "markdown",
   "metadata": {},
   "source": [
    "# Noise:Signal"
   ]
  },
  {
   "cell_type": "code",
   "execution_count": null,
   "metadata": {},
   "outputs": [],
   "source": [
    "signal_len = len(data[data.label == 1]) \n",
    "noise_len = len(data[data.label == 0]) \n",
    "noise_signal_ratio = noise_len / signal_len\n",
    "print(\"The noise:signal ratio is noted to be roughly {0}:{1}\".format(round(noise_signal_ratio), 1))"
   ]
  },
  {
   "cell_type": "markdown",
   "metadata": {},
   "source": [
    "# Groups"
   ]
  },
  {
   "cell_type": "markdown",
   "metadata": {},
   "source": [
    "## Group by `time` and `group`: \n",
    "Which groups have the most data and what time do they fall under"
   ]
  },
  {
   "cell_type": "code",
   "execution_count": 62,
   "metadata": {},
   "outputs": [],
   "source": [
    "df_by_group = data[['time', 'group']].groupby(['group']).count().sort_values(by='time', ascending=False)"
   ]
  },
  {
   "cell_type": "code",
   "execution_count": 63,
   "metadata": {},
   "outputs": [
    {
     "data": {
      "text/html": [
       "<div>\n",
       "<style scoped>\n",
       "    .dataframe tbody tr th:only-of-type {\n",
       "        vertical-align: middle;\n",
       "    }\n",
       "\n",
       "    .dataframe tbody tr th {\n",
       "        vertical-align: top;\n",
       "    }\n",
       "\n",
       "    .dataframe thead th {\n",
       "        text-align: right;\n",
       "    }\n",
       "</style>\n",
       "<table border=\"1\" class=\"dataframe\">\n",
       "  <thead>\n",
       "    <tr style=\"text-align: right;\">\n",
       "      <th></th>\n",
       "      <th>time</th>\n",
       "    </tr>\n",
       "    <tr>\n",
       "      <th>group</th>\n",
       "      <th></th>\n",
       "    </tr>\n",
       "  </thead>\n",
       "  <tbody>\n",
       "    <tr>\n",
       "      <th>0</th>\n",
       "      <td>12454</td>\n",
       "    </tr>\n",
       "    <tr>\n",
       "      <th>1637</th>\n",
       "      <td>8542</td>\n",
       "    </tr>\n",
       "    <tr>\n",
       "      <th>615</th>\n",
       "      <td>8483</td>\n",
       "    </tr>\n",
       "    <tr>\n",
       "      <th>5866</th>\n",
       "      <td>8450</td>\n",
       "    </tr>\n",
       "    <tr>\n",
       "      <th>5857</th>\n",
       "      <td>8313</td>\n",
       "    </tr>\n",
       "    <tr>\n",
       "      <th>...</th>\n",
       "      <td>...</td>\n",
       "    </tr>\n",
       "    <tr>\n",
       "      <th>6765</th>\n",
       "      <td>1</td>\n",
       "    </tr>\n",
       "    <tr>\n",
       "      <th>6766</th>\n",
       "      <td>1</td>\n",
       "    </tr>\n",
       "    <tr>\n",
       "      <th>6767</th>\n",
       "      <td>1</td>\n",
       "    </tr>\n",
       "    <tr>\n",
       "      <th>6769</th>\n",
       "      <td>1</td>\n",
       "    </tr>\n",
       "    <tr>\n",
       "      <th>6754</th>\n",
       "      <td>1</td>\n",
       "    </tr>\n",
       "  </tbody>\n",
       "</table>\n",
       "<p>6759 rows × 1 columns</p>\n",
       "</div>"
      ],
      "text/plain": [
       "        time\n",
       "group       \n",
       "0      12454\n",
       "1637    8542\n",
       "615     8483\n",
       "5866    8450\n",
       "5857    8313\n",
       "...      ...\n",
       "6765       1\n",
       "6766       1\n",
       "6767       1\n",
       "6769       1\n",
       "6754       1\n",
       "\n",
       "[6759 rows x 1 columns]"
      ]
     },
     "execution_count": 63,
     "metadata": {},
     "output_type": "execute_result"
    }
   ],
   "source": [
    "df_by_group"
   ]
  },
  {
   "cell_type": "markdown",
   "metadata": {},
   "source": [
    "## Group by `group` and `label`:\n",
    "##### Q1 Which groups have what kind of events?\n",
    "\n",
    "We can see that group 1 (first timeslice) has highest number of attributes but all noise. Group 1, 6, 9 etc have relatively high hits. Most groups seem to have very low hits given a high noise\n",
    "\n",
    "##### Q2 Which groups have most number of hits?\n",
    "Groups 615 (1692), 1637 (1604), 5866 (1589) have the largest amount of hits data\n",
    "\n",
    "\n",
    "##### TODO:\n",
    "1. Just Hits vs Noise\n",
    "2. timeslice and hits [x]\n",
    "3. timeslice and noise \n",
    "4. timeslice and hits + noise\n"
   ]
  },
  {
   "cell_type": "code",
   "execution_count": 191,
   "metadata": {},
   "outputs": [],
   "source": [
    "df_by_label = data[['group', 'label']].groupby(['group', 'label'])['label'].count()"
   ]
  },
  {
   "cell_type": "code",
   "execution_count": 185,
   "metadata": {},
   "outputs": [
    {
     "data": {
      "text/plain": [
       "group  label\n",
       "0      0        12454\n",
       "1      0         6728\n",
       "       1          188\n",
       "2      0         6803\n",
       "       1            2\n",
       "3      0         6748\n",
       "4      0         6697\n",
       "5      0         6776\n",
       "       1          141\n",
       "6      0         6739\n",
       "Name: label, dtype: int64"
      ]
     },
     "execution_count": 185,
     "metadata": {},
     "output_type": "execute_result"
    }
   ],
   "source": [
    "df_by_label[:10]"
   ]
  },
  {
   "cell_type": "code",
   "execution_count": 110,
   "metadata": {},
   "outputs": [],
   "source": [
    "df_only_hits = data[['group', 'label']][data.label == 1].groupby('group')['label'].count().sort_values(ascending=False)"
   ]
  },
  {
   "cell_type": "code",
   "execution_count": 118,
   "metadata": {},
   "outputs": [
    {
     "data": {
      "text/plain": [
       "group\n",
       "615     1692\n",
       "1637    1604\n",
       "5866    1589\n",
       "5857    1517\n",
       "1232    1413\n",
       "2021    1372\n",
       "554     1312\n",
       "4301    1259\n",
       "1273    1258\n",
       "6495    1247\n",
       "3170    1188\n",
       "6588    1115\n",
       "4958    1107\n",
       "3398    1098\n",
       "5747    1096\n",
       "2211    1043\n",
       "4565    1027\n",
       "1599    1026\n",
       "716      971\n",
       "3483     969\n",
       "Name: label, dtype: int64"
      ]
     },
     "execution_count": 118,
     "metadata": {},
     "output_type": "execute_result"
    }
   ],
   "source": [
    "df_only_hits[:20]"
   ]
  },
  {
   "cell_type": "code",
   "execution_count": 125,
   "metadata": {},
   "outputs": [],
   "source": [
    "df_only_hits = pd.DataFrame(df_only_hits)"
   ]
  },
  {
   "cell_type": "code",
   "execution_count": 133,
   "metadata": {},
   "outputs": [],
   "source": [
    "df_only_hits = df_only_hits.reset_index()"
   ]
  },
  {
   "cell_type": "code",
   "execution_count": 156,
   "metadata": {},
   "outputs": [
    {
     "data": {
      "text/plain": [
       "<seaborn.axisgrid.FacetGrid at 0x1290cc940>"
      ]
     },
     "execution_count": 156,
     "metadata": {},
     "output_type": "execute_result"
    },
    {
     "data": {
      "image/png": "[encoded data removed]",
      "text/plain": [
       "<Figure size 360x360 with 1 Axes>"
      ]
     },
     "metadata": {},
     "output_type": "display_data"
    }
   ],
   "source": [
    "sns.set(style=\"ticks\", color_codes=True)\n",
    "sns.catplot(x='group', y=\"label\", data=df_only_hits[:10])"
   ]
  },
  {
   "cell_type": "code",
   "execution_count": 143,
   "metadata": {},
   "outputs": [
    {
     "data": {
      "text/plain": [
       "<seaborn.axisgrid.JointGrid at 0x127128b70>"
      ]
     },
     "execution_count": 143,
     "metadata": {},
     "output_type": "execute_result"
    },
    {
     "data": {
      "image/png": "[encoded data removed]",
      "text/plain": [
       "<Figure size 432x432 with 3 Axes>"
      ]
     },
     "metadata": {},
     "output_type": "display_data"
    }
   ],
   "source": [
    "sns.jointplot(x='group', y=\"label\", data=df_only_hits)"
   ]
  },
  {
   "cell_type": "code",
   "execution_count": 152,
   "metadata": {},
   "outputs": [
    {
     "data": {
      "text/plain": [
       "<matplotlib.axes._subplots.AxesSubplot at 0x1276c0240>"
      ]
     },
     "execution_count": 152,
     "metadata": {},
     "output_type": "execute_result"
    },
    {
     "data": {
      "image/png": "[encoded data removed]",
      "text/plain": [
       "<Figure size 432x432 with 1 Axes>"
      ]
     },
     "metadata": {},
     "output_type": "display_data"
    }
   ],
   "source": [
    "f, ax = plt.subplots(figsize=(6, 6))\n",
    "cmap = sns.cubehelix_palette(as_cmap=True, dark=0, light=1, reverse=True)\n",
    "sns.kdeplot(df_only_hits[:1000].group, df_only_hits[:1000].label, cmap=cmap, n_levels=60, shade=True)"
   ]
  },
  {
   "cell_type": "code",
   "execution_count": 346,
   "metadata": {},
   "outputs": [],
   "source": [
    "# groups with higest hits vs noise\n",
    "highest_hits = df_only_hits.group[:2]"
   ]
  },
  {
   "cell_type": "code",
   "execution_count": 347,
   "metadata": {},
   "outputs": [],
   "source": [
    "highest_hits_noise = data[data['group'].isin(highest_hits)][['time', 'label', 'group']]"
   ]
  },
  {
   "cell_type": "code",
   "execution_count": 322,
   "metadata": {},
   "outputs": [
    {
     "data": {
      "text/html": [
       "<div>\n",
       "<style scoped>\n",
       "    .dataframe tbody tr th:only-of-type {\n",
       "        vertical-align: middle;\n",
       "    }\n",
       "\n",
       "    .dataframe tbody tr th {\n",
       "        vertical-align: top;\n",
       "    }\n",
       "\n",
       "    .dataframe thead th {\n",
       "        text-align: right;\n",
       "    }\n",
       "</style>\n",
       "<table border=\"1\" class=\"dataframe\">\n",
       "  <thead>\n",
       "    <tr style=\"text-align: right;\">\n",
       "      <th></th>\n",
       "      <th>group</th>\n",
       "      <th>label</th>\n",
       "      <th>count</th>\n",
       "    </tr>\n",
       "  </thead>\n",
       "  <tbody>\n",
       "    <tr>\n",
       "      <th>0</th>\n",
       "      <td>554</td>\n",
       "      <td>0</td>\n",
       "      <td>6884</td>\n",
       "    </tr>\n",
       "    <tr>\n",
       "      <th>1</th>\n",
       "      <td>554</td>\n",
       "      <td>1</td>\n",
       "      <td>1312</td>\n",
       "    </tr>\n",
       "    <tr>\n",
       "      <th>2</th>\n",
       "      <td>615</td>\n",
       "      <td>0</td>\n",
       "      <td>6791</td>\n",
       "    </tr>\n",
       "    <tr>\n",
       "      <th>3</th>\n",
       "      <td>615</td>\n",
       "      <td>1</td>\n",
       "      <td>1692</td>\n",
       "    </tr>\n",
       "    <tr>\n",
       "      <th>4</th>\n",
       "      <td>1232</td>\n",
       "      <td>0</td>\n",
       "      <td>6569</td>\n",
       "    </tr>\n",
       "    <tr>\n",
       "      <th>5</th>\n",
       "      <td>1232</td>\n",
       "      <td>1</td>\n",
       "      <td>1413</td>\n",
       "    </tr>\n",
       "    <tr>\n",
       "      <th>6</th>\n",
       "      <td>1273</td>\n",
       "      <td>0</td>\n",
       "      <td>6899</td>\n",
       "    </tr>\n",
       "    <tr>\n",
       "      <th>7</th>\n",
       "      <td>1273</td>\n",
       "      <td>1</td>\n",
       "      <td>1258</td>\n",
       "    </tr>\n",
       "    <tr>\n",
       "      <th>8</th>\n",
       "      <td>1637</td>\n",
       "      <td>0</td>\n",
       "      <td>6938</td>\n",
       "    </tr>\n",
       "    <tr>\n",
       "      <th>9</th>\n",
       "      <td>1637</td>\n",
       "      <td>1</td>\n",
       "      <td>1604</td>\n",
       "    </tr>\n",
       "    <tr>\n",
       "      <th>10</th>\n",
       "      <td>2021</td>\n",
       "      <td>0</td>\n",
       "      <td>6692</td>\n",
       "    </tr>\n",
       "    <tr>\n",
       "      <th>11</th>\n",
       "      <td>2021</td>\n",
       "      <td>1</td>\n",
       "      <td>1372</td>\n",
       "    </tr>\n",
       "    <tr>\n",
       "      <th>12</th>\n",
       "      <td>4301</td>\n",
       "      <td>0</td>\n",
       "      <td>6789</td>\n",
       "    </tr>\n",
       "    <tr>\n",
       "      <th>13</th>\n",
       "      <td>4301</td>\n",
       "      <td>1</td>\n",
       "      <td>1259</td>\n",
       "    </tr>\n",
       "    <tr>\n",
       "      <th>14</th>\n",
       "      <td>5857</td>\n",
       "      <td>0</td>\n",
       "      <td>6796</td>\n",
       "    </tr>\n",
       "    <tr>\n",
       "      <th>15</th>\n",
       "      <td>5857</td>\n",
       "      <td>1</td>\n",
       "      <td>1517</td>\n",
       "    </tr>\n",
       "    <tr>\n",
       "      <th>16</th>\n",
       "      <td>5866</td>\n",
       "      <td>0</td>\n",
       "      <td>6861</td>\n",
       "    </tr>\n",
       "    <tr>\n",
       "      <th>17</th>\n",
       "      <td>5866</td>\n",
       "      <td>1</td>\n",
       "      <td>1589</td>\n",
       "    </tr>\n",
       "    <tr>\n",
       "      <th>18</th>\n",
       "      <td>6495</td>\n",
       "      <td>0</td>\n",
       "      <td>6756</td>\n",
       "    </tr>\n",
       "    <tr>\n",
       "      <th>19</th>\n",
       "      <td>6495</td>\n",
       "      <td>1</td>\n",
       "      <td>1247</td>\n",
       "    </tr>\n",
       "  </tbody>\n",
       "</table>\n",
       "</div>"
      ],
      "text/plain": [
       "    group  label  count\n",
       "0     554      0   6884\n",
       "1     554      1   1312\n",
       "2     615      0   6791\n",
       "3     615      1   1692\n",
       "4    1232      0   6569\n",
       "5    1232      1   1413\n",
       "6    1273      0   6899\n",
       "7    1273      1   1258\n",
       "8    1637      0   6938\n",
       "9    1637      1   1604\n",
       "10   2021      0   6692\n",
       "11   2021      1   1372\n",
       "12   4301      0   6789\n",
       "13   4301      1   1259\n",
       "14   5857      0   6796\n",
       "15   5857      1   1517\n",
       "16   5866      0   6861\n",
       "17   5866      1   1589\n",
       "18   6495      0   6756\n",
       "19   6495      1   1247"
      ]
     },
     "execution_count": 322,
     "metadata": {},
     "output_type": "execute_result"
    }
   ],
   "source": [
    "highest_hits_noise = pd.DataFrame(highest_hits_noise.groupby(['group', 'label'])['label'].count())\n",
    "highest_hits_noise.columns = ['count']\n",
    "highest_hits_noise = highest_hits_noise.reset_index()\n",
    "highest_hits_noise"
   ]
  },
  {
   "cell_type": "code",
   "execution_count": 348,
   "metadata": {},
   "outputs": [
    {
     "data": {
      "text/plain": [
       "17025"
      ]
     },
     "execution_count": 348,
     "metadata": {},
     "output_type": "execute_result"
    }
   ],
   "source": [
    "len(highest_hits_noise)"
   ]
  },
  {
   "cell_type": "code",
   "execution_count": null,
   "metadata": {},
   "outputs": [],
   "source": [
    "g_highest_hits_noise = sns.catplot(x='group', y=\"time\",\n",
    "                                   hue='label',\n",
    "                                   kind=\"swarm\",\n",
    "                                   data=highest_hits_noise,\n",
    "                                   aspect=1,\n",
    "                                   height=6)\n",
    "\n",
    "\n",
    "g_highest_hits_noise.set_ylabels(\"Time (in ns)\")\n",
    "g_highest_hits_noise.set_xlabels(\"Timeslice groups\")\n",
    "titles = g_highest_hits_noise.axes.flatten()\n",
    "titles[0].set_title(\"Top 20 Timeslice Groups with the highest number of hits\", fontsize=12)\n",
    "new_labels = ['noise', 'hits']\n",
    "for t, l in zip(g_highest_hits_noise._legend.texts, new_labels): t.set_text(l)\n",
    "    \n",
    "plt.savefig(\"../assets/top_groups_noise_vs_hits.png\")"
   ]
  },
  {
   "cell_type": "code",
   "execution_count": 309,
   "metadata": {},
   "outputs": [],
   "source": []
  },
  {
   "cell_type": "markdown",
   "metadata": {},
   "source": [
    "# Positions `pos_x, pos_y, pos_z`"
   ]
  },
  {
   "cell_type": "code",
   "execution_count": null,
   "metadata": {},
   "outputs": [],
   "source": [
    "fig = plt.figure()\n",
    "ax = plt.axes(projection='3d')\n",
    "ax.scatter3D(data[:30000].pos_x, data[:30000].pos_y, data[:30000].pos_z)"
   ]
  },
  {
   "cell_type": "code",
   "execution_count": null,
   "metadata": {},
   "outputs": [],
   "source": [
    "data_dom = data.groupby(['dom_id']).count()"
   ]
  },
  {
   "cell_type": "code",
   "execution_count": null,
   "metadata": {},
   "outputs": [],
   "source": [
    "data_dom['pmt_id'].sort_values(ascending=False)"
   ]
  },
  {
   "cell_type": "markdown",
   "metadata": {},
   "source": [
    "data_dom['pmt_id'].sort_values"
   ]
  },
  {
   "cell_type": "markdown",
   "metadata": {},
   "source": [
    "The Doms with the largest amount of points are chosen for plotting to accommodate for large dataset :\n",
    "1645, 1239, 1138, 1944, 1719"
   ]
  },
  {
   "cell_type": "code",
   "execution_count": null,
   "metadata": {},
   "outputs": [],
   "source": [
    "# distribution of tot\n",
    "# tot per label type"
   ]
  },
  {
   "cell_type": "code",
   "execution_count": null,
   "metadata": {},
   "outputs": [],
   "source": [
    "dom_id_list = [1645, 1239, 1138, 1944, 1719]\n",
    "\n",
    "fig = plt.figure(figsize=(15, 15))\n",
    "fig.suptitle(\"Plot of noise and hits for the top 5 Dom IDs\")\n",
    "\n",
    "ax = fig.add_subplot(321, projection='3d')\n",
    "ax.scatter3D(data[data.dom_id == dom_id_list[0]].pos_x,\n",
    "             data[data.dom_id == dom_id_list[0]].pos_y,\n",
    "            data[data.dom_id == dom_id_list[0]].pos_z)\n",
    "ax.set_title(\"Distribution of 22747 points for Dom ID 1645\")\n",
    "\n",
    "ax = fig.add_subplot(322, projection='3d')\n",
    "ax.scatter3D(data[data.dom_id == dom_id_list[1]].pos_x,\n",
    "             data[data.dom_id == dom_id_list[1]].pos_y,\n",
    "            data[data.dom_id == dom_id_list[1]].pos_z)\n",
    "ax.set_title(\"Distribution of 22658 points for Dom ID 1239\")\n",
    "\n",
    "\n",
    "ax = fig.add_subplot(323, projection='3d')\n",
    "ax.scatter3D(data[data.dom_id == dom_id_list[2]].pos_x,\n",
    "             data[data.dom_id == dom_id_list[2]].pos_y,\n",
    "            data[data.dom_id == dom_id_list[2]].pos_z)\n",
    "ax.set_title(\"Distribution of 22649 points for Dom ID 1138\")\n",
    "\n",
    "\n",
    "ax = fig.add_subplot(324, projection='3d')\n",
    "ax.scatter3D(data[data.dom_id == dom_id_list[3]].pos_x,\n",
    "             data[data.dom_id == dom_id_list[3]].pos_y,\n",
    "            data[data.dom_id == dom_id_list[3]].pos_z)\n",
    "ax.set_title(\"Distribution of 22642 points for Dom ID 1994\")\n",
    "\n",
    "\n",
    "ax = fig.add_subplot(325, projection='3d')\n",
    "ax.scatter3D(data[data.dom_id == dom_id_list[4]].pos_x,\n",
    "             data[data.dom_id == dom_id_list[4]].pos_y,\n",
    "            data[data.dom_id == dom_id_list[4]].pos_z)\n",
    "ax.set_title(\"Distribution of 22613 points for Dom ID 1719\")\n",
    "\n",
    "plt.savefig(\"../assets/pos_per_dom.png\")"
   ]
  },
  {
   "cell_type": "markdown",
   "metadata": {},
   "source": [
    "## Positions x, y, x for Hits"
   ]
  },
  {
   "cell_type": "code",
   "execution_count": null,
   "metadata": {},
   "outputs": [],
   "source": [
    "hits = data[data['label'] == 1]\n",
    "hits.head()"
   ]
  },
  {
   "cell_type": "code",
   "execution_count": null,
   "metadata": {},
   "outputs": [],
   "source": [
    "hits_dom = hits.groupby(['dom_id']).count()\n",
    "hits_dom['pmt_id'].sort_values(ascending=False)"
   ]
  },
  {
   "cell_type": "code",
   "execution_count": null,
   "metadata": {},
   "outputs": [],
   "source": [
    "hits_dom_list = [437, 36]\n",
    "\n",
    "fig = plt.figure(figsize=(15, 5))\n",
    "fig.suptitle(\"Plot of DOMs with Least and Most Hits\")\n",
    "\n",
    "ax = fig.add_subplot(121, projection='3d')\n",
    "ax.scatter3D(hits[hits.dom_id == hits_dom_list[0]].pos_x,\n",
    "             hits[hits.dom_id == hits_dom_list[0]].pos_y,\n",
    "            hits[hits.dom_id == hits_dom_list[0]].pos_z)\n",
    "ax.set_title(\"Distribution of 354 points for Dom ID 437\")\n",
    "\n",
    "ax = fig.add_subplot(122, projection='3d')\n",
    "ax.scatter3D(hits[hits.dom_id == hits_dom_list[1]].pos_x,\n",
    "             hits[hits.dom_id == hits_dom_list[1]].pos_y,\n",
    "            hits[hits.dom_id == hits_dom_list[1]].pos_z)\n",
    "ax.set_title(\"Distribution of 113 points for Dom ID 36\")\n",
    "\n",
    "plt.savefig(\"../assets/hitspos_per_dom.png\")"
   ]
  },
  {
   "cell_type": "markdown",
   "metadata": {},
   "source": [
    "# Doms and PMT IDs"
   ]
  },
  {
   "cell_type": "markdown",
   "metadata": {},
   "source": [
    "len(data.groups.unique)"
   ]
  },
  {
   "cell_type": "code",
   "execution_count": null,
   "metadata": {},
   "outputs": [],
   "source": []
  }
 ],
 "metadata": {
  "kernelspec": {
   "display_name": "km3net",
   "language": "python",
   "name": "km3net"
  },
  "language_info": {
   "codemirror_mode": {
    "name": "ipython",
    "version": 3
   },
   "file_extension": ".py",
   "mimetype": "text/x-python",
   "name": "python",
   "nbconvert_exporter": "python",
   "pygments_lexer": "ipython3",
   "version": "3.7.3"
  }
 },
 "nbformat": 4,
 "nbformat_minor": 2
}
