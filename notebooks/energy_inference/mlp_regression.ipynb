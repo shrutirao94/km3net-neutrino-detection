{
 "cells": [
  {
   "cell_type": "markdown",
   "metadata": {},
   "source": [
    "# Experiment 2: MLP Regression"
   ]
  },
  {
   "cell_type": "code",
   "execution_count": 64,
   "metadata": {},
   "outputs": [],
   "source": [
    "import pickle\n",
    "\n",
    "import pandas as pd\n",
    "import numpy as np\n",
    "import seaborn as sns\n",
    "import matplotlib.pyplot as plt\n",
    "\n",
    "from sklearn.neural_network import MLPRegressor\n",
    "from sklearn.model_selection import train_test_split\n",
    "from sklearn.metrics import mean_squared_error, r2_score\n",
    "from scipy import stats\n",
    "from sklearn.metrics import plot_roc_curve\n",
    "from sklearn import preprocessing\n",
    "from sklearn.preprocessing import StandardScaler"
   ]
  },
  {
   "cell_type": "code",
   "execution_count": 65,
   "metadata": {},
   "outputs": [
    {
     "data": {
      "text/html": [
       "<div>\n",
       "<style scoped>\n",
       "    .dataframe tbody tr th:only-of-type {\n",
       "        vertical-align: middle;\n",
       "    }\n",
       "\n",
       "    .dataframe tbody tr th {\n",
       "        vertical-align: top;\n",
       "    }\n",
       "\n",
       "    .dataframe thead th {\n",
       "        text-align: right;\n",
       "    }\n",
       "</style>\n",
       "<table border=\"1\" class=\"dataframe\">\n",
       "  <thead>\n",
       "    <tr style=\"text-align: right;\">\n",
       "      <th></th>\n",
       "      <th>dom_id</th>\n",
       "      <th>pmt_id</th>\n",
       "      <th>pos_x</th>\n",
       "      <th>pos_y</th>\n",
       "      <th>pos_z</th>\n",
       "      <th>dir_x</th>\n",
       "      <th>dir_y</th>\n",
       "      <th>dir_z</th>\n",
       "      <th>tot</th>\n",
       "      <th>time</th>\n",
       "      <th>energy</th>\n",
       "      <th>label</th>\n",
       "      <th>group</th>\n",
       "    </tr>\n",
       "  </thead>\n",
       "  <tbody>\n",
       "    <tr>\n",
       "      <th>0</th>\n",
       "      <td>1054</td>\n",
       "      <td>32658</td>\n",
       "      <td>-16.064</td>\n",
       "      <td>-76.599</td>\n",
       "      <td>112.441</td>\n",
       "      <td>0.000</td>\n",
       "      <td>0.955</td>\n",
       "      <td>-0.296</td>\n",
       "      <td>35</td>\n",
       "      <td>28449.0</td>\n",
       "      <td>13.415</td>\n",
       "      <td>1</td>\n",
       "      <td>1</td>\n",
       "    </tr>\n",
       "    <tr>\n",
       "      <th>1</th>\n",
       "      <td>1054</td>\n",
       "      <td>32671</td>\n",
       "      <td>-16.208</td>\n",
       "      <td>-76.707</td>\n",
       "      <td>112.611</td>\n",
       "      <td>-0.719</td>\n",
       "      <td>0.415</td>\n",
       "      <td>0.558</td>\n",
       "      <td>24</td>\n",
       "      <td>28450.0</td>\n",
       "      <td>13.415</td>\n",
       "      <td>1</td>\n",
       "      <td>1</td>\n",
       "    </tr>\n",
       "    <tr>\n",
       "      <th>2</th>\n",
       "      <td>1053</td>\n",
       "      <td>32639</td>\n",
       "      <td>-16.064</td>\n",
       "      <td>-76.624</td>\n",
       "      <td>122.011</td>\n",
       "      <td>0.000</td>\n",
       "      <td>0.830</td>\n",
       "      <td>0.558</td>\n",
       "      <td>12</td>\n",
       "      <td>28450.0</td>\n",
       "      <td>13.415</td>\n",
       "      <td>1</td>\n",
       "      <td>1</td>\n",
       "    </tr>\n",
       "    <tr>\n",
       "      <th>3</th>\n",
       "      <td>1054</td>\n",
       "      <td>32670</td>\n",
       "      <td>-16.064</td>\n",
       "      <td>-76.624</td>\n",
       "      <td>112.611</td>\n",
       "      <td>0.000</td>\n",
       "      <td>0.830</td>\n",
       "      <td>0.558</td>\n",
       "      <td>54</td>\n",
       "      <td>28450.0</td>\n",
       "      <td>13.415</td>\n",
       "      <td>1</td>\n",
       "      <td>1</td>\n",
       "    </tr>\n",
       "    <tr>\n",
       "      <th>4</th>\n",
       "      <td>1054</td>\n",
       "      <td>32664</td>\n",
       "      <td>-15.968</td>\n",
       "      <td>-76.625</td>\n",
       "      <td>112.559</td>\n",
       "      <td>0.478</td>\n",
       "      <td>0.827</td>\n",
       "      <td>0.296</td>\n",
       "      <td>47</td>\n",
       "      <td>28451.0</td>\n",
       "      <td>13.415</td>\n",
       "      <td>1</td>\n",
       "      <td>1</td>\n",
       "    </tr>\n",
       "  </tbody>\n",
       "</table>\n",
       "</div>"
      ],
      "text/plain": [
       "   dom_id  pmt_id   pos_x   pos_y    pos_z  dir_x  dir_y  dir_z  tot     time  \\\n",
       "0    1054   32658 -16.064 -76.599  112.441  0.000  0.955 -0.296   35  28449.0   \n",
       "1    1054   32671 -16.208 -76.707  112.611 -0.719  0.415  0.558   24  28450.0   \n",
       "2    1053   32639 -16.064 -76.624  122.011  0.000  0.830  0.558   12  28450.0   \n",
       "3    1054   32670 -16.064 -76.624  112.611  0.000  0.830  0.558   54  28450.0   \n",
       "4    1054   32664 -15.968 -76.625  112.559  0.478  0.827  0.296   47  28451.0   \n",
       "\n",
       "   energy  label  group  \n",
       "0  13.415      1      1  \n",
       "1  13.415      1      1  \n",
       "2  13.415      1      1  \n",
       "3  13.415      1      1  \n",
       "4  13.415      1      1  "
      ]
     },
     "execution_count": 65,
     "metadata": {},
     "output_type": "execute_result"
    }
   ],
   "source": [
    "df = pd.read_csv(\"../../data/energy/df.csv\", )\n",
    "df.head()"
   ]
  },
  {
   "cell_type": "markdown",
   "metadata": {},
   "source": [
    "# Define target and predictors"
   ]
  },
  {
   "cell_type": "code",
   "execution_count": 73,
   "metadata": {},
   "outputs": [],
   "source": [
    "y = df['energy']\n",
    "\n",
    "X = df[['pos_x', 'pos_y', 'pos_z',\n",
    "        'dir_x', 'dir_y', 'dir_z',\n",
    "        'tot', 'time', 'label']]"
   ]
  },
  {
   "cell_type": "code",
   "execution_count": 74,
   "metadata": {},
   "outputs": [
    {
     "name": "stdout",
     "output_type": "stream",
     "text": [
      "SKEW in Target Variable after BOXCOX TRANSFORMATION : 0.024214883060462995\n"
     ]
    },
    {
     "data": {
      "image/png": "[encoded data removed]",
      "text/plain": [
       "<Figure size 432x288 with 1 Axes>"
      ]
     },
     "metadata": {
      "needs_background": "light"
     },
     "output_type": "display_data"
    },
    {
     "data": {
      "image/png": "[encoded data removed]",
      "text/plain": [
       "<Figure size 432x288 with 1 Axes>"
      ]
     },
     "metadata": {
      "needs_background": "light"
     },
     "output_type": "display_data"
    }
   ],
   "source": [
    "boxcox_y,_ = stats.boxcox(y)\n",
    "boxcox_y = pd.Series(boxcox_y)\n",
    "print(\"SKEW in Target Variable after BOXCOX TRANSFORMATION : {}\".format(boxcox_y.skew()))\n",
    "\n",
    "sns.distplot(boxcox_y , fit=stats.norm)\n",
    "fig = plt.figure()\n",
    "res = stats.probplot(boxcox_y,\n",
    "                     dist=stats.norm,\n",
    "                     plot=plt)"
   ]
  },
  {
   "cell_type": "code",
   "execution_count": 75,
   "metadata": {
    "scrolled": true
   },
   "outputs": [],
   "source": [
    "y = boxcox_y"
   ]
  },
  {
   "cell_type": "markdown",
   "metadata": {},
   "source": [
    "# Split Dataset \n",
    "\n",
    "Dataset needs to be split into:\n",
    "1. Main\n",
    "    1. Train\n",
    "    2. Test\n",
    "2. Holdout for Testing on Unseen Data\n",
    "\n",
    "Steps:\n",
    "1. Identify Length of Dataset: `489906`\n",
    "2. `90/10` Split for Main/Holdout Data\n",
    "3. Save Last 10% as Holdout Data\n",
    "    1. for `X`\n",
    "    2. for `y`\n",
    "4. Save first 90% as Main Data\n",
    "    1. for `X`\n",
    "    2. for `y`\n",
    "5. `80/20` Train/Test Split on Main Data"
   ]
  },
  {
   "cell_type": "code",
   "execution_count": 6,
   "metadata": {},
   "outputs": [],
   "source": [
    "# X_train, X_test, y_train, y_test = train_test_split(X, y, random_state=1)"
   ]
  },
  {
   "cell_type": "code",
   "execution_count": 7,
   "metadata": {},
   "outputs": [
    {
     "name": "stdout",
     "output_type": "stream",
     "text": [
      "DATASET LENGTH: 489906\n",
      "MAIN DATASET LENGTH: 440915 \n",
      "HOLDOUT DATASET LENGHT: 48991\n",
      "TRAIN DATA LENGTH: 352732\n",
      "TEST DATA LENGTH: 88183\n"
     ]
    },
    {
     "name": "stderr",
     "output_type": "stream",
     "text": [
      "/Users/shrutirao/Documents/Coding/Thesis/km3net/venv/lib/python3.7/site-packages/pandas/core/frame.py:3997: SettingWithCopyWarning: \n",
      "A value is trying to be set on a copy of a slice from a DataFrame\n",
      "\n",
      "See the caveats in the documentation: https://pandas.pydata.org/pandas-docs/stable/user_guide/indexing.html#returning-a-view-versus-a-copy\n",
      "  errors=errors,\n"
     ]
    }
   ],
   "source": [
    "# (1)\n",
    "df_len = len(df)\n",
    "\n",
    "# (2)\n",
    "main_len = int(round(0.9 * df_len))\n",
    "hold_len = df_len - main_len\n",
    "\n",
    "# (3)\n",
    "hold_X = X[-hold_len:]\n",
    "hold_y = y[-hold_len:]\n",
    "\n",
    "# (4)\n",
    "X.drop(X.tail(hold_len).index, inplace=True)\n",
    "y.drop(y.tail(hold_len).index, inplace=True) \n",
    "\n",
    "# (5)\n",
    "train_len = int(round(0.8 * main_len))\n",
    "test_len = main_len - train_len\n",
    "\n",
    "# (6) Split the data into training/testing sets\n",
    "X_train = X[:-train_len]\n",
    "X_test = X[-test_len:]\n",
    "y_train = y[:-train_len]\n",
    "y_test = y[-test_len:]\n",
    "\n",
    "print(\"DATASET LENGTH: {}\".format(df_len))\n",
    "print(\"MAIN DATASET LENGTH: {} \\nHOLDOUT DATASET LENGHT: {}\".format(main_len, hold_len))\n",
    "print(\"TRAIN DATA LENGTH: {}\".format(train_len))\n",
    "print(\"TEST DATA LENGTH: {}\".format(test_len))"
   ]
  },
  {
   "cell_type": "markdown",
   "metadata": {},
   "source": [
    "# Model"
   ]
  },
  {
   "cell_type": "code",
   "execution_count": 8,
   "metadata": {},
   "outputs": [
    {
     "name": "stdout",
     "output_type": "stream",
     "text": [
      "Iteration 1, loss = 0.32476701\n",
      "Validation score: -0.003791\n",
      "Iteration 2, loss = 0.11189430\n",
      "Validation score: -0.000101\n",
      "Iteration 3, loss = 0.11148416\n",
      "Validation score: -0.008112\n",
      "Iteration 4, loss = 0.11143567\n",
      "Validation score: -0.000132\n",
      "Iteration 5, loss = 0.11106948\n",
      "Validation score: -0.000008\n",
      "Iteration 6, loss = 0.11120188\n",
      "Validation score: -0.003419\n",
      "Iteration 7, loss = 0.11107727\n",
      "Validation score: -0.001299\n",
      "Iteration 8, loss = 0.11120914\n",
      "Validation score: -0.000377\n",
      "Iteration 9, loss = 0.11115335\n",
      "Validation score: -0.000105\n",
      "Iteration 10, loss = 0.11118289\n",
      "Validation score: -0.001384\n",
      "Iteration 11, loss = 0.11100532\n",
      "Validation score: -0.000411\n",
      "Iteration 12, loss = 0.11116434\n",
      "Validation score: -0.006964\n",
      "Iteration 13, loss = 0.11119468\n",
      "Validation score: -0.001373\n",
      "Validation score did not improve more than tol=0.000100 for 10 consecutive epochs. Stopping.\n"
     ]
    }
   ],
   "source": [
    "regr = MLPRegressor(hidden_layer_sizes=(200,),\n",
    "                    activation='logistic',\n",
    "                    solver='adam',\n",
    "                    alpha=0.0001,\n",
    "                    batch_size='auto',\n",
    "                    learning_rate_init=0.001,\n",
    "                    random_state=1,\n",
    "                    max_iter=200,\n",
    "                    verbose=True,\n",
    "                    early_stopping=True)\n",
    "\n",
    "regr.fit(X_train, y_train)\n",
    "\n",
    "y_pred = regr.predict(X_test)"
   ]
  },
  {
   "cell_type": "markdown",
   "metadata": {},
   "source": [
    "# Results"
   ]
  },
  {
   "cell_type": "code",
   "execution_count": null,
   "metadata": {
    "scrolled": true
   },
   "outputs": [],
   "source": [
    "regr.score(X_test, y_test)"
   ]
  },
  {
   "cell_type": "code",
   "execution_count": null,
   "metadata": {
    "scrolled": true
   },
   "outputs": [],
   "source": [
    "# print('Coefficients: \\n {}'.format(regr.coefs_))\n",
    "\n",
    "print('Mean squared error: %.2f'\n",
    "      % mean_squared_error(y_test, y_pred))\n",
    "\n",
    "print('Coefficient of determination (r2): %.2f'\n",
    "      % r2_score(y_test, y_pred))"
   ]
  },
  {
   "cell_type": "code",
   "execution_count": null,
   "metadata": {},
   "outputs": [],
   "source": [
    "fig, (ax1, ax2, ax3, ax4, ax5) = plt.subplots(5, 1, figsize=(15,15))\n",
    "\n",
    "ax1.scatter(X_test['pos_x'], y_test,  color='black')\n",
    "ax1.plot(X_test['pos_x'], y_pred, color='blue', linewidth=3)\n",
    "\n",
    "plt.xticks(())\n",
    "plt.yticks(())\n",
    "\n",
    "ax2.scatter(X_test['pos_y'], y_test,  color='black')\n",
    "ax2.plot(X_test['pos_y'], y_pred, color='blue', linewidth=3)\n",
    "\n",
    "plt.xticks(())\n",
    "plt.yticks(())\n",
    "\n",
    "ax3.scatter(X_test['pos_z'], y_test,  color='black')\n",
    "ax3.plot(X_test['pos_z'], y_pred, color='blue', linewidth=3)\n",
    "\n",
    "plt.xticks(())\n",
    "plt.yticks(())\n",
    "\n",
    "ax4.scatter(X_test['time'], y_test,  color='black')\n",
    "ax4.plot(X_test['time'], y_pred, color='blue', linewidth=3)\n",
    "\n",
    "ax5.scatter(X_test['tot'], y_test,  color='black')\n",
    "ax5.plot(X_test['tot'], y_pred, color='blue', linewidth=3)\n",
    "\n",
    "plt.xticks(())\n",
    "plt.yticks(())"
   ]
  },
  {
   "cell_type": "code",
   "execution_count": null,
   "metadata": {},
   "outputs": [],
   "source": []
  },
  {
   "cell_type": "markdown",
   "metadata": {},
   "source": [
    "# Save Model"
   ]
  },
  {
   "cell_type": "code",
   "execution_count": null,
   "metadata": {},
   "outputs": [],
   "source": [
    "filename = 'finalized_mlp_model.sav'\n",
    "pickle.dump(regr, open(filename, 'wb'))"
   ]
  },
  {
   "cell_type": "markdown",
   "metadata": {},
   "source": [
    "# Unseen Data"
   ]
  },
  {
   "cell_type": "code",
   "execution_count": null,
   "metadata": {},
   "outputs": [],
   "source": [
    "loaded_model = pickle.load(open(filename, 'rb'))\n",
    "result = loaded_model.score(X_test, y_test)\n",
    "print(result)"
   ]
  },
  {
   "cell_type": "code",
   "execution_count": null,
   "metadata": {},
   "outputs": [],
   "source": [
    "Xnew = hold_X\n",
    "ynew = loaded_model.predict(Xnew)"
   ]
  },
  {
   "cell_type": "code",
   "execution_count": null,
   "metadata": {},
   "outputs": [],
   "source": [
    "# for i in range(len(Xnew)):\n",
    "#     print(\"Predicted Values: {} \".format(ynew[i]))"
   ]
  },
  {
   "cell_type": "code",
   "execution_count": null,
   "metadata": {},
   "outputs": [],
   "source": [
    "ynew[:5]"
   ]
  },
  {
   "cell_type": "code",
   "execution_count": null,
   "metadata": {},
   "outputs": [],
   "source": [
    "hold_y[:5]"
   ]
  },
  {
   "cell_type": "code",
   "execution_count": null,
   "metadata": {},
   "outputs": [],
   "source": [
    "# print('Coefficients: \\n {}'.format(loaded_model.coefs_))\n",
    "\n",
    "print('Mean squared error: %.2f'\n",
    "      % mean_squared_error(hold_y, ynew))\n",
    "\n",
    "print('Coefficient of determination: %.2f'\n",
    "      % r2_score(hold_y, ynew))"
   ]
  },
  {
   "cell_type": "markdown",
   "metadata": {},
   "source": [
    "# Results"
   ]
  },
  {
   "cell_type": "markdown",
   "metadata": {},
   "source": [
    "# Tests\n",
    "\n",
    "1. Hidden Layer = `100`\n",
    "```\n",
    "    Mean squared error: 0.46\n",
    "    Coefficient of determination: -0.90\n",
    "```\n",
    "\n",
    "2. Hidden Layer = `200` **<---**\n",
    "```\n",
    "    Mean squared error: 0.25\n",
    "    Coefficient of determination: -0.05\n",
    "```\n",
    "\n",
    "3. Hidden Layer = `500`\n",
    "```\n",
    "    Mean squared error: 0.25\n",
    "    Coefficient of determination: -0.04\n",
    "```\n",
    "\n",
    "4. Hidden Layer = `300`\n",
    "```\n",
    "    Mean squared error: 0.25\n",
    "    Coefficient of determination: -0.05\n",
    "```\n",
    "\n",
    "\n",
    "\n",
    "#### Learning Rate\n",
    "\n",
    "1. Learning Rate = `0.001` **<---**\n",
    "```\n",
    "    Mean squared error: 0.25\n",
    "    Coefficient of determination: -0.05\n",
    "```\n",
    "\n",
    "2. Learning Rate = `0.0001`\n",
    "```\n",
    "    Mean squared error: 0.25\n",
    "    Coefficient of determination: -0.05\n",
    "```\n",
    "\n",
    "2. Learning Rate = `0.01`\n",
    "```\n",
    "    Mean squared error: 0.25\n",
    "    Coefficient of determination: -0.05\n",
    "```\n",
    "\n",
    "#### Activation\n",
    "\n",
    "1. `Logistic` **<---**\n",
    "```\n",
    "    Mean squared error: 0.25\n",
    "    Coefficient of determination: -0.05\n",
    "```\n",
    "\n",
    "2. `Identity`\n",
    "```\n",
    "    Mean squared error: 41637.82\n",
    "    Coefficient of determination: -172321.32\n",
    "```\n",
    "\n",
    "3. `tanh` **<---**\n",
    "``` \n",
    "    Mean squared error: 0.25\n",
    "    Coefficient of determination: -0.05\n",
    "```\n",
    "\n",
    "4. `relu`\n",
    "```\n",
    "    Mean squared error: 4804.49\n",
    "    Coefficient of determination: -19882.86\n",
    "```\n",
    "\n",
    "#### Optimiser\n",
    "\n",
    "1. `adam` **<---**\n",
    "```\n",
    "    Mean squared error: 0.25\n",
    "    Coefficient of determination: -0.05\n",
    "```\n",
    "\n",
    "2. `SGD` **<---**\n",
    "```\n",
    "    Mean squared error: 0.25\n",
    "    Coefficient of determination: -0.05\n",
    "```\n",
    "\n",
    "#### Combinations\n",
    "\n",
    "1. n=200, tanh, sgd, 0.001\n",
    "\n",
    "```\n",
    "    Mean squared error: 0.25\n",
    "    Coefficient of determination: -0.05\n",
    "```\n",
    "\n",
    "2. n=200, tanh, sgd, 0.0001\n",
    "```\n",
    "    Mean squared error: 0.25\n",
    "    Coefficient of determination: -0.05\n",
    "```\n",
    "\n",
    "3. n=200, tanh, adam, 0.0001\n",
    "```\n",
    "    Mean squared error: 0.25\n",
    "    Coefficient of determination: -0.05\n",
    "```\n",
    "\n",
    "4. n=200, tanh, adam, 0.01\n",
    "```\n",
    "    Mean squared error: 0.25\n",
    "    Coefficient of determination: -0.05\n",
    "```\n",
    "\n",
    "5. n=200, tanh, sgd, 0.01\n",
    "```\n",
    "    Throws error\n",
    "```"
   ]
  },
  {
   "cell_type": "markdown",
   "metadata": {},
   "source": [
    "# Final Model Parameters:\n",
    "1. hidden layers = 200\n",
    "2. Optimiser = Adam\n",
    "3. Loss = Logistic\n",
    "4. Learning Rate = 0.001"
   ]
  }
 ],
 "metadata": {
  "kernelspec": {
   "display_name": "km3net",
   "language": "python",
   "name": "km3net"
  },
  "language_info": {
   "codemirror_mode": {
    "name": "ipython",
    "version": 3
   },
   "file_extension": ".py",
   "mimetype": "text/x-python",
   "name": "python",
   "nbconvert_exporter": "python",
   "pygments_lexer": "ipython3",
   "version": "3.7.3"
  }
 },
 "nbformat": 4,
 "nbformat_minor": 4
}
