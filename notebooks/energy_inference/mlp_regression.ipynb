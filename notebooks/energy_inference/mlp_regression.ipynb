{
 "cells": [
  {
   "cell_type": "markdown",
   "metadata": {},
   "source": [
    "# Experiment 2: MLP Regression"
   ]
  },
  {
   "cell_type": "code",
   "execution_count": 1,
   "metadata": {},
   "outputs": [],
   "source": [
    "import pickle\n",
    "\n",
    "import pandas as pd\n",
    "import numpy as np\n",
    "import seaborn as sns\n",
    "import matplotlib.pyplot as plt\n",
    "\n",
    "from sklearn.neural_network import MLPRegressor\n",
    "from sklearn.model_selection import train_test_split\n",
    "from sklearn.metrics import mean_squared_error, r2_score\n",
    "from scipy import stats\n",
    "from sklearn.metrics import plot_roc_curve\n",
    "from sklearn import preprocessing\n",
    "from sklearn.preprocessing import StandardScaler"
   ]
  },
  {
   "cell_type": "code",
   "execution_count": 2,
   "metadata": {},
   "outputs": [
    {
     "data": {
      "text/html": [
       "<div>\n",
       "<style scoped>\n",
       "    .dataframe tbody tr th:only-of-type {\n",
       "        vertical-align: middle;\n",
       "    }\n",
       "\n",
       "    .dataframe tbody tr th {\n",
       "        vertical-align: top;\n",
       "    }\n",
       "\n",
       "    .dataframe thead th {\n",
       "        text-align: right;\n",
       "    }\n",
       "</style>\n",
       "<table border=\"1\" class=\"dataframe\">\n",
       "  <thead>\n",
       "    <tr style=\"text-align: right;\">\n",
       "      <th></th>\n",
       "      <th>dom_id</th>\n",
       "      <th>pmt_id</th>\n",
       "      <th>pos_x</th>\n",
       "      <th>pos_y</th>\n",
       "      <th>pos_z</th>\n",
       "      <th>dir_x</th>\n",
       "      <th>dir_y</th>\n",
       "      <th>dir_z</th>\n",
       "      <th>tot</th>\n",
       "      <th>time</th>\n",
       "      <th>energy</th>\n",
       "      <th>label</th>\n",
       "      <th>group</th>\n",
       "    </tr>\n",
       "  </thead>\n",
       "  <tbody>\n",
       "    <tr>\n",
       "      <th>0</th>\n",
       "      <td>1054</td>\n",
       "      <td>32658</td>\n",
       "      <td>-16.064</td>\n",
       "      <td>-76.599</td>\n",
       "      <td>112.441</td>\n",
       "      <td>0.000</td>\n",
       "      <td>0.955</td>\n",
       "      <td>-0.296</td>\n",
       "      <td>35</td>\n",
       "      <td>28449.0</td>\n",
       "      <td>13.415</td>\n",
       "      <td>1</td>\n",
       "      <td>1</td>\n",
       "    </tr>\n",
       "    <tr>\n",
       "      <th>1</th>\n",
       "      <td>1054</td>\n",
       "      <td>32671</td>\n",
       "      <td>-16.208</td>\n",
       "      <td>-76.707</td>\n",
       "      <td>112.611</td>\n",
       "      <td>-0.719</td>\n",
       "      <td>0.415</td>\n",
       "      <td>0.558</td>\n",
       "      <td>24</td>\n",
       "      <td>28450.0</td>\n",
       "      <td>13.415</td>\n",
       "      <td>1</td>\n",
       "      <td>1</td>\n",
       "    </tr>\n",
       "    <tr>\n",
       "      <th>2</th>\n",
       "      <td>1053</td>\n",
       "      <td>32639</td>\n",
       "      <td>-16.064</td>\n",
       "      <td>-76.624</td>\n",
       "      <td>122.011</td>\n",
       "      <td>0.000</td>\n",
       "      <td>0.830</td>\n",
       "      <td>0.558</td>\n",
       "      <td>12</td>\n",
       "      <td>28450.0</td>\n",
       "      <td>13.415</td>\n",
       "      <td>1</td>\n",
       "      <td>1</td>\n",
       "    </tr>\n",
       "    <tr>\n",
       "      <th>3</th>\n",
       "      <td>1054</td>\n",
       "      <td>32670</td>\n",
       "      <td>-16.064</td>\n",
       "      <td>-76.624</td>\n",
       "      <td>112.611</td>\n",
       "      <td>0.000</td>\n",
       "      <td>0.830</td>\n",
       "      <td>0.558</td>\n",
       "      <td>54</td>\n",
       "      <td>28450.0</td>\n",
       "      <td>13.415</td>\n",
       "      <td>1</td>\n",
       "      <td>1</td>\n",
       "    </tr>\n",
       "    <tr>\n",
       "      <th>4</th>\n",
       "      <td>1054</td>\n",
       "      <td>32664</td>\n",
       "      <td>-15.968</td>\n",
       "      <td>-76.625</td>\n",
       "      <td>112.559</td>\n",
       "      <td>0.478</td>\n",
       "      <td>0.827</td>\n",
       "      <td>0.296</td>\n",
       "      <td>47</td>\n",
       "      <td>28451.0</td>\n",
       "      <td>13.415</td>\n",
       "      <td>1</td>\n",
       "      <td>1</td>\n",
       "    </tr>\n",
       "  </tbody>\n",
       "</table>\n",
       "</div>"
      ],
      "text/plain": [
       "   dom_id  pmt_id   pos_x   pos_y    pos_z  dir_x  dir_y  dir_z  tot     time  \\\n",
       "0    1054   32658 -16.064 -76.599  112.441  0.000  0.955 -0.296   35  28449.0   \n",
       "1    1054   32671 -16.208 -76.707  112.611 -0.719  0.415  0.558   24  28450.0   \n",
       "2    1053   32639 -16.064 -76.624  122.011  0.000  0.830  0.558   12  28450.0   \n",
       "3    1054   32670 -16.064 -76.624  112.611  0.000  0.830  0.558   54  28450.0   \n",
       "4    1054   32664 -15.968 -76.625  112.559  0.478  0.827  0.296   47  28451.0   \n",
       "\n",
       "   energy  label  group  \n",
       "0  13.415      1      1  \n",
       "1  13.415      1      1  \n",
       "2  13.415      1      1  \n",
       "3  13.415      1      1  \n",
       "4  13.415      1      1  "
      ]
     },
     "execution_count": 2,
     "metadata": {},
     "output_type": "execute_result"
    }
   ],
   "source": [
    "df = pd.read_csv(\"../../data/energy/df.csv\", )\n",
    "df.head()"
   ]
  },
  {
   "cell_type": "markdown",
   "metadata": {},
   "source": [
    "# Holdout Set"
   ]
  },
  {
   "cell_type": "code",
   "execution_count": 4,
   "metadata": {},
   "outputs": [],
   "source": [
    "np.random.seed(20)\n",
    "\n",
    "remove_n = 20\n",
    "\n",
    "drop_indices = np.random.choice(df.index, remove_n, replace=False)\n",
    "\n",
    "hold_df = df.iloc[drop_indices]\n",
    "df = df.drop(drop_indices)"
   ]
  },
  {
   "cell_type": "markdown",
   "metadata": {},
   "source": [
    "# Define target and predictors"
   ]
  },
  {
   "cell_type": "code",
   "execution_count": 17,
   "metadata": {},
   "outputs": [],
   "source": [
    "y = df['energy']\n",
    "\n",
    "X = df[['pos_x', 'pos_y', 'pos_z','time']]"
   ]
  },
  {
   "cell_type": "code",
   "execution_count": 18,
   "metadata": {},
   "outputs": [
    {
     "name": "stdout",
     "output_type": "stream",
     "text": [
      "SKEW in Target Variable after BOXCOX TRANSFORMATION : 0.02421098639987086\n"
     ]
    },
    {
     "data": {
      "image/png": "[encoded data removed]",
      "text/plain": [
       "<Figure size 432x288 with 1 Axes>"
      ]
     },
     "metadata": {
      "needs_background": "light"
     },
     "output_type": "display_data"
    },
    {
     "data": {
      "image/png": "[encoded data removed]",
      "text/plain": [
       "<Figure size 432x288 with 1 Axes>"
      ]
     },
     "metadata": {
      "needs_background": "light"
     },
     "output_type": "display_data"
    }
   ],
   "source": [
    "boxcox_y,_ = stats.boxcox(y)\n",
    "boxcox_y = pd.Series(boxcox_y)\n",
    "print(\"SKEW in Target Variable after BOXCOX TRANSFORMATION : {}\".format(boxcox_y.skew()))\n",
    "\n",
    "sns.distplot(boxcox_y , fit=stats.norm)\n",
    "fig = plt.figure()\n",
    "res = stats.probplot(boxcox_y,\n",
    "                     dist=stats.norm,\n",
    "                     plot=plt)"
   ]
  },
  {
   "cell_type": "code",
   "execution_count": 19,
   "metadata": {
    "scrolled": true
   },
   "outputs": [],
   "source": [
    "y = boxcox_y"
   ]
  },
  {
   "cell_type": "markdown",
   "metadata": {},
   "source": [
    "# Split Dataset \n",
    "\n",
    "Dataset needs to be split into:\n",
    "1. Main\n",
    "    1. Train\n",
    "    2. Test\n",
    "2. Holdout for Testing on Unseen Data\n",
    "\n",
    "Steps:\n",
    "1. Identify Length of Dataset: `489906`\n",
    "2. `90/10` Split for Main/Holdout Data\n",
    "3. Save Last 10% as Holdout Data\n",
    "    1. for `X`\n",
    "    2. for `y`\n",
    "4. Save first 90% as Main Data\n",
    "    1. for `X`\n",
    "    2. for `y`\n",
    "5. `80/20` Train/Test Split on Main Data"
   ]
  },
  {
   "cell_type": "code",
   "execution_count": 20,
   "metadata": {},
   "outputs": [],
   "source": [
    "X_train, X_test, y_train, y_test = train_test_split(X, y, random_state=1)"
   ]
  },
  {
   "cell_type": "code",
   "execution_count": 21,
   "metadata": {},
   "outputs": [
    {
     "name": "stdout",
     "output_type": "stream",
     "text": [
      " X TRAIN SHAPE: (367414, 4) \n",
      " X TEST SHAPE: (122472, 4) \n",
      "\n",
      " Y TRAIN SHAPE: (367414,) \n",
      " Y TEST SHAPE: (122472,)\n"
     ]
    }
   ],
   "source": [
    "# # (1)\n",
    "# df_len = len(df)\n",
    "\n",
    "# # (2)\n",
    "# main_len = int(round(0.9 * df_len))\n",
    "# hold_len = df_len - main_len\n",
    "\n",
    "# # (3)\n",
    "# hold_X = X[-hold_len:]\n",
    "# hold_y = y[-hold_len:]\n",
    "\n",
    "# # (4)\n",
    "# X.drop(X.tail(hold_len).index, inplace=True)\n",
    "# y.drop(y.tail(hold_len).index, inplace=True) \n",
    "\n",
    "# # (5)\n",
    "# train_len = int(round(0.8 * main_len))\n",
    "# test_len = main_len - train_len\n",
    "\n",
    "# # (6) Split the data into training/testing sets\n",
    "# X_train = X[:-train_len]\n",
    "# X_test = X[-test_len:]\n",
    "# y_train = y[:-train_len]\n",
    "# y_test = y[-test_len:]\n",
    "\n",
    "print(\" X TRAIN SHAPE: {} \\n X TEST SHAPE: {} \\n\".format(X_train.shape, X_test.shape))\n",
    "print(\" Y TRAIN SHAPE: {} \\n Y TEST SHAPE: {}\".format(y_train.shape, y_test.shape))"
   ]
  },
  {
   "cell_type": "markdown",
   "metadata": {},
   "source": [
    "# Model"
   ]
  },
  {
   "cell_type": "code",
   "execution_count": 22,
   "metadata": {},
   "outputs": [
    {
     "name": "stdout",
     "output_type": "stream",
     "text": [
      "Iteration 1, loss = 0.13012379\n",
      "Validation score: -0.000165\n",
      "Iteration 2, loss = 0.11829766\n",
      "Validation score: -0.000563\n",
      "Iteration 3, loss = 0.11836714\n",
      "Validation score: -0.002113\n",
      "Iteration 4, loss = 0.11827855\n",
      "Validation score: -0.000174\n",
      "Iteration 5, loss = 0.11828765\n",
      "Validation score: -0.001099\n",
      "Iteration 6, loss = 0.11827523\n",
      "Validation score: -0.001902\n",
      "Iteration 7, loss = 0.11817617\n",
      "Validation score: -0.000438\n",
      "Iteration 8, loss = 0.11857668\n",
      "Validation score: -0.000831\n",
      "Iteration 9, loss = 0.11799544\n",
      "Validation score: -0.000730\n",
      "Iteration 10, loss = 0.11901771\n",
      "Validation score: -0.000682\n",
      "Iteration 11, loss = 0.11839209\n",
      "Validation score: -0.000716\n",
      "Iteration 12, loss = 0.11860198\n",
      "Validation score: -0.001586\n",
      "Validation score did not improve more than tol=0.000100 for 10 consecutive epochs. Stopping.\n"
     ]
    }
   ],
   "source": [
    "regr = MLPRegressor(hidden_layer_sizes=(200,),\n",
    "                    activation='logistic',\n",
    "                    solver='adam',\n",
    "                    alpha=0.0001,\n",
    "                    batch_size='auto',\n",
    "                    learning_rate_init=0.001,\n",
    "                    random_state=1,\n",
    "                    max_iter=200,\n",
    "                    verbose=True,\n",
    "                    early_stopping=True)\n",
    "\n",
    "regr.fit(X_train, y_train)\n",
    "\n",
    "y_pred = regr.predict(X_test)"
   ]
  },
  {
   "cell_type": "markdown",
   "metadata": {},
   "source": [
    "# Results"
   ]
  },
  {
   "cell_type": "code",
   "execution_count": 23,
   "metadata": {
    "scrolled": true
   },
   "outputs": [
    {
     "data": {
      "text/plain": [
       "-0.00031814423635712075"
      ]
     },
     "execution_count": 23,
     "metadata": {},
     "output_type": "execute_result"
    }
   ],
   "source": [
    "regr.score(X_test, y_test)"
   ]
  },
  {
   "cell_type": "code",
   "execution_count": 24,
   "metadata": {
    "scrolled": true
   },
   "outputs": [
    {
     "name": "stdout",
     "output_type": "stream",
     "text": [
      "Mean squared error: 0.24\n",
      "Coefficient of determination (r2): -0.00\n"
     ]
    }
   ],
   "source": [
    "# print('Coefficients: \\n {}'.format(regr.coefs_))\n",
    "\n",
    "print('Mean squared error: %.2f'\n",
    "      % mean_squared_error(y_test, y_pred))\n",
    "\n",
    "print('Coefficient of determination (r2): %.2f'\n",
    "      % r2_score(y_test, y_pred))"
   ]
  },
  {
   "cell_type": "code",
   "execution_count": null,
   "metadata": {},
   "outputs": [],
   "source": [
    "fig, (ax1, ax2, ax3, ax4, ax5) = plt.subplots(5, 1, figsize=(15,15))\n",
    "\n",
    "ax1.scatter(X_test['pos_x'], y_test,  color='black')\n",
    "ax1.plot(X_test['pos_x'], y_pred, color='blue', linewidth=3)\n",
    "\n",
    "plt.xticks(())\n",
    "plt.yticks(())\n",
    "\n",
    "ax2.scatter(X_test['pos_y'], y_test,  color='black')\n",
    "ax2.plot(X_test['pos_y'], y_pred, color='blue', linewidth=3)\n",
    "\n",
    "plt.xticks(())\n",
    "plt.yticks(())\n",
    "\n",
    "ax3.scatter(X_test['pos_z'], y_test,  color='black')\n",
    "ax3.plot(X_test['pos_z'], y_pred, color='blue', linewidth=3)\n",
    "\n",
    "plt.xticks(())\n",
    "plt.yticks(())\n",
    "\n",
    "ax4.scatter(X_test['time'], y_test,  color='black')\n",
    "ax4.plot(X_test['time'], y_pred, color='blue', linewidth=3)\n",
    "\n",
    "ax5.scatter(X_test['tot'], y_test,  color='black')\n",
    "ax5.plot(X_test['tot'], y_pred, color='blue', linewidth=3)\n",
    "\n",
    "plt.xticks(())\n",
    "plt.yticks(())"
   ]
  },
  {
   "cell_type": "code",
   "execution_count": null,
   "metadata": {},
   "outputs": [],
   "source": []
  },
  {
   "cell_type": "markdown",
   "metadata": {},
   "source": [
    "# Save Model"
   ]
  },
  {
   "cell_type": "code",
   "execution_count": 25,
   "metadata": {},
   "outputs": [],
   "source": [
    "filename = 'finalized_mlp_model.sav'\n",
    "pickle.dump(regr, open(filename, 'wb'))"
   ]
  },
  {
   "cell_type": "markdown",
   "metadata": {},
   "source": [
    "# Unseen Data"
   ]
  },
  {
   "cell_type": "code",
   "execution_count": 26,
   "metadata": {},
   "outputs": [
    {
     "name": "stdout",
     "output_type": "stream",
     "text": [
      "-0.00031814423635712075\n"
     ]
    }
   ],
   "source": [
    "loaded_model = pickle.load(open(filename, 'rb'))\n",
    "result = loaded_model.score(X_test, y_test)\n",
    "print(result)"
   ]
  },
  {
   "cell_type": "code",
   "execution_count": 27,
   "metadata": {},
   "outputs": [],
   "source": [
    "Xnew = hold_df[['pos_x',\n",
    "               'pos_y',\n",
    "               'pos_z',\n",
    "               'time']]\n",
    "hold_y = hold_df['energy']\n",
    "\n",
    "ynew = loaded_model.predict(Xnew)"
   ]
  },
  {
   "cell_type": "code",
   "execution_count": 28,
   "metadata": {},
   "outputs": [],
   "source": [
    "# for i in range(len(Xnew)):\n",
    "#     print(\"Predicted Values: {} \".format(ynew[i]))"
   ]
  },
  {
   "cell_type": "code",
   "execution_count": 29,
   "metadata": {},
   "outputs": [
    {
     "data": {
      "text/plain": [
       "array([2.90187269, 2.90187269, 2.90187269, 2.90187269, 2.90187269])"
      ]
     },
     "execution_count": 29,
     "metadata": {},
     "output_type": "execute_result"
    }
   ],
   "source": [
    "ynew[:5]"
   ]
  },
  {
   "cell_type": "code",
   "execution_count": 30,
   "metadata": {},
   "outputs": [
    {
     "data": {
      "text/plain": [
       "358818    20.061\n",
       "159680    24.873\n",
       "222390    14.403\n",
       "437957    12.872\n",
       "13266     42.506\n",
       "Name: energy, dtype: float64"
      ]
     },
     "execution_count": 30,
     "metadata": {},
     "output_type": "execute_result"
    }
   ],
   "source": [
    "hold_y[:5]"
   ]
  },
  {
   "cell_type": "code",
   "execution_count": 31,
   "metadata": {},
   "outputs": [
    {
     "name": "stdout",
     "output_type": "stream",
     "text": [
      "Mean squared error: 1150.56\n",
      "Coefficient of determination: -1.92\n"
     ]
    }
   ],
   "source": [
    "# print('Coefficients: \\n {}'.format(loaded_model.coefs_))\n",
    "\n",
    "print('Mean squared error: %.2f'\n",
    "      % mean_squared_error(hold_y, ynew))\n",
    "\n",
    "print('Coefficient of determination: %.2f'\n",
    "      % r2_score(hold_y, ynew))"
   ]
  },
  {
   "cell_type": "markdown",
   "metadata": {},
   "source": [
    "# Results"
   ]
  },
  {
   "cell_type": "markdown",
   "metadata": {},
   "source": [
    "# Tests\n",
    "\n",
    "1. Hidden Layer = `100`\n",
    "```\n",
    "    Mean squared error: 0.46\n",
    "    Coefficient of determination: -0.90\n",
    "```\n",
    "\n",
    "2. Hidden Layer = `200` **<---**\n",
    "```\n",
    "    Mean squared error: 0.25\n",
    "    Coefficient of determination: -0.05\n",
    "```\n",
    "\n",
    "3. Hidden Layer = `500`\n",
    "```\n",
    "    Mean squared error: 0.25\n",
    "    Coefficient of determination: -0.04\n",
    "```\n",
    "\n",
    "4. Hidden Layer = `300`\n",
    "```\n",
    "    Mean squared error: 0.25\n",
    "    Coefficient of determination: -0.05\n",
    "```\n",
    "\n",
    "\n",
    "\n",
    "#### Learning Rate\n",
    "\n",
    "1. Learning Rate = `0.001` **<---**\n",
    "```\n",
    "    Mean squared error: 0.25\n",
    "    Coefficient of determination: -0.05\n",
    "```\n",
    "\n",
    "2. Learning Rate = `0.0001`\n",
    "```\n",
    "    Mean squared error: 0.25\n",
    "    Coefficient of determination: -0.05\n",
    "```\n",
    "\n",
    "2. Learning Rate = `0.01`\n",
    "```\n",
    "    Mean squared error: 0.25\n",
    "    Coefficient of determination: -0.05\n",
    "```\n",
    "\n",
    "#### Activation\n",
    "\n",
    "1. `Logistic` **<---**\n",
    "```\n",
    "    Mean squared error: 0.25\n",
    "    Coefficient of determination: -0.05\n",
    "```\n",
    "\n",
    "2. `Identity`\n",
    "```\n",
    "    Mean squared error: 41637.82\n",
    "    Coefficient of determination: -172321.32\n",
    "```\n",
    "\n",
    "3. `tanh` **<---**\n",
    "``` \n",
    "    Mean squared error: 0.25\n",
    "    Coefficient of determination: -0.05\n",
    "```\n",
    "\n",
    "4. `relu`\n",
    "```\n",
    "    Mean squared error: 4804.49\n",
    "    Coefficient of determination: -19882.86\n",
    "```\n",
    "\n",
    "#### Optimiser\n",
    "\n",
    "1. `adam` **<---**\n",
    "```\n",
    "    Mean squared error: 0.25\n",
    "    Coefficient of determination: -0.05\n",
    "```\n",
    "\n",
    "2. `SGD` **<---**\n",
    "```\n",
    "    Mean squared error: 0.25\n",
    "    Coefficient of determination: -0.05\n",
    "```\n",
    "\n",
    "#### Combinations\n",
    "\n",
    "1. n=200, tanh, sgd, 0.001\n",
    "\n",
    "```\n",
    "    Mean squared error: 0.25\n",
    "    Coefficient of determination: -0.05\n",
    "```\n",
    "\n",
    "2. n=200, tanh, sgd, 0.0001\n",
    "```\n",
    "    Mean squared error: 0.25\n",
    "    Coefficient of determination: -0.05\n",
    "```\n",
    "\n",
    "3. n=200, tanh, adam, 0.0001\n",
    "```\n",
    "    Mean squared error: 0.25\n",
    "    Coefficient of determination: -0.05\n",
    "```\n",
    "\n",
    "4. n=200, tanh, adam, 0.01\n",
    "```\n",
    "    Mean squared error: 0.25\n",
    "    Coefficient of determination: -0.05\n",
    "```\n",
    "\n",
    "5. n=200, tanh, sgd, 0.01\n",
    "```\n",
    "    Throws error\n",
    "```"
   ]
  },
  {
   "cell_type": "markdown",
   "metadata": {},
   "source": [
    "# Final Model Parameters:\n",
    "1. hidden layers = 200\n",
    "2. Optimiser = Adam\n",
    "3. Loss = Logistic\n",
    "4. Learning Rate = 0.001"
   ]
  }
 ],
 "metadata": {
  "kernelspec": {
   "display_name": "km3net",
   "language": "python",
   "name": "km3net"
  },
  "language_info": {
   "codemirror_mode": {
    "name": "ipython",
    "version": 3
   },
   "file_extension": ".py",
   "mimetype": "text/x-python",
   "name": "python",
   "nbconvert_exporter": "python",
   "pygments_lexer": "ipython3",
   "version": "3.7.3"
  }
 },
 "nbformat": 4,
 "nbformat_minor": 4
}
