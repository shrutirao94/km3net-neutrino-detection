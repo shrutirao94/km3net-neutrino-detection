{
 "cells": [
  {
   "cell_type": "markdown",
   "metadata": {},
   "source": [
    "# Experiment 4: Non Linear Regression"
   ]
  },
  {
   "cell_type": "code",
   "execution_count": 119,
   "metadata": {},
   "outputs": [],
   "source": [
    "import pickle\n",
    "\n",
    "import pandas as pd\n",
    "import numpy as np\n",
    "from sklearn import model_selection\n",
    "from sklearn.tree import DecisionTreeRegressor\n",
    "from sklearn.ensemble import RandomForestRegressor\n",
    "from sklearn.metrics import r2_score\n",
    "from sklearn.model_selection import train_test_split\n",
    "from sklearn.metrics import mean_squared_error\n",
    "from math import sqrt\n",
    "import matplotlib.pyplot as plt\n",
    "from sklearn.model_selection import cross_val_score"
   ]
  },
  {
   "cell_type": "code",
   "execution_count": 120,
   "metadata": {},
   "outputs": [
    {
     "data": {
      "text/html": [
       "<div>\n",
       "<style scoped>\n",
       "    .dataframe tbody tr th:only-of-type {\n",
       "        vertical-align: middle;\n",
       "    }\n",
       "\n",
       "    .dataframe tbody tr th {\n",
       "        vertical-align: top;\n",
       "    }\n",
       "\n",
       "    .dataframe thead th {\n",
       "        text-align: right;\n",
       "    }\n",
       "</style>\n",
       "<table border=\"1\" class=\"dataframe\">\n",
       "  <thead>\n",
       "    <tr style=\"text-align: right;\">\n",
       "      <th></th>\n",
       "      <th>dom_id</th>\n",
       "      <th>pmt_id</th>\n",
       "      <th>pos_x</th>\n",
       "      <th>pos_y</th>\n",
       "      <th>pos_z</th>\n",
       "      <th>dir_x</th>\n",
       "      <th>dir_y</th>\n",
       "      <th>dir_z</th>\n",
       "      <th>tot</th>\n",
       "      <th>time</th>\n",
       "      <th>energy</th>\n",
       "      <th>label</th>\n",
       "      <th>group</th>\n",
       "    </tr>\n",
       "  </thead>\n",
       "  <tbody>\n",
       "    <tr>\n",
       "      <th>0</th>\n",
       "      <td>1054</td>\n",
       "      <td>32658</td>\n",
       "      <td>-16.064</td>\n",
       "      <td>-76.599</td>\n",
       "      <td>112.441</td>\n",
       "      <td>0.000</td>\n",
       "      <td>0.955</td>\n",
       "      <td>-0.296</td>\n",
       "      <td>35</td>\n",
       "      <td>28449.0</td>\n",
       "      <td>13.415</td>\n",
       "      <td>1</td>\n",
       "      <td>1</td>\n",
       "    </tr>\n",
       "    <tr>\n",
       "      <th>1</th>\n",
       "      <td>1054</td>\n",
       "      <td>32671</td>\n",
       "      <td>-16.208</td>\n",
       "      <td>-76.707</td>\n",
       "      <td>112.611</td>\n",
       "      <td>-0.719</td>\n",
       "      <td>0.415</td>\n",
       "      <td>0.558</td>\n",
       "      <td>24</td>\n",
       "      <td>28450.0</td>\n",
       "      <td>13.415</td>\n",
       "      <td>1</td>\n",
       "      <td>1</td>\n",
       "    </tr>\n",
       "    <tr>\n",
       "      <th>2</th>\n",
       "      <td>1053</td>\n",
       "      <td>32639</td>\n",
       "      <td>-16.064</td>\n",
       "      <td>-76.624</td>\n",
       "      <td>122.011</td>\n",
       "      <td>0.000</td>\n",
       "      <td>0.830</td>\n",
       "      <td>0.558</td>\n",
       "      <td>12</td>\n",
       "      <td>28450.0</td>\n",
       "      <td>13.415</td>\n",
       "      <td>1</td>\n",
       "      <td>1</td>\n",
       "    </tr>\n",
       "    <tr>\n",
       "      <th>3</th>\n",
       "      <td>1054</td>\n",
       "      <td>32670</td>\n",
       "      <td>-16.064</td>\n",
       "      <td>-76.624</td>\n",
       "      <td>112.611</td>\n",
       "      <td>0.000</td>\n",
       "      <td>0.830</td>\n",
       "      <td>0.558</td>\n",
       "      <td>54</td>\n",
       "      <td>28450.0</td>\n",
       "      <td>13.415</td>\n",
       "      <td>1</td>\n",
       "      <td>1</td>\n",
       "    </tr>\n",
       "    <tr>\n",
       "      <th>4</th>\n",
       "      <td>1054</td>\n",
       "      <td>32664</td>\n",
       "      <td>-15.968</td>\n",
       "      <td>-76.625</td>\n",
       "      <td>112.559</td>\n",
       "      <td>0.478</td>\n",
       "      <td>0.827</td>\n",
       "      <td>0.296</td>\n",
       "      <td>47</td>\n",
       "      <td>28451.0</td>\n",
       "      <td>13.415</td>\n",
       "      <td>1</td>\n",
       "      <td>1</td>\n",
       "    </tr>\n",
       "  </tbody>\n",
       "</table>\n",
       "</div>"
      ],
      "text/plain": [
       "   dom_id  pmt_id   pos_x   pos_y    pos_z  dir_x  dir_y  dir_z  tot     time  \\\n",
       "0    1054   32658 -16.064 -76.599  112.441  0.000  0.955 -0.296   35  28449.0   \n",
       "1    1054   32671 -16.208 -76.707  112.611 -0.719  0.415  0.558   24  28450.0   \n",
       "2    1053   32639 -16.064 -76.624  122.011  0.000  0.830  0.558   12  28450.0   \n",
       "3    1054   32670 -16.064 -76.624  112.611  0.000  0.830  0.558   54  28450.0   \n",
       "4    1054   32664 -15.968 -76.625  112.559  0.478  0.827  0.296   47  28451.0   \n",
       "\n",
       "   energy  label  group  \n",
       "0  13.415      1      1  \n",
       "1  13.415      1      1  \n",
       "2  13.415      1      1  \n",
       "3  13.415      1      1  \n",
       "4  13.415      1      1  "
      ]
     },
     "execution_count": 120,
     "metadata": {},
     "output_type": "execute_result"
    }
   ],
   "source": [
    "df = pd.read_csv(\"../../data/energy/df.csv\", )\n",
    "df.head()"
   ]
  },
  {
   "cell_type": "code",
   "execution_count": 121,
   "metadata": {},
   "outputs": [
    {
     "data": {
      "text/html": [
       "<div>\n",
       "<style scoped>\n",
       "    .dataframe tbody tr th:only-of-type {\n",
       "        vertical-align: middle;\n",
       "    }\n",
       "\n",
       "    .dataframe tbody tr th {\n",
       "        vertical-align: top;\n",
       "    }\n",
       "\n",
       "    .dataframe thead th {\n",
       "        text-align: right;\n",
       "    }\n",
       "</style>\n",
       "<table border=\"1\" class=\"dataframe\">\n",
       "  <thead>\n",
       "    <tr style=\"text-align: right;\">\n",
       "      <th></th>\n",
       "      <th>dom_id</th>\n",
       "      <th>pmt_id</th>\n",
       "      <th>pos_x</th>\n",
       "      <th>pos_y</th>\n",
       "      <th>pos_z</th>\n",
       "      <th>dir_x</th>\n",
       "      <th>dir_y</th>\n",
       "      <th>dir_z</th>\n",
       "      <th>tot</th>\n",
       "      <th>time</th>\n",
       "      <th>energy</th>\n",
       "      <th>label</th>\n",
       "      <th>group</th>\n",
       "    </tr>\n",
       "  </thead>\n",
       "  <tbody>\n",
       "    <tr>\n",
       "      <th>count</th>\n",
       "      <td>489906.000000</td>\n",
       "      <td>489906.000000</td>\n",
       "      <td>489906.000000</td>\n",
       "      <td>489906.000000</td>\n",
       "      <td>489906.000000</td>\n",
       "      <td>489906.000000</td>\n",
       "      <td>489906.000000</td>\n",
       "      <td>489906.000000</td>\n",
       "      <td>489906.000000</td>\n",
       "      <td>4.899060e+05</td>\n",
       "      <td>489906.000000</td>\n",
       "      <td>489906.0</td>\n",
       "      <td>489906.000000</td>\n",
       "    </tr>\n",
       "    <tr>\n",
       "      <th>mean</th>\n",
       "      <td>1048.735653</td>\n",
       "      <td>32496.026419</td>\n",
       "      <td>0.341670</td>\n",
       "      <td>-1.514543</td>\n",
       "      <td>119.205209</td>\n",
       "      <td>0.000912</td>\n",
       "      <td>-0.002101</td>\n",
       "      <td>-0.182805</td>\n",
       "      <td>26.056821</td>\n",
       "      <td>4.893892e+07</td>\n",
       "      <td>37.133466</td>\n",
       "      <td>1.0</td>\n",
       "      <td>3262.098839</td>\n",
       "    </tr>\n",
       "    <tr>\n",
       "      <th>std</th>\n",
       "      <td>592.666757</td>\n",
       "      <td>18372.661240</td>\n",
       "      <td>50.964521</td>\n",
       "      <td>62.401296</td>\n",
       "      <td>47.553276</td>\n",
       "      <td>0.582604</td>\n",
       "      <td>0.583274</td>\n",
       "      <td>0.535609</td>\n",
       "      <td>9.273521</td>\n",
       "      <td>2.905600e+07</td>\n",
       "      <td>24.312587</td>\n",
       "      <td>0.0</td>\n",
       "      <td>1937.060856</td>\n",
       "    </tr>\n",
       "    <tr>\n",
       "      <th>min</th>\n",
       "      <td>1.000000</td>\n",
       "      <td>1.000000</td>\n",
       "      <td>-94.627000</td>\n",
       "      <td>-115.600000</td>\n",
       "      <td>37.700000</td>\n",
       "      <td>-0.955000</td>\n",
       "      <td>-0.955000</td>\n",
       "      <td>-1.000000</td>\n",
       "      <td>1.000000</td>\n",
       "      <td>2.844900e+04</td>\n",
       "      <td>10.002000</td>\n",
       "      <td>1.0</td>\n",
       "      <td>1.000000</td>\n",
       "    </tr>\n",
       "    <tr>\n",
       "      <th>25%</th>\n",
       "      <td>537.000000</td>\n",
       "      <td>16622.000000</td>\n",
       "      <td>-44.772000</td>\n",
       "      <td>-58.113000</td>\n",
       "      <td>74.211000</td>\n",
       "      <td>-0.478000</td>\n",
       "      <td>-0.478000</td>\n",
       "      <td>-0.556000</td>\n",
       "      <td>23.000000</td>\n",
       "      <td>2.393785e+07</td>\n",
       "      <td>16.872000</td>\n",
       "      <td>1.0</td>\n",
       "      <td>1595.000000</td>\n",
       "    </tr>\n",
       "    <tr>\n",
       "      <th>50%</th>\n",
       "      <td>1056.000000</td>\n",
       "      <td>32727.000000</td>\n",
       "      <td>1.424000</td>\n",
       "      <td>-4.581000</td>\n",
       "      <td>121.789000</td>\n",
       "      <td>0.000000</td>\n",
       "      <td>-0.000000</td>\n",
       "      <td>-0.296000</td>\n",
       "      <td>26.000000</td>\n",
       "      <td>4.810140e+07</td>\n",
       "      <td>29.505000</td>\n",
       "      <td>1.0</td>\n",
       "      <td>3206.000000</td>\n",
       "    </tr>\n",
       "    <tr>\n",
       "      <th>75%</th>\n",
       "      <td>1562.000000</td>\n",
       "      <td>48398.750000</td>\n",
       "      <td>40.478000</td>\n",
       "      <td>48.480000</td>\n",
       "      <td>160.241000</td>\n",
       "      <td>0.478000</td>\n",
       "      <td>0.478000</td>\n",
       "      <td>0.296000</td>\n",
       "      <td>28.000000</td>\n",
       "      <td>7.434630e+07</td>\n",
       "      <td>52.643000</td>\n",
       "      <td>1.0</td>\n",
       "      <td>4956.000000</td>\n",
       "    </tr>\n",
       "    <tr>\n",
       "      <th>max</th>\n",
       "      <td>2070.000000</td>\n",
       "      <td>64170.000000</td>\n",
       "      <td>96.243000</td>\n",
       "      <td>105.024000</td>\n",
       "      <td>196.611000</td>\n",
       "      <td>0.955000</td>\n",
       "      <td>0.955000</td>\n",
       "      <td>0.558000</td>\n",
       "      <td>209.000000</td>\n",
       "      <td>9.998601e+07</td>\n",
       "      <td>99.947000</td>\n",
       "      <td>1.0</td>\n",
       "      <td>6665.000000</td>\n",
       "    </tr>\n",
       "  </tbody>\n",
       "</table>\n",
       "</div>"
      ],
      "text/plain": [
       "              dom_id         pmt_id          pos_x          pos_y  \\\n",
       "count  489906.000000  489906.000000  489906.000000  489906.000000   \n",
       "mean     1048.735653   32496.026419       0.341670      -1.514543   \n",
       "std       592.666757   18372.661240      50.964521      62.401296   \n",
       "min         1.000000       1.000000     -94.627000    -115.600000   \n",
       "25%       537.000000   16622.000000     -44.772000     -58.113000   \n",
       "50%      1056.000000   32727.000000       1.424000      -4.581000   \n",
       "75%      1562.000000   48398.750000      40.478000      48.480000   \n",
       "max      2070.000000   64170.000000      96.243000     105.024000   \n",
       "\n",
       "               pos_z          dir_x          dir_y          dir_z  \\\n",
       "count  489906.000000  489906.000000  489906.000000  489906.000000   \n",
       "mean      119.205209       0.000912      -0.002101      -0.182805   \n",
       "std        47.553276       0.582604       0.583274       0.535609   \n",
       "min        37.700000      -0.955000      -0.955000      -1.000000   \n",
       "25%        74.211000      -0.478000      -0.478000      -0.556000   \n",
       "50%       121.789000       0.000000      -0.000000      -0.296000   \n",
       "75%       160.241000       0.478000       0.478000       0.296000   \n",
       "max       196.611000       0.955000       0.955000       0.558000   \n",
       "\n",
       "                 tot          time         energy     label          group  \n",
       "count  489906.000000  4.899060e+05  489906.000000  489906.0  489906.000000  \n",
       "mean       26.056821  4.893892e+07      37.133466       1.0    3262.098839  \n",
       "std         9.273521  2.905600e+07      24.312587       0.0    1937.060856  \n",
       "min         1.000000  2.844900e+04      10.002000       1.0       1.000000  \n",
       "25%        23.000000  2.393785e+07      16.872000       1.0    1595.000000  \n",
       "50%        26.000000  4.810140e+07      29.505000       1.0    3206.000000  \n",
       "75%        28.000000  7.434630e+07      52.643000       1.0    4956.000000  \n",
       "max       209.000000  9.998601e+07      99.947000       1.0    6665.000000  "
      ]
     },
     "execution_count": 121,
     "metadata": {},
     "output_type": "execute_result"
    }
   ],
   "source": [
    "df.describe()"
   ]
  },
  {
   "cell_type": "markdown",
   "metadata": {},
   "source": [
    "# Define target and predictors"
   ]
  },
  {
   "cell_type": "code",
   "execution_count": 122,
   "metadata": {},
   "outputs": [],
   "source": [
    "y = df['energy']\n",
    "\n",
    "# X = df[['pos_x', 'pos_y', 'time']]\n",
    "# X = df[['pos_x', 'pos_z', 'time']]\n",
    "X = df[['pos_y', 'pos_z', 'time']]"
   ]
  },
  {
   "cell_type": "markdown",
   "metadata": {},
   "source": [
    "# Split Dataset \n",
    "\n",
    "Dataset needs to be split into:\n",
    "1. Main\n",
    "    1. Train\n",
    "    2. Test\n",
    "2. Holdout for Testing on Unseen Data"
   ]
  },
  {
   "cell_type": "code",
   "execution_count": 124,
   "metadata": {},
   "outputs": [],
   "source": [
    "n = 20"
   ]
  },
  {
   "cell_type": "code",
   "execution_count": 125,
   "metadata": {},
   "outputs": [
    {
     "name": "stderr",
     "output_type": "stream",
     "text": [
      "/Users/shrutirao/Documents/Coding/Thesis/km3net/venv/lib/python3.7/site-packages/pandas/core/frame.py:3997: SettingWithCopyWarning: \n",
      "A value is trying to be set on a copy of a slice from a DataFrame\n",
      "\n",
      "See the caveats in the documentation: https://pandas.pydata.org/pandas-docs/stable/user_guide/indexing.html#returning-a-view-versus-a-copy\n",
      "  errors=errors,\n"
     ]
    }
   ],
   "source": [
    "hold_X = X[-n:]\n",
    "hold_y = y[-n:]\n",
    "\n",
    "X.drop(X.tail(n).index, inplace=True)\n",
    "y.drop(y.tail(n).index, inplace=True)"
   ]
  },
  {
   "cell_type": "markdown",
   "metadata": {},
   "source": [
    "# Train/Test Split"
   ]
  },
  {
   "cell_type": "code",
   "execution_count": 126,
   "metadata": {},
   "outputs": [
    {
     "name": "stdout",
     "output_type": "stream",
     "text": [
      " X TRAIN SHAPE: (342920, 3) \n",
      " X TEST SHAPE: (146966, 3) \n",
      "\n",
      " Y TRAIN SHAPE: (342920,) \n",
      " Y TEST SHAPE: (146966,)\n"
     ]
    }
   ],
   "source": [
    "X_train, X_test, y_train, y_test = train_test_split(X, y, test_size=0.30, random_state=40)\n",
    "\n",
    "print(\" X TRAIN SHAPE: {} \\n X TEST SHAPE: {} \\n\".format(X_train.shape, X_test.shape))\n",
    "print(\" Y TRAIN SHAPE: {} \\n Y TEST SHAPE: {}\".format(y_train.shape, y_test.shape))"
   ]
  },
  {
   "cell_type": "markdown",
   "metadata": {},
   "source": [
    "# Model 1: Decision Tree"
   ]
  },
  {
   "cell_type": "code",
   "execution_count": 127,
   "metadata": {},
   "outputs": [
    {
     "data": {
      "text/plain": [
       "DecisionTreeRegressor(max_depth=20, random_state=3)"
      ]
     },
     "execution_count": 127,
     "metadata": {},
     "output_type": "execute_result"
    }
   ],
   "source": [
    "dtree = DecisionTreeRegressor(max_depth=20,\n",
    "                              min_samples_leaf=1,\n",
    "                              random_state=3)\n",
    "\n",
    "# scores = cross_val_score(dtree, X_train, y_train, cv=5)\n",
    "\n",
    "dtree.fit(X_train, y_train)"
   ]
  },
  {
   "cell_type": "markdown",
   "metadata": {},
   "source": [
    "# Model 1: Results"
   ]
  },
  {
   "cell_type": "code",
   "execution_count": 128,
   "metadata": {},
   "outputs": [
    {
     "name": "stdout",
     "output_type": "stream",
     "text": [
      "RMSE:  10.254214674034015\n",
      "R2:  0.8220949615963379\n",
      "RMSE:  10.733433530919234\n",
      "R2:  0.8051472529350374\n"
     ]
    }
   ],
   "source": [
    "pred_train_tree = dtree.predict(X_train)\n",
    "print(\"RMSE: \", np.sqrt(mean_squared_error(y_train,pred_train_tree)))\n",
    "print(\"R2: \", r2_score(y_train, pred_train_tree))\n",
    "\n",
    "pred_test_tree = dtree.predict(X_test)\n",
    "print(\"RMSE: \", np.sqrt(mean_squared_error(y_test,pred_test_tree))) \n",
    "print(\"R2: \", r2_score(y_test, pred_test_tree))"
   ]
  },
  {
   "cell_type": "code",
   "execution_count": 103,
   "metadata": {},
   "outputs": [
    {
     "data": {
      "text/plain": [
       "[<matplotlib.lines.Line2D at 0x12132bf60>]"
      ]
     },
     "execution_count": 103,
     "metadata": {},
     "output_type": "execute_result"
    },
    {
     "data": {
      "image/png": "[encoded data removed]",
      "text/plain": [
       "<Figure size 360x360 with 3 Axes>"
      ]
     },
     "metadata": {
      "needs_background": "light"
     },
     "output_type": "display_data"
    }
   ],
   "source": [
    "fig, (ax1, ax2, ax3) = plt.subplots(3, 1, figsize=(5,5))\n",
    "\n",
    "ax1.scatter(X_test['pos_y'], y_test,  color='black')\n",
    "ax1.plot(X_test['pos_y'], pred_test_tree , color='blue', linewidth=1)\n",
    "\n",
    "ax2.scatter(X_test['pos_z'], y_test,  color='black')\n",
    "ax2.plot(X_test['pos_z'], pred_test_tree , color='blue', linewidth=1)\n",
    "\n",
    "ax3.scatter(X_test['time'], y_test,  color='black')\n",
    "ax3.plot(X_test['time'], pred_test_tree , color='blue', linewidth=1)"
   ]
  },
  {
   "cell_type": "markdown",
   "metadata": {},
   "source": [
    "# Save Model"
   ]
  },
  {
   "cell_type": "code",
   "execution_count": 130,
   "metadata": {},
   "outputs": [],
   "source": [
    "filename = 'dtree_model.sav'\n",
    "pickle.dump(dtree, open(filename, 'wb'))"
   ]
  },
  {
   "cell_type": "markdown",
   "metadata": {},
   "source": [
    "# Test on Unseen Data"
   ]
  },
  {
   "cell_type": "code",
   "execution_count": 131,
   "metadata": {},
   "outputs": [
    {
     "name": "stdout",
     "output_type": "stream",
     "text": [
      "0.8051472529350374\n"
     ]
    }
   ],
   "source": [
    "loaded_model = pickle.load(open(filename, 'rb'))\n",
    "result = loaded_model.score(X_test, y_test)\n",
    "print(result)"
   ]
  },
  {
   "cell_type": "code",
   "execution_count": 132,
   "metadata": {},
   "outputs": [],
   "source": [
    "Xnew = hold_X\n",
    "ynew = loaded_model.predict(Xnew)"
   ]
  },
  {
   "cell_type": "code",
   "execution_count": 133,
   "metadata": {},
   "outputs": [
    {
     "data": {
      "text/plain": [
       "array([12.888, 12.888, 12.888, 12.888, 12.888, 12.888, 12.888, 12.888,\n",
       "       12.888, 12.888, 53.298, 11.722, 12.888, 53.298, 12.888, 12.888,\n",
       "       12.888, 53.298, 53.298, 53.298])"
      ]
     },
     "execution_count": 133,
     "metadata": {},
     "output_type": "execute_result"
    }
   ],
   "source": [
    "ynew"
   ]
  },
  {
   "cell_type": "code",
   "execution_count": 134,
   "metadata": {},
   "outputs": [
    {
     "data": {
      "text/plain": [
       "489886    12.888\n",
       "489887    12.888\n",
       "489888    12.888\n",
       "489889    12.888\n",
       "489890    12.888\n",
       "489891    12.888\n",
       "489892    12.888\n",
       "489893    12.888\n",
       "489894    12.888\n",
       "489895    12.888\n",
       "489896    12.888\n",
       "489897    12.888\n",
       "489898    12.888\n",
       "489899    12.888\n",
       "489900    12.888\n",
       "489901    12.888\n",
       "489902    12.888\n",
       "489903    52.453\n",
       "489904    52.453\n",
       "489905    52.453\n",
       "Name: energy, dtype: float64"
      ]
     },
     "execution_count": 134,
     "metadata": {},
     "output_type": "execute_result"
    }
   ],
   "source": [
    "hold_y"
   ]
  },
  {
   "cell_type": "code",
   "execution_count": 135,
   "metadata": {},
   "outputs": [
    {
     "name": "stdout",
     "output_type": "stream",
     "text": [
      "RMSE:  12.785612677928269\n",
      "R2:  0.1809497201917316\n"
     ]
    }
   ],
   "source": [
    "print(\"RMSE: \", np.sqrt(mean_squared_error(hold_y, ynew))) \n",
    "print(\"R2: \", r2_score(hold_y, ynew))"
   ]
  },
  {
   "cell_type": "markdown",
   "metadata": {},
   "source": [
    "# Model2: Random Forest (Bootstrap Aggregation)"
   ]
  },
  {
   "cell_type": "code",
   "execution_count": 136,
   "metadata": {},
   "outputs": [
    {
     "name": "stderr",
     "output_type": "stream",
     "text": [
      "[Parallel(n_jobs=1)]: Using backend SequentialBackend with 1 concurrent workers.\n"
     ]
    },
    {
     "name": "stdout",
     "output_type": "stream",
     "text": [
      "building tree 1 of 50\n"
     ]
    },
    {
     "name": "stderr",
     "output_type": "stream",
     "text": [
      "[Parallel(n_jobs=1)]: Done   1 out of   1 | elapsed:    1.9s remaining:    0.0s\n"
     ]
    },
    {
     "name": "stdout",
     "output_type": "stream",
     "text": [
      "building tree 2 of 50\n",
      "building tree 3 of 50\n",
      "building tree 4 of 50\n",
      "building tree 5 of 50\n",
      "building tree 6 of 50\n",
      "building tree 7 of 50\n",
      "building tree 8 of 50\n",
      "building tree 9 of 50\n",
      "building tree 10 of 50\n",
      "building tree 11 of 50\n",
      "building tree 12 of 50\n",
      "building tree 13 of 50\n",
      "building tree 14 of 50\n",
      "building tree 15 of 50\n",
      "building tree 16 of 50\n",
      "building tree 17 of 50\n",
      "building tree 18 of 50\n",
      "building tree 19 of 50\n",
      "building tree 20 of 50\n",
      "building tree 21 of 50\n",
      "building tree 22 of 50\n",
      "building tree 23 of 50\n",
      "building tree 24 of 50\n",
      "building tree 25 of 50\n",
      "building tree 26 of 50\n",
      "building tree 27 of 50\n",
      "building tree 28 of 50\n",
      "building tree 29 of 50\n",
      "building tree 30 of 50\n",
      "building tree 31 of 50\n",
      "building tree 32 of 50\n",
      "building tree 33 of 50\n",
      "building tree 34 of 50\n",
      "building tree 35 of 50\n",
      "building tree 36 of 50\n",
      "building tree 37 of 50\n",
      "building tree 38 of 50\n",
      "building tree 39 of 50\n",
      "building tree 40 of 50\n",
      "building tree 41 of 50\n",
      "building tree 42 of 50\n",
      "building tree 43 of 50\n",
      "building tree 44 of 50\n",
      "building tree 45 of 50\n",
      "building tree 46 of 50\n",
      "building tree 47 of 50\n",
      "building tree 48 of 50\n",
      "building tree 49 of 50\n",
      "building tree 50 of 50\n"
     ]
    },
    {
     "name": "stderr",
     "output_type": "stream",
     "text": [
      "[Parallel(n_jobs=1)]: Done  50 out of  50 | elapsed:  1.4min finished\n",
      "[Parallel(n_jobs=1)]: Using backend SequentialBackend with 1 concurrent workers.\n",
      "[Parallel(n_jobs=1)]: Done   1 out of   1 | elapsed:    0.2s remaining:    0.0s\n",
      "[Parallel(n_jobs=1)]: Done  50 out of  50 | elapsed:    4.8s finished\n",
      "[Parallel(n_jobs=1)]: Using backend SequentialBackend with 1 concurrent workers.\n",
      "[Parallel(n_jobs=1)]: Done   1 out of   1 | elapsed:    0.0s remaining:    0.0s\n"
     ]
    },
    {
     "name": "stdout",
     "output_type": "stream",
     "text": [
      "RMSE:  1.2816404275818623\n",
      "R2:  0.9972208253888253\n",
      "RMSE:  3.3850630714917114\n",
      "R2:  0.9806196007056827\n"
     ]
    },
    {
     "name": "stderr",
     "output_type": "stream",
     "text": [
      "[Parallel(n_jobs=1)]: Done  50 out of  50 | elapsed:    1.9s finished\n"
     ]
    }
   ],
   "source": [
    "model_rf = RandomForestRegressor(n_estimators=50,\n",
    "                                 oob_score=True,\n",
    "                                 random_state=100,\n",
    "                                verbose=2)\n",
    "\n",
    "model_rf.fit(X_train, y_train) \n",
    "\n",
    "pred_train_rf = model_rf.predict(X_train)\n",
    "\n",
    "print(\"RMSE: \", np.sqrt(mean_squared_error(y_train,pred_train_rf)))\n",
    "print(\"R2: \", r2_score(y_train, pred_train_rf))\n",
    "\n",
    "pred_test_rf = model_rf.predict(X_test)\n",
    "print(\"RMSE: \", np.sqrt(mean_squared_error(y_test,pred_test_rf)))\n",
    "print(\"R2: \", r2_score(y_test, pred_test_rf))"
   ]
  },
  {
   "cell_type": "markdown",
   "metadata": {},
   "source": [
    "# Model2: Results"
   ]
  },
  {
   "cell_type": "code",
   "execution_count": 137,
   "metadata": {
    "scrolled": true
   },
   "outputs": [
    {
     "name": "stderr",
     "output_type": "stream",
     "text": [
      "[Parallel(n_jobs=1)]: Using backend SequentialBackend with 1 concurrent workers.\n",
      "[Parallel(n_jobs=1)]: Done   1 out of   1 | elapsed:    0.1s remaining:    0.0s\n",
      "[Parallel(n_jobs=1)]: Done  50 out of  50 | elapsed:    2.0s finished\n"
     ]
    },
    {
     "data": {
      "text/plain": [
       "0.9806196007056827"
      ]
     },
     "execution_count": 137,
     "metadata": {},
     "output_type": "execute_result"
    }
   ],
   "source": [
    "model_rf.score(X_test, y_test)"
   ]
  },
  {
   "cell_type": "code",
   "execution_count": 138,
   "metadata": {},
   "outputs": [
    {
     "data": {
      "text/plain": [
       "[<matplotlib.lines.Line2D at 0x1211d7a20>]"
      ]
     },
     "execution_count": 138,
     "metadata": {},
     "output_type": "execute_result"
    },
    {
     "data": {
      "image/png": "[encoded data removed]",
      "text/plain": [
       "<Figure size 360x360 with 3 Axes>"
      ]
     },
     "metadata": {
      "needs_background": "light"
     },
     "output_type": "display_data"
    }
   ],
   "source": [
    "fig, (ax1, ax2, ax3) = plt.subplots(3, 1, figsize=(5,5))\n",
    "\n",
    "ax1.scatter(X_test['pos_y'], y_test,  color='black')\n",
    "ax1.plot(X_test['pos_y'], pred_test_rf, color='blue', linewidth=3)\n",
    "\n",
    "ax2.scatter(X_test['pos_z'], y_test,  color='black')\n",
    "ax2.plot(X_test['pos_z'], pred_test_rf, color='blue', linewidth=3)\n",
    "\n",
    "\n",
    "ax3.scatter(X_test['time'], y_test,  color='black')\n",
    "ax3.plot(X_test['time'], pred_test_rf, color='blue', linewidth=3)"
   ]
  },
  {
   "cell_type": "markdown",
   "metadata": {},
   "source": [
    "# Save Model"
   ]
  },
  {
   "cell_type": "code",
   "execution_count": 139,
   "metadata": {},
   "outputs": [],
   "source": [
    "filename = 'rf_model.sav'\n",
    "pickle.dump(model_rf, open(filename, 'wb'))"
   ]
  },
  {
   "cell_type": "markdown",
   "metadata": {},
   "source": [
    "# Unseen Data"
   ]
  },
  {
   "cell_type": "code",
   "execution_count": 140,
   "metadata": {},
   "outputs": [
    {
     "name": "stderr",
     "output_type": "stream",
     "text": [
      "[Parallel(n_jobs=1)]: Using backend SequentialBackend with 1 concurrent workers.\n",
      "[Parallel(n_jobs=1)]: Done   1 out of   1 | elapsed:    0.0s remaining:    0.0s\n"
     ]
    },
    {
     "name": "stdout",
     "output_type": "stream",
     "text": [
      "0.9806196007056827\n"
     ]
    },
    {
     "name": "stderr",
     "output_type": "stream",
     "text": [
      "[Parallel(n_jobs=1)]: Done  50 out of  50 | elapsed:    3.5s finished\n"
     ]
    }
   ],
   "source": [
    "loaded_model = pickle.load(open(filename, 'rb'))\n",
    "result = loaded_model.score(X_test, y_test)\n",
    "print(result)"
   ]
  },
  {
   "cell_type": "code",
   "execution_count": 141,
   "metadata": {},
   "outputs": [
    {
     "name": "stderr",
     "output_type": "stream",
     "text": [
      "[Parallel(n_jobs=1)]: Using backend SequentialBackend with 1 concurrent workers.\n",
      "[Parallel(n_jobs=1)]: Done   1 out of   1 | elapsed:    0.0s remaining:    0.0s\n",
      "[Parallel(n_jobs=1)]: Done  50 out of  50 | elapsed:    0.0s finished\n"
     ]
    }
   ],
   "source": [
    "Xnew = hold_X\n",
    "ynew = loaded_model.predict(Xnew)"
   ]
  },
  {
   "cell_type": "code",
   "execution_count": 142,
   "metadata": {},
   "outputs": [
    {
     "data": {
      "text/plain": [
       "array([14.5044 , 12.888  , 12.888  , 13.31872, 12.888  , 12.888  ,\n",
       "       17.83898, 13.31872, 12.888  , 12.888  , 32.822  , 20.9971 ,\n",
       "       12.888  , 33.70942, 21.59834, 12.888  , 14.5044 , 39.63174,\n",
       "       36.23794, 37.0734 ])"
      ]
     },
     "execution_count": 142,
     "metadata": {},
     "output_type": "execute_result"
    }
   ],
   "source": [
    "ynew"
   ]
  },
  {
   "cell_type": "code",
   "execution_count": 143,
   "metadata": {},
   "outputs": [
    {
     "data": {
      "text/plain": [
       "489886    12.888\n",
       "489887    12.888\n",
       "489888    12.888\n",
       "489889    12.888\n",
       "489890    12.888\n",
       "489891    12.888\n",
       "489892    12.888\n",
       "489893    12.888\n",
       "489894    12.888\n",
       "489895    12.888\n",
       "489896    12.888\n",
       "489897    12.888\n",
       "489898    12.888\n",
       "489899    12.888\n",
       "489900    12.888\n",
       "489901    12.888\n",
       "489902    12.888\n",
       "489903    52.453\n",
       "489904    52.453\n",
       "489905    52.453\n",
       "Name: energy, dtype: float64"
      ]
     },
     "execution_count": 143,
     "metadata": {},
     "output_type": "execute_result"
    }
   ],
   "source": [
    "hold_y"
   ]
  },
  {
   "cell_type": "code",
   "execution_count": 144,
   "metadata": {},
   "outputs": [
    {
     "name": "stdout",
     "output_type": "stream",
     "text": [
      "Mean squared error: 9.13\n",
      "Coefficient of determination: 0.58\n"
     ]
    }
   ],
   "source": [
    "print('Mean squared error: %.2f'\n",
    "      % np.sqrt(mean_squared_error(hold_y, ynew)))\n",
    "\n",
    "print('Coefficient of determination: %.2f'\n",
    "      % r2_score(hold_y, ynew))"
   ]
  }
 ],
 "metadata": {
  "kernelspec": {
   "display_name": "km3net",
   "language": "python",
   "name": "km3net"
  },
  "language_info": {
   "codemirror_mode": {
    "name": "ipython",
    "version": 3
   },
   "file_extension": ".py",
   "mimetype": "text/x-python",
   "name": "python",
   "nbconvert_exporter": "python",
   "pygments_lexer": "ipython3",
   "version": "3.7.3"
  }
 },
 "nbformat": 4,
 "nbformat_minor": 4
}
