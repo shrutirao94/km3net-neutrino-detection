{
 "cells": [
  {
   "cell_type": "markdown",
   "metadata": {},
   "source": [
    "# Experiment 4: Non Linear Regression"
   ]
  },
  {
   "cell_type": "code",
   "execution_count": 1,
   "metadata": {},
   "outputs": [],
   "source": [
    "import pickle\n",
    "\n",
    "import pandas as pd\n",
    "import numpy as np\n",
    "from sklearn import model_selection\n",
    "from sklearn.linear_model import LinearRegression\n",
    "from sklearn.linear_model import Ridge\n",
    "from sklearn.linear_model import Lasso\n",
    "from sklearn.linear_model import ElasticNet\n",
    "from sklearn.neighbors import KNeighborsRegressor\n",
    "from sklearn.tree import DecisionTreeRegressor\n",
    "from sklearn.svm import SVR\n",
    "from sklearn.ensemble import RandomForestRegressor\n",
    "from sklearn.metrics import r2_score\n",
    "from sklearn.model_selection import train_test_split\n",
    "from sklearn.metrics import mean_squared_error\n",
    "from math import sqrt\n",
    "import matplotlib.pyplot as plt"
   ]
  },
  {
   "cell_type": "code",
   "execution_count": 2,
   "metadata": {},
   "outputs": [
    {
     "data": {
      "text/html": [
       "<div>\n",
       "<style scoped>\n",
       "    .dataframe tbody tr th:only-of-type {\n",
       "        vertical-align: middle;\n",
       "    }\n",
       "\n",
       "    .dataframe tbody tr th {\n",
       "        vertical-align: top;\n",
       "    }\n",
       "\n",
       "    .dataframe thead th {\n",
       "        text-align: right;\n",
       "    }\n",
       "</style>\n",
       "<table border=\"1\" class=\"dataframe\">\n",
       "  <thead>\n",
       "    <tr style=\"text-align: right;\">\n",
       "      <th></th>\n",
       "      <th>dom_id</th>\n",
       "      <th>pmt_id</th>\n",
       "      <th>pos_x</th>\n",
       "      <th>pos_y</th>\n",
       "      <th>pos_z</th>\n",
       "      <th>dir_x</th>\n",
       "      <th>dir_y</th>\n",
       "      <th>dir_z</th>\n",
       "      <th>tot</th>\n",
       "      <th>time</th>\n",
       "      <th>energy</th>\n",
       "      <th>label</th>\n",
       "      <th>group</th>\n",
       "    </tr>\n",
       "  </thead>\n",
       "  <tbody>\n",
       "    <tr>\n",
       "      <th>0</th>\n",
       "      <td>1054</td>\n",
       "      <td>32658</td>\n",
       "      <td>-16.064</td>\n",
       "      <td>-76.599</td>\n",
       "      <td>112.441</td>\n",
       "      <td>0.000</td>\n",
       "      <td>0.955</td>\n",
       "      <td>-0.296</td>\n",
       "      <td>35</td>\n",
       "      <td>28449.0</td>\n",
       "      <td>13.415</td>\n",
       "      <td>1</td>\n",
       "      <td>1</td>\n",
       "    </tr>\n",
       "    <tr>\n",
       "      <th>1</th>\n",
       "      <td>1054</td>\n",
       "      <td>32671</td>\n",
       "      <td>-16.208</td>\n",
       "      <td>-76.707</td>\n",
       "      <td>112.611</td>\n",
       "      <td>-0.719</td>\n",
       "      <td>0.415</td>\n",
       "      <td>0.558</td>\n",
       "      <td>24</td>\n",
       "      <td>28450.0</td>\n",
       "      <td>13.415</td>\n",
       "      <td>1</td>\n",
       "      <td>1</td>\n",
       "    </tr>\n",
       "    <tr>\n",
       "      <th>2</th>\n",
       "      <td>1053</td>\n",
       "      <td>32639</td>\n",
       "      <td>-16.064</td>\n",
       "      <td>-76.624</td>\n",
       "      <td>122.011</td>\n",
       "      <td>0.000</td>\n",
       "      <td>0.830</td>\n",
       "      <td>0.558</td>\n",
       "      <td>12</td>\n",
       "      <td>28450.0</td>\n",
       "      <td>13.415</td>\n",
       "      <td>1</td>\n",
       "      <td>1</td>\n",
       "    </tr>\n",
       "    <tr>\n",
       "      <th>3</th>\n",
       "      <td>1054</td>\n",
       "      <td>32670</td>\n",
       "      <td>-16.064</td>\n",
       "      <td>-76.624</td>\n",
       "      <td>112.611</td>\n",
       "      <td>0.000</td>\n",
       "      <td>0.830</td>\n",
       "      <td>0.558</td>\n",
       "      <td>54</td>\n",
       "      <td>28450.0</td>\n",
       "      <td>13.415</td>\n",
       "      <td>1</td>\n",
       "      <td>1</td>\n",
       "    </tr>\n",
       "    <tr>\n",
       "      <th>4</th>\n",
       "      <td>1054</td>\n",
       "      <td>32664</td>\n",
       "      <td>-15.968</td>\n",
       "      <td>-76.625</td>\n",
       "      <td>112.559</td>\n",
       "      <td>0.478</td>\n",
       "      <td>0.827</td>\n",
       "      <td>0.296</td>\n",
       "      <td>47</td>\n",
       "      <td>28451.0</td>\n",
       "      <td>13.415</td>\n",
       "      <td>1</td>\n",
       "      <td>1</td>\n",
       "    </tr>\n",
       "  </tbody>\n",
       "</table>\n",
       "</div>"
      ],
      "text/plain": [
       "   dom_id  pmt_id   pos_x   pos_y    pos_z  dir_x  dir_y  dir_z  tot     time  \\\n",
       "0    1054   32658 -16.064 -76.599  112.441  0.000  0.955 -0.296   35  28449.0   \n",
       "1    1054   32671 -16.208 -76.707  112.611 -0.719  0.415  0.558   24  28450.0   \n",
       "2    1053   32639 -16.064 -76.624  122.011  0.000  0.830  0.558   12  28450.0   \n",
       "3    1054   32670 -16.064 -76.624  112.611  0.000  0.830  0.558   54  28450.0   \n",
       "4    1054   32664 -15.968 -76.625  112.559  0.478  0.827  0.296   47  28451.0   \n",
       "\n",
       "   energy  label  group  \n",
       "0  13.415      1      1  \n",
       "1  13.415      1      1  \n",
       "2  13.415      1      1  \n",
       "3  13.415      1      1  \n",
       "4  13.415      1      1  "
      ]
     },
     "execution_count": 2,
     "metadata": {},
     "output_type": "execute_result"
    }
   ],
   "source": [
    "df = pd.read_csv(\"../../data/energy/df.csv\", )\n",
    "df.head()"
   ]
  },
  {
   "cell_type": "code",
   "execution_count": 3,
   "metadata": {},
   "outputs": [
    {
     "data": {
      "text/html": [
       "<div>\n",
       "<style scoped>\n",
       "    .dataframe tbody tr th:only-of-type {\n",
       "        vertical-align: middle;\n",
       "    }\n",
       "\n",
       "    .dataframe tbody tr th {\n",
       "        vertical-align: top;\n",
       "    }\n",
       "\n",
       "    .dataframe thead th {\n",
       "        text-align: right;\n",
       "    }\n",
       "</style>\n",
       "<table border=\"1\" class=\"dataframe\">\n",
       "  <thead>\n",
       "    <tr style=\"text-align: right;\">\n",
       "      <th></th>\n",
       "      <th>dom_id</th>\n",
       "      <th>pmt_id</th>\n",
       "      <th>pos_x</th>\n",
       "      <th>pos_y</th>\n",
       "      <th>pos_z</th>\n",
       "      <th>dir_x</th>\n",
       "      <th>dir_y</th>\n",
       "      <th>dir_z</th>\n",
       "      <th>tot</th>\n",
       "      <th>time</th>\n",
       "      <th>energy</th>\n",
       "      <th>label</th>\n",
       "      <th>group</th>\n",
       "    </tr>\n",
       "  </thead>\n",
       "  <tbody>\n",
       "    <tr>\n",
       "      <th>count</th>\n",
       "      <td>489906.000000</td>\n",
       "      <td>489906.000000</td>\n",
       "      <td>489906.000000</td>\n",
       "      <td>489906.000000</td>\n",
       "      <td>489906.000000</td>\n",
       "      <td>489906.000000</td>\n",
       "      <td>489906.000000</td>\n",
       "      <td>489906.000000</td>\n",
       "      <td>489906.000000</td>\n",
       "      <td>4.899060e+05</td>\n",
       "      <td>489906.000000</td>\n",
       "      <td>489906.0</td>\n",
       "      <td>489906.000000</td>\n",
       "    </tr>\n",
       "    <tr>\n",
       "      <th>mean</th>\n",
       "      <td>1048.735653</td>\n",
       "      <td>32496.026419</td>\n",
       "      <td>0.341670</td>\n",
       "      <td>-1.514543</td>\n",
       "      <td>119.205209</td>\n",
       "      <td>0.000912</td>\n",
       "      <td>-0.002101</td>\n",
       "      <td>-0.182805</td>\n",
       "      <td>26.056821</td>\n",
       "      <td>4.893892e+07</td>\n",
       "      <td>37.133466</td>\n",
       "      <td>1.0</td>\n",
       "      <td>3262.098839</td>\n",
       "    </tr>\n",
       "    <tr>\n",
       "      <th>std</th>\n",
       "      <td>592.666757</td>\n",
       "      <td>18372.661240</td>\n",
       "      <td>50.964521</td>\n",
       "      <td>62.401296</td>\n",
       "      <td>47.553276</td>\n",
       "      <td>0.582604</td>\n",
       "      <td>0.583274</td>\n",
       "      <td>0.535609</td>\n",
       "      <td>9.273521</td>\n",
       "      <td>2.905600e+07</td>\n",
       "      <td>24.312587</td>\n",
       "      <td>0.0</td>\n",
       "      <td>1937.060856</td>\n",
       "    </tr>\n",
       "    <tr>\n",
       "      <th>min</th>\n",
       "      <td>1.000000</td>\n",
       "      <td>1.000000</td>\n",
       "      <td>-94.627000</td>\n",
       "      <td>-115.600000</td>\n",
       "      <td>37.700000</td>\n",
       "      <td>-0.955000</td>\n",
       "      <td>-0.955000</td>\n",
       "      <td>-1.000000</td>\n",
       "      <td>1.000000</td>\n",
       "      <td>2.844900e+04</td>\n",
       "      <td>10.002000</td>\n",
       "      <td>1.0</td>\n",
       "      <td>1.000000</td>\n",
       "    </tr>\n",
       "    <tr>\n",
       "      <th>25%</th>\n",
       "      <td>537.000000</td>\n",
       "      <td>16622.000000</td>\n",
       "      <td>-44.772000</td>\n",
       "      <td>-58.113000</td>\n",
       "      <td>74.211000</td>\n",
       "      <td>-0.478000</td>\n",
       "      <td>-0.478000</td>\n",
       "      <td>-0.556000</td>\n",
       "      <td>23.000000</td>\n",
       "      <td>2.393785e+07</td>\n",
       "      <td>16.872000</td>\n",
       "      <td>1.0</td>\n",
       "      <td>1595.000000</td>\n",
       "    </tr>\n",
       "    <tr>\n",
       "      <th>50%</th>\n",
       "      <td>1056.000000</td>\n",
       "      <td>32727.000000</td>\n",
       "      <td>1.424000</td>\n",
       "      <td>-4.581000</td>\n",
       "      <td>121.789000</td>\n",
       "      <td>0.000000</td>\n",
       "      <td>-0.000000</td>\n",
       "      <td>-0.296000</td>\n",
       "      <td>26.000000</td>\n",
       "      <td>4.810140e+07</td>\n",
       "      <td>29.505000</td>\n",
       "      <td>1.0</td>\n",
       "      <td>3206.000000</td>\n",
       "    </tr>\n",
       "    <tr>\n",
       "      <th>75%</th>\n",
       "      <td>1562.000000</td>\n",
       "      <td>48398.750000</td>\n",
       "      <td>40.478000</td>\n",
       "      <td>48.480000</td>\n",
       "      <td>160.241000</td>\n",
       "      <td>0.478000</td>\n",
       "      <td>0.478000</td>\n",
       "      <td>0.296000</td>\n",
       "      <td>28.000000</td>\n",
       "      <td>7.434630e+07</td>\n",
       "      <td>52.643000</td>\n",
       "      <td>1.0</td>\n",
       "      <td>4956.000000</td>\n",
       "    </tr>\n",
       "    <tr>\n",
       "      <th>max</th>\n",
       "      <td>2070.000000</td>\n",
       "      <td>64170.000000</td>\n",
       "      <td>96.243000</td>\n",
       "      <td>105.024000</td>\n",
       "      <td>196.611000</td>\n",
       "      <td>0.955000</td>\n",
       "      <td>0.955000</td>\n",
       "      <td>0.558000</td>\n",
       "      <td>209.000000</td>\n",
       "      <td>9.998601e+07</td>\n",
       "      <td>99.947000</td>\n",
       "      <td>1.0</td>\n",
       "      <td>6665.000000</td>\n",
       "    </tr>\n",
       "  </tbody>\n",
       "</table>\n",
       "</div>"
      ],
      "text/plain": [
       "              dom_id         pmt_id          pos_x          pos_y  \\\n",
       "count  489906.000000  489906.000000  489906.000000  489906.000000   \n",
       "mean     1048.735653   32496.026419       0.341670      -1.514543   \n",
       "std       592.666757   18372.661240      50.964521      62.401296   \n",
       "min         1.000000       1.000000     -94.627000    -115.600000   \n",
       "25%       537.000000   16622.000000     -44.772000     -58.113000   \n",
       "50%      1056.000000   32727.000000       1.424000      -4.581000   \n",
       "75%      1562.000000   48398.750000      40.478000      48.480000   \n",
       "max      2070.000000   64170.000000      96.243000     105.024000   \n",
       "\n",
       "               pos_z          dir_x          dir_y          dir_z  \\\n",
       "count  489906.000000  489906.000000  489906.000000  489906.000000   \n",
       "mean      119.205209       0.000912      -0.002101      -0.182805   \n",
       "std        47.553276       0.582604       0.583274       0.535609   \n",
       "min        37.700000      -0.955000      -0.955000      -1.000000   \n",
       "25%        74.211000      -0.478000      -0.478000      -0.556000   \n",
       "50%       121.789000       0.000000      -0.000000      -0.296000   \n",
       "75%       160.241000       0.478000       0.478000       0.296000   \n",
       "max       196.611000       0.955000       0.955000       0.558000   \n",
       "\n",
       "                 tot          time         energy     label          group  \n",
       "count  489906.000000  4.899060e+05  489906.000000  489906.0  489906.000000  \n",
       "mean       26.056821  4.893892e+07      37.133466       1.0    3262.098839  \n",
       "std         9.273521  2.905600e+07      24.312587       0.0    1937.060856  \n",
       "min         1.000000  2.844900e+04      10.002000       1.0       1.000000  \n",
       "25%        23.000000  2.393785e+07      16.872000       1.0    1595.000000  \n",
       "50%        26.000000  4.810140e+07      29.505000       1.0    3206.000000  \n",
       "75%        28.000000  7.434630e+07      52.643000       1.0    4956.000000  \n",
       "max       209.000000  9.998601e+07      99.947000       1.0    6665.000000  "
      ]
     },
     "execution_count": 3,
     "metadata": {},
     "output_type": "execute_result"
    }
   ],
   "source": [
    "df.describe()"
   ]
  },
  {
   "cell_type": "markdown",
   "metadata": {},
   "source": [
    "# Define target and predictors"
   ]
  },
  {
   "cell_type": "code",
   "execution_count": 11,
   "metadata": {},
   "outputs": [
    {
     "data": {
      "text/html": [
       "<div>\n",
       "<style scoped>\n",
       "    .dataframe tbody tr th:only-of-type {\n",
       "        vertical-align: middle;\n",
       "    }\n",
       "\n",
       "    .dataframe tbody tr th {\n",
       "        vertical-align: top;\n",
       "    }\n",
       "\n",
       "    .dataframe thead th {\n",
       "        text-align: right;\n",
       "    }\n",
       "</style>\n",
       "<table border=\"1\" class=\"dataframe\">\n",
       "  <thead>\n",
       "    <tr style=\"text-align: right;\">\n",
       "      <th></th>\n",
       "      <th>dom_id</th>\n",
       "      <th>pmt_id</th>\n",
       "      <th>pos_x</th>\n",
       "      <th>pos_y</th>\n",
       "      <th>pos_z</th>\n",
       "      <th>dir_x</th>\n",
       "      <th>dir_y</th>\n",
       "      <th>dir_z</th>\n",
       "      <th>tot</th>\n",
       "      <th>time</th>\n",
       "      <th>energy</th>\n",
       "      <th>label</th>\n",
       "      <th>group</th>\n",
       "    </tr>\n",
       "  </thead>\n",
       "  <tbody>\n",
       "    <tr>\n",
       "      <th>count</th>\n",
       "      <td>489906.000000</td>\n",
       "      <td>489906.000000</td>\n",
       "      <td>489906.000000</td>\n",
       "      <td>489906.000000</td>\n",
       "      <td>489906.000000</td>\n",
       "      <td>489906.000000</td>\n",
       "      <td>489906.000000</td>\n",
       "      <td>489906.000000</td>\n",
       "      <td>489906.000000</td>\n",
       "      <td>489906.000000</td>\n",
       "      <td>489906.000000</td>\n",
       "      <td>489906.0</td>\n",
       "      <td>489906.000000</td>\n",
       "    </tr>\n",
       "    <tr>\n",
       "      <th>mean</th>\n",
       "      <td>0.506636</td>\n",
       "      <td>0.506405</td>\n",
       "      <td>0.003550</td>\n",
       "      <td>-0.014421</td>\n",
       "      <td>0.606300</td>\n",
       "      <td>0.000955</td>\n",
       "      <td>-0.002200</td>\n",
       "      <td>-0.327607</td>\n",
       "      <td>0.124674</td>\n",
       "      <td>0.489458</td>\n",
       "      <td>37.133466</td>\n",
       "      <td>1.0</td>\n",
       "      <td>0.489437</td>\n",
       "    </tr>\n",
       "    <tr>\n",
       "      <th>std</th>\n",
       "      <td>0.286312</td>\n",
       "      <td>0.286312</td>\n",
       "      <td>0.529540</td>\n",
       "      <td>0.594162</td>\n",
       "      <td>0.241865</td>\n",
       "      <td>0.610056</td>\n",
       "      <td>0.610758</td>\n",
       "      <td>0.959873</td>\n",
       "      <td>0.044371</td>\n",
       "      <td>0.290601</td>\n",
       "      <td>24.312587</td>\n",
       "      <td>0.0</td>\n",
       "      <td>0.290632</td>\n",
       "    </tr>\n",
       "    <tr>\n",
       "      <th>min</th>\n",
       "      <td>0.000483</td>\n",
       "      <td>0.000016</td>\n",
       "      <td>-0.983209</td>\n",
       "      <td>-1.100701</td>\n",
       "      <td>0.191749</td>\n",
       "      <td>-1.000000</td>\n",
       "      <td>-1.000000</td>\n",
       "      <td>-1.792115</td>\n",
       "      <td>0.004785</td>\n",
       "      <td>0.000285</td>\n",
       "      <td>10.002000</td>\n",
       "      <td>1.0</td>\n",
       "      <td>0.000150</td>\n",
       "    </tr>\n",
       "    <tr>\n",
       "      <th>25%</th>\n",
       "      <td>0.259420</td>\n",
       "      <td>0.259031</td>\n",
       "      <td>-0.465197</td>\n",
       "      <td>-0.553331</td>\n",
       "      <td>0.377451</td>\n",
       "      <td>-0.500524</td>\n",
       "      <td>-0.500524</td>\n",
       "      <td>-0.996416</td>\n",
       "      <td>0.110048</td>\n",
       "      <td>0.239412</td>\n",
       "      <td>16.872000</td>\n",
       "      <td>1.0</td>\n",
       "      <td>0.239310</td>\n",
       "    </tr>\n",
       "    <tr>\n",
       "      <th>50%</th>\n",
       "      <td>0.510145</td>\n",
       "      <td>0.510005</td>\n",
       "      <td>0.014796</td>\n",
       "      <td>-0.043619</td>\n",
       "      <td>0.619441</td>\n",
       "      <td>0.000000</td>\n",
       "      <td>-0.000000</td>\n",
       "      <td>-0.530466</td>\n",
       "      <td>0.124402</td>\n",
       "      <td>0.481081</td>\n",
       "      <td>29.505000</td>\n",
       "      <td>1.0</td>\n",
       "      <td>0.481020</td>\n",
       "    </tr>\n",
       "    <tr>\n",
       "      <th>75%</th>\n",
       "      <td>0.754589</td>\n",
       "      <td>0.754227</td>\n",
       "      <td>0.420581</td>\n",
       "      <td>0.461609</td>\n",
       "      <td>0.815015</td>\n",
       "      <td>0.500524</td>\n",
       "      <td>0.500524</td>\n",
       "      <td>0.530466</td>\n",
       "      <td>0.133971</td>\n",
       "      <td>0.743567</td>\n",
       "      <td>52.643000</td>\n",
       "      <td>1.0</td>\n",
       "      <td>0.743586</td>\n",
       "    </tr>\n",
       "    <tr>\n",
       "      <th>max</th>\n",
       "      <td>1.000000</td>\n",
       "      <td>1.000000</td>\n",
       "      <td>1.000000</td>\n",
       "      <td>1.000000</td>\n",
       "      <td>1.000000</td>\n",
       "      <td>1.000000</td>\n",
       "      <td>1.000000</td>\n",
       "      <td>1.000000</td>\n",
       "      <td>1.000000</td>\n",
       "      <td>1.000000</td>\n",
       "      <td>99.947000</td>\n",
       "      <td>1.0</td>\n",
       "      <td>1.000000</td>\n",
       "    </tr>\n",
       "  </tbody>\n",
       "</table>\n",
       "</div>"
      ],
      "text/plain": [
       "              dom_id         pmt_id          pos_x          pos_y  \\\n",
       "count  489906.000000  489906.000000  489906.000000  489906.000000   \n",
       "mean        0.506636       0.506405       0.003550      -0.014421   \n",
       "std         0.286312       0.286312       0.529540       0.594162   \n",
       "min         0.000483       0.000016      -0.983209      -1.100701   \n",
       "25%         0.259420       0.259031      -0.465197      -0.553331   \n",
       "50%         0.510145       0.510005       0.014796      -0.043619   \n",
       "75%         0.754589       0.754227       0.420581       0.461609   \n",
       "max         1.000000       1.000000       1.000000       1.000000   \n",
       "\n",
       "               pos_z          dir_x          dir_y          dir_z  \\\n",
       "count  489906.000000  489906.000000  489906.000000  489906.000000   \n",
       "mean        0.606300       0.000955      -0.002200      -0.327607   \n",
       "std         0.241865       0.610056       0.610758       0.959873   \n",
       "min         0.191749      -1.000000      -1.000000      -1.792115   \n",
       "25%         0.377451      -0.500524      -0.500524      -0.996416   \n",
       "50%         0.619441       0.000000      -0.000000      -0.530466   \n",
       "75%         0.815015       0.500524       0.500524       0.530466   \n",
       "max         1.000000       1.000000       1.000000       1.000000   \n",
       "\n",
       "                 tot           time         energy     label          group  \n",
       "count  489906.000000  489906.000000  489906.000000  489906.0  489906.000000  \n",
       "mean        0.124674       0.489458      37.133466       1.0       0.489437  \n",
       "std         0.044371       0.290601      24.312587       0.0       0.290632  \n",
       "min         0.004785       0.000285      10.002000       1.0       0.000150  \n",
       "25%         0.110048       0.239412      16.872000       1.0       0.239310  \n",
       "50%         0.124402       0.481081      29.505000       1.0       0.481020  \n",
       "75%         0.133971       0.743567      52.643000       1.0       0.743586  \n",
       "max         1.000000       1.000000      99.947000       1.0       1.000000  "
      ]
     },
     "execution_count": 11,
     "metadata": {},
     "output_type": "execute_result"
    }
   ],
   "source": [
    "target_column = ['energy'] \n",
    "predictors = list(set(list(df.columns))-set(target_column))\n",
    "df[predictors] = df[predictors]/df[predictors].max()\n",
    "df.describe()"
   ]
  },
  {
   "cell_type": "markdown",
   "metadata": {},
   "source": [
    "# Split Dataset \n",
    "\n",
    "Dataset needs to be split into:\n",
    "1. Main\n",
    "    1. Train\n",
    "    2. Test\n",
    "2. Holdout for Testing on Unseen Data\n",
    "\n",
    "Steps:\n",
    "1. Identify Length of Dataset: `489906`\n",
    "2. `90/10` Split for Main/Holdout Data\n",
    "3. Save Last 10% as Holdout Data\n",
    "    1. for `X`\n",
    "    2. for `y`\n",
    "4. Save first 90% as Main Data\n",
    "    1. for `X`\n",
    "    2. for `y`\n",
    "5. `80/20` Train/Test Split on Main Data"
   ]
  },
  {
   "cell_type": "code",
   "execution_count": 12,
   "metadata": {},
   "outputs": [
    {
     "name": "stdout",
     "output_type": "stream",
     "text": [
      "(342934, 12)\n",
      "(146972, 12)\n"
     ]
    }
   ],
   "source": [
    "X = df[predictors].values\n",
    "y = df[target_column].values\n",
    "\n",
    "X_train, X_test, y_train, y_test = train_test_split(X, y, test_size=0.30, random_state=40)\n",
    "print(X_train.shape); print(X_test.shape)"
   ]
  },
  {
   "cell_type": "markdown",
   "metadata": {},
   "source": [
    "# Decision Tree"
   ]
  },
  {
   "cell_type": "code",
   "execution_count": 33,
   "metadata": {},
   "outputs": [
    {
     "data": {
      "text/plain": [
       "DecisionTreeRegressor(max_depth=100, random_state=3)"
      ]
     },
     "execution_count": 33,
     "metadata": {},
     "output_type": "execute_result"
    }
   ],
   "source": [
    "dtree = DecisionTreeRegressor(max_depth=100,\n",
    "                              min_samples_leaf=1,\n",
    "                              random_state=3)\n",
    "\n",
    "dtree.fit(X_train, y_train)"
   ]
  },
  {
   "cell_type": "code",
   "execution_count": 34,
   "metadata": {},
   "outputs": [
    {
     "name": "stdout",
     "output_type": "stream",
     "text": [
      "RMSE:  1.7550140375170123e-13\n",
      "R2:  1.0\n",
      "RMSE:  6.145465428027621\n",
      "R2:  0.9361644917732885\n"
     ]
    }
   ],
   "source": [
    "pred_train_tree = dtree.predict(X_train)\n",
    "print(\"RMSE: \", np.sqrt(mean_squared_error(y_train,pred_train_tree)))\n",
    "print(\"R2: \", r2_score(y_train, pred_train_tree))\n",
    "\n",
    "pred_test_tree = dtree.predict(X_test)\n",
    "print(\"RMSE: \", np.sqrt(mean_squared_error(y_test,pred_test_tree))) \n",
    "print(\"R2: \", r2_score(y_test, pred_test_tree))"
   ]
  },
  {
   "cell_type": "code",
   "execution_count": 35,
   "metadata": {},
   "outputs": [
    {
     "data": {
      "text/plain": [
       "array([55.756, 17.144, 52.876, ..., 34.485, 52.876, 15.034])"
      ]
     },
     "execution_count": 35,
     "metadata": {},
     "output_type": "execute_result"
    }
   ],
   "source": [
    "pred_test_tree"
   ]
  },
  {
   "cell_type": "markdown",
   "metadata": {},
   "source": [
    "# Random Forest (Bootstrap Aggregation)"
   ]
  },
  {
   "cell_type": "code",
   "execution_count": 39,
   "metadata": {},
   "outputs": [
    {
     "name": "stderr",
     "output_type": "stream",
     "text": [
      "/Users/shrutirao/Documents/Coding/Thesis/km3net/venv/lib/python3.7/site-packages/ipykernel_launcher.py:5: DataConversionWarning: A column-vector y was passed when a 1d array was expected. Please change the shape of y to (n_samples,), for example using ravel().\n",
      "  \"\"\"\n"
     ]
    },
    {
     "name": "stdout",
     "output_type": "stream",
     "text": [
      "RMSE:  1.5243044047639924\n",
      "R2:  0.9960676911497601\n",
      "RMSE:  4.148946461576316\n",
      "R2:  0.9709043260006198\n"
     ]
    }
   ],
   "source": [
    "model_rf = RandomForestRegressor(n_estimators=500,\n",
    "                                 oob_score=True,\n",
    "                                 random_state=100)\n",
    "\n",
    "model_rf.fit(X_train, y_train) \n",
    "\n",
    "pred_train_rf = model_rf.predict(X_train)\n",
    "\n",
    "print(\"RMSE: \", np.sqrt(mean_squared_error(y_train,pred_train_rf)))\n",
    "print(\"R2: \", r2_score(y_train, pred_train_rf))\n",
    "\n",
    "pred_test_rf = model_rf.predict(X_test)\n",
    "print(\"RMSE: \", np.sqrt(mean_squared_error(y_test,pred_test_rf)))\n",
    "print(\"R2: \", r2_score(y_test, pred_test_rf))"
   ]
  },
  {
   "cell_type": "markdown",
   "metadata": {},
   "source": [
    "# Results"
   ]
  },
  {
   "cell_type": "code",
   "execution_count": 41,
   "metadata": {
    "scrolled": true
   },
   "outputs": [
    {
     "data": {
      "text/plain": [
       "0.9709043260006198"
      ]
     },
     "execution_count": 41,
     "metadata": {},
     "output_type": "execute_result"
    }
   ],
   "source": [
    "model_rf.score(X_test, y_test)"
   ]
  },
  {
   "cell_type": "code",
   "execution_count": 45,
   "metadata": {},
   "outputs": [
    {
     "ename": "IndexError",
     "evalue": "only integers, slices (`:`), ellipsis (`...`), numpy.newaxis (`None`) and integer or boolean arrays are valid indices",
     "output_type": "error",
     "traceback": [
      "\u001b[0;31m---------------------------------------------------------------------------\u001b[0m",
      "\u001b[0;31mIndexError\u001b[0m                                Traceback (most recent call last)",
      "\u001b[0;32m<ipython-input-45-42eefd5dba5d>\u001b[0m in \u001b[0;36m<module>\u001b[0;34m\u001b[0m\n\u001b[1;32m      1\u001b[0m \u001b[0mfig\u001b[0m\u001b[0;34m,\u001b[0m \u001b[0;34m(\u001b[0m\u001b[0max1\u001b[0m\u001b[0;34m,\u001b[0m \u001b[0max2\u001b[0m\u001b[0;34m,\u001b[0m \u001b[0max3\u001b[0m\u001b[0;34m,\u001b[0m \u001b[0max4\u001b[0m\u001b[0;34m,\u001b[0m \u001b[0max5\u001b[0m\u001b[0;34m)\u001b[0m \u001b[0;34m=\u001b[0m \u001b[0mplt\u001b[0m\u001b[0;34m.\u001b[0m\u001b[0msubplots\u001b[0m\u001b[0;34m(\u001b[0m\u001b[0;36m5\u001b[0m\u001b[0;34m,\u001b[0m \u001b[0;36m1\u001b[0m\u001b[0;34m,\u001b[0m \u001b[0mfigsize\u001b[0m\u001b[0;34m=\u001b[0m\u001b[0;34m(\u001b[0m\u001b[0;36m15\u001b[0m\u001b[0;34m,\u001b[0m\u001b[0;36m15\u001b[0m\u001b[0;34m)\u001b[0m\u001b[0;34m)\u001b[0m\u001b[0;34m\u001b[0m\u001b[0;34m\u001b[0m\u001b[0m\n\u001b[1;32m      2\u001b[0m \u001b[0;34m\u001b[0m\u001b[0m\n\u001b[0;32m----> 3\u001b[0;31m \u001b[0max1\u001b[0m\u001b[0;34m.\u001b[0m\u001b[0mscatter\u001b[0m\u001b[0;34m(\u001b[0m\u001b[0mX_test\u001b[0m\u001b[0;34m[\u001b[0m\u001b[0;34m'pos_x'\u001b[0m\u001b[0;34m]\u001b[0m\u001b[0;34m,\u001b[0m \u001b[0my_test\u001b[0m\u001b[0;34m,\u001b[0m  \u001b[0mcolor\u001b[0m\u001b[0;34m=\u001b[0m\u001b[0;34m'black'\u001b[0m\u001b[0;34m)\u001b[0m\u001b[0;34m\u001b[0m\u001b[0;34m\u001b[0m\u001b[0m\n\u001b[0m\u001b[1;32m      4\u001b[0m \u001b[0max1\u001b[0m\u001b[0;34m.\u001b[0m\u001b[0mplot\u001b[0m\u001b[0;34m(\u001b[0m\u001b[0mX_test\u001b[0m\u001b[0;34m[\u001b[0m\u001b[0;34m'pos_x'\u001b[0m\u001b[0;34m]\u001b[0m\u001b[0;34m,\u001b[0m \u001b[0mpred_test_rf\u001b[0m\u001b[0;34m,\u001b[0m \u001b[0mcolor\u001b[0m\u001b[0;34m=\u001b[0m\u001b[0;34m'blue'\u001b[0m\u001b[0;34m,\u001b[0m \u001b[0mlinewidth\u001b[0m\u001b[0;34m=\u001b[0m\u001b[0;36m3\u001b[0m\u001b[0;34m)\u001b[0m\u001b[0;34m\u001b[0m\u001b[0;34m\u001b[0m\u001b[0m\n\u001b[1;32m      5\u001b[0m \u001b[0;34m\u001b[0m\u001b[0m\n",
      "\u001b[0;31mIndexError\u001b[0m: only integers, slices (`:`), ellipsis (`...`), numpy.newaxis (`None`) and integer or boolean arrays are valid indices"
     ]
    },
    {
     "data": {
      "image/png": "[encoded data removed]",
      "text/plain": [
       "<Figure size 1080x1080 with 5 Axes>"
      ]
     },
     "metadata": {
      "needs_background": "light"
     },
     "output_type": "display_data"
    }
   ],
   "source": [
    "fig, (ax1, ax2, ax3, ax4, ax5) = plt.subplots(5, 1, figsize=(15,15))\n",
    "\n",
    "ax1.scatter(X_test['pos_x'], y_test,  color='black')\n",
    "ax1.plot(X_test['pos_x'], pred_test_rf, color='blue', linewidth=3)\n",
    "\n",
    "plt.xticks(())\n",
    "plt.yticks(())\n",
    "\n",
    "ax2.scatter(X_test['pos_y'], y_test,  color='black')\n",
    "ax2.plot(X_test['pos_y'], pred_test_rf, color='blue', linewidth=3)\n",
    "\n",
    "plt.xticks(())\n",
    "plt.yticks(())\n",
    "\n",
    "ax3.scatter(X_test['pos_z'], y_test,  color='black')\n",
    "ax3.plot(X_test['pos_z'], pred_test_rf, color='blue', linewidth=3)\n",
    "\n",
    "plt.xticks(())\n",
    "plt.yticks(())\n",
    "\n",
    "ax4.scatter(X_test['time'], y_test,  color='black')\n",
    "ax4.plot(X_test['time'], pred_test_rf, color='blue', linewidth=3)\n",
    "\n",
    "ax5.scatter(X_test['tot'], y_test,  color='black')\n",
    "ax5.plot(X_test['tot'], pred_test_rf, color='blue', linewidth=3)\n",
    "\n",
    "plt.xticks(())\n",
    "plt.yticks(())"
   ]
  },
  {
   "cell_type": "markdown",
   "metadata": {},
   "source": [
    "# Save Model"
   ]
  },
  {
   "cell_type": "code",
   "execution_count": null,
   "metadata": {},
   "outputs": [],
   "source": [
    "filename = 'finalized_svr_rbf_model.sav'\n",
    "pickle.dump(svr_rbf, open(filename, 'wb'))"
   ]
  },
  {
   "cell_type": "markdown",
   "metadata": {},
   "source": [
    "# Unseen Data"
   ]
  },
  {
   "cell_type": "code",
   "execution_count": null,
   "metadata": {},
   "outputs": [],
   "source": [
    "loaded_model = pickle.load(open(filename, 'rb'))\n",
    "result = loaded_model.score(X_test, y_test)\n",
    "print(result)"
   ]
  },
  {
   "cell_type": "code",
   "execution_count": null,
   "metadata": {},
   "outputs": [],
   "source": [
    "Xnew = hold_X\n",
    "ynew = loaded_model.predict(Xnew)"
   ]
  },
  {
   "cell_type": "code",
   "execution_count": null,
   "metadata": {},
   "outputs": [],
   "source": [
    "ynew[:5]"
   ]
  },
  {
   "cell_type": "code",
   "execution_count": null,
   "metadata": {},
   "outputs": [],
   "source": [
    "hold_y[:5]"
   ]
  },
  {
   "cell_type": "code",
   "execution_count": null,
   "metadata": {},
   "outputs": [],
   "source": [
    "# print('Coefficients: \\n {}'.format(loaded_model.coefs_))\n",
    "\n",
    "print('Mean squared error: %.2f'\n",
    "      % np.sqrt(mean_squared_error(hold_y, ynew)))\n",
    "\n",
    "print('Coefficient of determination: %.2f'\n",
    "      % r2_score(hold_y, ynew))"
   ]
  },
  {
   "cell_type": "markdown",
   "metadata": {},
   "source": [
    "# Results"
   ]
  },
  {
   "cell_type": "markdown",
   "metadata": {},
   "source": [
    "# Tests\n",
    "\n",
    "1. SVR RBF\n",
    "```\n",
    "    Mean squared error: 0.50\n",
    "Coefficient of determination: -0.05\n",
    "```\n"
   ]
  },
  {
   "cell_type": "markdown",
   "metadata": {},
   "source": [
    "# Final Model Parameters:\n",
    "1. hidden layers = 200\n",
    "2. Optimiser = Adam\n",
    "3. Loss = Logistic\n",
    "4. Learning Rate = 0.001"
   ]
  }
 ],
 "metadata": {
  "kernelspec": {
   "display_name": "km3net",
   "language": "python",
   "name": "km3net"
  },
  "language_info": {
   "codemirror_mode": {
    "name": "ipython",
    "version": 3
   },
   "file_extension": ".py",
   "mimetype": "text/x-python",
   "name": "python",
   "nbconvert_exporter": "python",
   "pygments_lexer": "ipython3",
   "version": "3.7.3"
  }
 },
 "nbformat": 4,
 "nbformat_minor": 4
}
