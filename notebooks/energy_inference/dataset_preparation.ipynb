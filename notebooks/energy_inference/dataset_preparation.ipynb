{
 "cells": [
  {
   "cell_type": "markdown",
   "metadata": {},
   "source": [
    "# Prepare Dataset\n",
    "1. Read Energy df\n",
    "2. Create timeslice groups"
   ]
  },
  {
   "cell_type": "code",
   "execution_count": 1,
   "metadata": {},
   "outputs": [],
   "source": [
    "def read_df(file):\n",
    "    \"\"\"\n",
    "    Reads and returns the Dataframes\n",
    "    \"\"\"\n",
    "    \n",
    "    df = pd.read_csv(file)\n",
    "    \n",
    "    return df\n",
    "    "
   ]
  },
  {
   "cell_type": "code",
   "execution_count": 4,
   "metadata": {},
   "outputs": [],
   "source": [
    "def sort_mixed_groups(df):\n",
    "    \"\"\"\n",
    "    Within each mixed groups (hits + noise), we need to sort\n",
    "    groups such that those with highest hits are selected first\n",
    "    \n",
    "    DataFrame --> List(int)\n",
    "    \"\"\"\n",
    "    \n",
    "    # group by groups and labels and associated counts for each label\n",
    "    grouped_df = pd.DataFrame(df.groupby(['group', 'label'])['label'].count())\n",
    "    grouped_df = grouped_df.rename(columns={'label':'count'})\n",
    "    \n",
    "    # sort groups based on highest occurance of hits\n",
    "    grouped_sorted_df = grouped_df.sort_values(grouped_df.columns.tolist())\\\n",
    "                            .sort_index(level=1, ascending=False, sort_remaining=False)\\\n",
    "                            .reset_index()\n",
    "    \n",
    "    # Obtain list of groups with highest hits based on sorted order\n",
    "    sorted_groups_list = pd.DataFrame(grouped_sorted_df.group)\n",
    "    \n",
    "    # Drop duplicate groups\n",
    "    sorted_groups_list = sorted_groups_list.drop_duplicates()\n",
    "    \n",
    "    # Count the occurances of groups (should only occur once)\n",
    "    sorted_groups_list['g'] = sorted_groups_list.groupby('group').cumcount()\n",
    "    \n",
    "    # Make copy of dataframe\n",
    "    copy_df = df\n",
    "    \n",
    "    # Save original index positions as a column\n",
    "    copy_df_indices = copy_df.reset_index()\n",
    "    \n",
    "    # Make a count of occurances for each group\n",
    "    copy_df_indices['group_count'] = copy_df_indices.groupby('group').cumcount() \n",
    "    \n",
    "    # Merge the list of groups with the partial df to obtain corresponding full dataframe\n",
    "    copy_df = sorted_groups_list.merge(copy_df_indices)\\\n",
    "                                .set_index('index')\\\n",
    "                                .rename_axis(None)\\\n",
    "                                .drop(['group_count', 'g'], axis=1)\n",
    "    \n",
    "    # For each group, sort by labels within each group starting from 1 till 0\n",
    "    df = copy_df.groupby(['group'], sort=False)\\\n",
    "                 .apply(lambda x: x.sort_values(['label'], ascending=False))\\\n",
    "                 .reset_index(drop=True)\n",
    "    \n",
    "    return df"
   ]
  },
  {
   "cell_type": "code",
   "execution_count": 45,
   "metadata": {},
   "outputs": [],
   "source": [
    "def save_df(df):\n",
    "    \"\"\"\n",
    "    Save unsampled mixed groups\n",
    "    \"\"\"\n",
    "    \n",
    "    sorted_df = sort_mixed_groups(df)\n",
    "    list_groups = sorted_df.group.unique()[:SIZE]\n",
    "    \n",
    "    for idx in list_groups:\n",
    "        file_name = \"group_\" +str(idx) +\".xyz\" \n",
    "        \n",
    "        np.savetxt(output_path + file_name,\n",
    "                   df[df.group == idx][['pos_x', 'pos_y', 'time', 'energy']].values)\n",
    "        \n",
    "        np.savetxt(output_energy_path + file_name, \n",
    "                   df[df.group == idx][['energy']].drop_duplicates().energy.tolist())\n",
    "\n",
    "    \n",
    "    print(\"All {0} files saved successfully in {1}!\".format(len(list_groups),\n",
    "                                                           output_path))"
   ]
  },
  {
   "cell_type": "code",
   "execution_count": 48,
   "metadata": {},
   "outputs": [
    {
     "name": "stdout",
     "output_type": "stream",
     "text": [
      "All 200 files saved successfully in ../../data/energy/xyz/points/!\n"
     ]
    }
   ],
   "source": [
    "if __name__ == '__main__':\n",
    "    import pandas as pd\n",
    "    import numpy as np\n",
    "    import matplotlib \n",
    "    import sys\n",
    "    \n",
    "    SIZE = 200\n",
    "\n",
    "    input_file = \"../../data/energy/df.csv\"\n",
    "    output_path = \"../../data/energy/xyz/points/\"\n",
    "    output_energy_path = \"../../data/energy/xyz/energy/\"\n",
    "    \n",
    "    df = read_df(input_file)\n",
    "    save_df(df)"
   ]
  },
  {
   "cell_type": "code",
   "execution_count": null,
   "metadata": {},
   "outputs": [],
   "source": []
  }
 ],
 "metadata": {
  "kernelspec": {
   "display_name": "km3net",
   "language": "python",
   "name": "km3net"
  },
  "language_info": {
   "codemirror_mode": {
    "name": "ipython",
    "version": 3
   },
   "file_extension": ".py",
   "mimetype": "text/x-python",
   "name": "python",
   "nbconvert_exporter": "python",
   "pygments_lexer": "ipython3",
   "version": "3.7.3"
  }
 },
 "nbformat": 4,
 "nbformat_minor": 4
}
