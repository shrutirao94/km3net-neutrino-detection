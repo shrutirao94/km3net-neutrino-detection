{
 "cells": [
  {
   "cell_type": "markdown",
   "metadata": {},
   "source": [
    "# Experiment 6: Classification"
   ]
  },
  {
   "cell_type": "code",
   "execution_count": 25,
   "metadata": {},
   "outputs": [],
   "source": [
    "import pickle\n",
    "\n",
    "import pandas as pd\n",
    "import numpy as np\n",
    "import matplotlib as mpl\n",
    "mpl.rcParams['agg.path.chunksize'] = 10000\n",
    "\n",
    "from sklearn import model_selection\n",
    "from sklearn import tree\n",
    "from sklearn.model_selection import train_test_split\n",
    "import matplotlib.pyplot as plt\n",
    "from sklearn import preprocessing\n",
    "from sklearn.metrics import accuracy_score"
   ]
  },
  {
   "cell_type": "code",
   "execution_count": 4,
   "metadata": {},
   "outputs": [
    {
     "data": {
      "text/html": [
       "<div>\n",
       "<style scoped>\n",
       "    .dataframe tbody tr th:only-of-type {\n",
       "        vertical-align: middle;\n",
       "    }\n",
       "\n",
       "    .dataframe tbody tr th {\n",
       "        vertical-align: top;\n",
       "    }\n",
       "\n",
       "    .dataframe thead th {\n",
       "        text-align: right;\n",
       "    }\n",
       "</style>\n",
       "<table border=\"1\" class=\"dataframe\">\n",
       "  <thead>\n",
       "    <tr style=\"text-align: right;\">\n",
       "      <th></th>\n",
       "      <th>dom_id</th>\n",
       "      <th>pmt_id</th>\n",
       "      <th>pos_x</th>\n",
       "      <th>pos_y</th>\n",
       "      <th>pos_z</th>\n",
       "      <th>dir_x</th>\n",
       "      <th>dir_y</th>\n",
       "      <th>dir_z</th>\n",
       "      <th>tot</th>\n",
       "      <th>time</th>\n",
       "      <th>energy</th>\n",
       "      <th>label</th>\n",
       "      <th>group</th>\n",
       "    </tr>\n",
       "  </thead>\n",
       "  <tbody>\n",
       "    <tr>\n",
       "      <th>0</th>\n",
       "      <td>1054</td>\n",
       "      <td>32658</td>\n",
       "      <td>-16.064</td>\n",
       "      <td>-76.599</td>\n",
       "      <td>112.441</td>\n",
       "      <td>0.000</td>\n",
       "      <td>0.955</td>\n",
       "      <td>-0.296</td>\n",
       "      <td>35</td>\n",
       "      <td>28449.0</td>\n",
       "      <td>13.415</td>\n",
       "      <td>1</td>\n",
       "      <td>1</td>\n",
       "    </tr>\n",
       "    <tr>\n",
       "      <th>1</th>\n",
       "      <td>1054</td>\n",
       "      <td>32671</td>\n",
       "      <td>-16.208</td>\n",
       "      <td>-76.707</td>\n",
       "      <td>112.611</td>\n",
       "      <td>-0.719</td>\n",
       "      <td>0.415</td>\n",
       "      <td>0.558</td>\n",
       "      <td>24</td>\n",
       "      <td>28450.0</td>\n",
       "      <td>13.415</td>\n",
       "      <td>1</td>\n",
       "      <td>1</td>\n",
       "    </tr>\n",
       "    <tr>\n",
       "      <th>2</th>\n",
       "      <td>1053</td>\n",
       "      <td>32639</td>\n",
       "      <td>-16.064</td>\n",
       "      <td>-76.624</td>\n",
       "      <td>122.011</td>\n",
       "      <td>0.000</td>\n",
       "      <td>0.830</td>\n",
       "      <td>0.558</td>\n",
       "      <td>12</td>\n",
       "      <td>28450.0</td>\n",
       "      <td>13.415</td>\n",
       "      <td>1</td>\n",
       "      <td>1</td>\n",
       "    </tr>\n",
       "    <tr>\n",
       "      <th>3</th>\n",
       "      <td>1054</td>\n",
       "      <td>32670</td>\n",
       "      <td>-16.064</td>\n",
       "      <td>-76.624</td>\n",
       "      <td>112.611</td>\n",
       "      <td>0.000</td>\n",
       "      <td>0.830</td>\n",
       "      <td>0.558</td>\n",
       "      <td>54</td>\n",
       "      <td>28450.0</td>\n",
       "      <td>13.415</td>\n",
       "      <td>1</td>\n",
       "      <td>1</td>\n",
       "    </tr>\n",
       "    <tr>\n",
       "      <th>4</th>\n",
       "      <td>1054</td>\n",
       "      <td>32664</td>\n",
       "      <td>-15.968</td>\n",
       "      <td>-76.625</td>\n",
       "      <td>112.559</td>\n",
       "      <td>0.478</td>\n",
       "      <td>0.827</td>\n",
       "      <td>0.296</td>\n",
       "      <td>47</td>\n",
       "      <td>28451.0</td>\n",
       "      <td>13.415</td>\n",
       "      <td>1</td>\n",
       "      <td>1</td>\n",
       "    </tr>\n",
       "  </tbody>\n",
       "</table>\n",
       "</div>"
      ],
      "text/plain": [
       "   dom_id  pmt_id   pos_x   pos_y    pos_z  dir_x  dir_y  dir_z  tot     time  \\\n",
       "0    1054   32658 -16.064 -76.599  112.441  0.000  0.955 -0.296   35  28449.0   \n",
       "1    1054   32671 -16.208 -76.707  112.611 -0.719  0.415  0.558   24  28450.0   \n",
       "2    1053   32639 -16.064 -76.624  122.011  0.000  0.830  0.558   12  28450.0   \n",
       "3    1054   32670 -16.064 -76.624  112.611  0.000  0.830  0.558   54  28450.0   \n",
       "4    1054   32664 -15.968 -76.625  112.559  0.478  0.827  0.296   47  28451.0   \n",
       "\n",
       "   energy  label  group  \n",
       "0  13.415      1      1  \n",
       "1  13.415      1      1  \n",
       "2  13.415      1      1  \n",
       "3  13.415      1      1  \n",
       "4  13.415      1      1  "
      ]
     },
     "execution_count": 4,
     "metadata": {},
     "output_type": "execute_result"
    }
   ],
   "source": [
    "df = pd.read_csv(\"../../data/energy/df.csv\", )\n",
    "df.head()"
   ]
  },
  {
   "cell_type": "code",
   "execution_count": 5,
   "metadata": {},
   "outputs": [
    {
     "data": {
      "text/html": [
       "<div>\n",
       "<style scoped>\n",
       "    .dataframe tbody tr th:only-of-type {\n",
       "        vertical-align: middle;\n",
       "    }\n",
       "\n",
       "    .dataframe tbody tr th {\n",
       "        vertical-align: top;\n",
       "    }\n",
       "\n",
       "    .dataframe thead th {\n",
       "        text-align: right;\n",
       "    }\n",
       "</style>\n",
       "<table border=\"1\" class=\"dataframe\">\n",
       "  <thead>\n",
       "    <tr style=\"text-align: right;\">\n",
       "      <th></th>\n",
       "      <th>dom_id</th>\n",
       "      <th>pmt_id</th>\n",
       "      <th>pos_x</th>\n",
       "      <th>pos_y</th>\n",
       "      <th>pos_z</th>\n",
       "      <th>dir_x</th>\n",
       "      <th>dir_y</th>\n",
       "      <th>dir_z</th>\n",
       "      <th>tot</th>\n",
       "      <th>time</th>\n",
       "      <th>energy</th>\n",
       "      <th>label</th>\n",
       "      <th>group</th>\n",
       "    </tr>\n",
       "  </thead>\n",
       "  <tbody>\n",
       "    <tr>\n",
       "      <th>count</th>\n",
       "      <td>489906.000000</td>\n",
       "      <td>489906.000000</td>\n",
       "      <td>489906.000000</td>\n",
       "      <td>489906.000000</td>\n",
       "      <td>489906.000000</td>\n",
       "      <td>489906.000000</td>\n",
       "      <td>489906.000000</td>\n",
       "      <td>489906.000000</td>\n",
       "      <td>489906.000000</td>\n",
       "      <td>4.899060e+05</td>\n",
       "      <td>489906.000000</td>\n",
       "      <td>489906.0</td>\n",
       "      <td>489906.000000</td>\n",
       "    </tr>\n",
       "    <tr>\n",
       "      <th>mean</th>\n",
       "      <td>1048.735653</td>\n",
       "      <td>32496.026419</td>\n",
       "      <td>0.341670</td>\n",
       "      <td>-1.514543</td>\n",
       "      <td>119.205209</td>\n",
       "      <td>0.000912</td>\n",
       "      <td>-0.002101</td>\n",
       "      <td>-0.182805</td>\n",
       "      <td>26.056821</td>\n",
       "      <td>4.893892e+07</td>\n",
       "      <td>37.133466</td>\n",
       "      <td>1.0</td>\n",
       "      <td>3262.098839</td>\n",
       "    </tr>\n",
       "    <tr>\n",
       "      <th>std</th>\n",
       "      <td>592.666757</td>\n",
       "      <td>18372.661240</td>\n",
       "      <td>50.964521</td>\n",
       "      <td>62.401296</td>\n",
       "      <td>47.553276</td>\n",
       "      <td>0.582604</td>\n",
       "      <td>0.583274</td>\n",
       "      <td>0.535609</td>\n",
       "      <td>9.273521</td>\n",
       "      <td>2.905600e+07</td>\n",
       "      <td>24.312587</td>\n",
       "      <td>0.0</td>\n",
       "      <td>1937.060856</td>\n",
       "    </tr>\n",
       "    <tr>\n",
       "      <th>min</th>\n",
       "      <td>1.000000</td>\n",
       "      <td>1.000000</td>\n",
       "      <td>-94.627000</td>\n",
       "      <td>-115.600000</td>\n",
       "      <td>37.700000</td>\n",
       "      <td>-0.955000</td>\n",
       "      <td>-0.955000</td>\n",
       "      <td>-1.000000</td>\n",
       "      <td>1.000000</td>\n",
       "      <td>2.844900e+04</td>\n",
       "      <td>10.002000</td>\n",
       "      <td>1.0</td>\n",
       "      <td>1.000000</td>\n",
       "    </tr>\n",
       "    <tr>\n",
       "      <th>25%</th>\n",
       "      <td>537.000000</td>\n",
       "      <td>16622.000000</td>\n",
       "      <td>-44.772000</td>\n",
       "      <td>-58.113000</td>\n",
       "      <td>74.211000</td>\n",
       "      <td>-0.478000</td>\n",
       "      <td>-0.478000</td>\n",
       "      <td>-0.556000</td>\n",
       "      <td>23.000000</td>\n",
       "      <td>2.393785e+07</td>\n",
       "      <td>16.872000</td>\n",
       "      <td>1.0</td>\n",
       "      <td>1595.000000</td>\n",
       "    </tr>\n",
       "    <tr>\n",
       "      <th>50%</th>\n",
       "      <td>1056.000000</td>\n",
       "      <td>32727.000000</td>\n",
       "      <td>1.424000</td>\n",
       "      <td>-4.581000</td>\n",
       "      <td>121.789000</td>\n",
       "      <td>0.000000</td>\n",
       "      <td>-0.000000</td>\n",
       "      <td>-0.296000</td>\n",
       "      <td>26.000000</td>\n",
       "      <td>4.810140e+07</td>\n",
       "      <td>29.505000</td>\n",
       "      <td>1.0</td>\n",
       "      <td>3206.000000</td>\n",
       "    </tr>\n",
       "    <tr>\n",
       "      <th>75%</th>\n",
       "      <td>1562.000000</td>\n",
       "      <td>48398.750000</td>\n",
       "      <td>40.478000</td>\n",
       "      <td>48.480000</td>\n",
       "      <td>160.241000</td>\n",
       "      <td>0.478000</td>\n",
       "      <td>0.478000</td>\n",
       "      <td>0.296000</td>\n",
       "      <td>28.000000</td>\n",
       "      <td>7.434630e+07</td>\n",
       "      <td>52.643000</td>\n",
       "      <td>1.0</td>\n",
       "      <td>4956.000000</td>\n",
       "    </tr>\n",
       "    <tr>\n",
       "      <th>max</th>\n",
       "      <td>2070.000000</td>\n",
       "      <td>64170.000000</td>\n",
       "      <td>96.243000</td>\n",
       "      <td>105.024000</td>\n",
       "      <td>196.611000</td>\n",
       "      <td>0.955000</td>\n",
       "      <td>0.955000</td>\n",
       "      <td>0.558000</td>\n",
       "      <td>209.000000</td>\n",
       "      <td>9.998601e+07</td>\n",
       "      <td>99.947000</td>\n",
       "      <td>1.0</td>\n",
       "      <td>6665.000000</td>\n",
       "    </tr>\n",
       "  </tbody>\n",
       "</table>\n",
       "</div>"
      ],
      "text/plain": [
       "              dom_id         pmt_id          pos_x          pos_y  \\\n",
       "count  489906.000000  489906.000000  489906.000000  489906.000000   \n",
       "mean     1048.735653   32496.026419       0.341670      -1.514543   \n",
       "std       592.666757   18372.661240      50.964521      62.401296   \n",
       "min         1.000000       1.000000     -94.627000    -115.600000   \n",
       "25%       537.000000   16622.000000     -44.772000     -58.113000   \n",
       "50%      1056.000000   32727.000000       1.424000      -4.581000   \n",
       "75%      1562.000000   48398.750000      40.478000      48.480000   \n",
       "max      2070.000000   64170.000000      96.243000     105.024000   \n",
       "\n",
       "               pos_z          dir_x          dir_y          dir_z  \\\n",
       "count  489906.000000  489906.000000  489906.000000  489906.000000   \n",
       "mean      119.205209       0.000912      -0.002101      -0.182805   \n",
       "std        47.553276       0.582604       0.583274       0.535609   \n",
       "min        37.700000      -0.955000      -0.955000      -1.000000   \n",
       "25%        74.211000      -0.478000      -0.478000      -0.556000   \n",
       "50%       121.789000       0.000000      -0.000000      -0.296000   \n",
       "75%       160.241000       0.478000       0.478000       0.296000   \n",
       "max       196.611000       0.955000       0.955000       0.558000   \n",
       "\n",
       "                 tot          time         energy     label          group  \n",
       "count  489906.000000  4.899060e+05  489906.000000  489906.0  489906.000000  \n",
       "mean       26.056821  4.893892e+07      37.133466       1.0    3262.098839  \n",
       "std         9.273521  2.905600e+07      24.312587       0.0    1937.060856  \n",
       "min         1.000000  2.844900e+04      10.002000       1.0       1.000000  \n",
       "25%        23.000000  2.393785e+07      16.872000       1.0    1595.000000  \n",
       "50%        26.000000  4.810140e+07      29.505000       1.0    3206.000000  \n",
       "75%        28.000000  7.434630e+07      52.643000       1.0    4956.000000  \n",
       "max       209.000000  9.998601e+07      99.947000       1.0    6665.000000  "
      ]
     },
     "execution_count": 5,
     "metadata": {},
     "output_type": "execute_result"
    }
   ],
   "source": [
    "df.describe()"
   ]
  },
  {
   "cell_type": "markdown",
   "metadata": {},
   "source": [
    "# HoldOut Set"
   ]
  },
  {
   "cell_type": "code",
   "execution_count": 6,
   "metadata": {},
   "outputs": [],
   "source": [
    "np.random.seed(20)\n",
    "\n",
    "remove_n = 20\n",
    "\n",
    "drop_indices = np.random.choice(df.index, remove_n, replace=False)\n",
    "\n",
    "hold_df = df.iloc[drop_indices]\n",
    "df = df.drop(drop_indices)"
   ]
  },
  {
   "cell_type": "markdown",
   "metadata": {},
   "source": [
    "# Define target and predictors"
   ]
  },
  {
   "cell_type": "code",
   "execution_count": 52,
   "metadata": {},
   "outputs": [],
   "source": [
    "y = df['energy']\n",
    "\n",
    "X = df[['pos_x', 'pos_y', 'pos_z', 'time']]"
   ]
  },
  {
   "cell_type": "code",
   "execution_count": 53,
   "metadata": {},
   "outputs": [
    {
     "data": {
      "text/plain": [
       "array([1212, 1212, 1212, ..., 4468, 4468, 4468])"
      ]
     },
     "execution_count": 53,
     "metadata": {},
     "output_type": "execute_result"
    }
   ],
   "source": [
    "le = preprocessing.LabelEncoder()\n",
    "le.fit_transform(y)"
   ]
  },
  {
   "cell_type": "code",
   "execution_count": 55,
   "metadata": {},
   "outputs": [],
   "source": [
    "le_name_mapping = dict(zip(le.classes_, le.transform(le.classes_)))"
   ]
  },
  {
   "cell_type": "markdown",
   "metadata": {},
   "source": [
    "# Split Dataset \n",
    "\n",
    "Dataset needs to be split into:\n",
    "1. Main\n",
    "    1. Train\n",
    "    2. Test"
   ]
  },
  {
   "cell_type": "markdown",
   "metadata": {},
   "source": [
    "# Train/Test Split"
   ]
  },
  {
   "cell_type": "code",
   "execution_count": 21,
   "metadata": {},
   "outputs": [
    {
     "name": "stdout",
     "output_type": "stream",
     "text": [
      " X TRAIN SHAPE: (323324, 4) \n",
      " X TEST SHAPE: (166562, 4) \n",
      "\n",
      " Y TRAIN SHAPE: (323324,) \n",
      " Y TEST SHAPE: (166562,)\n"
     ]
    }
   ],
   "source": [
    "X_train, X_test, y_train, y_test = train_test_split(X, y, test_size=0.34, random_state=40)\n",
    "\n",
    "print(\" X TRAIN SHAPE: {} \\n X TEST SHAPE: {} \\n\".format(X_train.shape, X_test.shape))\n",
    "print(\" Y TRAIN SHAPE: {} \\n Y TEST SHAPE: {}\".format(y_train.shape, y_test.shape))"
   ]
  },
  {
   "cell_type": "markdown",
   "metadata": {},
   "source": [
    "# Model 1: Decision Tree"
   ]
  },
  {
   "cell_type": "code",
   "execution_count": 22,
   "metadata": {},
   "outputs": [
    {
     "data": {
      "text/plain": [
       "DecisionTreeClassifier()"
      ]
     },
     "execution_count": 22,
     "metadata": {},
     "output_type": "execute_result"
    }
   ],
   "source": [
    "clf = tree.DecisionTreeClassifier()\n",
    "clf.fit(X_train, y_train)"
   ]
  },
  {
   "cell_type": "code",
   "execution_count": 23,
   "metadata": {},
   "outputs": [
    {
     "data": {
      "text/plain": [
       "array([ 434, 1156, 4853, ..., 4308, 1642, 4858])"
      ]
     },
     "execution_count": 23,
     "metadata": {},
     "output_type": "execute_result"
    }
   ],
   "source": [
    "clf.predict(X_train)"
   ]
  },
  {
   "cell_type": "code",
   "execution_count": 27,
   "metadata": {},
   "outputs": [],
   "source": [
    "y_pred = clf.predict(X_test)"
   ]
  },
  {
   "cell_type": "markdown",
   "metadata": {},
   "source": [
    "# Model 1: Results"
   ]
  },
  {
   "cell_type": "code",
   "execution_count": 29,
   "metadata": {},
   "outputs": [
    {
     "data": {
      "text/plain": [
       "0.9900997826635127"
      ]
     },
     "execution_count": 29,
     "metadata": {},
     "output_type": "execute_result"
    }
   ],
   "source": [
    "accuracy_score(y_test, y_pred)"
   ]
  },
  {
   "cell_type": "code",
   "execution_count": 30,
   "metadata": {},
   "outputs": [
    {
     "data": {
      "text/plain": [
       "array([[ 37,   0,   0, ...,   0,   0,   0],\n",
       "       [  0,   5,   0, ...,   0,   0,   0],\n",
       "       [  0,   0,  21, ...,   0,   0,   0],\n",
       "       ...,\n",
       "       [  0,   0,   0, ...,   1,   0,   0],\n",
       "       [  0,   0,   0, ...,   0, 330,   0],\n",
       "       [  0,   0,   0, ...,   0,   0, 277]])"
      ]
     },
     "execution_count": 30,
     "metadata": {},
     "output_type": "execute_result"
    }
   ],
   "source": [
    "from sklearn.metrics import confusion_matrix\n",
    "confusion_matrix(y_test, y_pred)"
   ]
  },
  {
   "cell_type": "code",
   "execution_count": 42,
   "metadata": {},
   "outputs": [],
   "source": [
    "# from sklearn.metrics import classification_report\n",
    "# print(classification_report(y_test, y_pred))"
   ]
  },
  {
   "cell_type": "markdown",
   "metadata": {},
   "source": [
    "# Save Model"
   ]
  },
  {
   "cell_type": "code",
   "execution_count": 43,
   "metadata": {},
   "outputs": [],
   "source": [
    "filename = 'clas_model.sav'\n",
    "pickle.dump(clf, open(filename, 'wb'))"
   ]
  },
  {
   "cell_type": "markdown",
   "metadata": {},
   "source": [
    "# Test on Unseen Data"
   ]
  },
  {
   "cell_type": "code",
   "execution_count": 44,
   "metadata": {},
   "outputs": [
    {
     "name": "stdout",
     "output_type": "stream",
     "text": [
      "0.9900997826635127\n"
     ]
    }
   ],
   "source": [
    "loaded_model = pickle.load(open(filename, 'rb'))\n",
    "result = loaded_model.score(X_test, y_test)\n",
    "print(result)"
   ]
  },
  {
   "cell_type": "code",
   "execution_count": 45,
   "metadata": {},
   "outputs": [],
   "source": [
    "Xnew = hold_df[['pos_x',\n",
    "               'pos_y',\n",
    "               'pos_z',\n",
    "               'time']]\n",
    "hold_y = hold_df['energy']\n",
    "\n",
    "ynew = loaded_model.predict(Xnew)"
   ]
  },
  {
   "cell_type": "code",
   "execution_count": 49,
   "metadata": {},
   "outputs": [
    {
     "data": {
      "text/plain": [
       "array([2577, 3116, 1485, 1036, 4183,  637, 1537, 2085, 2577, 4778,  689,\n",
       "       3434, 3610, 4698, 1563, 4763,  846, 4597, 2731, 4567])"
      ]
     },
     "execution_count": 49,
     "metadata": {},
     "output_type": "execute_result"
    }
   ],
   "source": [
    "ynew"
   ]
  },
  {
   "cell_type": "code",
   "execution_count": 56,
   "metadata": {},
   "outputs": [
    {
     "data": {
      "text/plain": [
       "358818    20.061\n",
       "159680    24.873\n",
       "222390    14.403\n",
       "437957    12.872\n",
       "13266     42.506\n",
       "101351    11.635\n",
       "38050     14.601\n",
       "28437     17.104\n",
       "358728    20.061\n",
       "327353    67.561\n",
       "468183    11.780\n",
       "20031     28.233\n",
       "17630     30.629\n",
       "200148    62.514\n",
       "458203    14.684\n",
       "246550    66.896\n",
       "204478    12.263\n",
       "413972    57.580\n",
       "204884    21.426\n",
       "439503    56.253\n",
       "Name: energy, dtype: float64"
      ]
     },
     "execution_count": 56,
     "metadata": {},
     "output_type": "execute_result"
    }
   ],
   "source": [
    "hold_y"
   ]
  },
  {
   "cell_type": "code",
   "execution_count": 67,
   "metadata": {},
   "outputs": [
    {
     "data": {
      "text/plain": [
       "[2577,\n",
       " 3116,\n",
       " 1485,\n",
       " 1036,\n",
       " 4183,\n",
       " 637,\n",
       " 1537,\n",
       " 2085,\n",
       " 2577,\n",
       " 4778,\n",
       " 689,\n",
       " 3434,\n",
       " 3610,\n",
       " 4698,\n",
       " 1563,\n",
       " 4763,\n",
       " 846,\n",
       " 4597,\n",
       " 2731,\n",
       " 4567]"
      ]
     },
     "execution_count": 67,
     "metadata": {},
     "output_type": "execute_result"
    }
   ],
   "source": [
    "energy"
   ]
  },
  {
   "cell_type": "code",
   "execution_count": 73,
   "metadata": {},
   "outputs": [],
   "source": [
    "energy = []\n",
    "for v in hold_y:\n",
    "    energy.append(le_name_mapping[v])"
   ]
  },
  {
   "cell_type": "code",
   "execution_count": 66,
   "metadata": {},
   "outputs": [
    {
     "data": {
      "text/plain": [
       "1.0"
      ]
     },
     "execution_count": 66,
     "metadata": {},
     "output_type": "execute_result"
    }
   ],
   "source": [
    "accuracy_score(energy, ynew)"
   ]
  },
  {
   "cell_type": "code",
   "execution_count": 68,
   "metadata": {},
   "outputs": [],
   "source": [
    "from sklearn.metrics import recall_score"
   ]
  },
  {
   "cell_type": "code",
   "execution_count": 72,
   "metadata": {},
   "outputs": [
    {
     "data": {
      "text/plain": [
       "0.0"
      ]
     },
     "execution_count": 72,
     "metadata": {},
     "output_type": "execute_result"
    }
   ],
   "source": [
    "recall_score(energy[:1], ynew[:1])"
   ]
  },
  {
   "cell_type": "code",
   "execution_count": null,
   "metadata": {},
   "outputs": [],
   "source": [
    "energy vs recall plot"
   ]
  }
 ],
 "metadata": {
  "kernelspec": {
   "display_name": "km3net",
   "language": "python",
   "name": "km3net"
  },
  "language_info": {
   "codemirror_mode": {
    "name": "ipython",
    "version": 3
   },
   "file_extension": ".py",
   "mimetype": "text/x-python",
   "name": "python",
   "nbconvert_exporter": "python",
   "pygments_lexer": "ipython3",
   "version": "3.7.3"
  }
 },
 "nbformat": 4,
 "nbformat_minor": 4
}
