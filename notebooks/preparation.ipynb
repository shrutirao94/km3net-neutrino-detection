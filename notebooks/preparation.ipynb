{
 "cells": [
  {
   "cell_type": "code",
   "execution_count": 1,
   "metadata": {},
   "outputs": [],
   "source": [
    "import pandas as pd\n",
    "import numpy as np"
   ]
  },
  {
   "cell_type": "code",
   "execution_count": 2,
   "metadata": {},
   "outputs": [],
   "source": [
    "data = pd.read_csv(\"../data/time_data.csv\")"
   ]
  },
  {
   "cell_type": "code",
   "execution_count": 3,
   "metadata": {},
   "outputs": [
    {
     "data": {
      "text/html": [
       "<div>\n",
       "<style scoped>\n",
       "    .dataframe tbody tr th:only-of-type {\n",
       "        vertical-align: middle;\n",
       "    }\n",
       "\n",
       "    .dataframe tbody tr th {\n",
       "        vertical-align: top;\n",
       "    }\n",
       "\n",
       "    .dataframe thead th {\n",
       "        text-align: right;\n",
       "    }\n",
       "</style>\n",
       "<table border=\"1\" class=\"dataframe\">\n",
       "  <thead>\n",
       "    <tr style=\"text-align: right;\">\n",
       "      <th></th>\n",
       "      <th>dom_id</th>\n",
       "      <th>pmt_id</th>\n",
       "      <th>pos_x</th>\n",
       "      <th>pos_y</th>\n",
       "      <th>pos_z</th>\n",
       "      <th>dir_x</th>\n",
       "      <th>dir_y</th>\n",
       "      <th>dir_z</th>\n",
       "      <th>tot</th>\n",
       "      <th>time</th>\n",
       "      <th>label</th>\n",
       "      <th>group</th>\n",
       "    </tr>\n",
       "  </thead>\n",
       "  <tbody>\n",
       "    <tr>\n",
       "      <th>0</th>\n",
       "      <td>321.0</td>\n",
       "      <td>5.0</td>\n",
       "      <td>-17.661</td>\n",
       "      <td>32.245</td>\n",
       "      <td>65.231</td>\n",
       "      <td>-0.460</td>\n",
       "      <td>-0.266</td>\n",
       "      <td>-0.847</td>\n",
       "      <td>26.0</td>\n",
       "      <td>0.0</td>\n",
       "      <td>0</td>\n",
       "      <td>0</td>\n",
       "    </tr>\n",
       "    <tr>\n",
       "      <th>1</th>\n",
       "      <td>1653.0</td>\n",
       "      <td>23.0</td>\n",
       "      <td>11.595</td>\n",
       "      <td>85.465</td>\n",
       "      <td>65.459</td>\n",
       "      <td>-0.955</td>\n",
       "      <td>-0.000</td>\n",
       "      <td>0.296</td>\n",
       "      <td>27.0</td>\n",
       "      <td>0.0</td>\n",
       "      <td>0</td>\n",
       "      <td>0</td>\n",
       "    </tr>\n",
       "    <tr>\n",
       "      <th>2</th>\n",
       "      <td>275.0</td>\n",
       "      <td>9.0</td>\n",
       "      <td>-36.464</td>\n",
       "      <td>67.166</td>\n",
       "      <td>160.189</td>\n",
       "      <td>0.415</td>\n",
       "      <td>0.720</td>\n",
       "      <td>-0.556</td>\n",
       "      <td>26.0</td>\n",
       "      <td>0.0</td>\n",
       "      <td>0</td>\n",
       "      <td>0</td>\n",
       "    </tr>\n",
       "    <tr>\n",
       "      <th>3</th>\n",
       "      <td>1660.0</td>\n",
       "      <td>23.0</td>\n",
       "      <td>61.660</td>\n",
       "      <td>101.635</td>\n",
       "      <td>169.059</td>\n",
       "      <td>-0.955</td>\n",
       "      <td>-0.000</td>\n",
       "      <td>0.296</td>\n",
       "      <td>26.0</td>\n",
       "      <td>0.0</td>\n",
       "      <td>0</td>\n",
       "      <td>0</td>\n",
       "    </tr>\n",
       "    <tr>\n",
       "      <th>4</th>\n",
       "      <td>966.0</td>\n",
       "      <td>16.0</td>\n",
       "      <td>-54.510</td>\n",
       "      <td>-78.323</td>\n",
       "      <td>94.341</td>\n",
       "      <td>-0.827</td>\n",
       "      <td>0.478</td>\n",
       "      <td>-0.296</td>\n",
       "      <td>24.0</td>\n",
       "      <td>0.0</td>\n",
       "      <td>0</td>\n",
       "      <td>0</td>\n",
       "    </tr>\n",
       "  </tbody>\n",
       "</table>\n",
       "</div>"
      ],
      "text/plain": [
       "   dom_id  pmt_id   pos_x    pos_y    pos_z  dir_x  dir_y  dir_z   tot  time  \\\n",
       "0   321.0     5.0 -17.661   32.245   65.231 -0.460 -0.266 -0.847  26.0   0.0   \n",
       "1  1653.0    23.0  11.595   85.465   65.459 -0.955 -0.000  0.296  27.0   0.0   \n",
       "2   275.0     9.0 -36.464   67.166  160.189  0.415  0.720 -0.556  26.0   0.0   \n",
       "3  1660.0    23.0  61.660  101.635  169.059 -0.955 -0.000  0.296  26.0   0.0   \n",
       "4   966.0    16.0 -54.510  -78.323   94.341 -0.827  0.478 -0.296  24.0   0.0   \n",
       "\n",
       "   label  group  \n",
       "0      0      0  \n",
       "1      0      0  \n",
       "2      0      0  \n",
       "3      0      0  \n",
       "4      0      0  "
      ]
     },
     "execution_count": 3,
     "metadata": {},
     "output_type": "execute_result"
    }
   ],
   "source": [
    "data.head()"
   ]
  },
  {
   "cell_type": "code",
   "execution_count": 4,
   "metadata": {},
   "outputs": [
    {
     "data": {
      "text/plain": [
       "45820216"
      ]
     },
     "execution_count": 4,
     "metadata": {},
     "output_type": "execute_result"
    }
   ],
   "source": [
    "len(data)"
   ]
  },
  {
   "cell_type": "markdown",
   "metadata": {},
   "source": [
    "The data is a set of x, y, z points with a label indicating whether it is a hit or noise with associated metadata. They have been grouped into timeslices of 15000ns each (as discussed earlier). \n",
    "\n",
    "To use point cloud neural network, I would require \"point clouds\" of objects. For example. a chair would be represented by (N x P x 3) points with N point clouds, P points per point cloud and 3 since each point has x, y, z coordinates. \n",
    "\n",
    "With the training data, we already know the neutrino events and the hits associated with it. So for this network, we could group the hits by the events that caused it. These events would be the point cloud objects. "
   ]
  },
  {
   "cell_type": "markdown",
   "metadata": {},
   "source": [
    "Need:\n",
    "1. Timeslices with only noise\n",
    "2. Timeslices with noise + hits"
   ]
  },
  {
   "cell_type": "markdown",
   "metadata": {},
   "source": [
    "### It would be good to know how many groups have only noise and noise + hits"
   ]
  },
  {
   "cell_type": "code",
   "execution_count": 22,
   "metadata": {},
   "outputs": [],
   "source": [
    "df_count_label_type = data.groupby('group')['label'].unique()\n",
    "df_count_label_type = pd.DataFrame(df_count_label_type)\n",
    "df_count_label_type = df_count_label_type.reset_index()"
   ]
  },
  {
   "cell_type": "markdown",
   "metadata": {},
   "source": [
    "Now we separate the groups by those that have only one label and those that have two lables (irrespective of lables)"
   ]
  },
  {
   "cell_type": "code",
   "execution_count": 23,
   "metadata": {},
   "outputs": [
    {
     "data": {
      "text/html": [
       "<div>\n",
       "<style scoped>\n",
       "    .dataframe tbody tr th:only-of-type {\n",
       "        vertical-align: middle;\n",
       "    }\n",
       "\n",
       "    .dataframe tbody tr th {\n",
       "        vertical-align: top;\n",
       "    }\n",
       "\n",
       "    .dataframe thead th {\n",
       "        text-align: right;\n",
       "    }\n",
       "</style>\n",
       "<table border=\"1\" class=\"dataframe\">\n",
       "  <thead>\n",
       "    <tr style=\"text-align: right;\">\n",
       "      <th></th>\n",
       "      <th>group</th>\n",
       "      <th>label</th>\n",
       "    </tr>\n",
       "  </thead>\n",
       "  <tbody>\n",
       "    <tr>\n",
       "      <th>0</th>\n",
       "      <td>0</td>\n",
       "      <td>[0]</td>\n",
       "    </tr>\n",
       "    <tr>\n",
       "      <th>1</th>\n",
       "      <td>1</td>\n",
       "      <td>[0, 1]</td>\n",
       "    </tr>\n",
       "    <tr>\n",
       "      <th>2</th>\n",
       "      <td>2</td>\n",
       "      <td>[0, 1]</td>\n",
       "    </tr>\n",
       "    <tr>\n",
       "      <th>3</th>\n",
       "      <td>3</td>\n",
       "      <td>[0]</td>\n",
       "    </tr>\n",
       "    <tr>\n",
       "      <th>4</th>\n",
       "      <td>4</td>\n",
       "      <td>[0]</td>\n",
       "    </tr>\n",
       "    <tr>\n",
       "      <th>5</th>\n",
       "      <td>5</td>\n",
       "      <td>[0, 1]</td>\n",
       "    </tr>\n",
       "    <tr>\n",
       "      <th>6</th>\n",
       "      <td>6</td>\n",
       "      <td>[0, 1]</td>\n",
       "    </tr>\n",
       "    <tr>\n",
       "      <th>7</th>\n",
       "      <td>7</td>\n",
       "      <td>[0, 1]</td>\n",
       "    </tr>\n",
       "    <tr>\n",
       "      <th>8</th>\n",
       "      <td>8</td>\n",
       "      <td>[0]</td>\n",
       "    </tr>\n",
       "    <tr>\n",
       "      <th>9</th>\n",
       "      <td>9</td>\n",
       "      <td>[0, 1]</td>\n",
       "    </tr>\n",
       "  </tbody>\n",
       "</table>\n",
       "</div>"
      ],
      "text/plain": [
       "   group   label\n",
       "0      0     [0]\n",
       "1      1  [0, 1]\n",
       "2      2  [0, 1]\n",
       "3      3     [0]\n",
       "4      4     [0]\n",
       "5      5  [0, 1]\n",
       "6      6  [0, 1]\n",
       "7      7  [0, 1]\n",
       "8      8     [0]\n",
       "9      9  [0, 1]"
      ]
     },
     "execution_count": 23,
     "metadata": {},
     "output_type": "execute_result"
    }
   ],
   "source": [
    "df_count_label_type[:10]"
   ]
  },
  {
   "cell_type": "code",
   "execution_count": 38,
   "metadata": {},
   "outputs": [],
   "source": [
    "df_noise_hits = df_count_label_type.loc[np.array(\n",
    "    list(map(len, df_count_label_type.label.values))) > 1]"
   ]
  },
  {
   "cell_type": "code",
   "execution_count": 39,
   "metadata": {},
   "outputs": [
    {
     "data": {
      "text/html": [
       "<div>\n",
       "<style scoped>\n",
       "    .dataframe tbody tr th:only-of-type {\n",
       "        vertical-align: middle;\n",
       "    }\n",
       "\n",
       "    .dataframe tbody tr th {\n",
       "        vertical-align: top;\n",
       "    }\n",
       "\n",
       "    .dataframe thead th {\n",
       "        text-align: right;\n",
       "    }\n",
       "</style>\n",
       "<table border=\"1\" class=\"dataframe\">\n",
       "  <thead>\n",
       "    <tr style=\"text-align: right;\">\n",
       "      <th></th>\n",
       "      <th>group</th>\n",
       "      <th>label</th>\n",
       "    </tr>\n",
       "  </thead>\n",
       "  <tbody>\n",
       "    <tr>\n",
       "      <th>1</th>\n",
       "      <td>1</td>\n",
       "      <td>[0, 1]</td>\n",
       "    </tr>\n",
       "    <tr>\n",
       "      <th>2</th>\n",
       "      <td>2</td>\n",
       "      <td>[0, 1]</td>\n",
       "    </tr>\n",
       "    <tr>\n",
       "      <th>5</th>\n",
       "      <td>5</td>\n",
       "      <td>[0, 1]</td>\n",
       "    </tr>\n",
       "    <tr>\n",
       "      <th>6</th>\n",
       "      <td>6</td>\n",
       "      <td>[0, 1]</td>\n",
       "    </tr>\n",
       "    <tr>\n",
       "      <th>7</th>\n",
       "      <td>7</td>\n",
       "      <td>[0, 1]</td>\n",
       "    </tr>\n",
       "  </tbody>\n",
       "</table>\n",
       "</div>"
      ],
      "text/plain": [
       "   group   label\n",
       "1      1  [0, 1]\n",
       "2      2  [0, 1]\n",
       "5      5  [0, 1]\n",
       "6      6  [0, 1]\n",
       "7      7  [0, 1]"
      ]
     },
     "execution_count": 39,
     "metadata": {},
     "output_type": "execute_result"
    }
   ],
   "source": [
    "df_noise_hits.head()"
   ]
  },
  {
   "cell_type": "code",
   "execution_count": 40,
   "metadata": {},
   "outputs": [
    {
     "data": {
      "text/html": [
       "<div>\n",
       "<style scoped>\n",
       "    .dataframe tbody tr th:only-of-type {\n",
       "        vertical-align: middle;\n",
       "    }\n",
       "\n",
       "    .dataframe tbody tr th {\n",
       "        vertical-align: top;\n",
       "    }\n",
       "\n",
       "    .dataframe thead th {\n",
       "        text-align: right;\n",
       "    }\n",
       "</style>\n",
       "<table border=\"1\" class=\"dataframe\">\n",
       "  <thead>\n",
       "    <tr style=\"text-align: right;\">\n",
       "      <th></th>\n",
       "      <th>group</th>\n",
       "      <th>label</th>\n",
       "    </tr>\n",
       "  </thead>\n",
       "  <tbody>\n",
       "    <tr>\n",
       "      <th>0</th>\n",
       "      <td>0</td>\n",
       "      <td>[0]</td>\n",
       "    </tr>\n",
       "    <tr>\n",
       "      <th>3</th>\n",
       "      <td>3</td>\n",
       "      <td>[0]</td>\n",
       "    </tr>\n",
       "    <tr>\n",
       "      <th>4</th>\n",
       "      <td>4</td>\n",
       "      <td>[0]</td>\n",
       "    </tr>\n",
       "    <tr>\n",
       "      <th>8</th>\n",
       "      <td>8</td>\n",
       "      <td>[0]</td>\n",
       "    </tr>\n",
       "    <tr>\n",
       "      <th>10</th>\n",
       "      <td>10</td>\n",
       "      <td>[0]</td>\n",
       "    </tr>\n",
       "  </tbody>\n",
       "</table>\n",
       "</div>"
      ],
      "text/plain": [
       "    group label\n",
       "0       0   [0]\n",
       "3       3   [0]\n",
       "4       4   [0]\n",
       "8       8   [0]\n",
       "10     10   [0]"
      ]
     },
     "execution_count": 40,
     "metadata": {},
     "output_type": "execute_result"
    }
   ],
   "source": [
    "df_noise = df_count_label_type.loc[np.array(\n",
    "    list(map(len, df_count_label_type.label.values))) == 1]\n",
    "\n",
    "df_noise.head()"
   ]
  },
  {
   "cell_type": "markdown",
   "metadata": {},
   "source": [
    "Check to see if there are any groups that have just hits."
   ]
  },
  {
   "cell_type": "code",
   "execution_count": 69,
   "metadata": {},
   "outputs": [
    {
     "name": "stderr",
     "output_type": "stream",
     "text": [
      "/usr/local/lib/python3.7/site-packages/pandas/core/generic.py:4405: SettingWithCopyWarning: \n",
      "A value is trying to be set on a copy of a slice from a DataFrame.\n",
      "Try using .loc[row_indexer,col_indexer] = value instead\n",
      "\n",
      "See the caveats in the documentation: http://pandas.pydata.org/pandas-docs/stable/indexing.html#indexing-view-versus-copy\n",
      "  self[name] = value\n"
     ]
    },
    {
     "data": {
      "text/plain": [
       "array([0])"
      ]
     },
     "execution_count": 69,
     "metadata": {},
     "output_type": "execute_result"
    }
   ],
   "source": [
    "df_noise.label = df_noise.label.astype(int)\n",
    "df_noise.label.unique()"
   ]
  },
  {
   "cell_type": "markdown",
   "metadata": {},
   "source": [
    "Now we have a list of groups that have only noise and groups that have both noise and hits. We need to obtain the corresponding full rows for each"
   ]
  },
  {
   "cell_type": "markdown",
   "metadata": {},
   "source": [
    "# Timeslices with Only Noise\n",
    "\n",
    "Obtain the df groups that only contain noise and arrange by highest to lowest members."
   ]
  },
  {
   "cell_type": "code",
   "execution_count": 82,
   "metadata": {},
   "outputs": [],
   "source": [
    "df_noise.group\n",
    "data_noise = data[data.group.isin(df_noise.group)]"
   ]
  },
  {
   "cell_type": "code",
   "execution_count": 88,
   "metadata": {},
   "outputs": [
    {
     "data": {
      "text/html": [
       "<div>\n",
       "<style scoped>\n",
       "    .dataframe tbody tr th:only-of-type {\n",
       "        vertical-align: middle;\n",
       "    }\n",
       "\n",
       "    .dataframe tbody tr th {\n",
       "        vertical-align: top;\n",
       "    }\n",
       "\n",
       "    .dataframe thead th {\n",
       "        text-align: right;\n",
       "    }\n",
       "</style>\n",
       "<table border=\"1\" class=\"dataframe\">\n",
       "  <thead>\n",
       "    <tr style=\"text-align: right;\">\n",
       "      <th></th>\n",
       "      <th>dom_id</th>\n",
       "      <th>pmt_id</th>\n",
       "      <th>pos_x</th>\n",
       "      <th>pos_y</th>\n",
       "      <th>pos_z</th>\n",
       "      <th>dir_x</th>\n",
       "      <th>dir_y</th>\n",
       "      <th>dir_z</th>\n",
       "      <th>tot</th>\n",
       "      <th>time</th>\n",
       "      <th>label</th>\n",
       "      <th>group</th>\n",
       "    </tr>\n",
       "  </thead>\n",
       "  <tbody>\n",
       "    <tr>\n",
       "      <th>0</th>\n",
       "      <td>321.0</td>\n",
       "      <td>5.0</td>\n",
       "      <td>-17.661</td>\n",
       "      <td>32.245</td>\n",
       "      <td>65.231</td>\n",
       "      <td>-0.460</td>\n",
       "      <td>-0.266</td>\n",
       "      <td>-0.847</td>\n",
       "      <td>26.0</td>\n",
       "      <td>0.0</td>\n",
       "      <td>0</td>\n",
       "      <td>0</td>\n",
       "    </tr>\n",
       "    <tr>\n",
       "      <th>1</th>\n",
       "      <td>1653.0</td>\n",
       "      <td>23.0</td>\n",
       "      <td>11.595</td>\n",
       "      <td>85.465</td>\n",
       "      <td>65.459</td>\n",
       "      <td>-0.955</td>\n",
       "      <td>-0.000</td>\n",
       "      <td>0.296</td>\n",
       "      <td>27.0</td>\n",
       "      <td>0.0</td>\n",
       "      <td>0</td>\n",
       "      <td>0</td>\n",
       "    </tr>\n",
       "    <tr>\n",
       "      <th>2</th>\n",
       "      <td>275.0</td>\n",
       "      <td>9.0</td>\n",
       "      <td>-36.464</td>\n",
       "      <td>67.166</td>\n",
       "      <td>160.189</td>\n",
       "      <td>0.415</td>\n",
       "      <td>0.720</td>\n",
       "      <td>-0.556</td>\n",
       "      <td>26.0</td>\n",
       "      <td>0.0</td>\n",
       "      <td>0</td>\n",
       "      <td>0</td>\n",
       "    </tr>\n",
       "    <tr>\n",
       "      <th>3</th>\n",
       "      <td>1660.0</td>\n",
       "      <td>23.0</td>\n",
       "      <td>61.660</td>\n",
       "      <td>101.635</td>\n",
       "      <td>169.059</td>\n",
       "      <td>-0.955</td>\n",
       "      <td>-0.000</td>\n",
       "      <td>0.296</td>\n",
       "      <td>26.0</td>\n",
       "      <td>0.0</td>\n",
       "      <td>0</td>\n",
       "      <td>0</td>\n",
       "    </tr>\n",
       "    <tr>\n",
       "      <th>4</th>\n",
       "      <td>966.0</td>\n",
       "      <td>16.0</td>\n",
       "      <td>-54.510</td>\n",
       "      <td>-78.323</td>\n",
       "      <td>94.341</td>\n",
       "      <td>-0.827</td>\n",
       "      <td>0.478</td>\n",
       "      <td>-0.296</td>\n",
       "      <td>24.0</td>\n",
       "      <td>0.0</td>\n",
       "      <td>0</td>\n",
       "      <td>0</td>\n",
       "    </tr>\n",
       "  </tbody>\n",
       "</table>\n",
       "</div>"
      ],
      "text/plain": [
       "   dom_id  pmt_id   pos_x    pos_y    pos_z  dir_x  dir_y  dir_z   tot  time  \\\n",
       "0   321.0     5.0 -17.661   32.245   65.231 -0.460 -0.266 -0.847  26.0   0.0   \n",
       "1  1653.0    23.0  11.595   85.465   65.459 -0.955 -0.000  0.296  27.0   0.0   \n",
       "2   275.0     9.0 -36.464   67.166  160.189  0.415  0.720 -0.556  26.0   0.0   \n",
       "3  1660.0    23.0  61.660  101.635  169.059 -0.955 -0.000  0.296  26.0   0.0   \n",
       "4   966.0    16.0 -54.510  -78.323   94.341 -0.827  0.478 -0.296  24.0   0.0   \n",
       "\n",
       "   label  group  \n",
       "0      0      0  \n",
       "1      0      0  \n",
       "2      0      0  \n",
       "3      0      0  \n",
       "4      0      0  "
      ]
     },
     "execution_count": 88,
     "metadata": {},
     "output_type": "execute_result"
    }
   ],
   "source": [
    "data_noise.head()"
   ]
  },
  {
   "cell_type": "markdown",
   "metadata": {},
   "source": [
    "We can see that the mean size of groups with just noise is 6587 and the lowest have just 1 member. "
   ]
  },
  {
   "cell_type": "code",
   "execution_count": 92,
   "metadata": {},
   "outputs": [
    {
     "data": {
      "text/plain": [
       "count     2783.000000\n",
       "mean      6587.933884\n",
       "std       1127.594126\n",
       "min          1.000000\n",
       "25%       6729.000000\n",
       "50%       6784.000000\n",
       "75%       6840.000000\n",
       "max      12454.000000\n",
       "Name: label, dtype: float64"
      ]
     },
     "execution_count": 92,
     "metadata": {},
     "output_type": "execute_result"
    }
   ],
   "source": [
    "data_noise.groupby('group')['label'].count().sort_values(ascending=False).describe()"
   ]
  },
  {
   "cell_type": "code",
   "execution_count": 99,
   "metadata": {},
   "outputs": [
    {
     "data": {
      "text/plain": [
       "group\n",
       "0       12454\n",
       "4848     7081\n",
       "5550     7052\n",
       "3594     7050\n",
       "3609     7050\n",
       "1189     7042\n",
       "1304     7033\n",
       "5337     7020\n",
       "3042     7017\n",
       "3704     7017\n",
       "Name: label, dtype: int64"
      ]
     },
     "execution_count": 99,
     "metadata": {},
     "output_type": "execute_result"
    }
   ],
   "source": [
    "data_noise.groupby('group')['label'].count().sort_values(ascending=False)[:10]"
   ]
  },
  {
   "cell_type": "markdown",
   "metadata": {},
   "source": [
    "Lets take `group 0` and `group 3704` as a sample."
   ]
  },
  {
   "cell_type": "code",
   "execution_count": 106,
   "metadata": {},
   "outputs": [],
   "source": [
    "group_0 = data_noise[data_noise.group == 0][['pos_x', 'pos_y', 'pos_z']]\n",
    "group_0.to_csv(\"../data/group_0.csv\", index=False)"
   ]
  },
  {
   "cell_type": "code",
   "execution_count": 112,
   "metadata": {},
   "outputs": [],
   "source": [
    "group_4848 = data_noise[data_noise.group == 4848][['pos_x', 'pos_y', 'pos_z']]\n",
    "group_4848.to_csv(\"../data/group_4848.csv\", index=False)"
   ]
  },
  {
   "cell_type": "markdown",
   "metadata": {},
   "source": [
    "# Timeslices with Noise and HIts\n",
    "Obtain the df groups that only contain noise and hits and arrange by highest to lowest members."
   ]
  },
  {
   "cell_type": "code",
   "execution_count": 113,
   "metadata": {},
   "outputs": [],
   "source": [
    "data_noise_hits = data[data.group.isin(df_noise_hits.group)]"
   ]
  },
  {
   "cell_type": "code",
   "execution_count": 114,
   "metadata": {},
   "outputs": [
    {
     "data": {
      "text/html": [
       "<div>\n",
       "<style scoped>\n",
       "    .dataframe tbody tr th:only-of-type {\n",
       "        vertical-align: middle;\n",
       "    }\n",
       "\n",
       "    .dataframe tbody tr th {\n",
       "        vertical-align: top;\n",
       "    }\n",
       "\n",
       "    .dataframe thead th {\n",
       "        text-align: right;\n",
       "    }\n",
       "</style>\n",
       "<table border=\"1\" class=\"dataframe\">\n",
       "  <thead>\n",
       "    <tr style=\"text-align: right;\">\n",
       "      <th></th>\n",
       "      <th>dom_id</th>\n",
       "      <th>pmt_id</th>\n",
       "      <th>pos_x</th>\n",
       "      <th>pos_y</th>\n",
       "      <th>pos_z</th>\n",
       "      <th>dir_x</th>\n",
       "      <th>dir_y</th>\n",
       "      <th>dir_z</th>\n",
       "      <th>tot</th>\n",
       "      <th>time</th>\n",
       "      <th>label</th>\n",
       "      <th>group</th>\n",
       "    </tr>\n",
       "  </thead>\n",
       "  <tbody>\n",
       "    <tr>\n",
       "      <th>12454</th>\n",
       "      <td>485.0</td>\n",
       "      <td>17.0</td>\n",
       "      <td>-73.568</td>\n",
       "      <td>30.247</td>\n",
       "      <td>47.241</td>\n",
       "      <td>-0.827</td>\n",
       "      <td>-0.478</td>\n",
       "      <td>-0.296</td>\n",
       "      <td>27.0</td>\n",
       "      <td>15001.0</td>\n",
       "      <td>0</td>\n",
       "      <td>1</td>\n",
       "    </tr>\n",
       "    <tr>\n",
       "      <th>12455</th>\n",
       "      <td>618.0</td>\n",
       "      <td>31.0</td>\n",
       "      <td>12.056</td>\n",
       "      <td>13.517</td>\n",
       "      <td>151.011</td>\n",
       "      <td>0.719</td>\n",
       "      <td>-0.415</td>\n",
       "      <td>0.558</td>\n",
       "      <td>28.0</td>\n",
       "      <td>15003.0</td>\n",
       "      <td>0</td>\n",
       "      <td>1</td>\n",
       "    </tr>\n",
       "    <tr>\n",
       "      <th>12456</th>\n",
       "      <td>1011.0</td>\n",
       "      <td>4.0</td>\n",
       "      <td>-26.602</td>\n",
       "      <td>-94.884</td>\n",
       "      <td>178.231</td>\n",
       "      <td>-0.460</td>\n",
       "      <td>0.266</td>\n",
       "      <td>-0.847</td>\n",
       "      <td>28.0</td>\n",
       "      <td>15009.0</td>\n",
       "      <td>0</td>\n",
       "      <td>1</td>\n",
       "    </tr>\n",
       "    <tr>\n",
       "      <th>12457</th>\n",
       "      <td>1720.0</td>\n",
       "      <td>19.0</td>\n",
       "      <td>2.695</td>\n",
       "      <td>104.221</td>\n",
       "      <td>112.441</td>\n",
       "      <td>0.827</td>\n",
       "      <td>-0.478</td>\n",
       "      <td>-0.296</td>\n",
       "      <td>25.0</td>\n",
       "      <td>15011.0</td>\n",
       "      <td>0</td>\n",
       "      <td>1</td>\n",
       "    </tr>\n",
       "    <tr>\n",
       "      <th>12458</th>\n",
       "      <td>1442.0</td>\n",
       "      <td>31.0</td>\n",
       "      <td>88.235</td>\n",
       "      <td>50.983</td>\n",
       "      <td>187.211</td>\n",
       "      <td>0.719</td>\n",
       "      <td>-0.415</td>\n",
       "      <td>0.558</td>\n",
       "      <td>28.0</td>\n",
       "      <td>15017.0</td>\n",
       "      <td>0</td>\n",
       "      <td>1</td>\n",
       "    </tr>\n",
       "  </tbody>\n",
       "</table>\n",
       "</div>"
      ],
      "text/plain": [
       "       dom_id  pmt_id   pos_x    pos_y    pos_z  dir_x  dir_y  dir_z   tot  \\\n",
       "12454   485.0    17.0 -73.568   30.247   47.241 -0.827 -0.478 -0.296  27.0   \n",
       "12455   618.0    31.0  12.056   13.517  151.011  0.719 -0.415  0.558  28.0   \n",
       "12456  1011.0     4.0 -26.602  -94.884  178.231 -0.460  0.266 -0.847  28.0   \n",
       "12457  1720.0    19.0   2.695  104.221  112.441  0.827 -0.478 -0.296  25.0   \n",
       "12458  1442.0    31.0  88.235   50.983  187.211  0.719 -0.415  0.558  28.0   \n",
       "\n",
       "          time  label  group  \n",
       "12454  15001.0      0      1  \n",
       "12455  15003.0      0      1  \n",
       "12456  15009.0      0      1  \n",
       "12457  15011.0      0      1  \n",
       "12458  15017.0      0      1  "
      ]
     },
     "execution_count": 114,
     "metadata": {},
     "output_type": "execute_result"
    }
   ],
   "source": [
    "data_noise_hits.head()"
   ]
  },
  {
   "cell_type": "markdown",
   "metadata": {},
   "source": [
    "We can see that the mean size of groups with just noise is 6587 and the lowest have just 1 member. "
   ]
  },
  {
   "cell_type": "code",
   "execution_count": 115,
   "metadata": {},
   "outputs": [
    {
     "data": {
      "text/plain": [
       "count    3976.000000\n",
       "mean     6912.976861\n",
       "std       200.590617\n",
       "min      6550.000000\n",
       "25%      6788.000000\n",
       "50%      6869.000000\n",
       "75%      6975.000000\n",
       "max      8542.000000\n",
       "Name: label, dtype: float64"
      ]
     },
     "execution_count": 115,
     "metadata": {},
     "output_type": "execute_result"
    }
   ],
   "source": [
    "data_noise_hits.groupby('group')['label'].count().sort_values(ascending=False).describe()"
   ]
  },
  {
   "cell_type": "code",
   "execution_count": 116,
   "metadata": {},
   "outputs": [
    {
     "data": {
      "text/plain": [
       "group\n",
       "1637    8542\n",
       "615     8483\n",
       "5866    8450\n",
       "5857    8313\n",
       "554     8196\n",
       "1273    8157\n",
       "3170    8084\n",
       "2021    8064\n",
       "4301    8048\n",
       "6495    8003\n",
       "Name: label, dtype: int64"
      ]
     },
     "execution_count": 116,
     "metadata": {},
     "output_type": "execute_result"
    }
   ],
   "source": [
    "data_noise_hits.groupby('group')['label'].count().sort_values(ascending=False)[:10]"
   ]
  },
  {
   "cell_type": "markdown",
   "metadata": {},
   "source": [
    "Lets take `group 1637` and `group 615` as a sample."
   ]
  },
  {
   "cell_type": "code",
   "execution_count": 119,
   "metadata": {},
   "outputs": [],
   "source": [
    "group_1637 = data_noise_hits[data_noise_hits.group == 1637][['pos_x', 'pos_y', 'pos_z']]\n",
    "group_1637.to_csv(\"../data/group_1637.csv\", index=False)"
   ]
  },
  {
   "cell_type": "code",
   "execution_count": 120,
   "metadata": {},
   "outputs": [],
   "source": [
    "group_615 = data_noise_hits[data_noise_hits.group == 615][['pos_x', 'pos_y', 'pos_z']]\n",
    "group_615.to_csv(\"../data/group_615.csv\", index=False)"
   ]
  }
 ],
 "metadata": {
  "kernelspec": {
   "display_name": "km3net",
   "language": "python",
   "name": "km3net"
  },
  "language_info": {
   "codemirror_mode": {
    "name": "ipython",
    "version": 3
   },
   "file_extension": ".py",
   "mimetype": "text/x-python",
   "name": "python",
   "nbconvert_exporter": "python",
   "pygments_lexer": "ipython3",
   "version": "3.7.3"
  }
 },
 "nbformat": 4,
 "nbformat_minor": 2
}
