{
 "cells": [
  {
   "cell_type": "markdown",
   "metadata": {},
   "source": [
    "# Preprocessing Mesh"
   ]
  },
  {
   "cell_type": "markdown",
   "metadata": {},
   "source": [
    "## Clustering Algorithm\n",
    "\n",
    "\n",
    "## Radius Based Outlier Detection"
   ]
  },
  {
   "cell_type": "code",
   "execution_count": 1,
   "metadata": {},
   "outputs": [],
   "source": [
    "import numpy as np\n",
    "import pandas as pd\n",
    "import open3d as o3d\n",
    "import os\n",
    "import glob\n",
    "\n",
    "import matplotlib.pyplot as plt"
   ]
  },
  {
   "cell_type": "code",
   "execution_count": 3,
   "metadata": {},
   "outputs": [],
   "source": [
    "def normalise(pcd):\n",
    "    \"\"\"\n",
    "    Computes the normals of a point cloud. Normals are oriented \n",
    "    with respect to the input point cloud if normals exist.\n",
    "    Next, converts float64 numpy array of shape (n, 3) to Open3D format.\n",
    "    Computed points are returned\n",
    "    \"\"\"\n",
    "    \n",
    "    radius = 0.1\n",
    "    max_nn = 300\n",
    "\n",
    "    try:\n",
    "        pcd.estimate_normals(search_param = o3d.geometry.KDTreeSearchParamHybrid(radius,\n",
    "                                                                                 max_nn),\n",
    "                             fast_normal_computation=False)\n",
    "        pcd.normals = o3d.utility.Vector3dVector(np.asarray(pcd.normals))\n",
    "        return pcd\n",
    "    except RuntimeError:\n",
    "        print(\"Normals were not computed!\")\n",
    "        \n",
    "\n",
    "def initialise_pointcloud(point_cloud):\n",
    "    '''\n",
    "    Addddd here\n",
    "    '''\n",
    "    pcd = o3d.geometry.PointCloud()\n",
    "    pcd.points = o3d.utility.Vector3dVector(point_cloud)\n",
    "    normalised_pcd = normalise(pcd)\n",
    "    pcd.points = o3d.utility.Vector3dVector(point_cloud[:,:3])\n",
    "    \n",
    "    return pcd\n",
    "\n",
    "\n",
    "def visualise(pcd):\n",
    "    '''\n",
    "    Visualise Point Cloud\n",
    "    '''\n",
    "    o3d.visualization.draw_geometries([pcd])\n",
    "\n",
    "    \n",
    "def count_clusters(pcd):\n",
    "    '''\n",
    "    Use DBScan to generate clusters\n",
    "    '''\n",
    "    with o3d.utility.VerbosityContextManager(o3d.utility.VerbosityLevel.Debug) as cm:\n",
    "        labels = np.array(pcd.cluster_dbscan(eps=100, min_points=100, print_progress=False))\n",
    "    \n",
    "    max_label = labels.max() + 1\n",
    "    print(f\"point cloud has {max_label} clusters\")\n",
    "    colors = plt.get_cmap(\"tab20\")(labels / (max_label if max_label > 0 else 1))\n",
    "    colors[labels < 0] = 0\n",
    "    pcd.colors = o3d.utility.Vector3dVector(colors[:, :3])\n",
    "        \n",
    "    return max_label\n",
    "\n",
    "\n",
    "def outlier_removal_validity(no_of_clusters):\n",
    "    if no_of_clusters == 0:\n",
    "        print(\"Save the whole thing & dont remove outliers\")\n",
    "        return False\n",
    "    else:\n",
    "        print(\"check for outliers and remove\")  \n",
    "        return True\n",
    "    \n",
    "\n",
    "def remove_outliers(pcd):\n",
    "    '''\n",
    "    Remove outliers based on radius\n",
    "    '''\n",
    "    \n",
    "    distances = pcd.compute_nearest_neighbor_distance()\n",
    "    avg_dist = np.mean(distances)\n",
    "    radius = 3.6 * avg_dist \n",
    "    \n",
    "    cl, ind = pcd.remove_radius_outlier(nb_points=32, radius=radius)\n",
    "    \n",
    "    return cl, ind\n",
    "\n",
    "\n",
    "def display_inlier_outlier(cloud, ind):\n",
    "    inlier_cloud = cloud.select_by_index(ind)\n",
    "    outlier_cloud = cloud.select_by_index(ind, invert=True)\n",
    "\n",
    "    print(\"Showing outliers (red) and inliers (gray): \")\n",
    "    outlier_cloud.paint_uniform_color([1, 0, 0])\n",
    "    inlier_cloud.paint_uniform_color([0.8, 0.8, 0.8])\n",
    "    \n",
    "    o3d.visualization.draw_geometries([inlier_cloud, outlier_cloud])\n",
    "    \n",
    "\n",
    "def save_xyz(pcd, choice, filename):\n",
    "    '''\n",
    "    Save the xyz points\n",
    "    '''\n",
    "    o3d.io.write_point_cloud(output_path +\n",
    "                             choice + \n",
    "                             filename + \n",
    "                             '.xyz',\n",
    "                             pcd)"
   ]
  },
  {
   "cell_type": "code",
   "execution_count": 4,
   "metadata": {},
   "outputs": [],
   "source": [
    "def preprocess_noise(choice):\n",
    "    print(\"Working on noise files now...\")\n",
    "    \n",
    "    for file in glob.glob(input_path + choice + \"*.xyz\"):\n",
    "        point_cloud = np.loadtxt(file)\n",
    "        filename = os.path.splitext(os.path.basename(file))[0]\n",
    "        \n",
    "        pcd = initialise_pointcloud(point_cloud)\n",
    "        cl, ind = remove_outliers(pcd)\n",
    "        save_xyz(cl, choice, filename)\n",
<<<<<<< HEAD
    "\n",
    "        \n",
    "#         no_of_clusters = count_clusters(pcd)\n",
    "        \n",
=======
    "        \n",
    "        \n",
    "#         no_of_clusters = count_clusters(pcd)\n",
>>>>>>> mesh-techniques
    "#         validity = outlier_removal_validity(no_of_clusters)\n",
    "        \n",
    "#         if validity == True:\n",
    "#             cl, ind = remove_outliers(pcd)\n",
    "#             # display_inlier_outlier(pcd, ind)\n",
    "#             save_xyz(cl, choice, filename)\n",
    "#         else:\n",
    "#             save_xyz(pcd, choice, filename)\n",
<<<<<<< HEAD
=======
    "\n",
>>>>>>> mesh-techniques
    "        \n",
    "def preprocess_mixed(choice):\n",
    "    print(\"Working on mixed files now...\")\n",
    "    \n",
    "    for file in glob.glob(input_path + choice + \"*.xyz\"):\n",
    "        point_cloud = np.loadtxt(file)\n",
    "        filename = os.path.splitext(os.path.basename(file))[0]\n",
    "        \n",
    "        pcd = initialise_pointcloud(point_cloud)\n",
<<<<<<< HEAD
    "        cl, ind = remove_outliers(pcd)         \n",
=======
    "        cl, ind = remove_outliers(pcd)\n",
>>>>>>> mesh-techniques
    "        save_xyz(cl, choice, filename)\n",
    "        \n",
    "#         no_of_clusters = count_clusters(pcd)\n",
    "    \n",
    "#         validity = outlier_removal_validity(no_of_clusters)\n",
    "        \n",
    "#         if validity == True:\n",
    "#             cl, ind = remove_outliers(pcd)\n",
    "#             # display_inlier_outlier(pcd, ind)\n",
    "#             save_xyz(cl, choice, filename)\n",
    "#         else:\n",
    "#             save_xyz(pcd, choice,  filename)"
   ]
  },
  {
   "cell_type": "code",
   "execution_count": 5,
   "metadata": {},
   "outputs": [
    {
     "name": "stdout",
     "output_type": "stream",
     "text": [
      "Working on noise files now...\n",
      "Working on mixed files now...\n"
     ]
    }
   ],
   "source": [
    "input_path = \"../../../data/unsampled/xzt/points/\"\n",
    "output_path = \"../../../data/unsampled/xzt/processed_points/\"\n",
    "data_choices = [\"noise/\", \"mixed/\"]\n",
    "data_types = [\"noise\", \"mixed\" ]\n",
    "\n",
    "for choice, types in zip(data_choices, data_types):\n",
    "    {'noise': preprocess_noise,\n",
    "     'mixed': preprocess_mixed}[types](choice)"
   ]
  },
  {
   "cell_type": "code",
   "execution_count": null,
   "metadata": {},
   "outputs": [],
   "source": []
  }
 ],
 "metadata": {
  "kernelspec": {
   "display_name": "km3net",
   "language": "python",
   "name": "km3net"
  },
  "language_info": {
   "codemirror_mode": {
    "name": "ipython",
    "version": 3
   },
   "file_extension": ".py",
   "mimetype": "text/x-python",
   "name": "python",
   "nbconvert_exporter": "python",
   "pygments_lexer": "ipython3",
   "version": "3.7.3"
  }
 },
 "nbformat": 4,
 "nbformat_minor": 4
}
