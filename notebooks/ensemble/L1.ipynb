{
 "cells": [
  {
   "cell_type": "markdown",
   "metadata": {},
   "source": [
    "1. Read Test Data\n",
    "2. For each timeslice:\n",
    "    2.1 For each DOM check if time diff < 10ns"
   ]
  },
  {
   "cell_type": "code",
   "execution_count": 143,
   "metadata": {},
   "outputs": [],
   "source": [
    "import pandas as pd\n",
    "import numpy as np\n",
    "import os\n",
    "import random\n",
    "from random import shuffle\n",
    "import shutil"
   ]
  },
  {
   "cell_type": "code",
   "execution_count": 177,
   "metadata": {},
   "outputs": [],
   "source": [
    "NOISE_PATH = \"../../data/ensemble/xyt/meshes/0/train/\"\n",
    "EVENTS_PATH = \"../../data/ensemble/xyt/meshes/1/test/\"\n",
    "DATA_PATH = \"../../data/time_data.csv\"\n",
    "\n",
    "columns = [\"pmt_id\",\n",
    "           \"dir_x\",\n",
    "           \"dir_y\",\n",
    "           \"dir_z\",\n",
    "           \"tot\"]"
   ]
  },
  {
   "cell_type": "code",
   "execution_count": 178,
   "metadata": {},
   "outputs": [],
   "source": [
    "df = pd.read_csv(DATA_PATH)\n",
    "df = df.drop(columns, axis=1)"
   ]
  },
  {
   "cell_type": "code",
   "execution_count": 179,
   "metadata": {},
   "outputs": [],
   "source": [
    "noise_files = [file for file in os.listdir(NOISE_PATH) if file.endswith(\".off\")]\n",
    "event_files = [file for file in os.listdir(EVENTS_PATH) if file.endswith(\".off\")]"
   ]
  },
  {
   "cell_type": "code",
   "execution_count": 180,
   "metadata": {},
   "outputs": [],
   "source": [
    "noise_files = [int(file.split(\"_\")[1]) for file in noise_files]\n",
    "event_files = [int(file.split(\"_\")[1]) for file in event_files]"
   ]
  },
  {
   "cell_type": "code",
   "execution_count": 181,
   "metadata": {},
   "outputs": [],
   "source": [
    "noise_df = df[df.group.isin(noise_files)]\n",
    "event_df = df[df.group.isin(event_files)]"
   ]
  },
  {
   "cell_type": "code",
   "execution_count": 182,
   "metadata": {},
   "outputs": [],
   "source": [
    "noise_df = noise_df.sort_values(by=['group', 'dom_id'])"
   ]
  },
  {
   "cell_type": "code",
   "execution_count": 183,
   "metadata": {},
   "outputs": [],
   "source": [
    "noise_diff = noise_df.groupby(['group','dom_id']).diff()"
   ]
  },
  {
   "cell_type": "code",
   "execution_count": 245,
   "metadata": {},
   "outputs": [],
   "source": [
    "incorrect_noise = noise_diff[noise_diff.time < 10]"
   ]
  },
  {
   "cell_type": "code",
   "execution_count": 246,
   "metadata": {},
   "outputs": [],
   "source": [
    "tagged_noise = noise_df[noise_df.index.isin(incorrect_noise.index)]"
   ]
  },
  {
   "cell_type": "code",
   "execution_count": 251,
   "metadata": {},
   "outputs": [],
   "source": [
    "tagged_noise = tagged_noise.groupby(['group', 'dom_id']).count().sort_values('time', ascending=False)[:20]"
   ]
  },
  {
   "cell_type": "code",
   "execution_count": 252,
   "metadata": {},
   "outputs": [
    {
     "data": {
      "text/plain": [
       "array([   0, 3968,  208,  788])"
      ]
     },
     "execution_count": 252,
     "metadata": {},
     "output_type": "execute_result"
    }
   ],
   "source": [
    "tagged_noise.reset_index().group.unique()"
   ]
  },
  {
   "cell_type": "markdown",
   "metadata": {},
   "source": [
    "# Event"
   ]
  },
  {
   "cell_type": "code",
   "execution_count": 272,
   "metadata": {},
   "outputs": [],
   "source": [
    "event_df = event_df.sort_values(by=['group', 'dom_id'])"
   ]
  },
  {
   "cell_type": "code",
   "execution_count": 273,
   "metadata": {},
   "outputs": [],
   "source": [
    "event_diff = event_df.groupby(['group','dom_id']).diff()"
   ]
  },
  {
   "cell_type": "code",
   "execution_count": 274,
   "metadata": {},
   "outputs": [],
   "source": [
    "correct_events = event_diff[event_diff.time < 10]\n",
    "correct_events  = event_df[event_df.index.isin(correct_events.index)]"
   ]
  },
  {
   "cell_type": "code",
   "execution_count": 283,
   "metadata": {},
   "outputs": [
    {
     "data": {
      "text/html": [
       "<div>\n",
       "<style scoped>\n",
       "    .dataframe tbody tr th:only-of-type {\n",
       "        vertical-align: middle;\n",
       "    }\n",
       "\n",
       "    .dataframe tbody tr th {\n",
       "        vertical-align: top;\n",
       "    }\n",
       "\n",
       "    .dataframe thead th {\n",
       "        text-align: right;\n",
       "    }\n",
       "</style>\n",
       "<table border=\"1\" class=\"dataframe\">\n",
       "  <thead>\n",
       "    <tr style=\"text-align: right;\">\n",
       "      <th></th>\n",
       "      <th></th>\n",
       "      <th>pos_x</th>\n",
       "      <th>pos_y</th>\n",
       "      <th>pos_z</th>\n",
       "      <th>time</th>\n",
       "      <th>label</th>\n",
       "    </tr>\n",
       "    <tr>\n",
       "      <th>group</th>\n",
       "      <th>dom_id</th>\n",
       "      <th></th>\n",
       "      <th></th>\n",
       "      <th></th>\n",
       "      <th></th>\n",
       "      <th></th>\n",
       "    </tr>\n",
       "  </thead>\n",
       "  <tbody>\n",
       "    <tr>\n",
       "      <th>394</th>\n",
       "      <th>13.0</th>\n",
       "      <td>1</td>\n",
       "      <td>1</td>\n",
       "      <td>1</td>\n",
       "      <td>1</td>\n",
       "      <td>1</td>\n",
       "    </tr>\n",
       "    <tr>\n",
       "      <th rowspan=\"4\" valign=\"top\">3287</th>\n",
       "      <th>1614.0</th>\n",
       "      <td>1</td>\n",
       "      <td>1</td>\n",
       "      <td>1</td>\n",
       "      <td>1</td>\n",
       "      <td>1</td>\n",
       "    </tr>\n",
       "    <tr>\n",
       "      <th>1625.0</th>\n",
       "      <td>1</td>\n",
       "      <td>1</td>\n",
       "      <td>1</td>\n",
       "      <td>1</td>\n",
       "      <td>1</td>\n",
       "    </tr>\n",
       "    <tr>\n",
       "      <th>1626.0</th>\n",
       "      <td>1</td>\n",
       "      <td>1</td>\n",
       "      <td>1</td>\n",
       "      <td>1</td>\n",
       "      <td>1</td>\n",
       "    </tr>\n",
       "    <tr>\n",
       "      <th>1663.0</th>\n",
       "      <td>1</td>\n",
       "      <td>1</td>\n",
       "      <td>1</td>\n",
       "      <td>1</td>\n",
       "      <td>1</td>\n",
       "    </tr>\n",
       "    <tr>\n",
       "      <th>...</th>\n",
       "      <th>...</th>\n",
       "      <td>...</td>\n",
       "      <td>...</td>\n",
       "      <td>...</td>\n",
       "      <td>...</td>\n",
       "      <td>...</td>\n",
       "    </tr>\n",
       "    <tr>\n",
       "      <th>3025</th>\n",
       "      <th>410.0</th>\n",
       "      <td>3</td>\n",
       "      <td>3</td>\n",
       "      <td>3</td>\n",
       "      <td>3</td>\n",
       "      <td>3</td>\n",
       "    </tr>\n",
       "    <tr>\n",
       "      <th>1488</th>\n",
       "      <th>1428.0</th>\n",
       "      <td>3</td>\n",
       "      <td>3</td>\n",
       "      <td>3</td>\n",
       "      <td>3</td>\n",
       "      <td>3</td>\n",
       "    </tr>\n",
       "    <tr>\n",
       "      <th>1869</th>\n",
       "      <th>1570.0</th>\n",
       "      <td>3</td>\n",
       "      <td>3</td>\n",
       "      <td>3</td>\n",
       "      <td>3</td>\n",
       "      <td>3</td>\n",
       "    </tr>\n",
       "    <tr>\n",
       "      <th>1637</th>\n",
       "      <th>551.0</th>\n",
       "      <td>3</td>\n",
       "      <td>3</td>\n",
       "      <td>3</td>\n",
       "      <td>3</td>\n",
       "      <td>3</td>\n",
       "    </tr>\n",
       "    <tr>\n",
       "      <th>639</th>\n",
       "      <th>1199.0</th>\n",
       "      <td>3</td>\n",
       "      <td>3</td>\n",
       "      <td>3</td>\n",
       "      <td>3</td>\n",
       "      <td>3</td>\n",
       "    </tr>\n",
       "  </tbody>\n",
       "</table>\n",
       "<p>4000 rows × 5 columns</p>\n",
       "</div>"
      ],
      "text/plain": [
       "              pos_x  pos_y  pos_z  time  label\n",
       "group dom_id                                  \n",
       "394   13.0        1      1      1     1      1\n",
       "3287  1614.0      1      1      1     1      1\n",
       "      1625.0      1      1      1     1      1\n",
       "      1626.0      1      1      1     1      1\n",
       "      1663.0      1      1      1     1      1\n",
       "...             ...    ...    ...   ...    ...\n",
       "3025  410.0       3      3      3     3      3\n",
       "1488  1428.0      3      3      3     3      3\n",
       "1869  1570.0      3      3      3     3      3\n",
       "1637  551.0       3      3      3     3      3\n",
       "639   1199.0      3      3      3     3      3\n",
       "\n",
       "[4000 rows x 5 columns]"
      ]
     },
     "execution_count": 283,
     "metadata": {},
     "output_type": "execute_result"
    }
   ],
   "source": [
    "correct_events"
   ]
  },
  {
   "cell_type": "code",
   "execution_count": 285,
   "metadata": {},
   "outputs": [],
   "source": [
    "correct_events = correct_events.groupby(['group', 'dom_id']).count().sort_values('time')[:3000]"
   ]
  },
  {
   "cell_type": "code",
   "execution_count": 286,
   "metadata": {},
   "outputs": [
    {
     "data": {
      "text/html": [
       "<div>\n",
       "<style scoped>\n",
       "    .dataframe tbody tr th:only-of-type {\n",
       "        vertical-align: middle;\n",
       "    }\n",
       "\n",
       "    .dataframe tbody tr th {\n",
       "        vertical-align: top;\n",
       "    }\n",
       "\n",
       "    .dataframe thead th {\n",
       "        text-align: right;\n",
       "    }\n",
       "</style>\n",
       "<table border=\"1\" class=\"dataframe\">\n",
       "  <thead>\n",
       "    <tr style=\"text-align: right;\">\n",
       "      <th></th>\n",
       "      <th></th>\n",
       "      <th>pos_x</th>\n",
       "      <th>pos_y</th>\n",
       "      <th>pos_z</th>\n",
       "      <th>time</th>\n",
       "      <th>label</th>\n",
       "    </tr>\n",
       "    <tr>\n",
       "      <th>group</th>\n",
       "      <th>dom_id</th>\n",
       "      <th></th>\n",
       "      <th></th>\n",
       "      <th></th>\n",
       "      <th></th>\n",
       "      <th></th>\n",
       "    </tr>\n",
       "  </thead>\n",
       "  <tbody>\n",
       "    <tr>\n",
       "      <th>394</th>\n",
       "      <th>13.0</th>\n",
       "      <td>1</td>\n",
       "      <td>1</td>\n",
       "      <td>1</td>\n",
       "      <td>1</td>\n",
       "      <td>1</td>\n",
       "    </tr>\n",
       "    <tr>\n",
       "      <th rowspan=\"4\" valign=\"top\">4460</th>\n",
       "      <th>1553.0</th>\n",
       "      <td>1</td>\n",
       "      <td>1</td>\n",
       "      <td>1</td>\n",
       "      <td>1</td>\n",
       "      <td>1</td>\n",
       "    </tr>\n",
       "    <tr>\n",
       "      <th>1566.0</th>\n",
       "      <td>1</td>\n",
       "      <td>1</td>\n",
       "      <td>1</td>\n",
       "      <td>1</td>\n",
       "      <td>1</td>\n",
       "    </tr>\n",
       "    <tr>\n",
       "      <th>1568.0</th>\n",
       "      <td>1</td>\n",
       "      <td>1</td>\n",
       "      <td>1</td>\n",
       "      <td>1</td>\n",
       "      <td>1</td>\n",
       "    </tr>\n",
       "    <tr>\n",
       "      <th>1590.0</th>\n",
       "      <td>1</td>\n",
       "      <td>1</td>\n",
       "      <td>1</td>\n",
       "      <td>1</td>\n",
       "      <td>1</td>\n",
       "    </tr>\n",
       "    <tr>\n",
       "      <th>...</th>\n",
       "      <th>...</th>\n",
       "      <td>...</td>\n",
       "      <td>...</td>\n",
       "      <td>...</td>\n",
       "      <td>...</td>\n",
       "      <td>...</td>\n",
       "    </tr>\n",
       "    <tr>\n",
       "      <th rowspan=\"3\" valign=\"top\">1141</th>\n",
       "      <th>336.0</th>\n",
       "      <td>1</td>\n",
       "      <td>1</td>\n",
       "      <td>1</td>\n",
       "      <td>1</td>\n",
       "      <td>1</td>\n",
       "    </tr>\n",
       "    <tr>\n",
       "      <th>337.0</th>\n",
       "      <td>1</td>\n",
       "      <td>1</td>\n",
       "      <td>1</td>\n",
       "      <td>1</td>\n",
       "      <td>1</td>\n",
       "    </tr>\n",
       "    <tr>\n",
       "      <th>284.0</th>\n",
       "      <td>1</td>\n",
       "      <td>1</td>\n",
       "      <td>1</td>\n",
       "      <td>1</td>\n",
       "      <td>1</td>\n",
       "    </tr>\n",
       "    <tr>\n",
       "      <th rowspan=\"2\" valign=\"top\">1516</th>\n",
       "      <th>1624.0</th>\n",
       "      <td>1</td>\n",
       "      <td>1</td>\n",
       "      <td>1</td>\n",
       "      <td>1</td>\n",
       "      <td>1</td>\n",
       "    </tr>\n",
       "    <tr>\n",
       "      <th>1625.0</th>\n",
       "      <td>1</td>\n",
       "      <td>1</td>\n",
       "      <td>1</td>\n",
       "      <td>1</td>\n",
       "      <td>1</td>\n",
       "    </tr>\n",
       "  </tbody>\n",
       "</table>\n",
       "<p>3000 rows × 5 columns</p>\n",
       "</div>"
      ],
      "text/plain": [
       "              pos_x  pos_y  pos_z  time  label\n",
       "group dom_id                                  \n",
       "394   13.0        1      1      1     1      1\n",
       "4460  1553.0      1      1      1     1      1\n",
       "      1566.0      1      1      1     1      1\n",
       "      1568.0      1      1      1     1      1\n",
       "      1590.0      1      1      1     1      1\n",
       "...             ...    ...    ...   ...    ...\n",
       "1141  336.0       1      1      1     1      1\n",
       "      337.0       1      1      1     1      1\n",
       "      284.0       1      1      1     1      1\n",
       "1516  1624.0      1      1      1     1      1\n",
       "      1625.0      1      1      1     1      1\n",
       "\n",
       "[3000 rows x 5 columns]"
      ]
     },
     "execution_count": 286,
     "metadata": {},
     "output_type": "execute_result"
    }
   ],
   "source": [
    "correct_events"
   ]
  },
  {
   "cell_type": "code",
   "execution_count": 287,
   "metadata": {},
   "outputs": [
    {
     "data": {
      "text/plain": [
       "31"
      ]
     },
     "execution_count": 287,
     "metadata": {},
     "output_type": "execute_result"
    }
   ],
   "source": [
    "len(correct_events.reset_index().group.unique())"
   ]
  },
  {
   "cell_type": "code",
   "execution_count": 288,
   "metadata": {},
   "outputs": [
    {
     "data": {
      "text/plain": [
       "40"
      ]
     },
     "execution_count": 288,
     "metadata": {},
     "output_type": "execute_result"
    }
   ],
   "source": [
    "len(event_df.group.unique())"
   ]
  },
  {
   "cell_type": "code",
   "execution_count": null,
   "metadata": {},
   "outputs": [],
   "source": []
  },
  {
   "cell_type": "code",
   "execution_count": 313,
   "metadata": {},
   "outputs": [],
   "source": [
    "from sklearn.metrics import confusion_matrix\n",
    "\n",
    "y_actu = pd.Series([0, 0, 0, 0, 0, 0, 0, 0, 0,\n",
    "                    0, 0, 0, 0, 0, 0, 0, 0, 0,\n",
    "                    0, 0, 0, 0, 0, 0, 0, 0, 0,\n",
    "                    0, 0, 0, 0, 0, 0, 0, 0, 0], name='Actual')\n",
    "\n",
    "y_pred = pd.Series([1, 0, 0, 0, 0, 0, 0, 0, 0,\n",
    "                    0, 0, 1, 0, 0, 0, 0, 0, 0,\n",
    "                    0, 1, 0, 0, 0, 0, 1, 0, 0,\n",
    "                    0, 1, 0, 0, 0, 0, 0, 0, 0], name='Predicted')\n",
    "\n",
    "df_confusion = pd.crosstab(y_actu, y_pred, rownames=['Actual'], colnames=['Predicted'])"
   ]
  },
  {
   "cell_type": "code",
   "execution_count": 327,
   "metadata": {},
   "outputs": [
    {
     "data": {
      "image/png": "[encoded data removed]",
      "text/plain": [
       "<Figure size 720x504 with 2 Axes>"
      ]
     },
     "metadata": {},
     "output_type": "display_data"
    }
   ],
   "source": [
    "import matplotlib.pyplot as plt\n",
    "\n",
    "array = [[31, 5],\n",
    "         [0 , 40]]\n",
    "\n",
    "df_cm = pd.DataFrame(array, range(2), range(2))\n",
    "plt.figure(figsize=(10,7))\n",
    "sns.set(font_scale=1.4) # for label size\n",
    "sns.heatmap(df_cm,cmap=plt.cm.Blues, annot=True, annot_kws={\"size\": 13}) # font size\n",
    "plt.xlabel(\"Predicted Label\")\n",
    "plt.ylabel(\"True Label\")\n",
    "\n",
    "plt.savefig(\"../../assets/L1_results.pdf\", dpi=600, bbox_inches=\"tight\")"
   ]
  },
  {
   "cell_type": "code",
   "execution_count": null,
   "metadata": {},
   "outputs": [],
   "source": []
  },
  {
   "cell_type": "code",
   "execution_count": 315,
   "metadata": {},
   "outputs": [
    {
     "data": {
      "text/plain": [
       "<matplotlib.axes._subplots.AxesSubplot at 0x12995f320>"
      ]
     },
     "execution_count": 315,
     "metadata": {},
     "output_type": "execute_result"
    },
    {
     "data": {
      "image/png": "[encoded data removed]",
      "text/plain": [
       "<Figure size 432x288 with 2 Axes>"
      ]
     },
     "metadata": {
      "needs_background": "light"
     },
     "output_type": "display_data"
    }
   ],
   "source": [
    "import seaborn as sns\n",
    "sns.heatmap(df_confusion, annot=True)"
   ]
  },
  {
   "cell_type": "code",
   "execution_count": 310,
   "metadata": {},
   "outputs": [
    {
     "data": {
      "image/png": "[encoded data removed]",
      "text/plain": [
       "<Figure size 432x288 with 2 Axes>"
      ]
     },
     "metadata": {
      "needs_background": "light"
     },
     "output_type": "display_data"
    }
   ],
   "source": [
    "import matplotlib.pyplot as plt\n",
    "def plot_confusion_matrix(df_confusion, title='Confusion matrix', cmap=plt.cm.gray_r):\n",
    "    plt.matshow(df_confusion, cmap=cmap) # imshow\n",
    "    #plt.title(title)\n",
    "    plt.colorbar()\n",
    "    tick_marks = np.arange(len(df_confusion.columns))\n",
    "    plt.xticks(tick_marks, df_confusion.columns, rotation=45)\n",
    "    plt.yticks(tick_marks, df_confusion.index)\n",
    "    #plt.tight_layout()\n",
    "    plt.ylabel(df_confusion.index.name)\n",
    "    plt.xlabel(df_confusion.columns.name)\n",
    "\n",
    "plot_confusion_matrix(df_confusion)"
   ]
  },
  {
   "cell_type": "markdown",
   "metadata": {},
   "source": [
    "# Test"
   ]
  },
  {
   "cell_type": "code",
   "execution_count": 104,
   "metadata": {},
   "outputs": [
    {
     "data": {
      "text/html": [
       "<div>\n",
       "<style scoped>\n",
       "    .dataframe tbody tr th:only-of-type {\n",
       "        vertical-align: middle;\n",
       "    }\n",
       "\n",
       "    .dataframe tbody tr th {\n",
       "        vertical-align: top;\n",
       "    }\n",
       "\n",
       "    .dataframe thead th {\n",
       "        text-align: right;\n",
       "    }\n",
       "</style>\n",
       "<table border=\"1\" class=\"dataframe\">\n",
       "  <thead>\n",
       "    <tr style=\"text-align: right;\">\n",
       "      <th></th>\n",
       "      <th>dom_id</th>\n",
       "      <th>pos_x</th>\n",
       "      <th>pos_y</th>\n",
       "      <th>pos_z</th>\n",
       "      <th>time</th>\n",
       "      <th>label</th>\n",
       "      <th>group</th>\n",
       "    </tr>\n",
       "  </thead>\n",
       "  <tbody>\n",
       "    <tr>\n",
       "      <th>3002369</th>\n",
       "      <td>1.0</td>\n",
       "      <td>-75.097</td>\n",
       "      <td>101.635</td>\n",
       "      <td>196.389</td>\n",
       "      <td>6556668.0</td>\n",
       "      <td>0</td>\n",
       "      <td>437</td>\n",
       "    </tr>\n",
       "    <tr>\n",
       "      <th>3006091</th>\n",
       "      <td>1.0</td>\n",
       "      <td>-75.027</td>\n",
       "      <td>101.470</td>\n",
       "      <td>196.559</td>\n",
       "      <td>6564708.0</td>\n",
       "      <td>0</td>\n",
       "      <td>437</td>\n",
       "    </tr>\n",
       "    <tr>\n",
       "      <th>3007988</th>\n",
       "      <td>1.0</td>\n",
       "      <td>-75.014</td>\n",
       "      <td>101.779</td>\n",
       "      <td>196.389</td>\n",
       "      <td>6568821.0</td>\n",
       "      <td>0</td>\n",
       "      <td>437</td>\n",
       "    </tr>\n",
       "    <tr>\n",
       "      <th>3002057</th>\n",
       "      <td>2.0</td>\n",
       "      <td>-74.766</td>\n",
       "      <td>101.539</td>\n",
       "      <td>187.041</td>\n",
       "      <td>6556027.0</td>\n",
       "      <td>0</td>\n",
       "      <td>437</td>\n",
       "    </tr>\n",
       "    <tr>\n",
       "      <th>3004356</th>\n",
       "      <td>2.0</td>\n",
       "      <td>-74.931</td>\n",
       "      <td>101.801</td>\n",
       "      <td>187.211</td>\n",
       "      <td>6561079.0</td>\n",
       "      <td>0</td>\n",
       "      <td>437</td>\n",
       "    </tr>\n",
       "    <tr>\n",
       "      <th>...</th>\n",
       "      <td>...</td>\n",
       "      <td>...</td>\n",
       "      <td>...</td>\n",
       "      <td>...</td>\n",
       "      <td>...</td>\n",
       "      <td>...</td>\n",
       "      <td>...</td>\n",
       "    </tr>\n",
       "    <tr>\n",
       "      <th>41069028</th>\n",
       "      <td>2069.0</td>\n",
       "      <td>76.652</td>\n",
       "      <td>-76.955</td>\n",
       "      <td>47.359</td>\n",
       "      <td>89739999.0</td>\n",
       "      <td>0</td>\n",
       "      <td>5982</td>\n",
       "    </tr>\n",
       "    <tr>\n",
       "      <th>41071042</th>\n",
       "      <td>2069.0</td>\n",
       "      <td>76.748</td>\n",
       "      <td>-76.954</td>\n",
       "      <td>47.411</td>\n",
       "      <td>89744350.0</td>\n",
       "      <td>0</td>\n",
       "      <td>5982</td>\n",
       "    </tr>\n",
       "    <tr>\n",
       "      <th>41067749</th>\n",
       "      <td>2070.0</td>\n",
       "      <td>76.748</td>\n",
       "      <td>-77.120</td>\n",
       "      <td>37.700</td>\n",
       "      <td>89737293.0</td>\n",
       "      <td>0</td>\n",
       "      <td>5982</td>\n",
       "    </tr>\n",
       "    <tr>\n",
       "      <th>41067816</th>\n",
       "      <td>2070.0</td>\n",
       "      <td>76.656</td>\n",
       "      <td>-77.067</td>\n",
       "      <td>37.731</td>\n",
       "      <td>89737480.0</td>\n",
       "      <td>0</td>\n",
       "      <td>5982</td>\n",
       "    </tr>\n",
       "    <tr>\n",
       "      <th>41070556</th>\n",
       "      <td>2070.0</td>\n",
       "      <td>76.583</td>\n",
       "      <td>-77.024</td>\n",
       "      <td>37.841</td>\n",
       "      <td>89743301.0</td>\n",
       "      <td>0</td>\n",
       "      <td>5982</td>\n",
       "    </tr>\n",
       "  </tbody>\n",
       "</table>\n",
       "<p>277922 rows × 7 columns</p>\n",
       "</div>"
      ],
      "text/plain": [
       "          dom_id   pos_x    pos_y    pos_z        time  label  group\n",
       "3002369      1.0 -75.097  101.635  196.389   6556668.0      0    437\n",
       "3006091      1.0 -75.027  101.470  196.559   6564708.0      0    437\n",
       "3007988      1.0 -75.014  101.779  196.389   6568821.0      0    437\n",
       "3002057      2.0 -74.766  101.539  187.041   6556027.0      0    437\n",
       "3004356      2.0 -74.931  101.801  187.211   6561079.0      0    437\n",
       "...          ...     ...      ...      ...         ...    ...    ...\n",
       "41069028  2069.0  76.652  -76.955   47.359  89739999.0      0   5982\n",
       "41071042  2069.0  76.748  -76.954   47.411  89744350.0      0   5982\n",
       "41067749  2070.0  76.748  -77.120   37.700  89737293.0      0   5982\n",
       "41067816  2070.0  76.656  -77.067   37.731  89737480.0      0   5982\n",
       "41070556  2070.0  76.583  -77.024   37.841  89743301.0      0   5982\n",
       "\n",
       "[277922 rows x 7 columns]"
      ]
     },
     "execution_count": 104,
     "metadata": {},
     "output_type": "execute_result"
    }
   ],
   "source": [
    "noise_df"
   ]
  },
  {
   "cell_type": "code",
   "execution_count": 110,
   "metadata": {},
   "outputs": [],
   "source": [
    "test_df = noise_df[noise_df.group == 437]\n",
    "# test_df = test_df[test_df.dom_id == 1.0]"
   ]
  },
  {
   "cell_type": "code",
   "execution_count": 115,
   "metadata": {},
   "outputs": [],
   "source": [
    "test_df = test_df.sort_values('dom_id')"
   ]
  },
  {
   "cell_type": "code",
   "execution_count": 120,
   "metadata": {},
   "outputs": [
    {
     "data": {
      "text/html": [
       "<div>\n",
       "<style scoped>\n",
       "    .dataframe tbody tr th:only-of-type {\n",
       "        vertical-align: middle;\n",
       "    }\n",
       "\n",
       "    .dataframe tbody tr th {\n",
       "        vertical-align: top;\n",
       "    }\n",
       "\n",
       "    .dataframe thead th {\n",
       "        text-align: right;\n",
       "    }\n",
       "</style>\n",
       "<table border=\"1\" class=\"dataframe\">\n",
       "  <thead>\n",
       "    <tr style=\"text-align: right;\">\n",
       "      <th></th>\n",
       "      <th>dom_id</th>\n",
       "      <th>pos_x</th>\n",
       "      <th>pos_y</th>\n",
       "      <th>pos_z</th>\n",
       "      <th>time</th>\n",
       "      <th>label</th>\n",
       "      <th>group</th>\n",
       "    </tr>\n",
       "  </thead>\n",
       "  <tbody>\n",
       "    <tr>\n",
       "      <th>3002057</th>\n",
       "      <td>2.0</td>\n",
       "      <td>-74.766</td>\n",
       "      <td>101.539</td>\n",
       "      <td>187.041</td>\n",
       "      <td>6556027.0</td>\n",
       "      <td>0</td>\n",
       "      <td>437</td>\n",
       "    </tr>\n",
       "    <tr>\n",
       "      <th>3006174</th>\n",
       "      <td>3.0</td>\n",
       "      <td>-75.023</td>\n",
       "      <td>101.688</td>\n",
       "      <td>178.231</td>\n",
       "      <td>6564872.0</td>\n",
       "      <td>0</td>\n",
       "      <td>437</td>\n",
       "    </tr>\n",
       "    <tr>\n",
       "      <th>3005512</th>\n",
       "      <td>4.0</td>\n",
       "      <td>-74.839</td>\n",
       "      <td>101.582</td>\n",
       "      <td>168.831</td>\n",
       "      <td>6563481.0</td>\n",
       "      <td>0</td>\n",
       "      <td>437</td>\n",
       "    </tr>\n",
       "    <tr>\n",
       "      <th>3004576</th>\n",
       "      <td>5.0</td>\n",
       "      <td>-75.097</td>\n",
       "      <td>101.635</td>\n",
       "      <td>160.189</td>\n",
       "      <td>6561475.0</td>\n",
       "      <td>0</td>\n",
       "      <td>437</td>\n",
       "    </tr>\n",
       "    <tr>\n",
       "      <th>3002659</th>\n",
       "      <td>7.0</td>\n",
       "      <td>-75.027</td>\n",
       "      <td>101.800</td>\n",
       "      <td>140.059</td>\n",
       "      <td>6557334.0</td>\n",
       "      <td>0</td>\n",
       "      <td>437</td>\n",
       "    </tr>\n",
       "    <tr>\n",
       "      <th>...</th>\n",
       "      <td>...</td>\n",
       "      <td>...</td>\n",
       "      <td>...</td>\n",
       "      <td>...</td>\n",
       "      <td>...</td>\n",
       "      <td>...</td>\n",
       "      <td>...</td>\n",
       "    </tr>\n",
       "    <tr>\n",
       "      <th>3005617</th>\n",
       "      <td>2068.0</td>\n",
       "      <td>76.914</td>\n",
       "      <td>-77.120</td>\n",
       "      <td>55.889</td>\n",
       "      <td>6563694.0</td>\n",
       "      <td>0</td>\n",
       "      <td>437</td>\n",
       "    </tr>\n",
       "    <tr>\n",
       "      <th>3005122</th>\n",
       "      <td>2068.0</td>\n",
       "      <td>76.604</td>\n",
       "      <td>-77.203</td>\n",
       "      <td>56.111</td>\n",
       "      <td>6562626.0</td>\n",
       "      <td>0</td>\n",
       "      <td>437</td>\n",
       "    </tr>\n",
       "    <tr>\n",
       "      <th>3002676</th>\n",
       "      <td>2068.0</td>\n",
       "      <td>76.840</td>\n",
       "      <td>-77.067</td>\n",
       "      <td>55.831</td>\n",
       "      <td>6557365.0</td>\n",
       "      <td>0</td>\n",
       "      <td>437</td>\n",
       "    </tr>\n",
       "    <tr>\n",
       "      <th>3001775</th>\n",
       "      <td>2068.0</td>\n",
       "      <td>76.665</td>\n",
       "      <td>-77.264</td>\n",
       "      <td>55.889</td>\n",
       "      <td>6555403.0</td>\n",
       "      <td>0</td>\n",
       "      <td>437</td>\n",
       "    </tr>\n",
       "    <tr>\n",
       "      <th>3004039</th>\n",
       "      <td>2069.0</td>\n",
       "      <td>76.748</td>\n",
       "      <td>-77.311</td>\n",
       "      <td>47.241</td>\n",
       "      <td>6560362.0</td>\n",
       "      <td>0</td>\n",
       "      <td>437</td>\n",
       "    </tr>\n",
       "  </tbody>\n",
       "</table>\n",
       "<p>2752 rows × 7 columns</p>\n",
       "</div>"
      ],
      "text/plain": [
       "         dom_id   pos_x    pos_y    pos_z       time  label  group\n",
       "3002057     2.0 -74.766  101.539  187.041  6556027.0      0    437\n",
       "3006174     3.0 -75.023  101.688  178.231  6564872.0      0    437\n",
       "3005512     4.0 -74.839  101.582  168.831  6563481.0      0    437\n",
       "3004576     5.0 -75.097  101.635  160.189  6561475.0      0    437\n",
       "3002659     7.0 -75.027  101.800  140.059  6557334.0      0    437\n",
       "...         ...     ...      ...      ...        ...    ...    ...\n",
       "3005617  2068.0  76.914  -77.120   55.889  6563694.0      0    437\n",
       "3005122  2068.0  76.604  -77.203   56.111  6562626.0      0    437\n",
       "3002676  2068.0  76.840  -77.067   55.831  6557365.0      0    437\n",
       "3001775  2068.0  76.665  -77.264   55.889  6555403.0      0    437\n",
       "3004039  2069.0  76.748  -77.311   47.241  6560362.0      0    437\n",
       "\n",
       "[2752 rows x 7 columns]"
      ]
     },
     "execution_count": 120,
     "metadata": {},
     "output_type": "execute_result"
    }
   ],
   "source": [
    "test_df[test_df.time.diff() < 10]"
   ]
  },
  {
   "cell_type": "code",
   "execution_count": null,
   "metadata": {},
   "outputs": [],
   "source": []
  }
 ],
 "metadata": {
  "kernelspec": {
   "display_name": "km3net",
   "language": "python",
   "name": "km3net"
  },
  "language_info": {
   "codemirror_mode": {
    "name": "ipython",
    "version": 3
   },
   "file_extension": ".py",
   "mimetype": "text/x-python",
   "name": "python",
   "nbconvert_exporter": "python",
   "pygments_lexer": "ipython3",
   "version": "3.7.3"
  }
 },
 "nbformat": 4,
 "nbformat_minor": 4
}
