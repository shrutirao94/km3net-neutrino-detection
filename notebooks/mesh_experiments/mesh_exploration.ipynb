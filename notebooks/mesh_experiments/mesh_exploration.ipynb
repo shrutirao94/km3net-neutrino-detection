{
 "cells": [
  {
   "cell_type": "code",
   "execution_count": 13,
   "metadata": {},
   "outputs": [],
   "source": [
    "import numpy as np\n",
    "import open3d as o3d\n",
    "import matplotlib.pyplot as plt\n",
    "import ipyvolume as ipv\n",
    "\n",
    "from ipywidgets import interact, interactive, fixed, interact_manual\n",
    "import ipywidgets as widget\n",
    "import numpy as np\n",
    "\n",
    "# file = \"./group_1401.xyz\"\n",
    "file =\"../../data/unsampled/xyt/points/noise/group_5006.xyz\"\n",
    "# file =\"../../data/unsampled/xyt/points/mixed/group_103.xyz\"\n",
    "# output_path=\"your_path_to_output_folder/\""
   ]
  },
  {
   "cell_type": "code",
   "execution_count": 26,
   "metadata": {},
   "outputs": [],
   "source": [
    "def normalise(pcd):\n",
    "    \"\"\"\n",
    "    Computes the normals of a point cloud. Normals are oriented \n",
    "    with respect to the input point cloud if normals exist.\n",
    "    Next, converts float64 numpy array of shape (n, 3) to Open3D format.\n",
    "    Computed points are returned\n",
    "    \"\"\"\n",
    "    \n",
    "    radius = 0.1\n",
    "    max_nn = 300\n",
    "\n",
    "    try:\n",
    "        pcd.estimate_normals(search_param = o3d.geometry.KDTreeSearchParamHybrid(radius,\n",
    "                                                                                 max_nn),\n",
    "                             fast_normal_computation=False)\n",
    "        pcd.normals = o3d.utility.Vector3dVector(np.asarray(pcd.normals))\n",
    "        return pcd\n",
    "    except RuntimeError:\n",
    "        print(\"Normals were not computed!\")\n",
    "        \n",
    "\n",
    "def initialise_pointcloud(point_cloud):\n",
    "    pcd = o3d.geometry.PointCloud()\n",
    "    pcd.points = o3d.utility.Vector3dVector(point_cloud)\n",
    "    normalised_pcd = normalise(pcd)\n",
    "    pcd.points = o3d.utility.Vector3dVector(point_cloud[:,:3])\n",
    "    \n",
    "    return pcd"
   ]
  },
  {
   "cell_type": "code",
   "execution_count": 22,
   "metadata": {},
   "outputs": [],
   "source": [
    "point_cloud= np.loadtxt(file)\n",
    "pcd = initialise_pointcloud(point_cloud)"
   ]
  },
  {
   "cell_type": "code",
   "execution_count": null,
   "metadata": {},
   "outputs": [],
   "source": [
    "distances = pcd.compute_nearest_neighbor_distance()\n",
    "avg_dist = np.mean(distances)\n",
    "radius = 3.5 * avg_dist\n",
    "    \n"
   ]
  },
  {
   "cell_type": "code",
   "execution_count": null,
   "metadata": {},
   "outputs": [],
   "source": [
    "radius"
   ]
  },
  {
   "cell_type": "code",
   "execution_count": null,
   "metadata": {},
   "outputs": [],
   "source": [
    "# BPA\n",
    "bpa_mesh = o3d.geometry.TriangleMesh.create_from_point_cloud_ball_pivoting(cl,o3d.utility.DoubleVector([radius,\n",
    "                                                                                                         radius * 2]))\n",
    "# dec_mesh = bpa_mesh.simplify_quadric_decimation(100000)\n",
    "\n",
    "bpa_mesh.paint_uniform_color([7, 3, 4])\n",
    "o3d.visualization.draw_geometries([bpa_mesh])"
   ]
  },
  {
   "cell_type": "code",
   "execution_count": 27,
   "metadata": {},
   "outputs": [],
   "source": [
    "# POISSON\n",
    "\n",
    "def poisson_mesh(pcd):\n",
    "    \"\"\"\n",
    "    Computes and returns a triangle mesh from a oriented PointCloud pcd. \n",
    "    It implements the Screened Poisson Reconstruction proposed in \n",
    "    Kazhdan and Hoppe, \"Screened Poisson Surface Reconstruction\", 2013. \n",
    "    See https://github.com/mkazhdan/PoissonRecon\n",
    "    Returns a cropped geometry based on an axis-aligned bounding box of \n",
    "    the geometry.\n",
    "    \"\"\"\n",
    "    depth = 8\n",
    "    width = 0\n",
    "    scale = 1.1\n",
    "    \n",
    "    poisson_mesh = o3d.geometry.TriangleMesh.create_from_point_cloud_poisson(pcd,\n",
    "                                                                             depth,\n",
    "                                                                             width,\n",
    "                                                                             scale,\n",
    "                                                                             linear_fit=False)[0]\n",
    "    bbox = pcd.get_axis_aligned_bounding_box()\n",
    "    cropped_poisson_mesh = poisson_mesh.crop(bbox)\n",
    "    \n",
    "    o3d.visualization.draw_geometries([cropped_poisson_mesh])\n",
    "    \n",
    "    return cropped_poisson_mesh\n",
    "\n",
    "# cropped_poisson_mesh = poission_mesh(cl)"
   ]
  },
  {
   "cell_type": "code",
   "execution_count": 28,
   "metadata": {},
   "outputs": [],
   "source": [
    "pm = poisson_mesh(pcd)"
   ]
  },
  {
   "cell_type": "code",
   "execution_count": 29,
   "metadata": {},
   "outputs": [
    {
     "data": {
      "text/plain": [
       "True"
      ]
     },
     "execution_count": 29,
     "metadata": {},
     "output_type": "execute_result"
    }
   ],
   "source": [
    "o3d.io.write_triangle_mesh(\"./test.off\",\n",
    "                           pm,\n",
    "                           write_vertex_normals=False,\n",
    "                           write_vertex_colors=False)"
   ]
  },
  {
   "cell_type": "code",
   "execution_count": null,
   "metadata": {},
   "outputs": [],
   "source": [
    "def check_properties(name, mesh):\n",
    "    mesh.compute_vertex_normals()\n",
    "\n",
    "    edge_manifold = mesh.is_edge_manifold(allow_boundary_edges=True)\n",
    "    edge_manifold_boundary = mesh.is_edge_manifold(allow_boundary_edges=False)\n",
    "    vertex_manifold = mesh.is_vertex_manifold()\n",
    "    self_intersecting = mesh.is_self_intersecting()\n",
    "    watertight = mesh.is_watertight()\n",
    "    orientable = mesh.is_orientable()\n",
    "\n",
    "    print(name)\n",
    "    print(f\"  edge_manifold:          {edge_manifold}\")\n",
    "    print(f\"  edge_manifold_boundary: {edge_manifold_boundary}\")\n",
    "    print(f\"  vertex_manifold:        {vertex_manifold}\")\n",
    "    print(f\"  self_intersecting:      {self_intersecting}\")\n",
    "    print(f\"  watertight:             {watertight}\")\n",
    "    print(f\"  orientable:             {orientable}\")"
   ]
  },
  {
   "cell_type": "code",
   "execution_count": null,
   "metadata": {},
   "outputs": [],
   "source": [
    "check_properties('Knot', bpa_mesh)"
   ]
  },
  {
   "cell_type": "code",
   "execution_count": null,
   "metadata": {},
   "outputs": [],
   "source": [
    "with o3d.utility.VerbosityContextManager(o3d.utility.VerbosityLevel.Debug) as cm:\n",
    "    mesh, densities = o3d.geometry.TriangleMesh.create_from_point_cloud_poisson(pcd, depth=25)\n",
    "    bbox = pcd.get_axis_aligned_bounding_box()\n",
    "#     mesh = mesh.crop(bbox)\n",
    "print(mesh)\n",
    "o3d.visualization.draw_geometries([mesh])\n"
   ]
  },
  {
   "cell_type": "markdown",
   "metadata": {},
   "source": [
    "# **IDEA 1**: Cluster + Remove Outlier based on Average Radius\n",
    "\n",
    "First check how many clusters are found in the data:\n",
    "1. If cluster > 0:\n",
    "    1. Compute average radius\n",
    "    2. Remove outliers based on radius\n",
    "    \n",
    "2. If cluster == 0:\n",
    "    1. No removal of points\n",
    "    \n",
    "**Note:**\n",
    "1. For timeslice with only 3 points, it takes `eps` = 200 to identify. (default = 100)"
   ]
  },
  {
   "cell_type": "code",
   "execution_count": 16,
   "metadata": {},
   "outputs": [],
   "source": [
    "def visualise(pcd):\n",
    "    '''\n",
    "    Visualise Point Cloud\n",
    "    '''\n",
    "    o3d.visualization.draw_geometries([pcd])\n",
    "\n",
    "    \n",
    "def count_clusters(pcd):\n",
    "    '''\n",
    "    Use DBScan to generate clusters\n",
    "    '''\n",
    "    with o3d.utility.VerbosityContextManager(o3d.utility.VerbosityLevel.Debug) as cm:\n",
    "        labels = np.array(pcd.cluster_dbscan(eps=100, min_points=100, print_progress=True))\n",
    "    \n",
    "    max_label = labels.max() + 1\n",
    "    print(f\"point cloud has {max_label} clusters\")\n",
    "    colors = plt.get_cmap(\"tab20\")(labels / (max_label if max_label > 0 else 1))\n",
    "    colors[labels < 0] = 0\n",
    "    pcd.colors = o3d.utility.Vector3dVector(colors[:, :3])\n",
    "    \n",
    "#     visualise(pcd)\n",
    "    \n",
    "    return max_label\n",
    "\n",
    "\n",
    "\n",
    "def outlier_removal_validity(no_of_clusters):\n",
    "    if no_of_clusters == 0:\n",
    "        print(\"Save the whole thing & dont remove outliers\")\n",
    "        return False\n",
    "    else:\n",
    "        print(\"check for outliers and remove\")  \n",
    "        return True\n",
    "    \n",
    "\n",
    "def remove_outliers(pcd):\n",
    "    '''\n",
    "    Remove outliers based on radius\n",
    "    '''\n",
    "    \n",
    "    distances = pcd.compute_nearest_neighbor_distance()\n",
    "    avg_dist = np.mean(distances)\n",
    "    radius = 4 * avg_dist\n",
    "    print(radius)\n",
    "    \n",
    "    cl, ind = pcd.remove_radius_outlier(nb_points=32, radius=radius)\n",
    "    return cl, ind\n",
    "\n",
    "\n",
    "def display_inlier_outlier(cloud, ind):\n",
    "    inlier_cloud = cloud.select_by_index(ind)\n",
    "    outlier_cloud = cloud.select_by_index(ind, invert=True)\n",
    "\n",
    "    print(\"Showing outliers (red) and inliers (gray): \")\n",
    "    outlier_cloud.paint_uniform_color([1, 0, 0])\n",
    "    inlier_cloud.paint_uniform_color([0.8, 0.8, 0.8])\n",
    "    \n",
    "    o3d.visualization.draw_geometries([inlier_cloud, outlier_cloud])\n",
    "    \n",
    "def save_pointcloud(cl):\n",
    "    '''\n",
    "    Save the xyz points\n",
    "    '''\n",
    "    o3d.io.write_point_cloud(\"./test.xyz\", cl)"
   ]
  },
  {
   "cell_type": "code",
   "execution_count": 17,
   "metadata": {},
   "outputs": [
    {
     "name": "stdout",
     "output_type": "stream",
     "text": [
      "[Open3D DEBUG] Precompute Neighbours\n",
      "[Open3D DEBUG] Done Precompute Neighbours\n",
      "[Open3D DEBUG] Compute Clusters\n",
      "[Open3D DEBUG] Done Compute Clusters: 0\n",
      "point cloud has 0 clusters\n",
      "Save the whole thing & dont remove outliers\n",
      "Nothing to do...yet!\n"
     ]
    }
   ],
   "source": [
    "#1 Find the number of clusters\n",
    "no_of_clusters = count_clusters(pcd)\n",
    "\n",
    "#2 Obtain validity status\n",
    "validity = outlier_removal_validity(no_of_clusters)\n",
    "\n",
    "#3 \n",
    "if validity == True:\n",
    "    cl, ind = remove_outliers(pcd)\n",
    "    display_inlier_outlier(pcd, ind)\n",
    "#     poisson_mesh(cl)\n",
    "else:\n",
    "#     poission_mesh(pcd)\n",
    "    print(\"Nothing to do...yet!\")\n",
    "    \n",
    "#4 Save xyz\n",
    "# save_pointcloud(cl)\n",
    "\n",
    "# visualise(cl)"
   ]
  },
  {
   "cell_type": "markdown",
   "metadata": {},
   "source": [
    "# Use DBScan to Remove Outliers"
   ]
  },
  {
   "cell_type": "code",
   "execution_count": 7,
   "metadata": {},
   "outputs": [],
   "source": [
    "import numpy as np\n",
    "\n",
    "from sklearn.cluster import DBSCAN\n",
    "from sklearn import metrics\n",
    "from sklearn.datasets import make_blobs\n",
    "from sklearn.preprocessing import StandardScaler\n",
    "\n",
    "X = np.array(pcd.points)\n",
    "db = DBSCAN(eps=100, min_samples=100).fit(X)"
   ]
  },
  {
   "cell_type": "code",
   "execution_count": null,
   "metadata": {},
   "outputs": [],
   "source": [
    "core_samples_mask = np.zeros_like(db.labels_, dtype=bool)\n",
    "core_samples_mask[db.core_sample_indices_] = True\n",
    "labels = db.labels_\n",
    "\n",
    "# Number of clusters in labels, ignoring noise if present.\n",
    "n_clusters_ = len(set(labels)) - (1 if -1 in labels else 0)\n",
    "n_noise_ = list(labels).count(-1)\n",
    "\n",
    "print('Estimated number of clusters: %d' % n_clusters_)\n",
    "print('Estimated number of noise points: %d' % n_noise_)\n",
    "\n",
    "print(\"Silhouette Coefficient: %0.3f\"\n",
    "      % metrics.silhouette_score(X, labels))\n",
    "\n",
    "# #############################################################################\n",
    "# Plot result\n",
    "import matplotlib.pyplot as plt\n",
    "\n",
    "# Black removed and is used for noise instead.\n",
    "unique_labels = set(labels)\n",
    "colors = [plt.cm.Spectral(each)\n",
    "          for each in np.linspace(0, 1, len(unique_labels))]\n",
    "for k, col in zip(unique_labels, colors):\n",
    "    if k == -1:\n",
    "        # Black used for noise.\n",
    "        col = [0, 0, 0, 1]\n",
    "\n",
    "    class_member_mask = (labels == k)\n",
    "\n",
    "    xy = X[class_member_mask & core_samples_mask]\n",
    "    plt.plot(xy[:, 0], xy[:, 1], 'o', markerfacecolor=tuple(col),\n",
    "             markeredgecolor='k', markersize=14)\n",
    "\n",
    "    xy = X[class_member_mask & ~core_samples_mask]\n",
    "    plt.plot(xy[:, 0], xy[:, 1], 'o', markerfacecolor=tuple(col),\n",
    "             markeredgecolor='k', markersize=6)\n",
    "\n",
    "plt.title('Estimated number of clusters: %d' % n_clusters_)\n",
    "plt.show()"
   ]
  },
  {
   "cell_type": "code",
   "execution_count": null,
   "metadata": {},
   "outputs": [],
   "source": [
    "dbsc_clusters = pd.Series([X[labels==n] for n in  range(n_clusters_)])\n"
   ]
  },
  {
   "cell_type": "code",
   "execution_count": null,
   "metadata": {},
   "outputs": [],
   "source": [
    "dbsc_clusters "
   ]
  },
  {
   "cell_type": "code",
   "execution_count": null,
   "metadata": {},
   "outputs": [],
   "source": [
    "def get_centroid(cluster):\n",
    "    cluster_ary = np.asarray(cluster)\n",
    "    centroid = cluster_ary.mean(axis=0)\n",
    "    return centroid\n",
    "\n",
    "# get centroid of each cluster\n",
    "cluster_centroids = dbsc_clusters.map(get_centroid)\n",
    "# unzip the list of centroid points (lat, lon) tuples into separate lat and lon lists\n",
    "cents = zip(*cluster_centroids)\n",
    "# # from these lats/lons create a new df of one representative point for eac   cluster\n",
    "centroids_df = pd.DataFrame({'centroids':cents})"
   ]
  },
  {
   "cell_type": "code",
   "execution_count": null,
   "metadata": {},
   "outputs": [],
   "source": [
    "cluster_centroids"
   ]
  },
  {
   "cell_type": "code",
   "execution_count": null,
   "metadata": {},
   "outputs": [],
   "source": [
    "centroids_df"
   ]
  },
  {
   "cell_type": "markdown",
   "metadata": {},
   "source": [
    "# Use 2.5D Delauney (Best Fitting Plane) + Laplacian Smoothing"
   ]
  },
  {
   "cell_type": "code",
   "execution_count": null,
   "metadata": {},
   "outputs": [],
   "source": [
    "import numpy as np\n",
    "import matplotlib.pyplot as plt\n",
    "from mpl_toolkits.mplot3d import Axes3D\n",
    "import matplotlib.tri as mtri\n",
    "from scipy.spatial import Delaunay\n",
    "points = np.array([[0, 0], [0, 1.1], [1, 0], [1, 1]])\n"
   ]
  },
  {
   "cell_type": "code",
   "execution_count": null,
   "metadata": {},
   "outputs": [],
   "source": [
    "type(points)"
   ]
  },
  {
   "cell_type": "code",
   "execution_count": null,
   "metadata": {},
   "outputs": [],
   "source": [
    "u = np.array(pcd.points)[:,0]\n",
    "v = np.array(pcd.points)[:,1]\n",
    "z = np.array(pcd.points)[:,2]\n",
    "\n",
    "x = u\n",
    "y = v\n",
    "\n",
    "tri = Delaunay(np.array([u, v]).T)\n",
    "tri"
   ]
  },
  {
   "cell_type": "code",
   "execution_count": null,
   "metadata": {},
   "outputs": [],
   "source": [
    "type(np.array(pcd.points))"
   ]
  },
  {
   "cell_type": "code",
   "execution_count": null,
   "metadata": {},
   "outputs": [],
   "source": [
    "# print ('polyhedron(faces = [')\n",
    "# #for vert in tri.triangles:\n",
    "# for vert in tri.simplices:\n",
    "#     print ('[%d,%d,%d],' % (vert[0],vert[1],vert[2]),'], points = [')\n",
    "# for i in range(x.shape[0]):\n",
    "#     print ('[%f,%f,%f],' % (x[i], y[i], z[i]),']);')"
   ]
  },
  {
   "cell_type": "code",
   "execution_count": null,
   "metadata": {},
   "outputs": [],
   "source": [
    "fig = plt.figure()\n",
    "ax = fig.add_subplot(1, 1, 1, projection='3d')\n",
    "ax.plot_trisurf(x,y,z,\n",
    "           triangles=tri.simplices)\n",
    "\n",
    "\n",
    "plt.show()"
   ]
  },
  {
   "cell_type": "code",
   "execution_count": null,
   "metadata": {},
   "outputs": [],
   "source": [
    "tri.simplices"
   ]
  },
  {
   "cell_type": "code",
   "execution_count": null,
   "metadata": {},
   "outputs": [],
   "source": [
    "CHECK ALGOs because thet are not very precise atm."
   ]
  }
 ],
 "metadata": {
  "kernelspec": {
   "display_name": "km3net",
   "language": "python",
   "name": "km3net"
  },
  "language_info": {
   "codemirror_mode": {
    "name": "ipython",
    "version": 3
   },
   "file_extension": ".py",
   "mimetype": "text/x-python",
   "name": "python",
   "nbconvert_exporter": "python",
   "pygments_lexer": "ipython3",
   "version": "3.7.3"
  }
 },
 "nbformat": 4,
 "nbformat_minor": 4
}
