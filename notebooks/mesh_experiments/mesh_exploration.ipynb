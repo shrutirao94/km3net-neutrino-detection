{
 "cells": [
  {
   "cell_type": "code",
   "execution_count": 23,
   "metadata": {},
   "outputs": [],
   "source": [
    "import numpy as np\n",
    "import open3d as o3d\n",
    "\n",
    "file =\"../../data/sampled/xyt/points/noise/test/group_1583.xyz\"\n",
    "# output_path=\"your_path_to_output_folder/\"\n",
    "point_cloud= np.loadtxt(file)"
   ]
  },
  {
   "cell_type": "code",
   "execution_count": 24,
   "metadata": {},
   "outputs": [],
   "source": [
    "def normalise(pcd):\n",
    "    \"\"\"\n",
    "    Computes the normals of a point cloud. Normals are oriented \n",
    "    with respect to the input point cloud if normals exist.\n",
    "    Next, converts float64 numpy array of shape (n, 3) to Open3D format.\n",
    "    Computed points are returned\n",
    "    \"\"\"\n",
    "#     0.00000001\n",
    "    radius = 300000000\n",
    "    max_nn = 300\n",
    "\n",
    "    try:\n",
    "        pcd.estimate_normals(search_param = o3d.geometry.KDTreeSearchParamHybrid(radius,\n",
    "                                                                                 max_nn),\n",
    "                             fast_normal_computation=False)\n",
    "        pcd.normals = o3d.utility.Vector3dVector(np.asarray(pcd.normals))\n",
    "        return pcd\n",
    "    except RuntimeError:\n",
    "        print(\"Normals were not computed!\")"
   ]
  },
  {
   "cell_type": "code",
   "execution_count": 25,
   "metadata": {},
   "outputs": [],
   "source": [
    "pcd = o3d.geometry.PointCloud()\n",
    "\n",
    "pcd = o3d.geometry.PointCloud()\n",
    "pcd.points = o3d.utility.Vector3dVector(point_cloud)\n",
    "normalised_pcd = normalise(pcd)\n",
    "pcd.points = o3d.utility.Vector3dVector(point_cloud[:,:3])\n"
   ]
  },
  {
   "cell_type": "code",
   "execution_count": null,
   "metadata": {},
   "outputs": [],
   "source": [
    "o3d.visualization.draw_geometries([pcd])"
   ]
  },
  {
   "cell_type": "code",
   "execution_count": null,
   "metadata": {},
   "outputs": [],
   "source": [
    "distances = pcd.compute_nearest_neighbor_distance()\n",
    "avg_dist = np.mean(distances)\n",
    "radius = 3 * avg_dist"
   ]
  },
  {
   "cell_type": "code",
   "execution_count": null,
   "metadata": {},
   "outputs": [],
   "source": [
    "bpa_mesh = o3d.geometry.TriangleMesh.create_from_point_cloud_ball_pivoting(pcd,o3d.utility.DoubleVector([radius,\n",
    "                                                                                                         radius * 20000000000000]))\n"
   ]
  },
  {
   "cell_type": "code",
   "execution_count": null,
   "metadata": {},
   "outputs": [],
   "source": [
    "dec_mesh = bpa_mesh.simplify_quadric_decimation(100000)\n"
   ]
  },
  {
   "cell_type": "code",
   "execution_count": 13,
   "metadata": {},
   "outputs": [],
   "source": [
    "o3d.visualization.draw_geometries([bpa_mesh])"
   ]
  },
  {
   "cell_type": "code",
   "execution_count": 30,
   "metadata": {},
   "outputs": [
    {
     "name": "stdout",
     "output_type": "stream",
     "text": [
      "\u001b[1;33m[Open3D WARNING] Write OFF cannot include triangle normals.\u001b[0;m\n"
     ]
    },
    {
     "data": {
      "text/plain": [
       "True"
      ]
     },
     "execution_count": 30,
     "metadata": {},
     "output_type": "execute_result"
    }
   ],
   "source": [
    "o3d.io.write_triangle_mesh(\"./test_noise.off\",\n",
    "                           bpa_mesh,\n",
    "                           write_vertex_normals=False,\n",
    "                           write_vertex_colors=False)"
   ]
  },
  {
   "cell_type": "code",
   "execution_count": null,
   "metadata": {},
   "outputs": [],
   "source": []
  }
 ],
 "metadata": {
  "kernelspec": {
   "display_name": "km3net",
   "language": "python",
   "name": "km3net"
  },
  "language_info": {
   "codemirror_mode": {
    "name": "ipython",
    "version": 3
   },
   "file_extension": ".py",
   "mimetype": "text/x-python",
   "name": "python",
   "nbconvert_exporter": "python",
   "pygments_lexer": "ipython3",
   "version": "3.7.3"
  }
 },
 "nbformat": 4,
 "nbformat_minor": 4
}
