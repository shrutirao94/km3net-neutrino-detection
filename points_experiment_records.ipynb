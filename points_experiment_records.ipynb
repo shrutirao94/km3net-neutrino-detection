{
 "cells": [
  {
   "cell_type": "markdown",
   "metadata": {},
   "source": [
    "# POINTS"
   ]
  },
  {
   "cell_type": "markdown",
   "metadata": {},
   "source": [
    "#### Exp 1.0: POINTS\n",
    "\n",
    "**Date:** 11-September-2020\n",
    "\n",
    "***8192** points per tensor\n",
    "\n",
    "**Condition:** \n",
    "Epoch: 100 \n",
    "\n",
    "eps= 100\n",
    "radius multiplier = **3.6**\n",
    "    \n",
    "   \n",
    "\n",
    " **Train Results:**\n",
    "[Epoch: 50, Batch:   10 /   10], loss: 0.034\n",
    "Valid accuracy: 57 %\n",
    "\n",
    "**Classification report**\n",
    "\n",
    "                    precision   recall    f1-score   support\n",
    "\n",
    "       mixed           0.52      0.70      0.60        40\n",
    "       noise           0.54      0.35      0.42        40\n",
    " \n",
    "    accuracy                               0.53        80\n",
    "    macro avg          0.53      0.52      0.51        80\n",
    "    weighted avg       0.53      0.53      0.51        80\n",
    "\n",
    "\n",
    "\n",
    "# ![](assets/experiments/ensemble/exp_3.0_cgc.png)\n",
    "# ![](assets/experiments/ensemble/exp_3.0_roc.png)\n",
    "# ![](assets/experiments/ensemble/exp_3.0_cm.png)"
   ]
  },
  {
   "cell_type": "markdown",
   "metadata": {},
   "source": [
    "Adding Average Pool Layer did not help with Points based data"
   ]
  },
  {
   "cell_type": "code",
   "execution_count": null,
   "metadata": {},
   "outputs": [],
   "source": []
  }
 ],
 "metadata": {
  "kernelspec": {
   "display_name": "km3net",
   "language": "python",
   "name": "km3net"
  },
  "language_info": {
   "codemirror_mode": {
    "name": "ipython",
    "version": 3
   },
   "file_extension": ".py",
   "mimetype": "text/x-python",
   "name": "python",
   "nbconvert_exporter": "python",
   "pygments_lexer": "ipython3",
   "version": "3.7.3"
  },
  "toc-autonumbering": false,
  "toc-showcode": true,
  "toc-showmarkdowntxt": false,
  "toc-showtags": false
 },
 "nbformat": 4,
 "nbformat_minor": 4
}
