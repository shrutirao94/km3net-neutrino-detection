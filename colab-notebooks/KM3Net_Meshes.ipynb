{
  "nbformat": 4,
  "nbformat_minor": 0,
  "metadata": {
    "colab": {
      "name": "KM3Net:Meshes.ipynb",
      "provenance": [],
      "collapsed_sections": [
        "AE6QmxhRbwsY",
        "mMIT1MeNSSO8",
        "Isb_97zOA8Tl",
        "_8W4gOI_P9a9"
      ]
    },
    "kernelspec": {
      "name": "python3",
      "display_name": "Python 3"
    },
    "accelerator": "GPU"
  },
  "cells": [
    {
      "cell_type": "markdown",
      "metadata": {
        "id": "NpvL68OfBEQC",
        "colab_type": "text"
      },
      "source": [
        "# Experiment: Working with Mesh Data"
      ]
    },
    {
      "cell_type": "code",
      "metadata": {
        "id": "TJ47VNF7fmTS",
        "colab_type": "code",
        "colab": {
          "base_uri": "https://localhost:8080/",
          "height": 462
        },
        "outputId": "ae82b8d8-1704-4b8b-b1f1-09225425133f"
      },
      "source": [
        "import itertools\n",
        "import math\n",
        "import os\n",
        "!pip install path.py\n",
        "from path import Path\n",
        "import random\n",
        "\n",
        "import numpy as np\n",
        "import matplotlib.pyplot as plt\n",
        "import plotly.graph_objects as go\n",
        "import plotly.express as px\n",
        "import scipy.spatial.distance\n",
        "!pip install scikit-plot\n",
        "import scikitplot as skplt\n",
        "\n",
        "import torch\n",
        "from torch.utils.data import Dataset, DataLoader\n",
        "from torchvision import transforms, utils\n",
        "\n",
        "from sklearn import metrics\n",
        "from sklearn.metrics import confusion_matrix\n",
        "from sklearn.metrics import precision_recall_curve\n",
        "from sklearn.metrics import plot_precision_recall_curve\n",
        "from sklearn.metrics import average_precision_score\n",
        "from sklearn.metrics import classification_report\n",
        "from sklearn.metrics import roc_curve\n",
        "from sklearn.metrics import roc_auc_score\n",
        "\n",
        "from google.colab import drive\n",
        "drive.mount('/content/drive')\n",
        "\n",
        "random.seed = 1234"
      ],
      "execution_count": null,
      "outputs": [
        {
          "output_type": "stream",
          "text": [
            "Collecting path.py\n",
            "  Downloading https://files.pythonhosted.org/packages/8f/04/130b7a538c25693c85c4dee7e25d126ebf5511b1eb7320e64906687b159e/path.py-12.5.0-py3-none-any.whl\n",
            "Collecting path\n",
            "  Downloading https://files.pythonhosted.org/packages/cb/81/b9090d24e60369fd9413b92fcd87e13a37bf43dad3427d35e09915f788ac/path-15.0.0-py3-none-any.whl\n",
            "Installing collected packages: path, path.py\n",
            "Successfully installed path-15.0.0 path.py-12.5.0\n",
            "Collecting scikit-plot\n",
            "  Downloading https://files.pythonhosted.org/packages/7c/47/32520e259340c140a4ad27c1b97050dd3254fdc517b1d59974d47037510e/scikit_plot-0.3.7-py3-none-any.whl\n",
            "Requirement already satisfied: matplotlib>=1.4.0 in /usr/local/lib/python3.6/dist-packages (from scikit-plot) (3.2.2)\n",
            "Requirement already satisfied: joblib>=0.10 in /usr/local/lib/python3.6/dist-packages (from scikit-plot) (0.16.0)\n",
            "Requirement already satisfied: scikit-learn>=0.18 in /usr/local/lib/python3.6/dist-packages (from scikit-plot) (0.22.2.post1)\n",
            "Requirement already satisfied: scipy>=0.9 in /usr/local/lib/python3.6/dist-packages (from scikit-plot) (1.4.1)\n",
            "Requirement already satisfied: kiwisolver>=1.0.1 in /usr/local/lib/python3.6/dist-packages (from matplotlib>=1.4.0->scikit-plot) (1.2.0)\n",
            "Requirement already satisfied: python-dateutil>=2.1 in /usr/local/lib/python3.6/dist-packages (from matplotlib>=1.4.0->scikit-plot) (2.8.1)\n",
            "Requirement already satisfied: pyparsing!=2.0.4,!=2.1.2,!=2.1.6,>=2.0.1 in /usr/local/lib/python3.6/dist-packages (from matplotlib>=1.4.0->scikit-plot) (2.4.7)\n",
            "Requirement already satisfied: cycler>=0.10 in /usr/local/lib/python3.6/dist-packages (from matplotlib>=1.4.0->scikit-plot) (0.10.0)\n",
            "Requirement already satisfied: numpy>=1.11 in /usr/local/lib/python3.6/dist-packages (from matplotlib>=1.4.0->scikit-plot) (1.18.5)\n",
            "Requirement already satisfied: six>=1.5 in /usr/local/lib/python3.6/dist-packages (from python-dateutil>=2.1->matplotlib>=1.4.0->scikit-plot) (1.15.0)\n",
            "Installing collected packages: scikit-plot\n",
            "Successfully installed scikit-plot-0.3.7\n",
            "Go to this URL in a browser: https://accounts.google.com/o/oauth2/auth?client_id=947318989803-6bn6qk8qdgf4n4g3pfee6491hc0brc4i.apps.googleusercontent.com&redirect_uri=urn%3aietf%3awg%3aoauth%3a2.0%3aoob&scope=email%20https%3a%2f%2fwww.googleapis.com%2fauth%2fdocs.test%20https%3a%2f%2fwww.googleapis.com%2fauth%2fdrive%20https%3a%2f%2fwww.googleapis.com%2fauth%2fdrive.photos.readonly%20https%3a%2f%2fwww.googleapis.com%2fauth%2fpeopleapi.readonly&response_type=code\n",
            "\n",
            "Enter your authorization code:\n",
            "4/3wEh7x7Da54oTtykUtaCHq6oh4FPrPRMoJkrj9aro6HKsq9PlXYdWdw\n",
            "Mounted at /content/drive\n"
          ],
          "name": "stdout"
        }
      ]
    },
    {
      "cell_type": "code",
      "metadata": {
        "id": "zCgPQhfvh7R3",
        "colab_type": "code",
        "colab": {}
      },
      "source": [
        "def read_off(file):\n",
        "    if 'OFF' != file.readline().strip():\n",
        "        raise('Not a valid OFF header')\n",
        "        \n",
        "    n_verts, n_faces, __ = tuple([int(s) for s in file.readline().strip().split(' ')])\n",
        "    verts = [[float(s) for s in file.readline().strip().split(' ')] for i_vert in range(n_verts)]\n",
        "    faces = [[int(s) for s in file.readline().strip().split(' ')][1:] for i_face in range(n_faces)]\n",
        "\n",
        "    return verts, faces\n",
        "\n",
        "\n",
        "class PointSampler(object):\n",
        "    def __init__(self, output_size):\n",
        "        assert isinstance(output_size, int)\n",
        "        self.output_size = output_size\n",
        "    \n",
        "    def triangle_area(self, pt1, pt2, pt3):\n",
        "        side_a = np.linalg.norm(pt1 - pt2)\n",
        "        side_b = np.linalg.norm(pt2 - pt3)\n",
        "        side_c = np.linalg.norm(pt3 - pt1)\n",
        "        s = 0.5 * ( side_a + side_b + side_c)\n",
        "        return max(s *\n",
        "                   (s - side_a) * \n",
        "                   (s - side_b) * \n",
        "                   (s - side_c), 0)**0.5\n",
        "\n",
        "    def sample_point(self, pt1, pt2, pt3):\n",
        "        # barycentric coordinates on a triangle\n",
        "        # https://mathworld.wolfram.com/BarycentricCoordinates.html\n",
        "        s, t = sorted([random.random(), random.random()])\n",
        "        f = lambda i: s * pt1[i] + (t-s)*pt2[i] + (1-t)*pt3[i]\n",
        "        return (f(0), f(1), f(2))\n",
        "        \n",
        "    \n",
        "    def __call__(self, mesh):\n",
        "        verts, faces = mesh\n",
        "        verts = np.array(verts)\n",
        "        areas = np.zeros((len(faces)))\n",
        "\n",
        "        for i in range(len(areas)):\n",
        "            areas[i] = (self.triangle_area(verts[faces[i][0]],\n",
        "                                           verts[faces[i][1]],\n",
        "                                           verts[faces[i][2]]))\n",
        "            \n",
        "        sampled_faces = (random.choices(faces, \n",
        "                                      weights=areas,\n",
        "                                      cum_weights=None,\n",
        "                                      k=self.output_size))\n",
        "        \n",
        "        sampled_points = np.zeros((self.output_size, 3))\n",
        "\n",
        "        for i in range(len(sampled_faces)):\n",
        "            sampled_points[i] = (self.sample_point(verts[sampled_faces[i][0]],\n",
        "                                                   verts[sampled_faces[i][1]],\n",
        "                                                   verts[sampled_faces[i][2]]))\n",
        "        \n",
        "        return sampled_points\n",
        "\n",
        "\n",
        "class Normalize(object):\n",
        "    def __call__(self, pointcloud):\n",
        "        assert len(pointcloud.shape)==2\n",
        "        \n",
        "        norm_pointcloud = pointcloud - np.mean(pointcloud, axis=0) \n",
        "        norm_pointcloud /= np.max(np.linalg.norm(norm_pointcloud, axis=1))\n",
        "\n",
        "        return  norm_pointcloud\n",
        "\n",
        "\n",
        "class RandRotation_z(object):\n",
        "    def __call__(self, pointcloud):\n",
        "        assert len(pointcloud.shape)==2\n",
        "\n",
        "        theta = random.random() * 2. * math.pi\n",
        "        rot_matrix = np.array([[ math.cos(theta), -math.sin(theta),    0],\n",
        "                               [ math.sin(theta),  math.cos(theta),    0],\n",
        "                               [0,                             0,      1]])\n",
        "        \n",
        "        rot_pointcloud = rot_matrix.dot(pointcloud.T).T\n",
        "        return  rot_pointcloud\n",
        "    \n",
        "class RandomNoise(object):\n",
        "    def __call__(self, pointcloud):\n",
        "        assert len(pointcloud.shape)==2\n",
        "\n",
        "        noise = np.random.normal(0, 0.02, (pointcloud.shape))\n",
        "    \n",
        "        noisy_pointcloud = pointcloud + noise\n",
        "        return  noisy_pointcloud\n",
        "\n",
        "\n",
        "class ToTensor(object):\n",
        "    def __call__(self, pointcloud):\n",
        "        assert len(pointcloud.shape)==2\n",
        "\n",
        "        return torch.from_numpy(pointcloud)\n",
        "\n",
        "\n",
        "def default_transforms():\n",
        "    return transforms.Compose([PointSampler(6550),\n",
        "                               Normalize(),\n",
        "                               RandRotation_z(),\n",
        "                               RandomNoise(),\n",
        "                               ToTensor()])"
      ],
      "execution_count": null,
      "outputs": []
    },
    {
      "cell_type": "code",
      "metadata": {
        "id": "i06OYFNR8fa_",
        "colab_type": "code",
        "colab": {}
      },
      "source": [
        "class PointCloudData(Dataset):\n",
        "    def __init__(self, root_dir, valid=False, folder=\"train\", transform=default_transforms()):\n",
        "        self.root_dir = root_dir\n",
        "        folders = [dir for dir in sorted(os.listdir(root_dir)) if os.path.isdir(root_dir/dir)]\n",
        "        self.classes = {folder: i for i, folder in enumerate(folders)}\n",
        "        self.transforms = transform if not valid else default_transforms()\n",
        "        self.valid = valid\n",
        "        self.files = []\n",
        "        for category in self.classes.keys():\n",
        "            new_dir = root_dir/Path(category)/folder\n",
        "            for file in os.listdir(new_dir):\n",
        "                if file.endswith('.off'):\n",
        "                    sample = {}\n",
        "                    sample['pcd_path'] = new_dir/file\n",
        "                    sample['category'] = category\n",
        "                    self.files.append(sample)\n",
        "\n",
        "    def __len__(self):\n",
        "        return len(self.files)\n",
        "\n",
        "    def __preproc__(self, file):\n",
        "        verts, faces = read_off(file)\n",
        "        if self.transforms:\n",
        "            pointcloud = self.transforms((verts, faces))\n",
        "        return pointcloud\n",
        "\n",
        "    def __getitem__(self, idx):\n",
        "        pcd_path = self.files[idx]['pcd_path']\n",
        "        category = self.files[idx]['category']\n",
        "        with open(pcd_path, 'r') as f:\n",
        "            pointcloud = self.__preproc__(f)\n",
        "        return {'pointcloud': pointcloud, \n",
        "                'category': self.classes[category]}"
      ],
      "execution_count": null,
      "outputs": []
    },
    {
      "cell_type": "code",
      "metadata": {
        "id": "ZV20opgrv23I",
        "colab_type": "code",
        "colab": {}
      },
      "source": [
        "import torch\n",
        "import torch.nn as nn\n",
        "import numpy as np\n",
        "import torch.nn.functional as F\n",
        "\n",
        "class Tnet(nn.Module):\n",
        "   def __init__(self, k=3):\n",
        "      super().__init__()\n",
        "      self.k=k\n",
        "      self.conv1 = nn.Conv1d(k,64,1)\n",
        "      self.conv2 = nn.Conv1d(64,128,1)\n",
        "      self.conv3 = nn.Conv1d(128,1024,1)\n",
        "\n",
        "      self.fc1 = nn.Linear(1024,512)\n",
        "      self.fc2 = nn.Linear(512,256)\n",
        "      self.fc3 = nn.Linear(256,k*k)\n",
        "\n",
        "      self.bn1 = nn.BatchNorm1d(64)\n",
        "      self.bn2 = nn.BatchNorm1d(128)\n",
        "      self.bn3 = nn.BatchNorm1d(1024)\n",
        "      self.bn4 = nn.BatchNorm1d(512)\n",
        "      self.bn5 = nn.BatchNorm1d(256)\n",
        "       \n",
        "\n",
        "   def forward(self, input):\n",
        "      bs = input.size(0)\n",
        "      # input.shape == (bs,n,3)\n",
        "      xb = F.relu(self.bn1(self.conv1(input)))\n",
        "      xb = F.relu(self.bn2(self.conv2(xb)))\n",
        "      xb = F.relu(self.bn3(self.conv3(xb)))\n",
        "\n",
        "      pool = nn.MaxPool1d(xb.size(-1))(xb)\n",
        "      flat = nn.Flatten(1)(pool)\n",
        "\n",
        "      xb = F.relu(self.bn4(self.fc1(flat)))\n",
        "      xb = F.relu(self.bn5(self.fc2(xb)))\n",
        "      \n",
        "      #initialize as identity\n",
        "      init = torch.eye(self.k, requires_grad=True).repeat(bs,1,1)\n",
        "      if xb.is_cuda:\n",
        "        init=init.cuda()\n",
        "      matrix = self.fc3(xb).view(-1,self.k,self.k) + init\n",
        "      return matrix\n",
        "\n",
        "\n",
        "class Transform(nn.Module):\n",
        "   def __init__(self):\n",
        "        super().__init__()\n",
        "        self.input_transform = Tnet(k=3)\n",
        "        self.feature_transform = Tnet(k=64)\n",
        "\n",
        "        self.conv1 = nn.Conv1d(3,64,1)\n",
        "        self.conv2 = nn.Conv1d(64,128,1)\n",
        "        self.conv3 = nn.Conv1d(128,1024,1)\n",
        "       \n",
        "        self.bn1 = nn.BatchNorm1d(64)\n",
        "        self.bn2 = nn.BatchNorm1d(128)\n",
        "        self.bn3 = nn.BatchNorm1d(1024)\n",
        "       \n",
        "   def forward(self, input):\n",
        "        matrix3x3 = self.input_transform(input)\n",
        "        # batch matrix multiplication\n",
        "        xb = torch.bmm(torch.transpose(input,1,2), matrix3x3).transpose(1,2)\n",
        "        xb = F.relu(self.bn1(self.conv1(xb)))\n",
        "\n",
        "        matrix64x64 = self.feature_transform(xb)\n",
        "\n",
        "        xb = torch.bmm(torch.transpose(xb,1,2), matrix64x64).transpose(1,2)\n",
        "\n",
        "        xb = F.relu(self.bn2(self.conv2(xb)))\n",
        "        xb = self.bn3(self.conv3(xb))\n",
        "        xb = nn.MaxPool1d(xb.size(-1))(xb)\n",
        "        output = nn.Flatten(1)(xb)\n",
        "\n",
        "        return output, matrix3x3, matrix64x64\n",
        "\n",
        "class PointNet(nn.Module):\n",
        "    def __init__(self, classes = 2):\n",
        "        super().__init__()\n",
        "        self.transform = Transform()\n",
        "        self.fc1 = nn.Linear(1024, 512)\n",
        "        self.fc2 = nn.Linear(512, 256)\n",
        "        self.fc3 = nn.Linear(256, classes)\n",
        "        \n",
        "\n",
        "        self.bn1 = nn.BatchNorm1d(512)\n",
        "        self.bn2 = nn.BatchNorm1d(256)\n",
        "\n",
        "        self.dropout = nn.Dropout(p=0.3)\n",
        "        self.logsigmoid = nn.LogSigmoid()\n",
        "\n",
        "    def forward(self, input):\n",
        "        xb, matrix3x3, matrix64x64 = self.transform(input)\n",
        "        xb = F.relu(self.bn1(self.fc1(xb)))\n",
        "        xb = F.relu(self.bn2(self.dropout(self.fc2(xb))))\n",
        "        output = self.fc3(xb)\n",
        "\n",
        "        # return output, matrix3x3, matrix64x64\n",
        "        return self.logsigmoid(output), matrix3x3, matrix64x64\n",
        "\n",
        "\n",
        "def pointnetloss(outputs, labels, m3x3, m64x64, alpha = 0.001):\n",
        "    criterion = torch.nn.NLLLoss()\n",
        "    bs=outputs.size(0)\n",
        "    id3x3 = torch.eye(3, requires_grad=True).repeat(bs,1,1)\n",
        "    id64x64 = torch.eye(64, requires_grad=True).repeat(bs,1,1)\n",
        "    if outputs.is_cuda:\n",
        "        id3x3=id3x3.cuda()\n",
        "        id64x64=id64x64.cuda()\n",
        "    diff3x3 = id3x3-torch.bmm(m3x3,m3x3.transpose(1,2))\n",
        "    diff64x64 = id64x64-torch.bmm(m64x64,m64x64.transpose(1,2))\n",
        "\n",
        "    return criterion(outputs, labels) + alpha * (torch.norm(diff3x3)+torch.norm(diff64x64)) / float(bs)"
      ],
      "execution_count": null,
      "outputs": []
    },
    {
      "cell_type": "markdown",
      "metadata": {
        "id": "2mLBRcfwP2Sq",
        "colab_type": "text"
      },
      "source": [
        "# Train"
      ]
    },
    {
      "cell_type": "code",
      "metadata": {
        "id": "bX-Gs6skIwPX",
        "colab_type": "code",
        "colab": {}
      },
      "source": [
        "def train(model, train_loader, val_loader=None,  epochs=50, save=True):\n",
        "    for epoch in range(epochs): \n",
        "        pointnet.train()\n",
        "        running_loss = 0.0\n",
        "        for i, data in enumerate(train_loader, 0):\n",
        "            inputs, labels = data['pointcloud'].to(device).float(), data['category'].to(device)\n",
        "            optimizer.zero_grad()\n",
        "            outputs, m3x3, m64x64 = pointnet(inputs.transpose(1,2))\n",
        "            \n",
        "            # BCE: k = 2\n",
        "            # reshaped_label = torch.cat(2*[torch.reshape(labels, (1, 32))])\n",
        "            # reshaped_label = reshaped_label.unsqueeze(0).unfold(1, 2, 2).contiguous().squeeze()\n",
        "            # reshaped_label = reshaped_label.type_as(outputs)\n",
        "\n",
        "            # CrossEntropyLoss\n",
        "            # loss = pointnetloss(outputs, labels.long(), m3x3, m64x64)\n",
        "\n",
        "            #BCE Loss\n",
        "            # loss = pointnetloss(outputs, reshaped_label, m3x3, m64x64)\n",
        "\n",
        "            loss = pointnetloss(outputs, labels, m3x3, m64x64)\n",
        "            loss.backward()\n",
        "            optimizer.step()\n",
        "\n",
        "            # print statistics\n",
        "            running_loss += loss.item()\n",
        "            if i % 10 == 9:\n",
        "                print('[Epoch: %d, Batch: %4d / %4d], loss: %.3f' % \n",
        "                      (epoch + 1, i + 1, len(train_loader), running_loss / 10))\n",
        "                running_loss = 0.0\n",
        "\n",
        "        pointnet.eval()\n",
        "        correct = total = 0\n",
        "\n",
        "\n",
        "        # validation\n",
        "        if val_loader:\n",
        "            with torch.no_grad():\n",
        "                for data in val_loader:\n",
        "                    inputs, labels = data['pointcloud'].to(device).float(), data['category'].to(device)\n",
        "                    outputs, __, __ = pointnet(inputs.transpose(1,2))\n",
        "                    _, predicted = torch.max(outputs.data, 1)\n",
        "                    total += labels.size(0)\n",
        "                    correct += (predicted == labels).sum().item()\n",
        "            val_acc = 100. * correct / total\n",
        "            print('Valid accuracy: %d %%' % val_acc)\n",
        "\n",
        "        # save the model\n",
        "        checkpoint = PATH/ 'save_' + str(epoch) + '.pth'\n",
        "\n",
        "        if save:\n",
        "          torch.save(pointnet.state_dict(), checkpoint)\n",
        "          print('Model saved to ', checkpoint)"
      ],
      "execution_count": null,
      "outputs": []
    },
    {
      "cell_type": "code",
      "metadata": {
        "id": "-mvMmdgiJQfK",
        "colab_type": "code",
        "colab": {}
      },
      "source": [
        "XYT = Path(\"/content/drive/My Drive/KM3Net Data/ensemble/unsampled/xyt/meshes/\")\n",
        "XZT = Path(\"/content/drive/My Drive/KM3Net Data/ensemble/unsampled/xzt/\")\n",
        "YZT = Path(\"/content/drive/My Drive/KM3Net Data/ensemble/unsampled/yzt/\")"
      ],
      "execution_count": null,
      "outputs": []
    },
    {
      "cell_type": "code",
      "metadata": {
        "id": "CekrD6b_Ji89",
        "colab_type": "code",
        "colab": {}
      },
      "source": [
        "PATH = YZT"
      ],
      "execution_count": null,
      "outputs": []
    },
    {
      "cell_type": "code",
      "metadata": {
        "id": "eel1kQyHIraT",
        "colab_type": "code",
        "colab": {
          "base_uri": "https://localhost:8080/",
          "height": 119
        },
        "outputId": "74ce8a6e-2da1-4bb8-98ca-d9b3bbd48dd6"
      },
      "source": [
        "parent_folders = os.listdir(PATH)\n",
        "folders = [dir for dir in sorted(parent_folders) if os.path.isdir(PATH/dir)]\n",
        "classes = {folder: i for i, folder in enumerate(folders)};\n",
        "\n",
        "print(\"The parent folders: {0}; classes: {1}\".format(parent_folders,\n",
        "                                                     classes))\n",
        "POINTS = 6550\n",
        "\n",
        "train_transforms = transforms.Compose([\n",
        "                    PointSampler(POINTS), #6144 = 1024* 6 as the smallest is 6550 pointe per timeslice\n",
        "                    # has to be multiples of 1024\n",
        "                    Normalize(),\n",
        "                    RandRotation_z(),\n",
        "                    RandomNoise(),\n",
        "                    ToTensor()])\n",
        "\n",
        "train_ds = PointCloudData(PATH,\n",
        "                          transform=train_transforms)\n",
        "valid_ds = PointCloudData(PATH,\n",
        "                          valid=True,\n",
        "                          folder='test',\n",
        "                          transform=train_transforms)\n",
        "\n",
        "inv_classes = {i: cat for cat, i in train_ds.classes.items()};\n",
        "inv_classes\n",
        "\n",
        "print('Train dataset size: ', len(train_ds))\n",
        "print('Valid dataset size: ', len(valid_ds))\n",
        "print('Number of classes: ', len(train_ds.classes))\n",
        "print('Sample pointcloud shape: ', train_ds[0]['pointcloud'].size())\n",
        "print('Class: ', inv_classes[train_ds[0]['category']])\n",
        "\n",
        "train_loader = DataLoader(dataset=train_ds, batch_size=32, shuffle=True)\n",
        "valid_loader = DataLoader(dataset=valid_ds, batch_size=64)"
      ],
      "execution_count": null,
      "outputs": [
        {
          "output_type": "stream",
          "text": [
            "The parent folders: ['noise', 'mixed']; classes: {'mixed': 0, 'noise': 1}\n",
            "Train dataset size:  320\n",
            "Valid dataset size:  80\n",
            "Number of classes:  2\n",
            "Sample pointcloud shape:  torch.Size([6550, 3])\n",
            "Class:  mixed\n"
          ],
          "name": "stdout"
        }
      ]
    },
    {
      "cell_type": "code",
      "metadata": {
        "id": "nvmmwhcePvt2",
        "colab_type": "code",
        "colab": {
          "base_uri": "https://localhost:8080/",
          "height": 34
        },
        "outputId": "4c5482c5-9859-433b-adcd-e8cb1846178a"
      },
      "source": [
        "device = torch.device(\"cuda:0\" if torch.cuda.is_available() else \"cpu\")\n",
        "print(device)\n",
        "\n",
        "pointnet = PointNet()\n",
        "pointnet.to(device);\n",
        "\n",
        "optimizer = torch.optim.Adam(pointnet.parameters(), lr=0.0001)"
      ],
      "execution_count": null,
      "outputs": [
        {
          "output_type": "stream",
          "text": [
            "cuda:0\n"
          ],
          "name": "stdout"
        }
      ]
    },
    {
      "cell_type": "code",
      "metadata": {
        "id": "Lp3uFKomP8AU",
        "colab_type": "code",
        "colab": {
          "base_uri": "https://localhost:8080/",
          "height": 1000
        },
        "outputId": "932a0370-dd4a-430b-b138-f294ae463405"
      },
      "source": [
        "train(pointnet, train_loader, valid_loader,  save=True)"
      ],
      "execution_count": null,
      "outputs": [
        {
          "output_type": "stream",
          "text": [
            "[Epoch: 1, Batch:   10 /   10], loss: 0.680\n",
            "Valid accuracy: 50 %\n",
            "Model saved to  /content/drive/My Drive/KM3Net Data/ensemble/unsampled/yzt/save_0.pth\n",
            "[Epoch: 2, Batch:   10 /   10], loss: 0.492\n",
            "Valid accuracy: 50 %\n",
            "Model saved to  /content/drive/My Drive/KM3Net Data/ensemble/unsampled/yzt/save_1.pth\n",
            "[Epoch: 3, Batch:   10 /   10], loss: 0.391\n",
            "Valid accuracy: 51 %\n",
            "Model saved to  /content/drive/My Drive/KM3Net Data/ensemble/unsampled/yzt/save_2.pth\n",
            "[Epoch: 4, Batch:   10 /   10], loss: 0.315\n",
            "Valid accuracy: 50 %\n",
            "Model saved to  /content/drive/My Drive/KM3Net Data/ensemble/unsampled/yzt/save_3.pth\n",
            "[Epoch: 5, Batch:   10 /   10], loss: 0.271\n",
            "Valid accuracy: 50 %\n",
            "Model saved to  /content/drive/My Drive/KM3Net Data/ensemble/unsampled/yzt/save_4.pth\n",
            "[Epoch: 6, Batch:   10 /   10], loss: 0.250\n",
            "Valid accuracy: 50 %\n",
            "Model saved to  /content/drive/My Drive/KM3Net Data/ensemble/unsampled/yzt/save_5.pth\n",
            "[Epoch: 7, Batch:   10 /   10], loss: 0.213\n",
            "Valid accuracy: 50 %\n",
            "Model saved to  /content/drive/My Drive/KM3Net Data/ensemble/unsampled/yzt/save_6.pth\n",
            "[Epoch: 8, Batch:   10 /   10], loss: 0.206\n",
            "Valid accuracy: 66 %\n",
            "Model saved to  /content/drive/My Drive/KM3Net Data/ensemble/unsampled/yzt/save_7.pth\n",
            "[Epoch: 9, Batch:   10 /   10], loss: 0.179\n",
            "Valid accuracy: 87 %\n",
            "Model saved to  /content/drive/My Drive/KM3Net Data/ensemble/unsampled/yzt/save_8.pth\n",
            "[Epoch: 10, Batch:   10 /   10], loss: 0.166\n",
            "Valid accuracy: 86 %\n",
            "Model saved to  /content/drive/My Drive/KM3Net Data/ensemble/unsampled/yzt/save_9.pth\n",
            "[Epoch: 11, Batch:   10 /   10], loss: 0.157\n",
            "Valid accuracy: 82 %\n",
            "Model saved to  /content/drive/My Drive/KM3Net Data/ensemble/unsampled/yzt/save_10.pth\n",
            "[Epoch: 12, Batch:   10 /   10], loss: 0.150\n",
            "Valid accuracy: 86 %\n",
            "Model saved to  /content/drive/My Drive/KM3Net Data/ensemble/unsampled/yzt/save_11.pth\n",
            "[Epoch: 13, Batch:   10 /   10], loss: 0.134\n",
            "Valid accuracy: 91 %\n",
            "Model saved to  /content/drive/My Drive/KM3Net Data/ensemble/unsampled/yzt/save_12.pth\n",
            "[Epoch: 14, Batch:   10 /   10], loss: 0.129\n",
            "Valid accuracy: 88 %\n",
            "Model saved to  /content/drive/My Drive/KM3Net Data/ensemble/unsampled/yzt/save_13.pth\n",
            "[Epoch: 15, Batch:   10 /   10], loss: 0.133\n",
            "Valid accuracy: 88 %\n",
            "Model saved to  /content/drive/My Drive/KM3Net Data/ensemble/unsampled/yzt/save_14.pth\n",
            "[Epoch: 16, Batch:   10 /   10], loss: 0.114\n",
            "Valid accuracy: 88 %\n",
            "Model saved to  /content/drive/My Drive/KM3Net Data/ensemble/unsampled/yzt/save_15.pth\n",
            "[Epoch: 17, Batch:   10 /   10], loss: 0.111\n",
            "Valid accuracy: 92 %\n",
            "Model saved to  /content/drive/My Drive/KM3Net Data/ensemble/unsampled/yzt/save_16.pth\n",
            "[Epoch: 18, Batch:   10 /   10], loss: 0.106\n",
            "Valid accuracy: 87 %\n",
            "Model saved to  /content/drive/My Drive/KM3Net Data/ensemble/unsampled/yzt/save_17.pth\n",
            "[Epoch: 19, Batch:   10 /   10], loss: 0.096\n",
            "Valid accuracy: 91 %\n",
            "Model saved to  /content/drive/My Drive/KM3Net Data/ensemble/unsampled/yzt/save_18.pth\n",
            "[Epoch: 20, Batch:   10 /   10], loss: 0.098\n",
            "Valid accuracy: 87 %\n",
            "Model saved to  /content/drive/My Drive/KM3Net Data/ensemble/unsampled/yzt/save_19.pth\n",
            "[Epoch: 21, Batch:   10 /   10], loss: 0.096\n",
            "Valid accuracy: 88 %\n",
            "Model saved to  /content/drive/My Drive/KM3Net Data/ensemble/unsampled/yzt/save_20.pth\n",
            "[Epoch: 22, Batch:   10 /   10], loss: 0.085\n",
            "Valid accuracy: 90 %\n",
            "Model saved to  /content/drive/My Drive/KM3Net Data/ensemble/unsampled/yzt/save_21.pth\n",
            "[Epoch: 23, Batch:   10 /   10], loss: 0.084\n",
            "Valid accuracy: 90 %\n",
            "Model saved to  /content/drive/My Drive/KM3Net Data/ensemble/unsampled/yzt/save_22.pth\n",
            "[Epoch: 24, Batch:   10 /   10], loss: 0.088\n",
            "Valid accuracy: 88 %\n",
            "Model saved to  /content/drive/My Drive/KM3Net Data/ensemble/unsampled/yzt/save_23.pth\n",
            "[Epoch: 25, Batch:   10 /   10], loss: 0.075\n",
            "Valid accuracy: 92 %\n",
            "Model saved to  /content/drive/My Drive/KM3Net Data/ensemble/unsampled/yzt/save_24.pth\n",
            "[Epoch: 26, Batch:   10 /   10], loss: 0.074\n",
            "Valid accuracy: 87 %\n",
            "Model saved to  /content/drive/My Drive/KM3Net Data/ensemble/unsampled/yzt/save_25.pth\n",
            "[Epoch: 27, Batch:   10 /   10], loss: 0.071\n",
            "Valid accuracy: 87 %\n",
            "Model saved to  /content/drive/My Drive/KM3Net Data/ensemble/unsampled/yzt/save_26.pth\n",
            "[Epoch: 28, Batch:   10 /   10], loss: 0.071\n",
            "Valid accuracy: 90 %\n",
            "Model saved to  /content/drive/My Drive/KM3Net Data/ensemble/unsampled/yzt/save_27.pth\n",
            "[Epoch: 29, Batch:   10 /   10], loss: 0.071\n",
            "Valid accuracy: 86 %\n",
            "Model saved to  /content/drive/My Drive/KM3Net Data/ensemble/unsampled/yzt/save_28.pth\n",
            "[Epoch: 30, Batch:   10 /   10], loss: 0.062\n",
            "Valid accuracy: 85 %\n",
            "Model saved to  /content/drive/My Drive/KM3Net Data/ensemble/unsampled/yzt/save_29.pth\n",
            "[Epoch: 31, Batch:   10 /   10], loss: 0.059\n",
            "Valid accuracy: 83 %\n",
            "Model saved to  /content/drive/My Drive/KM3Net Data/ensemble/unsampled/yzt/save_30.pth\n",
            "[Epoch: 32, Batch:   10 /   10], loss: 0.054\n",
            "Valid accuracy: 93 %\n",
            "Model saved to  /content/drive/My Drive/KM3Net Data/ensemble/unsampled/yzt/save_31.pth\n",
            "[Epoch: 33, Batch:   10 /   10], loss: 0.056\n",
            "Valid accuracy: 88 %\n",
            "Model saved to  /content/drive/My Drive/KM3Net Data/ensemble/unsampled/yzt/save_32.pth\n",
            "Valid accuracy: 88 %\n",
            "Model saved to  /content/drive/My Drive/KM3Net Data/ensemble/unsampled/yzt/save_33.pth\n",
            "[Epoch: 35, Batch:   10 /   10], loss: 0.051\n",
            "Valid accuracy: 88 %\n",
            "Model saved to  /content/drive/My Drive/KM3Net Data/ensemble/unsampled/yzt/save_34.pth\n",
            "[Epoch: 36, Batch:   10 /   10], loss: 0.052\n",
            "Valid accuracy: 87 %\n",
            "Model saved to  /content/drive/My Drive/KM3Net Data/ensemble/unsampled/yzt/save_35.pth\n",
            "[Epoch: 37, Batch:   10 /   10], loss: 0.051\n",
            "Valid accuracy: 91 %\n",
            "Model saved to  /content/drive/My Drive/KM3Net Data/ensemble/unsampled/yzt/save_36.pth\n",
            "[Epoch: 38, Batch:   10 /   10], loss: 0.045\n",
            "Valid accuracy: 91 %\n",
            "Model saved to  /content/drive/My Drive/KM3Net Data/ensemble/unsampled/yzt/save_37.pth\n",
            "[Epoch: 39, Batch:   10 /   10], loss: 0.045\n",
            "Valid accuracy: 92 %\n",
            "Model saved to  /content/drive/My Drive/KM3Net Data/ensemble/unsampled/yzt/save_38.pth\n",
            "[Epoch: 40, Batch:   10 /   10], loss: 0.040\n",
            "Valid accuracy: 88 %\n",
            "Model saved to  /content/drive/My Drive/KM3Net Data/ensemble/unsampled/yzt/save_39.pth\n",
            "[Epoch: 41, Batch:   10 /   10], loss: 0.044\n",
            "Valid accuracy: 91 %\n",
            "Model saved to  /content/drive/My Drive/KM3Net Data/ensemble/unsampled/yzt/save_40.pth\n",
            "[Epoch: 42, Batch:   10 /   10], loss: 0.043\n",
            "Valid accuracy: 90 %\n",
            "Model saved to  /content/drive/My Drive/KM3Net Data/ensemble/unsampled/yzt/save_41.pth\n",
            "[Epoch: 43, Batch:   10 /   10], loss: 0.039\n",
            "Valid accuracy: 87 %\n",
            "Model saved to  /content/drive/My Drive/KM3Net Data/ensemble/unsampled/yzt/save_42.pth\n",
            "[Epoch: 44, Batch:   10 /   10], loss: 0.037\n",
            "Valid accuracy: 90 %\n",
            "Model saved to  /content/drive/My Drive/KM3Net Data/ensemble/unsampled/yzt/save_43.pth\n",
            "[Epoch: 45, Batch:   10 /   10], loss: 0.039\n",
            "Valid accuracy: 87 %\n",
            "Model saved to  /content/drive/My Drive/KM3Net Data/ensemble/unsampled/yzt/save_44.pth\n",
            "[Epoch: 46, Batch:   10 /   10], loss: 0.045\n",
            "Valid accuracy: 86 %\n",
            "Model saved to  /content/drive/My Drive/KM3Net Data/ensemble/unsampled/yzt/save_45.pth\n",
            "[Epoch: 47, Batch:   10 /   10], loss: 0.038\n",
            "Valid accuracy: 86 %\n",
            "Model saved to  /content/drive/My Drive/KM3Net Data/ensemble/unsampled/yzt/save_46.pth\n",
            "[Epoch: 48, Batch:   10 /   10], loss: 0.034\n",
            "Valid accuracy: 88 %\n",
            "Model saved to  /content/drive/My Drive/KM3Net Data/ensemble/unsampled/yzt/save_47.pth\n",
            "[Epoch: 49, Batch:   10 /   10], loss: 0.034\n",
            "Valid accuracy: 86 %\n",
            "Model saved to  /content/drive/My Drive/KM3Net Data/ensemble/unsampled/yzt/save_48.pth\n",
            "[Epoch: 50, Batch:   10 /   10], loss: 0.034\n",
            "Valid accuracy: 93 %\n",
            "Model saved to  /content/drive/My Drive/KM3Net Data/ensemble/unsampled/yzt/save_49.pth\n"
          ],
          "name": "stdout"
        }
      ]
    },
    {
      "cell_type": "markdown",
      "metadata": {
        "id": "_8W4gOI_P9a9",
        "colab_type": "text"
      },
      "source": [
        "# Test"
      ]
    },
    {
      "cell_type": "code",
      "metadata": {
        "id": "pU70YWA7P-I_",
        "colab_type": "code",
        "colab": {
          "base_uri": "https://localhost:8080/",
          "height": 748
        },
        "outputId": "fa262afc-354b-4ef1-89a9-70a6055de2ee"
      },
      "source": [
        "pointnet = PointNet()\n",
        "pointnet.load_state_dict(torch.load(PATH/'save_49.pth'))\n",
        "pointnet.eval() "
      ],
      "execution_count": null,
      "outputs": [
        {
          "output_type": "execute_result",
          "data": {
            "text/plain": [
              "PointNet(\n",
              "  (transform): Transform(\n",
              "    (input_transform): Tnet(\n",
              "      (conv1): Conv1d(3, 64, kernel_size=(1,), stride=(1,))\n",
              "      (conv2): Conv1d(64, 128, kernel_size=(1,), stride=(1,))\n",
              "      (conv3): Conv1d(128, 1024, kernel_size=(1,), stride=(1,))\n",
              "      (fc1): Linear(in_features=1024, out_features=512, bias=True)\n",
              "      (fc2): Linear(in_features=512, out_features=256, bias=True)\n",
              "      (fc3): Linear(in_features=256, out_features=9, bias=True)\n",
              "      (bn1): BatchNorm1d(64, eps=1e-05, momentum=0.1, affine=True, track_running_stats=True)\n",
              "      (bn2): BatchNorm1d(128, eps=1e-05, momentum=0.1, affine=True, track_running_stats=True)\n",
              "      (bn3): BatchNorm1d(1024, eps=1e-05, momentum=0.1, affine=True, track_running_stats=True)\n",
              "      (bn4): BatchNorm1d(512, eps=1e-05, momentum=0.1, affine=True, track_running_stats=True)\n",
              "      (bn5): BatchNorm1d(256, eps=1e-05, momentum=0.1, affine=True, track_running_stats=True)\n",
              "    )\n",
              "    (feature_transform): Tnet(\n",
              "      (conv1): Conv1d(64, 64, kernel_size=(1,), stride=(1,))\n",
              "      (conv2): Conv1d(64, 128, kernel_size=(1,), stride=(1,))\n",
              "      (conv3): Conv1d(128, 1024, kernel_size=(1,), stride=(1,))\n",
              "      (fc1): Linear(in_features=1024, out_features=512, bias=True)\n",
              "      (fc2): Linear(in_features=512, out_features=256, bias=True)\n",
              "      (fc3): Linear(in_features=256, out_features=4096, bias=True)\n",
              "      (bn1): BatchNorm1d(64, eps=1e-05, momentum=0.1, affine=True, track_running_stats=True)\n",
              "      (bn2): BatchNorm1d(128, eps=1e-05, momentum=0.1, affine=True, track_running_stats=True)\n",
              "      (bn3): BatchNorm1d(1024, eps=1e-05, momentum=0.1, affine=True, track_running_stats=True)\n",
              "      (bn4): BatchNorm1d(512, eps=1e-05, momentum=0.1, affine=True, track_running_stats=True)\n",
              "      (bn5): BatchNorm1d(256, eps=1e-05, momentum=0.1, affine=True, track_running_stats=True)\n",
              "    )\n",
              "    (conv1): Conv1d(3, 64, kernel_size=(1,), stride=(1,))\n",
              "    (conv2): Conv1d(64, 128, kernel_size=(1,), stride=(1,))\n",
              "    (conv3): Conv1d(128, 1024, kernel_size=(1,), stride=(1,))\n",
              "    (bn1): BatchNorm1d(64, eps=1e-05, momentum=0.1, affine=True, track_running_stats=True)\n",
              "    (bn2): BatchNorm1d(128, eps=1e-05, momentum=0.1, affine=True, track_running_stats=True)\n",
              "    (bn3): BatchNorm1d(1024, eps=1e-05, momentum=0.1, affine=True, track_running_stats=True)\n",
              "  )\n",
              "  (fc1): Linear(in_features=1024, out_features=512, bias=True)\n",
              "  (fc2): Linear(in_features=512, out_features=256, bias=True)\n",
              "  (fc3): Linear(in_features=256, out_features=2, bias=True)\n",
              "  (bn1): BatchNorm1d(512, eps=1e-05, momentum=0.1, affine=True, track_running_stats=True)\n",
              "  (bn2): BatchNorm1d(256, eps=1e-05, momentum=0.1, affine=True, track_running_stats=True)\n",
              "  (dropout): Dropout(p=0.3, inplace=False)\n",
              "  (logsigmoid): LogSigmoid()\n",
              ")"
            ]
          },
          "metadata": {
            "tags": []
          },
          "execution_count": 14
        }
      ]
    },
    {
      "cell_type": "code",
      "metadata": {
        "id": "lewDBLOXQEWK",
        "colab_type": "code",
        "colab": {}
      },
      "source": [
        "# for parameters in pointnet.state_dict():\n",
        "#     print(parameters, \"\\t\", pointnet.state_dict()[parameters].size())"
      ],
      "execution_count": null,
      "outputs": []
    },
    {
      "cell_type": "markdown",
      "metadata": {
        "id": "BsQ5W_-XaQmb",
        "colab_type": "text"
      },
      "source": [
        "# XYT"
      ]
    },
    {
      "cell_type": "code",
      "metadata": {
        "id": "54EP7PAyC2iQ",
        "colab_type": "code",
        "colab": {
          "base_uri": "https://localhost:8080/",
          "height": 51
        },
        "outputId": "90113f1b-fe25-48e4-9dec-ae7f4c9ed1e4"
      },
      "source": [
        "xyt_all_probs = []\n",
        "xyt_all_preds = []\n",
        "xyt_all_labels = []\n",
        "with torch.no_grad():\n",
        "    for i, data in enumerate(valid_loader):\n",
        "        print('Batch [%4d / %4d]' % (i+1, len(valid_loader)))\n",
        "                   \n",
        "        xyt_inputs, xyt_labels = data['pointcloud'].float(), data['category']\n",
        "        xyt_outputs, __, __ = pointnet(xyt_inputs.transpose(1,2))\n",
        "        xyt_probs, xyt_preds = torch.max(xyt_outputs.data, 1)\n",
        "        xyt_all_probs += list(xyt_probs.numpy())\n",
        "        xyt_all_preds += list(xyt_preds.numpy())\n",
        "        xyt_all_labels += list(xyt_labels.numpy())"
      ],
      "execution_count": null,
      "outputs": [
        {
          "output_type": "stream",
          "text": [
            "Batch [   1 /    2]\n",
            "Batch [   2 /    2]\n"
          ],
          "name": "stdout"
        }
      ]
    },
    {
      "cell_type": "code",
      "metadata": {
        "id": "fAWwOLVoRtEo",
        "colab_type": "code",
        "colab": {
          "base_uri": "https://localhost:8080/",
          "height": 204
        },
        "outputId": "e0e86bec-9c9f-48a9-a10e-62beeccd8b83"
      },
      "source": [
        "print(\"Classification report for Pointnet:\\n\\n {}\".format(classification_report(xyt_all_labels,\n",
        "                                                                            xyt_all_preds,\n",
        "                                                                            target_names=list(classes.keys()))))\n"
      ],
      "execution_count": null,
      "outputs": [
        {
          "output_type": "stream",
          "text": [
            "Classification report for Pointnet:\n",
            "\n",
            "               precision    recall  f1-score   support\n",
            "\n",
            "       mixed       0.97      0.90      0.94        40\n",
            "       noise       0.91      0.97      0.94        40\n",
            "\n",
            "    accuracy                           0.94        80\n",
            "   macro avg       0.94      0.94      0.94        80\n",
            "weighted avg       0.94      0.94      0.94        80\n",
            "\n"
          ],
          "name": "stdout"
        }
      ]
    },
    {
      "cell_type": "code",
      "metadata": {
        "id": "ERpKpknTTx2d",
        "colab_type": "code",
        "colab": {
          "base_uri": "https://localhost:8080/",
          "height": 1000
        },
        "outputId": "ea87836a-626a-4ad4-8939-b9f3dca2b19f"
      },
      "source": [
        "roc_auc = roc_auc_score(xyt_all_labels, xyt_all_preds)\n",
        "fpr, tpr, thresholds = metrics.roc_curve(xyt_all_labels, xyt_all_preds)\n",
        "print(\"FPR {} \\n TPR: {} \\n THRESHOLDS: {} \\n\".format(fpr, tpr, thresholds))\n",
        "\n",
        "xyt_proba = [1 - x for x in xyt_all_preds] \n",
        "len(xyt_all_preds)\n",
        "skplt.metrics.plot_roc(xyt_all_labels, np.column_stack([xyt_proba, xyt_all_preds]))\n",
        "plt.show()\n",
        "\n",
        "skplt.metrics.plot_precision_recall(xyt_all_labels,\n",
        "                                    np.column_stack([xyt_proba, xyt_all_preds]))\n",
        "plt.show()\n",
        "\n",
        "skplt.metrics.plot_cumulative_gain(xyt_all_labels,\n",
        "                                   np.column_stack([xyt_proba, xyt_all_preds]))\n",
        "skplt.metrics.plot_lift_curve(xyt_all_labels,\n",
        "                              np.column_stack([xyt_proba, xyt_all_preds]))"
      ],
      "execution_count": null,
      "outputs": [
        {
          "output_type": "stream",
          "text": [
            "FPR [0.  0.1 1. ] \n",
            " TPR: [0.    0.975 1.   ] \n",
            " THRESHOLDS: [2 1 0] \n",
            "\n"
          ],
          "name": "stdout"
        },
        {
          "output_type": "display_data",
          "data": {
            "image/png": "[encoded data removed]",
            "text/plain": [
              "<Figure size 432x288 with 1 Axes>"
            ]
          },
          "metadata": {
            "tags": [],
            "needs_background": "light"
          }
        },
        {
          "output_type": "display_data",
          "data": {
            "image/png": "[encoded data removed]",
            "text/plain": [
              "<Figure size 432x288 with 1 Axes>"
            ]
          },
          "metadata": {
            "tags": [],
            "needs_background": "light"
          }
        },
        {
          "output_type": "execute_result",
          "data": {
            "text/plain": [
              "<matplotlib.axes._subplots.AxesSubplot at 0x7ff426b13668>"
            ]
          },
          "metadata": {
            "tags": []
          },
          "execution_count": 17
        },
        {
          "output_type": "display_data",
          "data": {
            "image/png": "[encoded data removed]",
            "text/plain": [
              "<Figure size 432x288 with 1 Axes>"
            ]
          },
          "metadata": {
            "tags": [],
            "needs_background": "light"
          }
        },
        {
          "output_type": "display_data",
          "data": {
            "image/png": "[encoded data removed]",
            "text/plain": [
              "<Figure size 432x288 with 1 Axes>"
            ]
          },
          "metadata": {
            "tags": [],
            "needs_background": "light"
          }
        }
      ]
    },
    {
      "cell_type": "code",
      "metadata": {
        "id": "VcS7dXw5Rkae",
        "colab_type": "code",
        "colab": {
          "base_uri": "https://localhost:8080/",
          "height": 51
        },
        "outputId": "438494ee-089d-45f9-f161-8a44b982083b"
      },
      "source": [
        "cm = confusion_matrix(xyt_all_labels, xyt_all_preds);\n",
        "cm = np.array(cm)\n",
        "print(cm)\n",
        "\n",
        "# function from https://deeplizard.com/learn/video/0LhiS6yu2qQ\n",
        "def plot_confusion_matrix(cm, classes, normalize=False, title='Confusion matrix', cmap=plt.cm.Blues):\n",
        "    if normalize:\n",
        "        cm = cm.astype('float') / cm.sum(axis=1)[:, np.newaxis]\n",
        "        print(\"Normalized confusion matrix\")\n",
        "    else:\n",
        "        print('Confusion matrix, without normalization (XYT)')\n",
        "\n",
        "    plt.imshow(cm, interpolation='nearest', cmap=cmap)\n",
        "    plt.title(title)\n",
        "    plt.colorbar()\n",
        "    tick_marks = np.arange(len(classes))\n",
        "    plt.xticks(tick_marks, classes, rotation=45)\n",
        "    plt.yticks(tick_marks, classes)\n",
        "\n",
        "    fmt = '.2f' if normalize else 'd'\n",
        "    thresh = cm.max() / 2.\n",
        "    for i, j in itertools.product(range(cm.shape[0]), range(cm.shape[1])):\n",
        "        plt.text(j, i, format(cm[i, j], fmt),\n",
        "                 horizontalalignment=\"center\",\n",
        "                 color=\"white\" if cm[i, j] > thresh else \"black\")\n",
        "\n",
        "    plt.tight_layout()\n",
        "    plt.ylabel('True label')\n",
        "    plt.xlabel('Predicted label')"
      ],
      "execution_count": null,
      "outputs": [
        {
          "output_type": "stream",
          "text": [
            "[[36  4]\n",
            " [ 1 39]]\n"
          ],
          "name": "stdout"
        }
      ]
    },
    {
      "cell_type": "code",
      "metadata": {
        "id": "Vg-hPQ8ERpj7",
        "colab_type": "code",
        "colab": {
          "base_uri": "https://localhost:8080/",
          "height": 602
        },
        "outputId": "a2614c70-dab1-48f5-a96d-76562ec0b38f"
      },
      "source": [
        "plt.figure(figsize=(8,8))\n",
        "plot_confusion_matrix(cm, list(classes.keys()), normalize=True)"
      ],
      "execution_count": null,
      "outputs": [
        {
          "output_type": "stream",
          "text": [
            "Normalized confusion matrix\n"
          ],
          "name": "stdout"
        },
        {
          "output_type": "display_data",
          "data": {
            "image/png": "[encoded data removed]",
            "text/plain": [
              "<Figure size 576x576 with 2 Axes>"
            ]
          },
          "metadata": {
            "tags": [],
            "needs_background": "light"
          }
        }
      ]
    },
    {
      "cell_type": "code",
      "metadata": {
        "id": "BwRxAddUVxHT",
        "colab_type": "code",
        "colab": {
          "base_uri": "https://localhost:8080/",
          "height": 602
        },
        "outputId": "10a67901-a0f0-46ef-f78b-b6c74502d39d"
      },
      "source": [
        "plt.figure(figsize=(8,8))\n",
        "plot_confusion_matrix(cm, list(classes.keys()), normalize=False)"
      ],
      "execution_count": null,
      "outputs": [
        {
          "output_type": "stream",
          "text": [
            "Confusion matrix, without normalization (XYT)\n"
          ],
          "name": "stdout"
        },
        {
          "output_type": "display_data",
          "data": {
            "image/png": "[encoded data removed]",
            "text/plain": [
              "<Figure size 576x576 with 2 Axes>"
            ]
          },
          "metadata": {
            "tags": [],
            "needs_background": "light"
          }
        }
      ]
    },
    {
      "cell_type": "markdown",
      "metadata": {
        "colab_type": "text",
        "id": "CKkcAzxFbpi0"
      },
      "source": [
        "# XZT"
      ]
    },
    {
      "cell_type": "code",
      "metadata": {
        "colab_type": "code",
        "id": "5KEd32h_bpi2",
        "colab": {}
      },
      "source": [
        "xzt_all_preds = []\n",
        "xzt_all_labels = []\n",
        "xzt_all_probs = []\n",
        "\n",
        "with torch.no_grad():\n",
        "    for i, data in enumerate(valid_loader):\n",
        "        print('Batch [%4d / %4d]' % (i+1, len(valid_loader)))\n",
        "                   \n",
        "        xzt_inputs, xzt_labels = data['pointcloud'].float(), data['category']\n",
        "        xzt_outputs, __, __ = pointnet(xzt_inputs.transpose(1,2))\n",
        "        xzt_probs, xzt_preds = torch.max(xzt_outputs.data, 1)\n",
        "        xzt_all_probs += list(xzt_probs.numpy())\n",
        "        xzt_all_preds += list(xzt_preds.numpy())\n",
        "        xzt_all_labels += list(xzt_labels.numpy())"
      ],
      "execution_count": null,
      "outputs": []
    },
    {
      "cell_type": "code",
      "metadata": {
        "colab_type": "code",
        "id": "eudll0OebpjA",
        "colab": {}
      },
      "source": [
        "print(\"Classification report for Pointnet:\\n\\n {}\".format(classification_report(xzt_all_labels,\n",
        "                                                                            xzt_all_preds,\n",
        "                                                                            target_names=list(classes.keys()))))\n"
      ],
      "execution_count": null,
      "outputs": []
    },
    {
      "cell_type": "code",
      "metadata": {
        "colab_type": "code",
        "id": "tjnpWGbdbpjG",
        "colab": {}
      },
      "source": [
        "roc_auc = roc_auc_score(xzt_all_labels, xzt_all_preds)\n",
        "fpr, tpr, thresholds = metrics.roc_curve(xzt_all_labels,\n",
        "                                         xzt_all_preds)\n",
        "print(\"FPR {} \\n TPR: {} \\n THRESHOLDS: {} \\n\".format(fpr, tpr, thresholds))\n",
        "\n",
        "xzt_proba = [1 - x for x in xzt_all_preds] \n",
        "len(xzt_all_preds)\n",
        "skplt.metrics.plot_roc(xzt_all_labels,\n",
        "                       np.column_stack([xzt_proba, xzt_all_preds]))\n",
        "plt.show()\n",
        "\n",
        "skplt.metrics.plot_precision_recall(xzt_all_labels,\n",
        "                                    np.column_stack([xzt_proba, xzt_all_preds]))\n",
        "plt.show()\n",
        "\n",
        "skplt.metrics.plot_cumulative_gain(xzt_all_labels,\n",
        "                                   np.column_stack([xzt_proba, xzt_all_preds]))\n",
        "skplt.metrics.plot_lift_curve(xyt_all_labels,\n",
        "                              np.column_stack([xzt_proba, xzt_all_preds]))"
      ],
      "execution_count": null,
      "outputs": []
    },
    {
      "cell_type": "code",
      "metadata": {
        "colab_type": "code",
        "id": "lw4V7WjQbpjJ",
        "colab": {}
      },
      "source": [
        "cm = confusion_matrix(xzt_all_labels, xzt_all_preds);\n",
        "cm = np.array(cm)\n",
        "print(cm)\n",
        "\n",
        "def plot_confusion_matrix(cm, classes, normalize=False, title='Confusion matrix', cmap=plt.cm.Blues):\n",
        "    if normalize:\n",
        "        cm = cm.astype('float') / cm.sum(axis=1)[:, np.newaxis]\n",
        "        print(\"Normalized confusion matrix (XZT)\")\n",
        "    else:\n",
        "        print('Confusion matrix, without normalization')\n",
        "\n",
        "    plt.imshow(cm, interpolation='nearest', cmap=cmap)\n",
        "    plt.title(title)\n",
        "    plt.colorbar()\n",
        "    tick_marks = np.arange(len(classes))\n",
        "    plt.xticks(tick_marks, classes, rotation=45)\n",
        "    plt.yticks(tick_marks, classes)\n",
        "\n",
        "    fmt = '.2f' if normalize else 'd'\n",
        "    thresh = cm.max() / 2.\n",
        "    for i, j in itertools.product(range(cm.shape[0]), range(cm.shape[1])):\n",
        "        plt.text(j, i, format(cm[i, j], fmt),\n",
        "                 horizontalalignment=\"center\",\n",
        "                 color=\"white\" if cm[i, j] > thresh else \"black\")\n",
        "\n",
        "    plt.tight_layout()\n",
        "    plt.ylabel('True label')\n",
        "    plt.xlabel('Predicted label')"
      ],
      "execution_count": null,
      "outputs": []
    },
    {
      "cell_type": "code",
      "metadata": {
        "colab_type": "code",
        "id": "VAHmB8tzbpjL",
        "colab": {}
      },
      "source": [
        "plt.figure(figsize=(8,8))\n",
        "plot_confusion_matrix(cm, list(classes.keys()), normalize=True)"
      ],
      "execution_count": null,
      "outputs": []
    },
    {
      "cell_type": "code",
      "metadata": {
        "colab_type": "code",
        "id": "En4WPIGWbpjO",
        "colab": {}
      },
      "source": [
        "plt.figure(figsize=(8,8))\n",
        "plot_confusion_matrix(cm, list(classes.keys()), normalize=False)"
      ],
      "execution_count": null,
      "outputs": []
    },
    {
      "cell_type": "code",
      "metadata": {
        "colab_type": "code",
        "id": "InA1RbgGbpjR",
        "colab": {}
      },
      "source": [
        "bdata = test_dataset.take(1)\n",
        "\n",
        "points, labels = list(data)[0]\n",
        "points = points[:8, ...]\n",
        "labels = labels[:8, ...]\n",
        "\n",
        "# run test data through model\n",
        "preds = model.predict(points)\n",
        "preds = tf.math.argmax(preds, -1)\n",
        "\n",
        "points = points.numpy()\n",
        "\n",
        "# plot points with predicted class and label\n",
        "fig = plt.figure(figsize=(15, 10))\n",
        "for i in range(8):\n",
        "    ax = fig.add_subplot(2, 4, i + 1, projection=\"3d\")\n",
        "    ax.scatter(points[i, :, 0], points[i, :, 1], points[i, :, 2])\n",
        "    ax.set_title(\n",
        "        \"pred: {:}, label: {:}\".format(\n",
        "            CLASS_MAP[preds[i].numpy()], CLASS_MAP[labels.numpy()[i]]\n",
        "        )\n",
        "    )\n",
        "    ax.set_axis_off()\n",
        "plt.show()"
      ],
      "execution_count": null,
      "outputs": []
    },
    {
      "cell_type": "markdown",
      "metadata": {
        "colab_type": "text",
        "id": "ZS4jgBLIcwxm"
      },
      "source": [
        "# YZT"
      ]
    },
    {
      "cell_type": "code",
      "metadata": {
        "colab_type": "code",
        "id": "pOyhRYeFcwxn",
        "colab": {}
      },
      "source": [
        "yzt_all_preds = []\n",
        "yzt_all_labels = []\n",
        "yzt_all_probs = []\n",
        "\n",
        "with torch.no_grad():\n",
        "    for i, data in enumerate(valid_loader):\n",
        "        print('Batch [%4d / %4d]' % (i+1, len(valid_loader)))\n",
        "                   \n",
        "        yzt_inputs, yzt_labels = data['pointcloud'].float(), data['category']\n",
        "        yzt_outputs, __, __ = pointnet(yzt_inputs.transpose(1,2))\n",
        "        yzt_probs, yzt_preds = torch.max(yzt_outputs.data, 1)\n",
        "        \n",
        "        yzt_all_probs += list(yzt_probs.numpy())        \n",
        "        yzt_all_preds += list(yzt_preds.numpy())\n",
        "        yzt_all_labels += list(yzt_labels.numpy())"
      ],
      "execution_count": null,
      "outputs": []
    },
    {
      "cell_type": "code",
      "metadata": {
        "colab_type": "code",
        "id": "IBsEiO3Qcwxv",
        "colab": {}
      },
      "source": [
        "print(\"Classification report for Pointnet:\\n\\n {}\".format(classification_report(yzt_all_labels,\n",
        "                                                                            yzt_all_preds,\n",
        "                                                                            target_names=list(classes.keys()))))\n"
      ],
      "execution_count": null,
      "outputs": []
    },
    {
      "cell_type": "code",
      "metadata": {
        "colab_type": "code",
        "id": "lhSU14_Fcwxx",
        "colab": {}
      },
      "source": [
        "roc_auc = roc_auc_score(yzt_all_labels, yzt_all_preds)\n",
        "fpr, tpr, thresholds = metrics.roc_curve(yzt_all_labels, yzt_all_preds)\n",
        "print(\"FPR {} \\n TPR: {} \\n THRESHOLDS: {} \\n\".format(fpr, tpr, thresholds))\n",
        "\n",
        "yzt_proba = [1 - x for x in yzt_all_preds] \n",
        "len(yzt_all_preds)\n",
        "skplt.metrics.plot_roc(yzt_all_labels,\n",
        "                       np.column_stack([yzt_proba, yzt_all_preds]))\n",
        "plt.show()\n",
        "\n",
        "skplt.metrics.plot_precision_recall(yzt_all_labels,\n",
        "                                    np.column_stack([yzt_proba, yzt_all_preds]))\n",
        "plt.show()\n",
        "\n",
        "skplt.metrics.plot_cumulative_gain(yzt_all_labels,\n",
        "                                   np.column_stack([yzt_proba, yzt_all_preds]))\n",
        "skplt.metrics.plot_lift_curve(yzt_all_labels,\n",
        "                              np.column_stack([yzt_proba, yzt_all_preds]))"
      ],
      "execution_count": null,
      "outputs": []
    },
    {
      "cell_type": "code",
      "metadata": {
        "colab_type": "code",
        "id": "8bD-cfkCcwx1",
        "colab": {}
      },
      "source": [
        "cm = confusion_matrix(yzt_all_labels, yzt_all_preds);\n",
        "cm = np.array(cm)\n",
        "print(cm)\n",
        "\n",
        "# function from https://deeplizard.com/learn/video/0LhiS6yu2qQ\n",
        "def plot_confusion_matrix(cm, classes, normalize=False, title='Confusion matrix', cmap=plt.cm.Blues):\n",
        "    if normalize:\n",
        "        cm = cm.astype('float') / cm.sum(axis=1)[:, np.newaxis]\n",
        "        print(\"Normalized confusion matrix\")\n",
        "    else:\n",
        "        print('Confusion matrix, without normalization (YZT)')\n",
        "\n",
        "    plt.imshow(cm, interpolation='nearest', cmap=cmap)\n",
        "    plt.title(title)\n",
        "    plt.colorbar()\n",
        "    tick_marks = np.arange(len(classes))\n",
        "    plt.xticks(tick_marks, classes, rotation=45)\n",
        "    plt.yticks(tick_marks, classes)\n",
        "\n",
        "    fmt = '.2f' if normalize else 'd'\n",
        "    thresh = cm.max() / 2.\n",
        "    for i, j in itertools.product(range(cm.shape[0]), range(cm.shape[1])):\n",
        "        plt.text(j, i, format(cm[i, j], fmt),\n",
        "                 horizontalalignment=\"center\",\n",
        "                 color=\"white\" if cm[i, j] > thresh else \"black\")\n",
        "\n",
        "    plt.tight_layout()\n",
        "    plt.ylabel('True label')\n",
        "    plt.xlabel('Predicted label')"
      ],
      "execution_count": null,
      "outputs": []
    },
    {
      "cell_type": "code",
      "metadata": {
        "colab_type": "code",
        "id": "i0o91J13cwx3",
        "colab": {}
      },
      "source": [
        "plt.figure(figsize=(8,8))\n",
        "plot_confusion_matrix(cm, list(classes.keys()), normalize=True)"
      ],
      "execution_count": null,
      "outputs": []
    },
    {
      "cell_type": "code",
      "metadata": {
        "colab_type": "code",
        "id": "JlsXFB8ucwx5",
        "colab": {}
      },
      "source": [
        "plt.figure(figsize=(8,8))\n",
        "plot_confusion_matrix(cm, list(classes.keys()), normalize=False)"
      ],
      "execution_count": null,
      "outputs": []
    },
    {
      "cell_type": "code",
      "metadata": {
        "id": "lYlvQrc0FHZ6",
        "colab_type": "code",
        "colab": {}
      },
      "source": [
        ""
      ],
      "execution_count": null,
      "outputs": []
    },
    {
      "cell_type": "markdown",
      "metadata": {
        "id": "swgf1ulaCHRF",
        "colab_type": "text"
      },
      "source": [
        "# Hard Voting"
      ]
    },
    {
      "cell_type": "code",
      "metadata": {
        "id": "coBjEg6QCEXr",
        "colab_type": "code",
        "colab": {}
      },
      "source": [
        "# For hard voting:\n",
        "from collections import Counter\n",
        "\n",
        "hard_votes = []\n",
        "zipped_preds = zip(xyt_all_preds, xzt_all_preds, yzt_all_preds)\n",
        "for item in zipped_preds:\n",
        "  most_common,_ = Counter(item).most_common(1)[0]\n",
        "  hard_votes.append(most_common)"
      ],
      "execution_count": null,
      "outputs": []
    },
    {
      "cell_type": "code",
      "metadata": {
        "id": "TPXcZgImt4zf",
        "colab_type": "code",
        "colab": {}
      },
      "source": [
        "print(\"Hard Voting: Classification report for Pointnet:\\n\\n {}\".format(classification_report(yzt_all_labels,\n",
        "                                                                            hard_votes,\n",
        "                                                                            target_names=list(classes.keys()))))\n",
        "\n",
        "\n",
        "cm = confusion_matrix(yzt_all_labels, hard_votes);\n",
        "cm = np.array(cm)\n",
        "print(cm)\n",
        "\n",
        "# function from https://deeplizard.com/learn/video/0LhiS6yu2qQ\n",
        "def plot_confusion_matrix(cm, classes, normalize=False, title='Confusion matrix for Hard Voting', cmap=plt.cm.Blues):\n",
        "    if normalize:\n",
        "        cm = cm.astype('float') / cm.sum(axis=1)[:, np.newaxis]\n",
        "        print(\"Hard Voting: Normalized confusion matrix\")\n",
        "    else:\n",
        "        print('Hard Voting: Confusion matrix, without normalization')\n",
        "\n",
        "    plt.imshow(cm, interpolation='nearest', cmap=cmap)\n",
        "    plt.title(title)\n",
        "    plt.colorbar()\n",
        "    tick_marks = np.arange(len(classes))\n",
        "    plt.xticks(tick_marks, classes, rotation=45)\n",
        "    plt.yticks(tick_marks, classes)\n",
        "\n",
        "    fmt = '.2f' if normalize else 'd'\n",
        "    thresh = cm.max() / 2.\n",
        "    for i, j in itertools.product(range(cm.shape[0]), range(cm.shape[1])):\n",
        "        plt.text(j, i, format(cm[i, j], fmt),\n",
        "                 horizontalalignment=\"center\",\n",
        "                 color=\"white\" if cm[i, j] > thresh else \"black\")\n",
        "\n",
        "    plt.tight_layout()\n",
        "    plt.ylabel('True label')\n",
        "    plt.xlabel('Predicted label')\n",
        "\n",
        "plt.figure(figsize=(8,8))\n",
        "plot_confusion_matrix(cm, list(classes.keys()), normalize=True)"
      ],
      "execution_count": null,
      "outputs": []
    },
    {
      "cell_type": "markdown",
      "metadata": {
        "id": "_5u2jbCEBeu-",
        "colab_type": "text"
      },
      "source": [
        "# Soft Voting"
      ]
    },
    {
      "cell_type": "code",
      "metadata": {
        "id": "qECoMnJIrUpK",
        "colab_type": "code",
        "colab": {}
      },
      "source": [
        "THRESHOLD = .50\n",
        "sig = torch.nn.Sigmoid()\n",
        "xyt_probabilities = sig(torch.FloatTensor(xyt_all_probs)).tolist()\n",
        "xzt_probabilities = sig(torch.FloatTensor(xzt_all_probs)).tolist()\n",
        "yzt_probabilities = sig(torch.FloatTensor(yzt_all_probs)).tolist()\n",
        "\n",
        "soft_votes = []\n",
        "zipped_probabilities = zip(xyt_probabilities,\n",
        "                   xzt_probabilities,\n",
        "                   yzt_probabilities)\n",
        "\n",
        "for item in zipped_probabilities:\n",
        "  average = sum(item)/3\n",
        "  soft_votes.append(average)\n",
        "\n",
        "soft_votes = [1 if vote > THRESHOLD else 0 for vote in soft_votes]"
      ],
      "execution_count": null,
      "outputs": []
    },
    {
      "cell_type": "code",
      "metadata": {
        "id": "5A9fxz4YzazB",
        "colab_type": "code",
        "colab": {}
      },
      "source": [
        "print(\"Soft Voting Voting: Classification report for Pointnet:\\n\\n {}\".format(classification_report(yzt_all_labels,\n",
        "                                                                            soft_votes,\n",
        "                                                                            target_names=list(classes.keys()))))\n",
        "\n",
        "cm = confusion_matrix(yzt_all_labels, soft_votes);\n",
        "cm = np.array(cm)\n",
        "print(cm)\n",
        "\n",
        "def plot_confusion_matrix(cm, classes, normalize=False, title='Confusion matrix for Soft Votes', cmap=plt.cm.Blues):\n",
        "    if normalize:\n",
        "        cm = cm.astype('float') / cm.sum(axis=1)[:, np.newaxis]\n",
        "        print(\"Soft Voting: Normalized confusion matrix\")\n",
        "    else:\n",
        "        print('Soft Voting: Confusion matrix, without normalization')\n",
        "\n",
        "    plt.imshow(cm, interpolation='nearest', cmap=cmap)\n",
        "    plt.title(title)\n",
        "    plt.colorbar()\n",
        "    tick_marks = np.arange(len(classes))\n",
        "    plt.xticks(tick_marks, classes, rotation=45)\n",
        "    plt.yticks(tick_marks, classes)\n",
        "\n",
        "    fmt = '.2f' if normalize else 'd'\n",
        "    thresh = cm.max() / 2.\n",
        "    for i, j in itertools.product(range(cm.shape[0]), range(cm.shape[1])):\n",
        "        plt.text(j, i, format(cm[i, j], fmt),\n",
        "                 horizontalalignment=\"center\",\n",
        "                 color=\"white\" if cm[i, j] > thresh else \"black\")\n",
        "\n",
        "    plt.tight_layout()\n",
        "    plt.ylabel('True label')\n",
        "    plt.xlabel('Predicted label')\n",
        "\n",
        "\n",
        "plt.figure(figsize=(8,8))\n",
        "plot_confusion_matrix(cm, list(classes.keys()), normalize=True)"
      ],
      "execution_count": null,
      "outputs": []
    },
    {
      "cell_type": "code",
      "metadata": {
        "id": "Rr09uLk8I9O9",
        "colab_type": "code",
        "colab": {}
      },
      "source": [
        ""
      ],
      "execution_count": null,
      "outputs": []
    }
  ]
}