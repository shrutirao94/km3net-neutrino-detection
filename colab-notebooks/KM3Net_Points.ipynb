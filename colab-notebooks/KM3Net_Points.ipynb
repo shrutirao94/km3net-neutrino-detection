{
  "nbformat": 4,
  "nbformat_minor": 0,
  "metadata": {
    "colab": {
      "name": "KM3Net:Points.ipynb",
      "provenance": [],
      "collapsed_sections": [
        "_8W4gOI_P9a9"
      ],
      "toc_visible": true
    },
    "kernelspec": {
      "name": "python3",
      "display_name": "Python 3"
    },
    "accelerator": "GPU"
  },
  "cells": [
    {
      "cell_type": "markdown",
      "metadata": {
        "id": "NpvL68OfBEQC",
        "colab_type": "text"
      },
      "source": [
        "# Experiment: Working with Points Only Data\n",
        "\n",
        "*   List item\n",
        "*   List item\n",
        "\n",
        "\n",
        "\n"
      ]
    },
    {
      "cell_type": "code",
      "metadata": {
        "id": "TJ47VNF7fmTS",
        "colab_type": "code",
        "colab": {
          "base_uri": "https://localhost:8080/",
          "height": 326
        },
        "outputId": "79d4938a-7376-4f3d-9a7c-27f4ca0cf2a5"
      },
      "source": [
        "import math\n",
        "import itertools\n",
        "import random\n",
        "import os\n",
        "\n",
        "import numpy as np\n",
        "import matplotlib.pyplot as plt\n",
        "import plotly.graph_objects as go\n",
        "import plotly.express as px\n",
        "import scipy.spatial.distance\n",
        "!pip install scikit-plot\n",
        "import scikitplot as skplt\n",
        "import scipy.spatial.distance\n",
        "\n",
        "from torch.utils.data import Dataset, DataLoader\n",
        "from torchvision import transforms, utils\n",
        "\n",
        "import plotly.graph_objects as go\n",
        "import plotly.express as px\n",
        "\n",
        "import torch\n",
        "from torch.utils.data import Dataset, DataLoader\n",
        "from torchvision import transforms, utils\n",
        "\n",
        "from sklearn import metrics\n",
        "from sklearn.metrics import confusion_matrix\n",
        "from sklearn.metrics import precision_recall_curve\n",
        "from sklearn.metrics import plot_precision_recall_curve\n",
        "from sklearn.metrics import average_precision_score\n",
        "from sklearn.metrics import classification_report\n",
        "from sklearn.metrics import roc_curve\n",
        "from sklearn.metrics import roc_auc_score\n",
        "\n",
        "\n",
        "!pip install path.py;\n",
        "from path import Path\n",
        "\n",
        "random.seed = 42\n",
        "\n",
        "from google.colab import drive\n",
        "drive.mount('/content/drive')\n",
        "\n",
        "PATH = Path(\"/content/drive/My Drive/KM3Net Data/points/\")"
      ],
      "execution_count": null,
      "outputs": [
        {
          "output_type": "stream",
          "text": [
            "Collecting scikit-plot\n",
            "  Downloading https://files.pythonhosted.org/packages/7c/47/32520e259340c140a4ad27c1b97050dd3254fdc517b1d59974d47037510e/scikit_plot-0.3.7-py3-none-any.whl\n",
            "Requirement already satisfied: joblib>=0.10 in /usr/local/lib/python3.6/dist-packages (from scikit-plot) (0.16.0)\n",
            "Requirement already satisfied: scipy>=0.9 in /usr/local/lib/python3.6/dist-packages (from scikit-plot) (1.4.1)\n",
            "Requirement already satisfied: matplotlib>=1.4.0 in /usr/local/lib/python3.6/dist-packages (from scikit-plot) (3.2.2)\n",
            "Requirement already satisfied: scikit-learn>=0.18 in /usr/local/lib/python3.6/dist-packages (from scikit-plot) (0.22.2.post1)\n",
            "Requirement already satisfied: numpy>=1.13.3 in /usr/local/lib/python3.6/dist-packages (from scipy>=0.9->scikit-plot) (1.18.5)\n",
            "Requirement already satisfied: kiwisolver>=1.0.1 in /usr/local/lib/python3.6/dist-packages (from matplotlib>=1.4.0->scikit-plot) (1.2.0)\n",
            "Requirement already satisfied: python-dateutil>=2.1 in /usr/local/lib/python3.6/dist-packages (from matplotlib>=1.4.0->scikit-plot) (2.8.1)\n",
            "Requirement already satisfied: cycler>=0.10 in /usr/local/lib/python3.6/dist-packages (from matplotlib>=1.4.0->scikit-plot) (0.10.0)\n",
            "Requirement already satisfied: pyparsing!=2.0.4,!=2.1.2,!=2.1.6,>=2.0.1 in /usr/local/lib/python3.6/dist-packages (from matplotlib>=1.4.0->scikit-plot) (2.4.7)\n",
            "Requirement already satisfied: six>=1.5 in /usr/local/lib/python3.6/dist-packages (from python-dateutil>=2.1->matplotlib>=1.4.0->scikit-plot) (1.15.0)\n",
            "Installing collected packages: scikit-plot\n",
            "Successfully installed scikit-plot-0.3.7\n",
            "Requirement already satisfied: path.py in /usr/local/lib/python3.6/dist-packages (12.5.0)\n",
            "Requirement already satisfied: path in /usr/local/lib/python3.6/dist-packages (from path.py) (15.0.0)\n",
            "Drive already mounted at /content/drive; to attempt to forcibly remount, call drive.mount(\"/content/drive\", force_remount=True).\n"
          ],
          "name": "stdout"
        }
      ]
    },
    {
      "cell_type": "code",
      "metadata": {
        "id": "yuhapDfwi-W7",
        "colab_type": "code",
        "colab": {
          "base_uri": "https://localhost:8080/",
          "height": 34
        },
        "outputId": "92e402c0-6721-4c32-a72c-85abbe0cf3f8"
      },
      "source": [
        "parent_folders = os.listdir(PATH)\n",
        "folders = [dir for dir in sorted(parent_folders) if os.path.isdir(PATH/dir)]\n",
        "classes = {folder: i for i, folder in enumerate(folders)};\n",
        "\n",
        "print(\"The parent folders: {0}; classes: {1}\".format(parent_folders,\n",
        "                                                     classes))"
      ],
      "execution_count": null,
      "outputs": [
        {
          "output_type": "stream",
          "text": [
            "The parent folders: ['mixed', 'noise']; classes: {'mixed': 0, 'noise': 1}\n"
          ],
          "name": "stdout"
        }
      ]
    },
    {
      "cell_type": "markdown",
      "metadata": {
        "id": "Dm0BLAruLye9",
        "colab_type": "text"
      },
      "source": [
        "# Reading `xyz` Files"
      ]
    },
    {
      "cell_type": "code",
      "metadata": {
        "id": "dnCk34-kHx0y",
        "colab_type": "code",
        "colab": {}
      },
      "source": [
        "def read_xyz(file):\n",
        "    n_verts = len(file.readlines())\n",
        "    file.seek(0)\n",
        "    verts = [[float(s) for s in file.readline().strip().split(' ')] for i in range(n_verts)]\n",
        "    return verts"
      ],
      "execution_count": null,
      "outputs": []
    },
    {
      "cell_type": "code",
      "metadata": {
        "id": "eRk6CyB0MBsx",
        "colab_type": "code",
        "colab": {}
      },
      "source": [
        "class PointSampler(object):\n",
        "    def __call__(self, data):\n",
        "        choice_indices = np.random.choice(len(data), 8192, replace=True)\n",
        "        choices = [data[i] for i in choice_indices]\n",
        "        \n",
        "        return np.array(choices)\n",
        "\n",
        "    # def __init__(self, output_size):\n",
        "    #     assert isinstance(output_size, int)\n",
        "    #     self.output_size = output_size\n",
        "    \n",
        "    # def triangle_area(self, pt1, pt2, pt3):\n",
        "    #     side_a = np.linalg.norm(pt1 - pt2)\n",
        "    #     side_b = np.linalg.norm(pt2 - pt3)\n",
        "    #     side_c = np.linalg.norm(pt3 - pt1)\n",
        "    #     s = 0.5 * ( side_a + side_b + side_c)\n",
        "    #     return max(s *\n",
        "    #                (s - side_a) * \n",
        "    #                (s - side_b) * \n",
        "    #                (s - side_c), 0)**0.5\n",
        "\n",
        "    # def sample_point(self, pt1, pt2, pt3):\n",
        "    #     # barycentric coordinates on a triangle\n",
        "    #     # https://mathworld.wolfram.com/BarycentricCoordinates.html\n",
        "    #     s, t = sorted([random.random(), random.random()])\n",
        "    #     f = lambda i: s * pt1[i] + (t-s)*pt2[i] + (1-t)*pt3[i]\n",
        "    #     return (f(0), f(1), f(2))\n",
        "        \n",
        "    \n",
        "    # def __call__(self, mesh):\n",
        "    #     verts, faces = mesh\n",
        "    #     verts = np.array(verts)\n",
        "    #     areas = np.zeros((len(faces)))\n",
        "\n",
        "    #     for i in range(len(areas)):\n",
        "    #         areas[i] = (self.triangle_area(verts[faces[i][0]],\n",
        "    #                                        verts[faces[i][1]],\n",
        "    #                                        verts[faces[i][2]]))\n",
        "            \n",
        "    #     sampled_faces = (random.choices(faces, \n",
        "    #                                   weights=areas,\n",
        "    #                                   cum_weights=None,\n",
        "    #                                   k=self.output_size))\n",
        "        \n",
        "    #     sampled_points = np.zeros((self.output_size, 3))\n",
        "\n",
        "    #     for i in range(len(sampled_faces)):\n",
        "    #         sampled_points[i] = (self.sample_point(verts[sampled_faces[i][0]],\n",
        "    #                                                verts[sampled_faces[i][1]],\n",
        "    #                                                verts[sampled_faces[i][2]]))\n",
        "        \n",
        "    #     return sampled_points\n",
        "\n",
        "class Normalize(object):\n",
        "    def __call__(self, pointcloud):\n",
        "        assert len(pointcloud.shape)==2\n",
        "        \n",
        "        norm_pointcloud = pointcloud - np.mean(pointcloud, axis=0) \n",
        "        norm_pointcloud /= np.max(np.linalg.norm(norm_pointcloud, axis=1))\n",
        "\n",
        "        return  norm_pointcloud\n",
        "\n",
        "class RandRotation_z(object):\n",
        "    def __call__(self, pointcloud):\n",
        "        assert len(pointcloud.shape)==2\n",
        "\n",
        "        theta = random.random() * 2. * math.pi\n",
        "        rot_matrix = np.array([[ math.cos(theta), -math.sin(theta),    0],\n",
        "                               [ math.sin(theta),  math.cos(theta),    0],\n",
        "                               [0,                             0,      1]])\n",
        "        \n",
        "        rot_pointcloud = rot_matrix.dot(pointcloud.T).T\n",
        "        return  rot_pointcloud\n",
        "    \n",
        "class RandomNoise(object):\n",
        "    def __call__(self, pointcloud):\n",
        "        assert len(pointcloud.shape)==2\n",
        "\n",
        "        noise = np.random.normal(0, 0.02, (pointcloud.shape))\n",
        "    \n",
        "        noisy_pointcloud = pointcloud + noise\n",
        "        return  noisy_pointcloud\n",
        "\n",
        "class ToTensor(object):\n",
        "    def __call__(self, pointcloud):\n",
        "        pointcloud = np.array(pointcloud)\n",
        "        assert len(pointcloud.shape)==2\n",
        "        return torch.from_numpy(pointcloud)"
      ],
      "execution_count": null,
      "outputs": []
    },
    {
      "cell_type": "code",
      "metadata": {
        "id": "TgJgUhKe2LrD",
        "colab_type": "code",
        "colab": {}
      },
      "source": [
        "def default_transforms():\n",
        "    return transforms.Compose([PointSampler(),\n",
        "                               ToTensor()])"
      ],
      "execution_count": null,
      "outputs": []
    },
    {
      "cell_type": "code",
      "metadata": {
        "id": "YZWwMT1b1doX",
        "colab_type": "code",
        "colab": {}
      },
      "source": [
        "class PointCloudData(Dataset):\n",
        "    \"\"\"\n",
        "    Reads the files in the directory and :\n",
        "    1. Assigns classes\n",
        "    2. Checks if it is a training or validation phase\n",
        "    3. Tags files by it's class\n",
        "    \"\"\"\n",
        "    def __init__(self, root_dir, valid=False, folder=\"train\", transform=default_transforms()):\n",
        "        self.root_dir = root_dir\n",
        "        folders = [dir for dir in sorted(os.listdir(root_dir)) if os.path.isdir(root_dir/dir)]\n",
        "        self.classes = {folder: i for i, folder in enumerate(folders)}\n",
        "        self.transforms = transform if not valid else default_transforms()\n",
        "        self.valid = valid\n",
        "        self.files = []\n",
        "        for category in self.classes.keys():\n",
        "            new_dir = root_dir/Path(category)/folder\n",
        "            for file in os.listdir(new_dir):\n",
        "                if file.endswith('.xyz'):\n",
        "                    sample = {}\n",
        "                    sample['pcd_path'] = new_dir/file\n",
        "                    sample['category'] = category\n",
        "                    self.files.append(sample)\n",
        "\n",
        "    def __len__(self):\n",
        "        return len(self.files)\n",
        "\n",
        "    def __preproc__(self, file):\n",
        "        pointcloud = read_xyz(file)\n",
        "\n",
        "        if self.transforms:\n",
        "            pointcloud = self.transforms((pointcloud))\n",
        "        return pointcloud\n",
        "\n",
        "    def __getitem__(self, idx):\n",
        "        pcd_path = self.files[idx]['pcd_path']\n",
        "        category = self.files[idx]['category']\n",
        "        with open(pcd_path, 'r') as f:\n",
        "            pointcloud = self.__preproc__(f)\n",
        "        return {'pointcloud': pointcloud, \n",
        "                'category': self.classes[category]}"
      ],
      "execution_count": null,
      "outputs": []
    },
    {
      "cell_type": "code",
      "metadata": {
        "id": "4pOl95glmphX",
        "colab_type": "code",
        "colab": {}
      },
      "source": [
        "train_transforms = transforms.Compose([PointSampler(),\n",
        "                    ToTensor()])"
      ],
      "execution_count": null,
      "outputs": []
    },
    {
      "cell_type": "code",
      "metadata": {
        "id": "xpDsEx00mZrx",
        "colab_type": "code",
        "colab": {}
      },
      "source": [
        "train_ds = PointCloudData(PATH,\n",
        "                          transform=train_transforms)\n",
        "valid_ds = PointCloudData(PATH,\n",
        "                          valid=True,\n",
        "                          folder='test',\n",
        "                          transform=train_transforms)"
      ],
      "execution_count": null,
      "outputs": []
    },
    {
      "cell_type": "code",
      "metadata": {
        "id": "HbIZKqkIrdQE",
        "colab_type": "code",
        "colab": {
          "base_uri": "https://localhost:8080/",
          "height": 34
        },
        "outputId": "ef607e50-9b94-4800-fefb-2e37e433b0c8"
      },
      "source": [
        "inv_classes = {i: cat for cat, i in train_ds.classes.items()};\n",
        "inv_classes"
      ],
      "execution_count": null,
      "outputs": [
        {
          "output_type": "execute_result",
          "data": {
            "text/plain": [
              "{0: 'mixed', 1: 'noise'}"
            ]
          },
          "metadata": {
            "tags": []
          },
          "execution_count": 27
        }
      ]
    },
    {
      "cell_type": "code",
      "metadata": {
        "id": "arTK45IlBeiZ",
        "colab_type": "code",
        "colab": {
          "base_uri": "https://localhost:8080/",
          "height": 102
        },
        "outputId": "34290ba6-b10f-43d6-bef8-6c9416982de0"
      },
      "source": [
        "print('Train dataset size: ', len(train_ds))\n",
        "print('Valid dataset size: ', len(valid_ds))\n",
        "print('Number of classes: ', len(train_ds.classes))\n",
        "print('Sample pointcloud shape: ', train_ds[0]['pointcloud'].size())\n",
        "print('Class: ', inv_classes[train_ds[0]['category']])"
      ],
      "execution_count": null,
      "outputs": [
        {
          "output_type": "stream",
          "text": [
            "Train dataset size:  320\n",
            "Valid dataset size:  80\n",
            "Number of classes:  2\n",
            "Sample pointcloud shape:  torch.Size([8192, 3])\n",
            "Class:  mixed\n"
          ],
          "name": "stdout"
        }
      ]
    },
    {
      "cell_type": "code",
      "metadata": {
        "id": "cVGtKLa4PthS",
        "colab_type": "code",
        "colab": {}
      },
      "source": [
        "train_loader = DataLoader(dataset=train_ds, batch_size=32, shuffle=True)\n",
        "valid_loader = DataLoader(dataset=valid_ds, batch_size=64)"
      ],
      "execution_count": null,
      "outputs": []
    },
    {
      "cell_type": "markdown",
      "metadata": {
        "id": "Isb_97zOA8Tl",
        "colab_type": "text"
      },
      "source": [
        "# Model"
      ]
    },
    {
      "cell_type": "code",
      "metadata": {
        "id": "ZV20opgrv23I",
        "colab_type": "code",
        "colab": {}
      },
      "source": [
        "import torch\n",
        "import torch.nn as nn\n",
        "import numpy as np\n",
        "import torch.nn.functional as F\n",
        "\n",
        "class Tnet(nn.Module):\n",
        "   def __init__(self, k=3):\n",
        "      super().__init__()\n",
        "      self.k=k\n",
        "      self.conv1 = nn.Conv1d(k,64,1)\n",
        "      self.conv2 = nn.Conv1d(64,128,1)\n",
        "      self.conv3 = nn.Conv1d(128,1024,1)\n",
        "      self.fc1 = nn.Linear(1024,512)\n",
        "      self.fc2 = nn.Linear(512,256)\n",
        "      self.fc3 = nn.Linear(256,k*k)\n",
        "\n",
        "      self.bn1 = nn.BatchNorm1d(64)\n",
        "      self.bn2 = nn.BatchNorm1d(128)\n",
        "      self.bn3 = nn.BatchNorm1d(1024)\n",
        "      self.bn4 = nn.BatchNorm1d(512)\n",
        "      self.bn5 = nn.BatchNorm1d(256)\n",
        "       \n",
        "\n",
        "   def forward(self, input):\n",
        "      # input.shape == (bs,n,3)\n",
        "      bs = input.size(0)\n",
        "      xb = F.relu(self.bn1(self.conv1(input)))\n",
        "      xb = F.relu(self.bn2(self.conv2(xb)))\n",
        "      xb = F.relu(self.bn3(self.conv3(xb)))\n",
        "      pool = nn.MaxPool1d(xb.size(-1))(xb)\n",
        "      flat = nn.Flatten(1)(pool)\n",
        "      xb = F.relu(self.bn4(self.fc1(flat)))\n",
        "      xb = F.relu(self.bn5(self.fc2(xb)))\n",
        "      \n",
        "      #initialize as identity\n",
        "      init = torch.eye(self.k, requires_grad=True).repeat(bs,1,1)\n",
        "      if xb.is_cuda:\n",
        "        init=init.cuda()\n",
        "      matrix = self.fc3(xb).view(-1,self.k,self.k) + init\n",
        "      return matrix\n",
        "\n",
        "\n",
        "class Transform(nn.Module):\n",
        "   def __init__(self):\n",
        "        super().__init__()\n",
        "        self.input_transform = Tnet(k=3)\n",
        "        self.feature_transform = Tnet(k=64)\n",
        "        self.conv1 = nn.Conv1d(3,64,1)\n",
        "\n",
        "        self.conv2 = nn.Conv1d(64,128,1)\n",
        "        self.conv3 = nn.Conv1d(128,1024,1)\n",
        "       \n",
        "\n",
        "        self.bn1 = nn.BatchNorm1d(64)\n",
        "        self.bn2 = nn.BatchNorm1d(128)\n",
        "        self.bn3 = nn.BatchNorm1d(1024)\n",
        "       \n",
        "   def forward(self, input):\n",
        "        matrix3x3 = self.input_transform(input)\n",
        "        # batch matrix multiplication\n",
        "        xb = torch.bmm(torch.transpose(input,1,2), matrix3x3).transpose(1,2)\n",
        "\n",
        "        xb = F.relu(self.bn1(self.conv1(xb)))\n",
        "\n",
        "        matrix64x64 = self.feature_transform(xb)\n",
        "        xb = torch.bmm(torch.transpose(xb,1,2), matrix64x64).transpose(1,2)\n",
        "\n",
        "        xb = F.relu(self.bn2(self.conv2(xb)))\n",
        "        xb = self.bn3(self.conv3(xb))\n",
        "        xb = nn.MaxPool1d(xb.size(-1))(xb)\n",
        "        output = nn.Flatten(1)(xb)\n",
        "        return output, matrix3x3, matrix64x64\n",
        "\n",
        "class PointNet(nn.Module):\n",
        "    def __init__(self, classes = 2):\n",
        "        super().__init__()\n",
        "        self.transform = Transform()\n",
        "        self.fc1 = nn.Linear(1024, 512)\n",
        "        self.fc2 = nn.Linear(512, 256)\n",
        "        self.fc3 = nn.Linear(256, classes)\n",
        "        \n",
        "\n",
        "        self.bn1 = nn.BatchNorm1d(512)\n",
        "        self.bn2 = nn.BatchNorm1d(256)\n",
        "        self.dropout = nn.Dropout(p=0.3)\n",
        "        self.logsigmoid = nn.LogSigmoid()\n",
        "\n",
        "    def forward(self, input):\n",
        "        xb, matrix3x3, matrix64x64 = self.transform(input)\n",
        "        xb = F.relu(self.bn1(self.fc1(xb)))\n",
        "        xb = F.relu(self.bn2(self.dropout(self.fc2(xb))))\n",
        "        output = self.fc3(xb)\n",
        "        return self.logsigmoid(output), matrix3x3, matrix64x64"
      ],
      "execution_count": null,
      "outputs": []
    },
    {
      "cell_type": "code",
      "metadata": {
        "id": "580NErhyP1zD",
        "colab_type": "code",
        "colab": {}
      },
      "source": [
        "def pointnetloss(outputs, labels, m3x3, m64x64, alpha = 0.0001):\n",
        "    criterion = torch.nn.NLLLoss()\n",
        "    bs=outputs.size(0)\n",
        "    id3x3 = torch.eye(3, requires_grad=True).repeat(bs,1,1)\n",
        "    id64x64 = torch.eye(64, requires_grad=True).repeat(bs,1,1)\n",
        "    if outputs.is_cuda:\n",
        "        id3x3=id3x3.cuda()\n",
        "        id64x64=id64x64.cuda()\n",
        "    diff3x3 = id3x3-torch.bmm(m3x3,m3x3.transpose(1,2))\n",
        "    diff64x64 = id64x64-torch.bmm(m64x64,m64x64.transpose(1,2))\n",
        "    return criterion(outputs, labels) + alpha * (torch.norm(diff3x3)+torch.norm(diff64x64)) / float(bs)"
      ],
      "execution_count": null,
      "outputs": []
    },
    {
      "cell_type": "markdown",
      "metadata": {
        "id": "2mLBRcfwP2Sq",
        "colab_type": "text"
      },
      "source": [
        "# Train"
      ]
    },
    {
      "cell_type": "code",
      "metadata": {
        "id": "nvmmwhcePvt2",
        "colab_type": "code",
        "colab": {
          "base_uri": "https://localhost:8080/",
          "height": 34
        },
        "outputId": "11a0e49d-9eab-4ea6-d8cc-ea732d63a62d"
      },
      "source": [
        "device = torch.device(\"cuda:0\" if torch.cuda.is_available() else \"cpu\")\n",
        "print(device)"
      ],
      "execution_count": null,
      "outputs": [
        {
          "output_type": "stream",
          "text": [
            "cuda:0\n"
          ],
          "name": "stdout"
        }
      ]
    },
    {
      "cell_type": "code",
      "metadata": {
        "id": "l_DXKkfMPxP0",
        "colab_type": "code",
        "colab": {
          "base_uri": "https://localhost:8080/",
          "height": 748
        },
        "outputId": "ba4ca025-0f96-4055-c7d3-278b9cdf8de9"
      },
      "source": [
        "pointnet = PointNet()\n",
        "pointnet.to(device)\n",
        "# print(pointnet)"
      ],
      "execution_count": null,
      "outputs": [
        {
          "output_type": "execute_result",
          "data": {
            "text/plain": [
              "PointNet(\n",
              "  (transform): Transform(\n",
              "    (input_transform): Tnet(\n",
              "      (conv1): Conv1d(3, 64, kernel_size=(1,), stride=(1,))\n",
              "      (conv2): Conv1d(64, 128, kernel_size=(1,), stride=(1,))\n",
              "      (conv3): Conv1d(128, 1024, kernel_size=(1,), stride=(1,))\n",
              "      (fc1): Linear(in_features=1024, out_features=512, bias=True)\n",
              "      (fc2): Linear(in_features=512, out_features=256, bias=True)\n",
              "      (fc3): Linear(in_features=256, out_features=9, bias=True)\n",
              "      (bn1): BatchNorm1d(64, eps=1e-05, momentum=0.1, affine=True, track_running_stats=True)\n",
              "      (bn2): BatchNorm1d(128, eps=1e-05, momentum=0.1, affine=True, track_running_stats=True)\n",
              "      (bn3): BatchNorm1d(1024, eps=1e-05, momentum=0.1, affine=True, track_running_stats=True)\n",
              "      (bn4): BatchNorm1d(512, eps=1e-05, momentum=0.1, affine=True, track_running_stats=True)\n",
              "      (bn5): BatchNorm1d(256, eps=1e-05, momentum=0.1, affine=True, track_running_stats=True)\n",
              "    )\n",
              "    (feature_transform): Tnet(\n",
              "      (conv1): Conv1d(64, 64, kernel_size=(1,), stride=(1,))\n",
              "      (conv2): Conv1d(64, 128, kernel_size=(1,), stride=(1,))\n",
              "      (conv3): Conv1d(128, 1024, kernel_size=(1,), stride=(1,))\n",
              "      (fc1): Linear(in_features=1024, out_features=512, bias=True)\n",
              "      (fc2): Linear(in_features=512, out_features=256, bias=True)\n",
              "      (fc3): Linear(in_features=256, out_features=4096, bias=True)\n",
              "      (bn1): BatchNorm1d(64, eps=1e-05, momentum=0.1, affine=True, track_running_stats=True)\n",
              "      (bn2): BatchNorm1d(128, eps=1e-05, momentum=0.1, affine=True, track_running_stats=True)\n",
              "      (bn3): BatchNorm1d(1024, eps=1e-05, momentum=0.1, affine=True, track_running_stats=True)\n",
              "      (bn4): BatchNorm1d(512, eps=1e-05, momentum=0.1, affine=True, track_running_stats=True)\n",
              "      (bn5): BatchNorm1d(256, eps=1e-05, momentum=0.1, affine=True, track_running_stats=True)\n",
              "    )\n",
              "    (conv1): Conv1d(3, 64, kernel_size=(1,), stride=(1,))\n",
              "    (conv2): Conv1d(64, 128, kernel_size=(1,), stride=(1,))\n",
              "    (conv3): Conv1d(128, 1024, kernel_size=(1,), stride=(1,))\n",
              "    (bn1): BatchNorm1d(64, eps=1e-05, momentum=0.1, affine=True, track_running_stats=True)\n",
              "    (bn2): BatchNorm1d(128, eps=1e-05, momentum=0.1, affine=True, track_running_stats=True)\n",
              "    (bn3): BatchNorm1d(1024, eps=1e-05, momentum=0.1, affine=True, track_running_stats=True)\n",
              "  )\n",
              "  (fc1): Linear(in_features=1024, out_features=512, bias=True)\n",
              "  (fc2): Linear(in_features=512, out_features=256, bias=True)\n",
              "  (fc3): Linear(in_features=256, out_features=2, bias=True)\n",
              "  (bn1): BatchNorm1d(512, eps=1e-05, momentum=0.1, affine=True, track_running_stats=True)\n",
              "  (bn2): BatchNorm1d(256, eps=1e-05, momentum=0.1, affine=True, track_running_stats=True)\n",
              "  (dropout): Dropout(p=0.3, inplace=False)\n",
              "  (logsigmoid): LogSigmoid()\n",
              ")"
            ]
          },
          "metadata": {
            "tags": []
          },
          "execution_count": 33
        }
      ]
    },
    {
      "cell_type": "code",
      "metadata": {
        "id": "4ST7F9E5P0BI",
        "colab_type": "code",
        "colab": {}
      },
      "source": [
        "optimizer = torch.optim.Adam(pointnet.parameters(), lr=0.001)"
      ],
      "execution_count": null,
      "outputs": []
    },
    {
      "cell_type": "code",
      "metadata": {
        "id": "Rg8obt6FP6Ff",
        "colab_type": "code",
        "colab": {}
      },
      "source": [
        "def train(model, train_loader, val_loader=None,  epochs=100, save=True):\n",
        "    for epoch in range(epochs): \n",
        "        pointnet.train()\n",
        "        running_loss = 0.0\n",
        "        for i, data in enumerate(train_loader, 0):\n",
        "            inputs, labels = data['pointcloud'].to(device).float(), data['category'].to(device)\n",
        "            optimizer.zero_grad()\n",
        "            outputs, m3x3, m64x64 = pointnet(inputs.transpose(1,2))\n",
        "\n",
        "            loss = pointnetloss(outputs, labels, m3x3, m64x64)\n",
        "            loss.backward()\n",
        "            optimizer.step()\n",
        "\n",
        "            # print statistics\n",
        "            running_loss += loss.item()\n",
        "            if i % 10 == 9:\n",
        "                print('[Epoch: %d, Batch: %4d / %4d], loss: %.3f' % \n",
        "                      (epoch + 1, i + 1, len(train_loader), running_loss / 10))\n",
        "                running_loss = 0.0\n",
        "\n",
        "        pointnet.eval()\n",
        "        correct = total = 0\n",
        "\n",
        "        # validation\n",
        "        if val_loader:\n",
        "            with torch.no_grad():\n",
        "                for data in val_loader:\n",
        "                    inputs, labels = data['pointcloud'].to(device).float(), data['category'].to(device)\n",
        "                    outputs, __, __ = pointnet(inputs.transpose(1,2))\n",
        "                    _, predicted = torch.max(outputs.data, 1)\n",
        "                    total += labels.size(0)\n",
        "                    correct += (predicted == labels).sum().item()\n",
        "            val_acc = 100. * correct / total\n",
        "            print('Valid accuracy: %d %%' % val_acc)\n",
        "\n",
        "        # save the model\n",
        "        if save:\n",
        "          torch.save(pointnet.state_dict(),\n",
        "                     \"save_\" + str(epoch) + \".pth\")"
      ],
      "execution_count": null,
      "outputs": []
    },
    {
      "cell_type": "code",
      "metadata": {
        "id": "Lp3uFKomP8AU",
        "colab_type": "code",
        "colab": {
          "base_uri": "https://localhost:8080/",
          "height": 1000
        },
        "outputId": "03b59701-4e35-4a36-a5df-0b59300cd3b3"
      },
      "source": [
        "train(pointnet, train_loader, valid_loader,  save=True)"
      ],
      "execution_count": null,
      "outputs": [
        {
          "output_type": "stream",
          "text": [
            "[Epoch: 1, Batch:   10 /   10], loss: 0.431\n",
            "Valid accuracy: 63 %\n",
            "[Epoch: 2, Batch:   10 /   10], loss: 0.163\n",
            "Valid accuracy: 52 %\n",
            "[Epoch: 3, Batch:   10 /   10], loss: 0.081\n",
            "Valid accuracy: 47 %\n",
            "[Epoch: 4, Batch:   10 /   10], loss: 0.046\n",
            "Valid accuracy: 50 %\n",
            "[Epoch: 5, Batch:   10 /   10], loss: 0.032\n",
            "Valid accuracy: 46 %\n",
            "[Epoch: 6, Batch:   10 /   10], loss: 0.025\n",
            "Valid accuracy: 51 %\n",
            "[Epoch: 7, Batch:   10 /   10], loss: 0.020\n",
            "Valid accuracy: 51 %\n",
            "[Epoch: 8, Batch:   10 /   10], loss: 0.017\n",
            "Valid accuracy: 47 %\n",
            "[Epoch: 9, Batch:   10 /   10], loss: 0.014\n",
            "Valid accuracy: 48 %\n",
            "[Epoch: 10, Batch:   10 /   10], loss: 0.013\n",
            "Valid accuracy: 50 %\n",
            "[Epoch: 11, Batch:   10 /   10], loss: 0.011\n",
            "Valid accuracy: 46 %\n",
            "[Epoch: 12, Batch:   10 /   10], loss: 0.010\n",
            "Valid accuracy: 46 %\n",
            "[Epoch: 13, Batch:   10 /   10], loss: 0.009\n",
            "Valid accuracy: 46 %\n",
            "[Epoch: 14, Batch:   10 /   10], loss: 0.008\n",
            "Valid accuracy: 46 %\n",
            "[Epoch: 15, Batch:   10 /   10], loss: 0.007\n",
            "Valid accuracy: 43 %\n",
            "[Epoch: 16, Batch:   10 /   10], loss: 0.007\n",
            "Valid accuracy: 46 %\n",
            "[Epoch: 17, Batch:   10 /   10], loss: 0.006\n",
            "Valid accuracy: 47 %\n",
            "[Epoch: 18, Batch:   10 /   10], loss: 0.006\n",
            "Valid accuracy: 46 %\n",
            "[Epoch: 19, Batch:   10 /   10], loss: 0.005\n",
            "Valid accuracy: 45 %\n",
            "[Epoch: 20, Batch:   10 /   10], loss: 0.005\n",
            "Valid accuracy: 45 %\n",
            "[Epoch: 21, Batch:   10 /   10], loss: 0.004\n",
            "Valid accuracy: 48 %\n",
            "[Epoch: 22, Batch:   10 /   10], loss: 0.004\n",
            "Valid accuracy: 55 %\n",
            "[Epoch: 23, Batch:   10 /   10], loss: 0.004\n",
            "Valid accuracy: 55 %\n",
            "[Epoch: 24, Batch:   10 /   10], loss: 0.004\n",
            "Valid accuracy: 48 %\n",
            "[Epoch: 25, Batch:   10 /   10], loss: 0.003\n",
            "Valid accuracy: 50 %\n",
            "[Epoch: 26, Batch:   10 /   10], loss: 0.003\n",
            "Valid accuracy: 48 %\n",
            "[Epoch: 27, Batch:   10 /   10], loss: 0.003\n",
            "Valid accuracy: 51 %\n",
            "[Epoch: 28, Batch:   10 /   10], loss: 0.003\n",
            "Valid accuracy: 51 %\n",
            "[Epoch: 29, Batch:   10 /   10], loss: 0.003\n",
            "Valid accuracy: 45 %\n",
            "[Epoch: 30, Batch:   10 /   10], loss: 0.003\n",
            "Valid accuracy: 41 %\n",
            "[Epoch: 31, Batch:   10 /   10], loss: 0.002\n",
            "Valid accuracy: 47 %\n",
            "[Epoch: 32, Batch:   10 /   10], loss: 0.002\n",
            "Valid accuracy: 42 %\n",
            "[Epoch: 33, Batch:   10 /   10], loss: 0.002\n",
            "Valid accuracy: 42 %\n",
            "[Epoch: 34, Batch:   10 /   10], loss: 0.002\n",
            "Valid accuracy: 52 %\n",
            "[Epoch: 35, Batch:   10 /   10], loss: 0.002\n",
            "Valid accuracy: 55 %\n",
            "[Epoch: 36, Batch:   10 /   10], loss: 0.002\n",
            "Valid accuracy: 55 %\n",
            "[Epoch: 37, Batch:   10 /   10], loss: 0.002\n",
            "Valid accuracy: 52 %\n",
            "[Epoch: 38, Batch:   10 /   10], loss: 0.002\n",
            "Valid accuracy: 43 %\n",
            "[Epoch: 39, Batch:   10 /   10], loss: 0.002\n",
            "Valid accuracy: 51 %\n",
            "[Epoch: 40, Batch:   10 /   10], loss: 0.002\n",
            "Valid accuracy: 51 %\n",
            "[Epoch: 41, Batch:   10 /   10], loss: 0.002\n",
            "Valid accuracy: 51 %\n",
            "[Epoch: 42, Batch:   10 /   10], loss: 0.002\n",
            "Valid accuracy: 53 %\n",
            "[Epoch: 43, Batch:   10 /   10], loss: 0.001\n",
            "Valid accuracy: 52 %\n",
            "[Epoch: 44, Batch:   10 /   10], loss: 0.001\n",
            "Valid accuracy: 46 %\n",
            "[Epoch: 45, Batch:   10 /   10], loss: 0.001\n",
            "Valid accuracy: 46 %\n",
            "[Epoch: 46, Batch:   10 /   10], loss: 0.001\n",
            "Valid accuracy: 52 %\n",
            "[Epoch: 47, Batch:   10 /   10], loss: 0.001\n",
            "Valid accuracy: 47 %\n",
            "[Epoch: 48, Batch:   10 /   10], loss: 0.001\n",
            "Valid accuracy: 55 %\n",
            "[Epoch: 49, Batch:   10 /   10], loss: 0.001\n",
            "Valid accuracy: 55 %\n",
            "[Epoch: 50, Batch:   10 /   10], loss: 0.001\n",
            "Valid accuracy: 52 %\n",
            "[Epoch: 51, Batch:   10 /   10], loss: 0.001\n",
            "Valid accuracy: 51 %\n",
            "[Epoch: 52, Batch:   10 /   10], loss: 0.001\n",
            "Valid accuracy: 45 %\n",
            "[Epoch: 53, Batch:   10 /   10], loss: 0.001\n",
            "Valid accuracy: 51 %\n",
            "[Epoch: 54, Batch:   10 /   10], loss: 0.001\n",
            "Valid accuracy: 52 %\n",
            "[Epoch: 55, Batch:   10 /   10], loss: 0.001\n",
            "Valid accuracy: 52 %\n",
            "[Epoch: 56, Batch:   10 /   10], loss: 0.001\n",
            "Valid accuracy: 52 %\n",
            "[Epoch: 57, Batch:   10 /   10], loss: 0.001\n",
            "Valid accuracy: 52 %\n",
            "[Epoch: 58, Batch:   10 /   10], loss: 0.001\n",
            "Valid accuracy: 53 %\n",
            "[Epoch: 59, Batch:   10 /   10], loss: 0.001\n",
            "Valid accuracy: 50 %\n",
            "[Epoch: 60, Batch:   10 /   10], loss: 0.001\n",
            "Valid accuracy: 52 %\n",
            "[Epoch: 61, Batch:   10 /   10], loss: 0.001\n",
            "Valid accuracy: 52 %\n",
            "[Epoch: 62, Batch:   10 /   10], loss: 0.001\n",
            "Valid accuracy: 47 %\n",
            "[Epoch: 63, Batch:   10 /   10], loss: 0.001\n",
            "Valid accuracy: 52 %\n",
            "[Epoch: 64, Batch:   10 /   10], loss: 0.001\n",
            "Valid accuracy: 52 %\n",
            "[Epoch: 65, Batch:   10 /   10], loss: 0.001\n",
            "Valid accuracy: 55 %\n",
            "[Epoch: 66, Batch:   10 /   10], loss: 0.001\n",
            "Valid accuracy: 55 %\n",
            "[Epoch: 67, Batch:   10 /   10], loss: 0.001\n",
            "Valid accuracy: 55 %\n",
            "[Epoch: 68, Batch:   10 /   10], loss: 0.001\n",
            "Valid accuracy: 46 %\n",
            "[Epoch: 69, Batch:   10 /   10], loss: 0.001\n",
            "Valid accuracy: 52 %\n",
            "[Epoch: 70, Batch:   10 /   10], loss: 0.001\n",
            "Valid accuracy: 52 %\n",
            "[Epoch: 71, Batch:   10 /   10], loss: 0.001\n",
            "Valid accuracy: 52 %\n",
            "[Epoch: 72, Batch:   10 /   10], loss: 0.001\n",
            "Valid accuracy: 52 %\n",
            "[Epoch: 73, Batch:   10 /   10], loss: 0.001\n",
            "Valid accuracy: 55 %\n",
            "[Epoch: 74, Batch:   10 /   10], loss: 0.001\n",
            "Valid accuracy: 55 %\n",
            "[Epoch: 75, Batch:   10 /   10], loss: 0.001\n",
            "Valid accuracy: 55 %\n",
            "[Epoch: 76, Batch:   10 /   10], loss: 0.001\n",
            "Valid accuracy: 56 %\n",
            "[Epoch: 77, Batch:   10 /   10], loss: 0.000\n",
            "Valid accuracy: 53 %\n",
            "[Epoch: 78, Batch:   10 /   10], loss: 0.000\n",
            "Valid accuracy: 53 %\n",
            "[Epoch: 79, Batch:   10 /   10], loss: 0.000\n",
            "Valid accuracy: 53 %\n",
            "[Epoch: 80, Batch:   10 /   10], loss: 0.000\n",
            "Valid accuracy: 53 %\n",
            "[Epoch: 81, Batch:   10 /   10], loss: 0.000\n",
            "Valid accuracy: 51 %\n",
            "[Epoch: 82, Batch:   10 /   10], loss: 0.000\n",
            "Valid accuracy: 45 %\n",
            "[Epoch: 83, Batch:   10 /   10], loss: 0.000\n",
            "Valid accuracy: 51 %\n",
            "[Epoch: 84, Batch:   10 /   10], loss: 0.000\n",
            "Valid accuracy: 53 %\n",
            "[Epoch: 85, Batch:   10 /   10], loss: 0.000\n",
            "Valid accuracy: 53 %\n",
            "[Epoch: 86, Batch:   10 /   10], loss: 0.000\n",
            "Valid accuracy: 53 %\n",
            "[Epoch: 87, Batch:   10 /   10], loss: 0.000\n",
            "Valid accuracy: 56 %\n",
            "[Epoch: 88, Batch:   10 /   10], loss: 0.000\n",
            "Valid accuracy: 51 %\n",
            "[Epoch: 89, Batch:   10 /   10], loss: 0.000\n",
            "Valid accuracy: 55 %\n",
            "[Epoch: 90, Batch:   10 /   10], loss: 0.000\n",
            "Valid accuracy: 52 %\n",
            "[Epoch: 91, Batch:   10 /   10], loss: 0.000\n",
            "Valid accuracy: 53 %\n",
            "[Epoch: 92, Batch:   10 /   10], loss: 0.000\n",
            "Valid accuracy: 45 %\n",
            "[Epoch: 93, Batch:   10 /   10], loss: 0.000\n",
            "Valid accuracy: 51 %\n",
            "[Epoch: 94, Batch:   10 /   10], loss: 0.000\n",
            "Valid accuracy: 52 %\n",
            "[Epoch: 95, Batch:   10 /   10], loss: 0.000\n",
            "Valid accuracy: 55 %\n",
            "[Epoch: 96, Batch:   10 /   10], loss: 0.000\n",
            "Valid accuracy: 55 %\n",
            "[Epoch: 97, Batch:   10 /   10], loss: 0.000\n",
            "Valid accuracy: 51 %\n",
            "[Epoch: 98, Batch:   10 /   10], loss: 0.000\n",
            "Valid accuracy: 46 %\n",
            "[Epoch: 99, Batch:   10 /   10], loss: 0.000\n",
            "Valid accuracy: 53 %\n",
            "[Epoch: 100, Batch:   10 /   10], loss: 0.000\n",
            "Valid accuracy: 52 %\n"
          ],
          "name": "stdout"
        }
      ]
    },
    {
      "cell_type": "markdown",
      "metadata": {
        "id": "_8W4gOI_P9a9",
        "colab_type": "text"
      },
      "source": [
        "# Test"
      ]
    },
    {
      "cell_type": "code",
      "metadata": {
        "id": "_iDtAJoYH4hE",
        "colab_type": "code",
        "colab": {}
      },
      "source": [
        "from sklearn.metrics import confusion_matrix"
      ],
      "execution_count": null,
      "outputs": []
    },
    {
      "cell_type": "code",
      "metadata": {
        "id": "pU70YWA7P-I_",
        "colab_type": "code",
        "colab": {}
      },
      "source": [
        "pointnet = PointNet()\n",
        "pointnet.load_state_dict(torch.load('save_55.pth'))\n",
        "pointnet.eval();"
      ],
      "execution_count": null,
      "outputs": []
    },
    {
      "cell_type": "code",
      "metadata": {
        "id": "54EP7PAyC2iQ",
        "colab_type": "code",
        "colab": {
          "base_uri": "https://localhost:8080/",
          "height": 51
        },
        "outputId": "2c67b846-6e91-4da1-fc01-6613a0ac27bf"
      },
      "source": [
        "all_preds = []\n",
        "all_labels = []\n",
        "with torch.no_grad():\n",
        "    for i, data in enumerate(valid_loader):\n",
        "        print('Batch [%4d / %4d]' % (i+1, len(valid_loader)))\n",
        "                   \n",
        "        inputs, labels = data['pointcloud'].float(), data['category']\n",
        "        outputs, __, __ = pointnet(inputs.transpose(1,2))\n",
        "        _, preds = torch.max(outputs.data, 1)\n",
        "        all_preds += list(preds.numpy())\n",
        "        all_labels += list(labels.numpy())"
      ],
      "execution_count": null,
      "outputs": [
        {
          "output_type": "stream",
          "text": [
            "Batch [   1 /    2]\n",
            "Batch [   2 /    2]\n"
          ],
          "name": "stdout"
        }
      ]
    },
    {
      "cell_type": "code",
      "metadata": {
        "id": "NWNts-GKELNk",
        "colab_type": "code",
        "colab": {
          "base_uri": "https://localhost:8080/",
          "height": 51
        },
        "outputId": "0fedb445-5514-459e-844d-780327ba6ea0"
      },
      "source": [
        "cm = confusion_matrix(all_labels, all_preds);\n",
        "cm"
      ],
      "execution_count": null,
      "outputs": [
        {
          "output_type": "execute_result",
          "data": {
            "text/plain": [
              "array([[28, 12],\n",
              "       [26, 14]])"
            ]
          },
          "metadata": {
            "tags": []
          },
          "execution_count": 41
        }
      ]
    },
    {
      "cell_type": "code",
      "metadata": {
        "id": "VcS7dXw5Rkae",
        "colab_type": "code",
        "colab": {}
      },
      "source": [
        "# function from https://deeplizard.com/learn/video/0LhiS6yu2qQ\n",
        "def plot_confusion_matrix(cm, classes, normalize=False, title='Confusion matrix', cmap=plt.cm.Blues):\n",
        "    if normalize:\n",
        "        cm = cm.astype('float') / cm.sum(axis=1)[:, np.newaxis]\n",
        "        print(\"Normalized confusion matrix\")\n",
        "    else:\n",
        "        print('Confusion matrix, without normalization')\n",
        "\n",
        "    plt.imshow(cm, interpolation='nearest', cmap=cmap)\n",
        "    plt.title(title)\n",
        "    plt.colorbar()\n",
        "    tick_marks = np.arange(len(classes))\n",
        "    plt.xticks(tick_marks, classes, rotation=45)\n",
        "    plt.yticks(tick_marks, classes)\n",
        "\n",
        "    fmt = '.2f' if normalize else 'd'\n",
        "    thresh = cm.max() / 2.\n",
        "    for i, j in itertools.product(range(cm.shape[0]), range(cm.shape[1])):\n",
        "        plt.text(j, i, format(cm[i, j], fmt), horizontalalignment=\"center\", color=\"white\" if cm[i, j] > thresh else \"black\")\n",
        "\n",
        "    plt.tight_layout()\n",
        "    plt.ylabel('True label')\n",
        "    plt.xlabel('Predicted label')"
      ],
      "execution_count": null,
      "outputs": []
    },
    {
      "cell_type": "code",
      "metadata": {
        "id": "Vg-hPQ8ERpj7",
        "colab_type": "code",
        "colab": {
          "base_uri": "https://localhost:8080/",
          "height": 602
        },
        "outputId": "48c5789c-4e01-4829-c795-5608fd68da77"
      },
      "source": [
        "plt.figure(figsize=(8,8))\n",
        "plot_confusion_matrix(cm, list(classes.keys()), normalize=True)"
      ],
      "execution_count": null,
      "outputs": [
        {
          "output_type": "stream",
          "text": [
            "Normalized confusion matrix\n"
          ],
          "name": "stdout"
        },
        {
          "output_type": "display_data",
          "data": {
            "image/png": "[encoded data removed]",
            "text/plain": [
              "<Figure size 576x576 with 2 Axes>"
            ]
          },
          "metadata": {
            "tags": [],
            "needs_background": "light"
          }
        }
      ]
    },
    {
      "cell_type": "code",
      "metadata": {
        "id": "BwRxAddUVxHT",
        "colab_type": "code",
        "colab": {
          "base_uri": "https://localhost:8080/",
          "height": 602
        },
        "outputId": "13937dd0-2aff-4594-abc3-4ff49aa72e79"
      },
      "source": [
        "plt.figure(figsize=(8,8))\n",
        "plot_confusion_matrix(cm, list(classes.keys()), normalize=False)"
      ],
      "execution_count": null,
      "outputs": [
        {
          "output_type": "stream",
          "text": [
            "Confusion matrix, without normalization\n"
          ],
          "name": "stdout"
        },
        {
          "output_type": "display_data",
          "data": {
            "image/png": "[encoded data removed]",
            "text/plain": [
              "<Figure size 576x576 with 2 Axes>"
            ]
          },
          "metadata": {
            "tags": [],
            "needs_background": "light"
          }
        }
      ]
    },
    {
      "cell_type": "code",
      "metadata": {
        "id": "hnVlvKkvxUVm",
        "colab_type": "code",
        "colab": {
          "base_uri": "https://localhost:8080/",
          "height": 1000
        },
        "outputId": "7e74b1a1-7630-4c80-e913-de421cb9eac5"
      },
      "source": [
        "print(\"Classification report for Pointnet:\\n\\n {}\".format(classification_report(all_labels,\n",
        "                                                                            all_preds,\n",
        "                                                                            target_names=list(classes.keys()))))\n",
        "\n",
        "roc_auc = roc_auc_score(all_labels, all_preds)\n",
        "fpr, tpr, thresholds = metrics.roc_curve(all_labels, all_preds)\n",
        "print(\"FPR {} \\n TPR: {} \\n THRESHOLDS: {} \\n\".format(fpr, tpr, thresholds))\n",
        "\n",
        "proba = [1 - x for x in all_preds] \n",
        "len(all_preds)\n",
        "skplt.metrics.plot_roc(all_labels, np.column_stack([proba, all_preds]))\n",
        "plt.show()\n",
        "\n",
        "skplt.metrics.plot_precision_recall(all_labels,\n",
        "                                    np.column_stack([proba, all_preds]))\n",
        "plt.show()\n",
        "\n",
        "skplt.metrics.plot_cumulative_gain(all_labels,\n",
        "                                   np.column_stack([proba, all_preds]))\n",
        "skplt.metrics.plot_lift_curve(all_labels,\n",
        "                              np.column_stack([proba, all_preds]))"
      ],
      "execution_count": null,
      "outputs": [
        {
          "output_type": "stream",
          "text": [
            "Classification report for Pointnet:\n",
            "\n",
            "               precision    recall  f1-score   support\n",
            "\n",
            "       mixed       0.52      0.70      0.60        40\n",
            "       noise       0.54      0.35      0.42        40\n",
            "\n",
            "    accuracy                           0.53        80\n",
            "   macro avg       0.53      0.52      0.51        80\n",
            "weighted avg       0.53      0.53      0.51        80\n",
            "\n",
            "FPR [0.  0.3 1. ] \n",
            " TPR: [0.   0.35 1.  ] \n",
            " THRESHOLDS: [2 1 0] \n",
            "\n"
          ],
          "name": "stdout"
        },
        {
          "output_type": "display_data",
          "data": {
            "image/png": "[encoded data removed]",
            "text/plain": [
              "<Figure size 432x288 with 1 Axes>"
            ]
          },
          "metadata": {
            "tags": [],
            "needs_background": "light"
          }
        },
        {
          "output_type": "display_data",
          "data": {
            "image/png": "[encoded data removed]",
            "text/plain": [
              "<Figure size 432x288 with 1 Axes>"
            ]
          },
          "metadata": {
            "tags": [],
            "needs_background": "light"
          }
        },
        {
          "output_type": "execute_result",
          "data": {
            "text/plain": [
              "<matplotlib.axes._subplots.AxesSubplot at 0x7f04c5abfa90>"
            ]
          },
          "metadata": {
            "tags": []
          },
          "execution_count": 51
        },
        {
          "output_type": "display_data",
          "data": {
            "image/png": "[encoded data removed]",
            "text/plain": [
              "<Figure size 432x288 with 1 Axes>"
            ]
          },
          "metadata": {
            "tags": [],
            "needs_background": "light"
          }
        },
        {
          "output_type": "display_data",
          "data": {
            "image/png": "[encoded data removed]",
            "text/plain": [
              "<Figure size 432x288 with 1 Axes>"
            ]
          },
          "metadata": {
            "tags": [],
            "needs_background": "light"
          }
        }
      ]
    }
  ]
}